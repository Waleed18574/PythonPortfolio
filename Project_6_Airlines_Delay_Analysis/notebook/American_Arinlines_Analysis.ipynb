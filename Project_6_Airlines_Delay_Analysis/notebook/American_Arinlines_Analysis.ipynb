{
 "cells": [
  {
   "cell_type": "markdown",
   "id": "732a23c8",
   "metadata": {},
   "source": [
    "# American Airlines Delays (1987-2020) Analysis"
   ]
  },
  {
   "cell_type": "markdown",
   "id": "ebcc017c",
   "metadata": {},
   "source": [
    "The dataset used in this project is a sample of [The Reporting Carrier On-Time Performance Dataset](https://developer.ibm.com/exchanges/data/all/airline/) which contains information on approximately 200 million domestic US flights reported to the United States Bureau of Transportation Statistics. The dataset contains basic information about each flight (such as date, time, departure airport, arrival airport) and, if applicable, the amount of time the flight was delayed and information about the reason for the delay."
   ]
  },
  {
   "cell_type": "markdown",
   "id": "2b90ac08",
   "metadata": {},
   "source": [
    "## Importing The Required Libraries"
   ]
  },
  {
   "cell_type": "code",
   "execution_count": 1,
   "id": "9e33eee6",
   "metadata": {},
   "outputs": [],
   "source": [
    "# Import required libraries\n",
    "import pandas as pd\n",
    "import dash\n",
    "import dash_html_components as html\n",
    "import dash_core_components as dcc\n",
    "from dash.dependencies import Input, Output, State\n",
    "from jupyter_dash import JupyterDash\n",
    "import plotly.graph_objects as go\n",
    "import plotly.express as px\n",
    "from dash import no_update"
   ]
  },
  {
   "cell_type": "markdown",
   "id": "6d604728",
   "metadata": {},
   "source": [
    "## Importing the Data"
   ]
  },
  {
   "cell_type": "code",
   "execution_count": 2,
   "id": "9f82907a",
   "metadata": {},
   "outputs": [],
   "source": [
    "#from dash import no_update\n",
    "df =  pd.read_csv('../data/airline_data.csv', \n",
    "                            encoding = \"ISO-8859-1\",\n",
    "                            dtype={'Div1Airport': str, 'Div1TailNum': str, \n",
    "                                   'Div2Airport': str, 'Div2TailNum': str})"
   ]
  },
  {
   "cell_type": "code",
   "execution_count": 3,
   "id": "f1061fd2",
   "metadata": {},
   "outputs": [],
   "source": [
    "pd.set_option('display.max_columns', 500)\n",
    "pd.set_option('display.max_rows', 500)\n",
    "df.drop('Unnamed: 0', axis=1,inplace=True)"
   ]
  },
  {
   "cell_type": "markdown",
   "id": "e7a86ed5",
   "metadata": {},
   "source": [
    "## Importing Glossory Table"
   ]
  },
  {
   "cell_type": "code",
   "execution_count": 4,
   "id": "65188e49",
   "metadata": {},
   "outputs": [
    {
     "ename": "ModuleNotFoundError",
     "evalue": "No module named 'lxml'",
     "output_type": "error",
     "traceback": [
      "\u001b[1;31m---------------------------------------------------------------------------\u001b[0m",
      "\u001b[1;31mModuleNotFoundError\u001b[0m                       Traceback (most recent call last)",
      "\u001b[1;32m~\\AppData\\Local\\Temp\\ipykernel_3336\\919802369.py\u001b[0m in \u001b[0;36m<module>\u001b[1;34m\u001b[0m\n\u001b[0;32m      1\u001b[0m \u001b[1;32mimport\u001b[0m \u001b[0mrequests\u001b[0m\u001b[1;33m\u001b[0m\u001b[1;33m\u001b[0m\u001b[0m\n\u001b[1;32m----> 2\u001b[1;33m \u001b[1;32mimport\u001b[0m \u001b[0mlxml\u001b[0m\u001b[1;33m\u001b[0m\u001b[1;33m\u001b[0m\u001b[0m\n\u001b[0m\u001b[0;32m      3\u001b[0m \u001b[1;32mfrom\u001b[0m \u001b[0mbs4\u001b[0m \u001b[1;32mimport\u001b[0m \u001b[0mBeautifulSoup\u001b[0m\u001b[1;33m\u001b[0m\u001b[1;33m\u001b[0m\u001b[0m\n",
      "\u001b[1;31mModuleNotFoundError\u001b[0m: No module named 'lxml'"
     ]
    }
   ],
   "source": [
    "import requests\n",
    "import lxml\n",
    "from bs4 import BeautifulSoup"
   ]
  },
  {
   "cell_type": "code",
   "execution_count": null,
   "id": "5da1efc8",
   "metadata": {},
   "outputs": [],
   "source": [
    "url = 'https://dax-cdn.cdn.appdomain.cloud/dax-airline/1.0.1/data-preview/index.html'\n",
    "\n",
    "page = requests.get(url)\n",
    "\n",
    "soup = BeautifulSoup(page.text,'lxml')"
   ]
  },
  {
   "cell_type": "code",
   "execution_count": null,
   "id": "8854ec56",
   "metadata": {},
   "outputs": [],
   "source": [
    "tables = soup.find_all('table',{'class':'bx--data-table'})"
   ]
  },
  {
   "cell_type": "markdown",
   "id": "7d52ca34",
   "metadata": {},
   "source": [
    "There are 3 tables in that webpage, and the target table for my purpose is the third"
   ]
  },
  {
   "cell_type": "code",
   "execution_count": null,
   "id": "f716f222",
   "metadata": {},
   "outputs": [],
   "source": [
    "headers = ['Feature','Description']"
   ]
  },
  {
   "cell_type": "code",
   "execution_count": null,
   "id": "52cf3dcd",
   "metadata": {},
   "outputs": [],
   "source": [
    "glossary = pd.DataFrame(columns=headers)"
   ]
  },
  {
   "cell_type": "code",
   "execution_count": null,
   "id": "b299a89e",
   "metadata": {},
   "outputs": [],
   "source": [
    "for row in tables[2].find_all('tr')[1:]:\n",
    "    table_data = row.find_all('td')\n",
    "    row_data =[data_point.text.strip() for data_point in table_data]\n",
    "    length = len(glossary)\n",
    "    glossary.loc[length] = row_data"
   ]
  },
  {
   "cell_type": "code",
   "execution_count": null,
   "id": "84d04cc1",
   "metadata": {
    "scrolled": false
   },
   "outputs": [],
   "source": [
    "glossary = glossary.set_index('Feature')\n",
    "glossary"
   ]
  },
  {
   "cell_type": "code",
   "execution_count": null,
   "id": "7ce57348",
   "metadata": {},
   "outputs": [],
   "source": [
    "required_cols = ['Year','Quarter','Month','DayofMonth','DayOfWeek','Reporting_Airline','Flight_Number_Reporting_Airline',\n",
    " 'OriginCityName','OriginState','OriginStateName','DestCityName','DestState','DestStateName','DepDelay',\n",
    " 'DepDelayMinutes','DepDel15','DepartureDelayGroups','ArrDelay','ArrDelayMinutes','ArrDel15',\n",
    " 'ArrivalDelayGroups','Cancelled','CancellationCode','Diverted','ActualElapsedTime','AirTime','Flights','Distance',\n",
    " 'DistanceGroup']\n",
    "\n",
    "airline_data = df[required_cols]\n",
    "airline_data"
   ]
  },
  {
   "cell_type": "code",
   "execution_count": null,
   "id": "6dd0b7fa",
   "metadata": {
    "scrolled": true
   },
   "outputs": [],
   "source": [
    "airline_data.info()"
   ]
  },
  {
   "cell_type": "markdown",
   "id": "809101c3",
   "metadata": {},
   "source": [
    "## Making the Dashboard"
   ]
  },
  {
   "cell_type": "code",
   "execution_count": null,
   "id": "1b82ef1a",
   "metadata": {
    "scrolled": true
   },
   "outputs": [],
   "source": [
    "\n",
    "# Create a dash application\n",
    "app = dash.Dash(__name__)\n",
    "\n",
    "\n",
    "# REVIEW1: Clear the layout and do not display exception till callback gets executed\n",
    "app.config.suppress_callback_exceptions = True\n",
    "\n",
    "# Read the airline data into pandas dataframe\n",
    "# airline_data =  pd.read_csv('https://cf-courses-data.s3.us.cloud-object-storage.appdomain.cloud/IBMDeveloperSkillsNetwork-DV0101EN-SkillsNetwork/Data%20Files/airline_data.csv', \n",
    "#                             encoding = \"ISO-8859-1\",\n",
    "#                             dtype={'Div1Airport': str, 'Div1TailNum': str, \n",
    "#                                    'Div2Airport': str, 'Div2TailNum': str})\n",
    "\n",
    "\n",
    "# List of years \n",
    "year_list = [i for i in range(2005, 2021, 1)]\n",
    "\n",
    "\"\"\"Compute graph data for creating yearly airline performance report \n",
    "\n",
    "Function that takes airline data as input and create 5 dataframes based on the grouping condition to be used for plottling charts and grphs.\n",
    "\n",
    "Argument:\n",
    "     \n",
    "    df: Filtered dataframe\n",
    "    \n",
    "Returns:\n",
    "   Dataframes to create graph. \n",
    "\"\"\"\n",
    "def compute_data_choice_1(df):\n",
    "    # Cancellation Category Count\n",
    "    bar_data = df.groupby(['Month','CancellationCode'])['Flights'].sum().reset_index()\n",
    "    # Average flight time by reporting airline\n",
    "    line_data = df.groupby(['Month','Reporting_Airline'])['AirTime'].mean().reset_index()\n",
    "    # Diverted Airport Landings\n",
    "    div_data = df[df['DivAirportLandings'] != 0.0]\n",
    "    \n",
    "    # Source state count\n",
    "    map_data = df.groupby(['OriginState'])['Flights'].sum().reset_index()\n",
    "    # Destination state count\n",
    "    tree_data = df.groupby(['DestState', 'Reporting_Airline'])['Flights'].sum().reset_index()\n",
    "    \n",
    "    return bar_data, line_data, div_data, map_data, tree_data\n",
    "\n",
    "\n",
    "\"\"\"Compute graph data for creating yearly airline delay report\n",
    "\n",
    "This function takes in airline data and selected year as an input and performs computation for creating charts and plots.\n",
    "\n",
    "Arguments:\n",
    "    df: Input airline data.\n",
    "    \n",
    "Returns:\n",
    "    Computed average dataframes for carrier delay, weather delay, NAS delay, security delay, and late aircraft delay.\n",
    "\"\"\"\n",
    "def compute_data_choice_2(df):\n",
    "    # Compute delay averages\n",
    "    avg_car = df.groupby(['Month','Reporting_Airline'])['CarrierDelay'].mean().reset_index()\n",
    "    avg_weather = df.groupby(['Month','Reporting_Airline'])['WeatherDelay'].mean().reset_index()\n",
    "    avg_NAS = df.groupby(['Month','Reporting_Airline'])['NASDelay'].mean().reset_index()\n",
    "    avg_sec = df.groupby(['Month','Reporting_Airline'])['SecurityDelay'].mean().reset_index()\n",
    "    avg_late = df.groupby(['Month','Reporting_Airline'])['LateAircraftDelay'].mean().reset_index()\n",
    "    \n",
    "    return avg_car, avg_weather, avg_NAS, avg_sec, avg_late\n",
    "\n",
    "\n",
    "# Application layout\n",
    "app.layout = html.Div(children=[ \n",
    "                                # TODO1: Add title to the dashboard\n",
    "                               html.H1('US Domestic Airline Flights Performance',\n",
    "                                       style={'textAlign': 'left', 'color': '#503D36','font-size': 24}\n",
    "                                      ),\n",
    "    \n",
    "                                # REVIEW2: Dropdown creation\n",
    "                                # Create an outer division \n",
    "                                html.Div([\n",
    "                                    # Add an division\n",
    "                                    html.Div([\n",
    "                                        # Create an division for adding dropdown helper text for report type\n",
    "                                        html.Div(\n",
    "                                            [\n",
    "                                            html.H2('Report Type:', style={'margin-right': '2em'}),\n",
    "                                            ]\n",
    "                                        ),\n",
    "                                        # TODO2: Add a dropdown\n",
    "                                        dcc.Dropdown(id = 'input-type',\n",
    "                                                     options = [{'label':'Yearly Airline Performance Report', 'value':'OPT1'},\n",
    "                                                                 {'label':'Yearly Airline Delay Report','value':'OPT2'}\n",
    "                                                                ],\n",
    "                                                     placeholder = 'Select a report type',\n",
    "                                                     style =  {'width':'80%', 'padding':'3px', 'font-size':'20px'}\n",
    "                                                    )\n",
    "                                    # Place them next to each other using the division style\n",
    "                                    ], style={'display':'flex'}),\n",
    "                                    \n",
    "                                   # Add next division \n",
    "                                   html.Div([\n",
    "                                       # Create an division for adding dropdown helper text for choosing year\n",
    "                                        html.Div(\n",
    "                                            [\n",
    "                                            html.H2('Choose Year:', style={'margin-right': '2em'})\n",
    "                                            ]\n",
    "                                        ),\n",
    "                                        dcc.Dropdown(id='input-year', \n",
    "                                                     # Update dropdown values using list comphrehension\n",
    "                                                     options=[{'label': i, 'value': i} for i in year_list],\n",
    "                                                     placeholder=\"Select a year\",\n",
    "                                                     style={'width':'80%', 'padding':'3px', 'font-size': '20px', 'text-align-last' : 'center'}),\n",
    "                                            # Place them next to each other using the division style\n",
    "                                            ], style={'display': 'flex'}),  \n",
    "                                          ]),\n",
    "                                \n",
    "                                # Add Computed graphs\n",
    "                                # REVIEW3: Observe how we add an empty division and providing an id that will be updated during callback\n",
    "                                html.Div([ ], id='plot1'),\n",
    "    \n",
    "                                html.Div([\n",
    "                                        html.Div([ ], id='plot2'),\n",
    "                                        html.Div([ ], id='plot3')\n",
    "                                ], style={'display': 'flex'}),\n",
    "                                \n",
    "                                # TODO3: Add a division with two empty divisions inside. See above disvision for example.\n",
    "                                 html.Div([\n",
    "                                        html.Div([ ], id='plot4'),\n",
    "                                        html.Div([ ], id='plot5')\n",
    "                                ], style={'display': 'flex'})\n",
    "    \n",
    "                                ])\n",
    "\n",
    "# Callback function definition\n",
    "# TODO4: Add 5 ouput components\n",
    "@app.callback([Output(component_id = 'plot1', component_property = 'children'),\n",
    "               Output(component_id = 'plot2', component_property = 'children'),\n",
    "               Output(component_id = 'plot3', component_property = 'children'),\n",
    "               Output(component_id = 'plot4', component_property = 'children'),\n",
    "               Output(component_id = 'plot5', component_property = 'children')],\n",
    "               # Input component list\n",
    "               [Input(component_id='input-type', component_property='value'),\n",
    "                Input(component_id='input-year', component_property='value')],\n",
    "               # REVIEW4: Holding output state till user enters all the form information. In this case, it will be chart type and year\n",
    "               [State(\"plot1\", 'children'), State(\"plot2\", \"children\"),\n",
    "                State(\"plot3\", \"children\"), State(\"plot4\", \"children\"),\n",
    "                State(\"plot5\", \"children\")\n",
    "               ])\n",
    "# Add computation to callback function and return graph\n",
    "def get_graph(chart, year, children1, children2, c3, c4, c5):\n",
    "      \n",
    "        # Select data\n",
    "        df =  airline_data[airline_data['Year']==int(year)]\n",
    "       \n",
    "        if chart == 'OPT1':\n",
    "            # Compute required information for creating graph from the data\n",
    "            bar_data, line_data, div_data, map_data, tree_data = compute_data_choice_1(df)\n",
    "            \n",
    "            # Number of flights under different cancellation categories\n",
    "            bar_fig = px.bar(bar_data, x='Month', y='Flights', color='CancellationCode', title='Monthly Flight Cancellation')\n",
    "            \n",
    "            # TODO5: Average flight time by reporting airline\n",
    "            line_fig = px.line(line_data, x = 'Month', y = 'AirTime', color = 'Reporting_Airline',title = 'Average Flight Time by Reorting Airline')\n",
    "            \n",
    "            # Percentage of diverted airport landings per reporting airline\n",
    "            pie_fig = px.pie(div_data, values='Flights', names='Reporting_Airline', title='% of flights by reporting airline')\n",
    "            \n",
    "            # REVIEW5: Number of flights flying from each state using choropleth\n",
    "            map_fig = px.choropleth(map_data,  # Input data\n",
    "                    locations='OriginState', \n",
    "                    color='Flights',  \n",
    "                    hover_data=['OriginState', 'Flights'], \n",
    "                    locationmode = 'USA-states', # Set to plot as US States\n",
    "                    color_continuous_scale='GnBu',\n",
    "                    range_color=[0, map_data['Flights'].max()]) \n",
    "            map_fig.update_layout(\n",
    "                    title_text = 'Number of flights from origin state', \n",
    "                    geo_scope='usa') # Plot only the USA instead of globe\n",
    "            \n",
    "            # TODO6: Number of flights flying to each state from each reporting airline\n",
    "            tree_fig = px.treemap(tree_data, \n",
    "                                  path = ['DestState','Reporting_Airline'], \n",
    "                                  values = 'Flights',\n",
    "                                  color = 'Flights',\n",
    "                                  color_continuous_scale = 'RdBu',\n",
    "                                  title = 'Flight count by airline to destination state')\n",
    "            \n",
    "            \n",
    "            # REVIEW6: Return dcc.Graph component to the empty division\n",
    "            return [dcc.Graph(figure=tree_fig), \n",
    "                    dcc.Graph(figure=pie_fig),\n",
    "                    dcc.Graph(figure=map_fig),\n",
    "                    dcc.Graph(figure=bar_fig),\n",
    "                    dcc.Graph(figure=line_fig)\n",
    "                   ]\n",
    "        else:\n",
    "            # REVIEW7: This covers chart type 2 and we have completed this exercise under Flight Delay Time Statistics Dashboard section\n",
    "            # Compute required information for creating graph from the data\n",
    "            avg_car, avg_weather, avg_NAS, avg_sec, avg_late = compute_data_choice_2(df)\n",
    "            \n",
    "            # Create graph\n",
    "            carrier_fig = px.line(avg_car, x='Month', y='CarrierDelay', color='Reporting_Airline', title='Average carrrier delay time (minutes) by airline')\n",
    "            weather_fig = px.line(avg_weather, x='Month', y='WeatherDelay', color='Reporting_Airline', title='Average weather delay time (minutes) by airline')\n",
    "            nas_fig = px.line(avg_NAS, x='Month', y='NASDelay', color='Reporting_Airline', title='Average NAS delay time (minutes) by airline')\n",
    "            sec_fig = px.line(avg_sec, x='Month', y='SecurityDelay', color='Reporting_Airline', title='Average security delay time (minutes) by airline')\n",
    "            late_fig = px.line(avg_late, x='Month', y='LateAircraftDelay', color='Reporting_Airline', title='Average late aircraft delay time (minutes) by airline')\n",
    "            \n",
    "            return[dcc.Graph(figure=carrier_fig), \n",
    "                   dcc.Graph(figure=weather_fig), \n",
    "                   dcc.Graph(figure=nas_fig), \n",
    "                   dcc.Graph(figure=sec_fig), \n",
    "                   dcc.Graph(figure=late_fig)]\n",
    "\n",
    "\n",
    "# Run the app\n",
    "if __name__ == '__main__':\n",
    "    # REVIEW8: Adding dev_tools_ui=False, dev_tools_props_check=False can prevent error appearing before calling callback function\n",
    "    app.run_server(port=5054)"
   ]
  },
  {
   "cell_type": "markdown",
   "id": "f1a03c21",
   "metadata": {},
   "source": [
    "## Close the Server (Only if you want to close the server)"
   ]
  },
  {
   "cell_type": "code",
   "execution_count": null,
   "id": "e6cdd1e4",
   "metadata": {},
   "outputs": [],
   "source": [
    "app.terminate_server_for_port(\"localhost\",8050)"
   ]
  }
 ],
 "metadata": {
  "kernelspec": {
   "display_name": "dashboarding",
   "language": "python",
   "name": "dashboarding"
  },
  "language_info": {
   "codemirror_mode": {
    "name": "ipython",
    "version": 3
   },
   "file_extension": ".py",
   "mimetype": "text/x-python",
   "name": "python",
   "nbconvert_exporter": "python",
   "pygments_lexer": "ipython3",
   "version": "3.7.13"
  }
 },
 "nbformat": 4,
 "nbformat_minor": 5
}
