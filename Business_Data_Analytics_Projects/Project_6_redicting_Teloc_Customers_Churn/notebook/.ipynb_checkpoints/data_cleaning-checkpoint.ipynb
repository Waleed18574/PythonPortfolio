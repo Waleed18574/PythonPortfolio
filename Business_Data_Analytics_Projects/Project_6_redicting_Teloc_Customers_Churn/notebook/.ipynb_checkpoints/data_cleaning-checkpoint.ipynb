{
 "cells": [
  {
   "cell_type": "code",
   "execution_count": 1,
   "id": "3a2030fc",
   "metadata": {},
   "outputs": [],
   "source": [
    "import numpy\n",
    "import pandas as pd\n",
    "\n",
    "import matplotlib.pyplot as plt\n",
    "import seaborn as sns"
   ]
  },
  {
   "cell_type": "code",
   "execution_count": 44,
   "id": "a1690fe1",
   "metadata": {},
   "outputs": [],
   "source": [
    "aer_credit = pd.read_csv('../data/AER_credit_card_data.csv')\n",
    "credit_scoring = pd.read_csv('../data/CreditScoring.csv')\n",
    "telco_churn = pd.read_csv('../data/WA_Fn-UseC_-Telco-Customer-Churn.csv')"
   ]
  },
  {
   "cell_type": "code",
   "execution_count": 45,
   "id": "5a55fa42",
   "metadata": {},
   "outputs": [
    {
     "name": "stdout",
     "output_type": "stream",
     "text": [
      "<class 'pandas.core.frame.DataFrame'>\n",
      "RangeIndex: 1319 entries, 0 to 1318\n",
      "Data columns (total 12 columns):\n",
      " #   Column       Non-Null Count  Dtype  \n",
      "---  ------       --------------  -----  \n",
      " 0   card         1319 non-null   object \n",
      " 1   reports      1319 non-null   int64  \n",
      " 2   age          1319 non-null   float64\n",
      " 3   income       1319 non-null   float64\n",
      " 4   share        1319 non-null   float64\n",
      " 5   expenditure  1319 non-null   float64\n",
      " 6   owner        1319 non-null   object \n",
      " 7   selfemp      1319 non-null   object \n",
      " 8   dependents   1319 non-null   int64  \n",
      " 9   months       1319 non-null   int64  \n",
      " 10  majorcards   1319 non-null   int64  \n",
      " 11  active       1319 non-null   int64  \n",
      "dtypes: float64(4), int64(5), object(3)\n",
      "memory usage: 123.8+ KB\n"
     ]
    }
   ],
   "source": [
    "aer_credit.info()"
   ]
  },
  {
   "cell_type": "code",
   "execution_count": 46,
   "id": "e2295d0c",
   "metadata": {},
   "outputs": [
    {
     "name": "stdout",
     "output_type": "stream",
     "text": [
      "<class 'pandas.core.frame.DataFrame'>\n",
      "RangeIndex: 4455 entries, 0 to 4454\n",
      "Data columns (total 14 columns):\n",
      " #   Column     Non-Null Count  Dtype\n",
      "---  ------     --------------  -----\n",
      " 0   Status     4455 non-null   int64\n",
      " 1   Seniority  4455 non-null   int64\n",
      " 2   Home       4455 non-null   int64\n",
      " 3   Time       4455 non-null   int64\n",
      " 4   Age        4455 non-null   int64\n",
      " 5   Marital    4455 non-null   int64\n",
      " 6   Records    4455 non-null   int64\n",
      " 7   Job        4455 non-null   int64\n",
      " 8   Expenses   4455 non-null   int64\n",
      " 9   Income     4455 non-null   int64\n",
      " 10  Assets     4455 non-null   int64\n",
      " 11  Debt       4455 non-null   int64\n",
      " 12  Amount     4455 non-null   int64\n",
      " 13  Price      4455 non-null   int64\n",
      "dtypes: int64(14)\n",
      "memory usage: 487.4 KB\n"
     ]
    }
   ],
   "source": [
    "credit_scoring.info()"
   ]
  },
  {
   "cell_type": "code",
   "execution_count": 47,
   "id": "fe712376",
   "metadata": {},
   "outputs": [
    {
     "data": {
      "text/plain": [
       "Index(['Status', 'Seniority', 'Home', 'Time', 'Age', 'Marital', 'Records',\n",
       "       'Job', 'Expenses', 'Income', 'Assets', 'Debt', 'Amount', 'Price'],\n",
       "      dtype='object')"
      ]
     },
     "execution_count": 47,
     "metadata": {},
     "output_type": "execute_result"
    }
   ],
   "source": [
    "credit_scoring.columns"
   ]
  },
  {
   "cell_type": "code",
   "execution_count": 48,
   "id": "ab0a0a84",
   "metadata": {},
   "outputs": [],
   "source": [
    "credit_scoring.columns = credit_scoring.columns.str.lower().str.replace(\" \",'')"
   ]
  },
  {
   "cell_type": "code",
   "execution_count": 49,
   "id": "382db5a4",
   "metadata": {},
   "outputs": [
    {
     "data": {
      "text/plain": [
       "Index(['status', 'seniority', 'home', 'time', 'age', 'marital', 'records',\n",
       "       'job', 'expenses', 'income', 'assets', 'debt', 'amount', 'price'],\n",
       "      dtype='object')"
      ]
     },
     "execution_count": 49,
     "metadata": {},
     "output_type": "execute_result"
    }
   ],
   "source": [
    "credit_scoring.columns"
   ]
  },
  {
   "cell_type": "code",
   "execution_count": 50,
   "id": "592de59a",
   "metadata": {},
   "outputs": [],
   "source": [
    "status_values =  {1: 'ok',2: 'default',0: 'unk'}\n",
    "credit_scoring.status = credit_scoring.status.map(status_values)"
   ]
  },
  {
   "cell_type": "code",
   "execution_count": 51,
   "id": "a842e22d",
   "metadata": {},
   "outputs": [],
   "source": [
    "home_values = {1: 'rent',2: 'owner',3: 'private',4: 'ignore',5: 'parents',6: 'other',0:'unk'}\n",
    "\n",
    "credit_scoring.home = credit_scoring.home.map(home_values)"
   ]
  },
  {
   "cell_type": "code",
   "execution_count": 52,
   "id": "b2a6fddd",
   "metadata": {},
   "outputs": [],
   "source": [
    "marital_values = {1: 'single',2: 'married',3: 'widow',4: 'separated',5: 'divorced',0: 'unk'}\n",
    "\n",
    "credit_scoring.marital = credit_scoring.marital.map(marital_values)"
   ]
  },
  {
   "cell_type": "code",
   "execution_count": 53,
   "id": "38b5a1e9",
   "metadata": {},
   "outputs": [],
   "source": [
    "records_values = {1: 'no',2: 'yes',0: 'unk'}\n",
    "\n",
    "credit_scoring.records = credit_scoring.records.map(records_values)"
   ]
  },
  {
   "cell_type": "code",
   "execution_count": 54,
   "id": "15006f09",
   "metadata": {},
   "outputs": [],
   "source": [
    "job_values = {1: 'fixed',2: 'parttime',3: 'freelance',4: 'others',0: 'unk'}\n",
    "\n",
    "credit_scoring.job = credit_scoring.job.map(job_values)"
   ]
  },
  {
   "cell_type": "code",
   "execution_count": 55,
   "id": "3453c2c3",
   "metadata": {},
   "outputs": [
    {
     "data": {
      "text/html": [
       "<div>\n",
       "<style scoped>\n",
       "    .dataframe tbody tr th:only-of-type {\n",
       "        vertical-align: middle;\n",
       "    }\n",
       "\n",
       "    .dataframe tbody tr th {\n",
       "        vertical-align: top;\n",
       "    }\n",
       "\n",
       "    .dataframe thead th {\n",
       "        text-align: right;\n",
       "    }\n",
       "</style>\n",
       "<table border=\"1\" class=\"dataframe\">\n",
       "  <thead>\n",
       "    <tr style=\"text-align: right;\">\n",
       "      <th></th>\n",
       "      <th>status</th>\n",
       "      <th>seniority</th>\n",
       "      <th>home</th>\n",
       "      <th>time</th>\n",
       "      <th>age</th>\n",
       "      <th>marital</th>\n",
       "      <th>records</th>\n",
       "      <th>job</th>\n",
       "      <th>expenses</th>\n",
       "      <th>income</th>\n",
       "      <th>assets</th>\n",
       "      <th>debt</th>\n",
       "      <th>amount</th>\n",
       "      <th>price</th>\n",
       "    </tr>\n",
       "  </thead>\n",
       "  <tbody>\n",
       "    <tr>\n",
       "      <th>0</th>\n",
       "      <td>ok</td>\n",
       "      <td>9</td>\n",
       "      <td>rent</td>\n",
       "      <td>60</td>\n",
       "      <td>30</td>\n",
       "      <td>married</td>\n",
       "      <td>no</td>\n",
       "      <td>freelance</td>\n",
       "      <td>73</td>\n",
       "      <td>129</td>\n",
       "      <td>0</td>\n",
       "      <td>0</td>\n",
       "      <td>800</td>\n",
       "      <td>846</td>\n",
       "    </tr>\n",
       "    <tr>\n",
       "      <th>1</th>\n",
       "      <td>ok</td>\n",
       "      <td>17</td>\n",
       "      <td>rent</td>\n",
       "      <td>60</td>\n",
       "      <td>58</td>\n",
       "      <td>widow</td>\n",
       "      <td>no</td>\n",
       "      <td>fixed</td>\n",
       "      <td>48</td>\n",
       "      <td>131</td>\n",
       "      <td>0</td>\n",
       "      <td>0</td>\n",
       "      <td>1000</td>\n",
       "      <td>1658</td>\n",
       "    </tr>\n",
       "    <tr>\n",
       "      <th>2</th>\n",
       "      <td>default</td>\n",
       "      <td>10</td>\n",
       "      <td>owner</td>\n",
       "      <td>36</td>\n",
       "      <td>46</td>\n",
       "      <td>married</td>\n",
       "      <td>yes</td>\n",
       "      <td>freelance</td>\n",
       "      <td>90</td>\n",
       "      <td>200</td>\n",
       "      <td>3000</td>\n",
       "      <td>0</td>\n",
       "      <td>2000</td>\n",
       "      <td>2985</td>\n",
       "    </tr>\n",
       "    <tr>\n",
       "      <th>3</th>\n",
       "      <td>ok</td>\n",
       "      <td>0</td>\n",
       "      <td>rent</td>\n",
       "      <td>60</td>\n",
       "      <td>24</td>\n",
       "      <td>single</td>\n",
       "      <td>no</td>\n",
       "      <td>fixed</td>\n",
       "      <td>63</td>\n",
       "      <td>182</td>\n",
       "      <td>2500</td>\n",
       "      <td>0</td>\n",
       "      <td>900</td>\n",
       "      <td>1325</td>\n",
       "    </tr>\n",
       "    <tr>\n",
       "      <th>4</th>\n",
       "      <td>ok</td>\n",
       "      <td>0</td>\n",
       "      <td>rent</td>\n",
       "      <td>36</td>\n",
       "      <td>26</td>\n",
       "      <td>single</td>\n",
       "      <td>no</td>\n",
       "      <td>fixed</td>\n",
       "      <td>46</td>\n",
       "      <td>107</td>\n",
       "      <td>0</td>\n",
       "      <td>0</td>\n",
       "      <td>310</td>\n",
       "      <td>910</td>\n",
       "    </tr>\n",
       "  </tbody>\n",
       "</table>\n",
       "</div>"
      ],
      "text/plain": [
       "    status  seniority   home  time  age  marital records        job  expenses  \\\n",
       "0       ok          9   rent    60   30  married      no  freelance        73   \n",
       "1       ok         17   rent    60   58    widow      no      fixed        48   \n",
       "2  default         10  owner    36   46  married     yes  freelance        90   \n",
       "3       ok          0   rent    60   24   single      no      fixed        63   \n",
       "4       ok          0   rent    36   26   single      no      fixed        46   \n",
       "\n",
       "   income  assets  debt  amount  price  \n",
       "0     129       0     0     800    846  \n",
       "1     131       0     0    1000   1658  \n",
       "2     200    3000     0    2000   2985  \n",
       "3     182    2500     0     900   1325  \n",
       "4     107       0     0     310    910  "
      ]
     },
     "execution_count": 55,
     "metadata": {},
     "output_type": "execute_result"
    }
   ],
   "source": [
    "credit_scoring.head()"
   ]
  },
  {
   "cell_type": "code",
   "execution_count": 56,
   "id": "570a7cc1",
   "metadata": {
    "scrolled": true
   },
   "outputs": [
    {
     "data": {
      "text/html": [
       "<div>\n",
       "<style scoped>\n",
       "    .dataframe tbody tr th:only-of-type {\n",
       "        vertical-align: middle;\n",
       "    }\n",
       "\n",
       "    .dataframe tbody tr th {\n",
       "        vertical-align: top;\n",
       "    }\n",
       "\n",
       "    .dataframe thead th {\n",
       "        text-align: right;\n",
       "    }\n",
       "</style>\n",
       "<table border=\"1\" class=\"dataframe\">\n",
       "  <thead>\n",
       "    <tr style=\"text-align: right;\">\n",
       "      <th></th>\n",
       "      <th>seniority</th>\n",
       "      <th>time</th>\n",
       "      <th>age</th>\n",
       "      <th>expenses</th>\n",
       "      <th>income</th>\n",
       "      <th>assets</th>\n",
       "      <th>debt</th>\n",
       "      <th>amount</th>\n",
       "      <th>price</th>\n",
       "    </tr>\n",
       "  </thead>\n",
       "  <tbody>\n",
       "    <tr>\n",
       "      <th>count</th>\n",
       "      <td>4455.000000</td>\n",
       "      <td>4455.000000</td>\n",
       "      <td>4455.000000</td>\n",
       "      <td>4455.000000</td>\n",
       "      <td>4.455000e+03</td>\n",
       "      <td>4.455000e+03</td>\n",
       "      <td>4.455000e+03</td>\n",
       "      <td>4455.000000</td>\n",
       "      <td>4455.000000</td>\n",
       "    </tr>\n",
       "    <tr>\n",
       "      <th>mean</th>\n",
       "      <td>7.987205</td>\n",
       "      <td>46.441751</td>\n",
       "      <td>37.077666</td>\n",
       "      <td>55.568799</td>\n",
       "      <td>7.633170e+05</td>\n",
       "      <td>1.060341e+06</td>\n",
       "      <td>4.043820e+05</td>\n",
       "      <td>1039.021773</td>\n",
       "      <td>1462.875645</td>\n",
       "    </tr>\n",
       "    <tr>\n",
       "      <th>std</th>\n",
       "      <td>8.173444</td>\n",
       "      <td>14.655225</td>\n",
       "      <td>10.984856</td>\n",
       "      <td>19.515878</td>\n",
       "      <td>8.703625e+06</td>\n",
       "      <td>1.021757e+07</td>\n",
       "      <td>6.344253e+06</td>\n",
       "      <td>474.543007</td>\n",
       "      <td>628.089913</td>\n",
       "    </tr>\n",
       "    <tr>\n",
       "      <th>min</th>\n",
       "      <td>0.000000</td>\n",
       "      <td>6.000000</td>\n",
       "      <td>18.000000</td>\n",
       "      <td>35.000000</td>\n",
       "      <td>0.000000e+00</td>\n",
       "      <td>0.000000e+00</td>\n",
       "      <td>0.000000e+00</td>\n",
       "      <td>100.000000</td>\n",
       "      <td>105.000000</td>\n",
       "    </tr>\n",
       "    <tr>\n",
       "      <th>25%</th>\n",
       "      <td>2.000000</td>\n",
       "      <td>36.000000</td>\n",
       "      <td>28.000000</td>\n",
       "      <td>35.000000</td>\n",
       "      <td>8.000000e+01</td>\n",
       "      <td>0.000000e+00</td>\n",
       "      <td>0.000000e+00</td>\n",
       "      <td>700.000000</td>\n",
       "      <td>1117.500000</td>\n",
       "    </tr>\n",
       "    <tr>\n",
       "      <th>50%</th>\n",
       "      <td>5.000000</td>\n",
       "      <td>48.000000</td>\n",
       "      <td>36.000000</td>\n",
       "      <td>51.000000</td>\n",
       "      <td>1.200000e+02</td>\n",
       "      <td>3.500000e+03</td>\n",
       "      <td>0.000000e+00</td>\n",
       "      <td>1000.000000</td>\n",
       "      <td>1400.000000</td>\n",
       "    </tr>\n",
       "    <tr>\n",
       "      <th>75%</th>\n",
       "      <td>12.000000</td>\n",
       "      <td>60.000000</td>\n",
       "      <td>45.000000</td>\n",
       "      <td>72.000000</td>\n",
       "      <td>1.660000e+02</td>\n",
       "      <td>6.000000e+03</td>\n",
       "      <td>0.000000e+00</td>\n",
       "      <td>1300.000000</td>\n",
       "      <td>1692.000000</td>\n",
       "    </tr>\n",
       "    <tr>\n",
       "      <th>max</th>\n",
       "      <td>48.000000</td>\n",
       "      <td>72.000000</td>\n",
       "      <td>68.000000</td>\n",
       "      <td>180.000000</td>\n",
       "      <td>1.000000e+08</td>\n",
       "      <td>1.000000e+08</td>\n",
       "      <td>1.000000e+08</td>\n",
       "      <td>5000.000000</td>\n",
       "      <td>11140.000000</td>\n",
       "    </tr>\n",
       "  </tbody>\n",
       "</table>\n",
       "</div>"
      ],
      "text/plain": [
       "         seniority         time          age     expenses        income  \\\n",
       "count  4455.000000  4455.000000  4455.000000  4455.000000  4.455000e+03   \n",
       "mean      7.987205    46.441751    37.077666    55.568799  7.633170e+05   \n",
       "std       8.173444    14.655225    10.984856    19.515878  8.703625e+06   \n",
       "min       0.000000     6.000000    18.000000    35.000000  0.000000e+00   \n",
       "25%       2.000000    36.000000    28.000000    35.000000  8.000000e+01   \n",
       "50%       5.000000    48.000000    36.000000    51.000000  1.200000e+02   \n",
       "75%      12.000000    60.000000    45.000000    72.000000  1.660000e+02   \n",
       "max      48.000000    72.000000    68.000000   180.000000  1.000000e+08   \n",
       "\n",
       "             assets          debt       amount         price  \n",
       "count  4.455000e+03  4.455000e+03  4455.000000   4455.000000  \n",
       "mean   1.060341e+06  4.043820e+05  1039.021773   1462.875645  \n",
       "std    1.021757e+07  6.344253e+06   474.543007    628.089913  \n",
       "min    0.000000e+00  0.000000e+00   100.000000    105.000000  \n",
       "25%    0.000000e+00  0.000000e+00   700.000000   1117.500000  \n",
       "50%    3.500000e+03  0.000000e+00  1000.000000   1400.000000  \n",
       "75%    6.000000e+03  0.000000e+00  1300.000000   1692.000000  \n",
       "max    1.000000e+08  1.000000e+08  5000.000000  11140.000000  "
      ]
     },
     "execution_count": 56,
     "metadata": {},
     "output_type": "execute_result"
    }
   ],
   "source": [
    "credit_scoring.describe()"
   ]
  },
  {
   "cell_type": "code",
   "execution_count": 66,
   "id": "5c2e564b",
   "metadata": {},
   "outputs": [
    {
     "data": {
      "text/plain": [
       "(99999999, 99999999, 99999999)"
      ]
     },
     "execution_count": 66,
     "metadata": {},
     "output_type": "execute_result"
    }
   ],
   "source": [
    "credit_scoring.income.max(),credit_scoring.assets.max(),credit_scoring.debt.max()"
   ]
  },
  {
   "cell_type": "code",
   "execution_count": 67,
   "id": "d68f0271",
   "metadata": {},
   "outputs": [],
   "source": [
    "for col in ['income','assets','debt']:\n",
    "    credit_scoring[col] = credit_scoring[col].replace(to_replace = 99999999,value=numpy.nan)"
   ]
  },
  {
   "cell_type": "code",
   "execution_count": 68,
   "id": "3aa4e450",
   "metadata": {},
   "outputs": [
    {
     "data": {
      "text/html": [
       "<div>\n",
       "<style scoped>\n",
       "    .dataframe tbody tr th:only-of-type {\n",
       "        vertical-align: middle;\n",
       "    }\n",
       "\n",
       "    .dataframe tbody tr th {\n",
       "        vertical-align: top;\n",
       "    }\n",
       "\n",
       "    .dataframe thead th {\n",
       "        text-align: right;\n",
       "    }\n",
       "</style>\n",
       "<table border=\"1\" class=\"dataframe\">\n",
       "  <thead>\n",
       "    <tr style=\"text-align: right;\">\n",
       "      <th></th>\n",
       "      <th>seniority</th>\n",
       "      <th>time</th>\n",
       "      <th>age</th>\n",
       "      <th>expenses</th>\n",
       "      <th>income</th>\n",
       "      <th>assets</th>\n",
       "      <th>debt</th>\n",
       "      <th>amount</th>\n",
       "      <th>price</th>\n",
       "    </tr>\n",
       "  </thead>\n",
       "  <tbody>\n",
       "    <tr>\n",
       "      <th>count</th>\n",
       "      <td>4455.000000</td>\n",
       "      <td>4455.000000</td>\n",
       "      <td>4455.000000</td>\n",
       "      <td>4455.000000</td>\n",
       "      <td>4421.000000</td>\n",
       "      <td>4408.000000</td>\n",
       "      <td>4437.000000</td>\n",
       "      <td>4455.000000</td>\n",
       "      <td>4455.000000</td>\n",
       "    </tr>\n",
       "    <tr>\n",
       "      <th>mean</th>\n",
       "      <td>7.987205</td>\n",
       "      <td>46.441751</td>\n",
       "      <td>37.077666</td>\n",
       "      <td>55.568799</td>\n",
       "      <td>130.568197</td>\n",
       "      <td>5403.433984</td>\n",
       "      <td>342.948614</td>\n",
       "      <td>1039.021773</td>\n",
       "      <td>1462.875645</td>\n",
       "    </tr>\n",
       "    <tr>\n",
       "      <th>std</th>\n",
       "      <td>8.173444</td>\n",
       "      <td>14.655225</td>\n",
       "      <td>10.984856</td>\n",
       "      <td>19.515878</td>\n",
       "      <td>86.367434</td>\n",
       "      <td>11573.161523</td>\n",
       "      <td>1245.861736</td>\n",
       "      <td>474.543007</td>\n",
       "      <td>628.089913</td>\n",
       "    </tr>\n",
       "    <tr>\n",
       "      <th>min</th>\n",
       "      <td>0.000000</td>\n",
       "      <td>6.000000</td>\n",
       "      <td>18.000000</td>\n",
       "      <td>35.000000</td>\n",
       "      <td>0.000000</td>\n",
       "      <td>0.000000</td>\n",
       "      <td>0.000000</td>\n",
       "      <td>100.000000</td>\n",
       "      <td>105.000000</td>\n",
       "    </tr>\n",
       "    <tr>\n",
       "      <th>25%</th>\n",
       "      <td>2.000000</td>\n",
       "      <td>36.000000</td>\n",
       "      <td>28.000000</td>\n",
       "      <td>35.000000</td>\n",
       "      <td>80.000000</td>\n",
       "      <td>0.000000</td>\n",
       "      <td>0.000000</td>\n",
       "      <td>700.000000</td>\n",
       "      <td>1117.500000</td>\n",
       "    </tr>\n",
       "    <tr>\n",
       "      <th>50%</th>\n",
       "      <td>5.000000</td>\n",
       "      <td>48.000000</td>\n",
       "      <td>36.000000</td>\n",
       "      <td>51.000000</td>\n",
       "      <td>120.000000</td>\n",
       "      <td>3000.000000</td>\n",
       "      <td>0.000000</td>\n",
       "      <td>1000.000000</td>\n",
       "      <td>1400.000000</td>\n",
       "    </tr>\n",
       "    <tr>\n",
       "      <th>75%</th>\n",
       "      <td>12.000000</td>\n",
       "      <td>60.000000</td>\n",
       "      <td>45.000000</td>\n",
       "      <td>72.000000</td>\n",
       "      <td>165.000000</td>\n",
       "      <td>6000.000000</td>\n",
       "      <td>0.000000</td>\n",
       "      <td>1300.000000</td>\n",
       "      <td>1692.000000</td>\n",
       "    </tr>\n",
       "    <tr>\n",
       "      <th>max</th>\n",
       "      <td>48.000000</td>\n",
       "      <td>72.000000</td>\n",
       "      <td>68.000000</td>\n",
       "      <td>180.000000</td>\n",
       "      <td>959.000000</td>\n",
       "      <td>300000.000000</td>\n",
       "      <td>30000.000000</td>\n",
       "      <td>5000.000000</td>\n",
       "      <td>11140.000000</td>\n",
       "    </tr>\n",
       "  </tbody>\n",
       "</table>\n",
       "</div>"
      ],
      "text/plain": [
       "         seniority         time          age     expenses       income  \\\n",
       "count  4455.000000  4455.000000  4455.000000  4455.000000  4421.000000   \n",
       "mean      7.987205    46.441751    37.077666    55.568799   130.568197   \n",
       "std       8.173444    14.655225    10.984856    19.515878    86.367434   \n",
       "min       0.000000     6.000000    18.000000    35.000000     0.000000   \n",
       "25%       2.000000    36.000000    28.000000    35.000000    80.000000   \n",
       "50%       5.000000    48.000000    36.000000    51.000000   120.000000   \n",
       "75%      12.000000    60.000000    45.000000    72.000000   165.000000   \n",
       "max      48.000000    72.000000    68.000000   180.000000   959.000000   \n",
       "\n",
       "              assets          debt       amount         price  \n",
       "count    4408.000000   4437.000000  4455.000000   4455.000000  \n",
       "mean     5403.433984    342.948614  1039.021773   1462.875645  \n",
       "std     11573.161523   1245.861736   474.543007    628.089913  \n",
       "min         0.000000      0.000000   100.000000    105.000000  \n",
       "25%         0.000000      0.000000   700.000000   1117.500000  \n",
       "50%      3000.000000      0.000000  1000.000000   1400.000000  \n",
       "75%      6000.000000      0.000000  1300.000000   1692.000000  \n",
       "max    300000.000000  30000.000000  5000.000000  11140.000000  "
      ]
     },
     "execution_count": 68,
     "metadata": {},
     "output_type": "execute_result"
    }
   ],
   "source": [
    "credit_scoring.describe()"
   ]
  },
  {
   "cell_type": "code",
   "execution_count": 72,
   "id": "8977a686",
   "metadata": {},
   "outputs": [
    {
     "name": "stdout",
     "output_type": "stream",
     "text": [
      "<class 'pandas.core.frame.DataFrame'>\n",
      "RangeIndex: 4455 entries, 0 to 4454\n",
      "Data columns (total 14 columns):\n",
      " #   Column     Non-Null Count  Dtype  \n",
      "---  ------     --------------  -----  \n",
      " 0   status     4455 non-null   object \n",
      " 1   seniority  4455 non-null   int64  \n",
      " 2   home       4455 non-null   object \n",
      " 3   time       4455 non-null   int64  \n",
      " 4   age        4455 non-null   int64  \n",
      " 5   marital    4455 non-null   object \n",
      " 6   records    4455 non-null   object \n",
      " 7   job        4455 non-null   object \n",
      " 8   expenses   4455 non-null   int64  \n",
      " 9   income     4421 non-null   float64\n",
      " 10  assets     4408 non-null   float64\n",
      " 11  debt       4437 non-null   float64\n",
      " 12  amount     4455 non-null   int64  \n",
      " 13  price      4455 non-null   int64  \n",
      "dtypes: float64(3), int64(6), object(5)\n",
      "memory usage: 487.4+ KB\n"
     ]
    }
   ],
   "source": [
    "credit_scoring.info()"
   ]
  },
  {
   "cell_type": "code",
   "execution_count": 81,
   "id": "30b5be4f",
   "metadata": {},
   "outputs": [],
   "source": [
    "condition1 = ~credit_scoring.income.isnull()\n",
    "condition2 = ~credit_scoring.assets .isnull()\n",
    "condition3 = ~credit_scoring.debt.isnull()\n",
    "\n",
    "credit_scoring = credit_scoring[(condition1) & (condition2) & (condition3)]"
   ]
  },
  {
   "cell_type": "code",
   "execution_count": 82,
   "id": "7516cf52",
   "metadata": {},
   "outputs": [
    {
     "name": "stdout",
     "output_type": "stream",
     "text": [
      "<class 'pandas.core.frame.DataFrame'>\n",
      "Int64Index: 4378 entries, 0 to 4454\n",
      "Data columns (total 14 columns):\n",
      " #   Column     Non-Null Count  Dtype  \n",
      "---  ------     --------------  -----  \n",
      " 0   status     4378 non-null   object \n",
      " 1   seniority  4378 non-null   int64  \n",
      " 2   home       4378 non-null   object \n",
      " 3   time       4378 non-null   int64  \n",
      " 4   age        4378 non-null   int64  \n",
      " 5   marital    4378 non-null   object \n",
      " 6   records    4378 non-null   object \n",
      " 7   job        4378 non-null   object \n",
      " 8   expenses   4378 non-null   int64  \n",
      " 9   income     4378 non-null   float64\n",
      " 10  assets     4378 non-null   float64\n",
      " 11  debt       4378 non-null   float64\n",
      " 12  amount     4378 non-null   int64  \n",
      " 13  price      4378 non-null   int64  \n",
      "dtypes: float64(3), int64(6), object(5)\n",
      "memory usage: 513.0+ KB\n"
     ]
    }
   ],
   "source": [
    "credit_scoring.info()"
   ]
  },
  {
   "cell_type": "code",
   "execution_count": 71,
   "id": "3f11f6f1",
   "metadata": {},
   "outputs": [
    {
     "data": {
      "text/plain": [
       "ok         3200\n",
       "default    1254\n",
       "unk           1\n",
       "Name: status, dtype: int64"
      ]
     },
     "execution_count": 71,
     "metadata": {},
     "output_type": "execute_result"
    }
   ],
   "source": [
    "credit_scoring.status.value_counts()"
   ]
  },
  {
   "cell_type": "code",
   "execution_count": 84,
   "id": "52b002b7",
   "metadata": {},
   "outputs": [
    {
     "data": {
      "text/plain": [
       "owner      2065\n",
       "rent        963\n",
       "parents     774\n",
       "other       314\n",
       "private     242\n",
       "ignore       20\n",
       "Name: home, dtype: int64"
      ]
     },
     "execution_count": 84,
     "metadata": {},
     "output_type": "execute_result"
    }
   ],
   "source": [
    "credit_scoring.home.value_counts()"
   ]
  },
  {
   "cell_type": "code",
   "execution_count": null,
   "id": "3a8144b3",
   "metadata": {},
   "outputs": [],
   "source": []
  },
  {
   "cell_type": "code",
   "execution_count": null,
   "id": "f924e504",
   "metadata": {},
   "outputs": [],
   "source": []
  },
  {
   "cell_type": "code",
   "execution_count": null,
   "id": "9d4ea411",
   "metadata": {},
   "outputs": [],
   "source": []
  },
  {
   "cell_type": "code",
   "execution_count": null,
   "id": "2a290a43",
   "metadata": {},
   "outputs": [],
   "source": []
  },
  {
   "cell_type": "code",
   "execution_count": null,
   "id": "a1d8d2c7",
   "metadata": {},
   "outputs": [],
   "source": []
  },
  {
   "cell_type": "code",
   "execution_count": null,
   "id": "8432178d",
   "metadata": {},
   "outputs": [],
   "source": []
  },
  {
   "cell_type": "code",
   "execution_count": null,
   "id": "e1ef6d29",
   "metadata": {},
   "outputs": [],
   "source": []
  },
  {
   "cell_type": "code",
   "execution_count": null,
   "id": "5e5f0b88",
   "metadata": {},
   "outputs": [],
   "source": []
  },
  {
   "cell_type": "code",
   "execution_count": null,
   "id": "fe22a916",
   "metadata": {},
   "outputs": [],
   "source": []
  },
  {
   "cell_type": "code",
   "execution_count": null,
   "id": "e56e3598",
   "metadata": {},
   "outputs": [],
   "source": []
  },
  {
   "cell_type": "code",
   "execution_count": null,
   "id": "34acb2e3",
   "metadata": {},
   "outputs": [],
   "source": []
  },
  {
   "cell_type": "code",
   "execution_count": null,
   "id": "fb6cf360",
   "metadata": {},
   "outputs": [],
   "source": []
  },
  {
   "cell_type": "code",
   "execution_count": null,
   "id": "4c2ae20e",
   "metadata": {},
   "outputs": [],
   "source": []
  },
  {
   "cell_type": "code",
   "execution_count": null,
   "id": "90ba5ad4",
   "metadata": {},
   "outputs": [],
   "source": []
  },
  {
   "cell_type": "code",
   "execution_count": null,
   "id": "88ef7066",
   "metadata": {},
   "outputs": [],
   "source": []
  },
  {
   "cell_type": "code",
   "execution_count": null,
   "id": "b329fbe5",
   "metadata": {},
   "outputs": [],
   "source": []
  },
  {
   "cell_type": "code",
   "execution_count": null,
   "id": "f796df18",
   "metadata": {},
   "outputs": [],
   "source": []
  }
 ],
 "metadata": {
  "kernelspec": {
   "display_name": "data_analysis",
   "language": "python",
   "name": "data_analysis"
  },
  "language_info": {
   "codemirror_mode": {
    "name": "ipython",
    "version": 3
   },
   "file_extension": ".py",
   "mimetype": "text/x-python",
   "name": "python",
   "nbconvert_exporter": "python",
   "pygments_lexer": "ipython3",
   "version": "3.9.5"
  }
 },
 "nbformat": 4,
 "nbformat_minor": 5
}
