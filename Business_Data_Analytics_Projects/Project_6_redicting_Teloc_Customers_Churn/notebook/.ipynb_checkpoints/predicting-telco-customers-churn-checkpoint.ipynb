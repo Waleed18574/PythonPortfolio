{
 "cells": [
  {
   "cell_type": "markdown",
   "metadata": {
    "execution": {
     "iopub.execute_input": "2022-12-01T16:27:31.233630Z",
     "iopub.status.busy": "2022-12-01T16:27:31.233159Z",
     "iopub.status.idle": "2022-12-01T16:27:32.344212Z",
     "shell.execute_reply": "2022-12-01T16:27:32.343086Z",
     "shell.execute_reply.started": "2022-12-01T16:27:31.233586Z"
    }
   },
   "source": [
    "\n",
    "# Predicting Telco Customers Churn\n",
    "![](https://insidetelecom.com/wp-content/uploads/2020/11/Telecom-operators-and-reducing-customer-churn.jpg)"
   ]
  },
  {
   "cell_type": "markdown",
   "metadata": {},
   "source": [
    "A major issue facing the telecommunications (Telco) sector is customer attrition. It is described as the loss of clients who switch Telco providers. Telco operators can employ business marketing practices to such turnover clients to retain and grow the customer base if customer churn can be forecast in advance, such as \"is this customer going to leave us within the next X months?\" Particularly, considering the millions of Telco customers, even a 1% decrease in churn will result in a huge rise in earnings.\n",
    "\n",
    "\n",
    "***WA_Fn-UseC_-Telco-Customer-Churn*** data includes information about a fictitious telecom company that provided home phone and Internet services to 7,043 California customers in the third quarter. contains details about a hypothetical telecom provider that served 7,043 clients in California in the third quarter with residential phone and Internet services. It shows which clients have canceled their service shows, stayed, or joined up? You can find the dataset [here](https://www.kaggle.com/datasets/blastchar/telco-customer-churn). I have droped the \"CustomerID\" variable in this dataset since it is irrelevant to the objective of the project.\n",
    "\n",
    "### Problem Statement\n",
    "\n",
    "It is desirable to develop a machine learning model that can predict customers who will leave the company. You are expected to perform the necessary data analysis and feature engineering steps before developing the model.\n",
    "\n",
    "In this project, the dataset named Telco Customer Churn was used. Each row represents a customer, each column contains the customer's attributes. This dataset contains 2 variables (I removed the CustomerID since it is irrelevant) and 7043 rows (customers) with information such as customerID, gender, Phone Service, and Internet Service. The objective of this project is to predict customers that are about to churn in order to catch them with a discount or attractive offers.\n",
    "\n",
    "The following table shows the data types of the variables with 17 categorical and 3 numerical data type.\n",
    "\n",
    "\n",
    "| Variable         | Meaning |\n",
    "| ---------------- | ----------------------------------------------- |\n",
    "| gender           | whether the customer is a male or a female|\n",
    "| SeniorCitizen    | whether the customer is a senior citizen or not (1, 0)|\n",
    "| Partner          | whether the customer has a partner or not (Yes, No)|\n",
    "| Dependents       | whether the customer has dependents or not (Yes, No). A dependent is a person who relies on another as a primary source of income|\n",
    "| tenure           | number of months the customer has stayed with the company|\n",
    "| PhoneService     | whether the customer has a phone service or not (Yes, No)|\n",
    "| MultipleLines    | whether the customer has multiple lines or not (Yes, No, No phone service)|\n",
    "| InternetService  | customer’s internet service provider (DSL, Fiber optic, No)|\n",
    "| OnlineSecurity   | whether the customer has online security or not (Yes, No, No internet service)|\n",
    "| OnlineBackup     | whether the customer has online backup or not (Yes, No, No internet service)|\n",
    "| DeviceProtection | whether the customer has device protection or not (Yes, No, No internet service)|\n",
    "| TechSupport      | whether the customer has tech support or not (Yes, No, No internet service)|\n",
    "| StreamingTV      | whether the customer has tech support or not (Yes, No, No internet service)|\n",
    "| StreamingMovies  | whether the customer has streaming movies or not (Yes, No, No internet service)|\n",
    "| Contract         | type of contract according to duration (Month-to-month, One year, Two year)|\n",
    "| PaperlessBilling | bills issued in paperless form (Yes, No)|\n",
    "| PaymentMethod    | ayment method used by customer (Electronic check, Mailed check, Credit card (automatic), Bank transfer (automatic))|\n",
    "| MonthlyCharges   | amount of charge for service on monthly bases|\n",
    "| TotalCharges     | cumulative charges for service during subscription (tenure) period|\n",
    "| Churn            | output value, predict variable (Yes, No)|"
   ]
  },
  {
   "cell_type": "code",
   "execution_count": 1,
   "metadata": {
    "execution": {
     "iopub.execute_input": "2022-12-01T17:34:54.857214Z",
     "iopub.status.busy": "2022-12-01T17:34:54.856447Z",
     "iopub.status.idle": "2022-12-01T17:34:54.900149Z",
     "shell.execute_reply": "2022-12-01T17:34:54.898841Z",
     "shell.execute_reply.started": "2022-12-01T17:34:54.857104Z"
    }
   },
   "outputs": [
    {
     "name": "stdout",
     "output_type": "stream",
     "text": [
      "/kaggle/input/telcocustomerchurn/WA_Fn-UseC_-Telco-Customer-Churn.csv\n"
     ]
    }
   ],
   "source": [
    "# This Python 3 environment comes with many helpful analytics libraries installed\n",
    "# It is defined by the kaggle/python Docker image: https://github.com/kaggle/docker-python\n",
    "# For example, here's several helpful packages to load\n",
    "\n",
    "import numpy as np # linear algebra\n",
    "import pandas as pd # data processing, CSV file I/O (e.g. pd.read_csv)\n",
    "\n",
    "# Input data files are available in the read-only \"../input/\" directory\n",
    "# For example, running this (by clicking run or pressing Shift+Enter) will list all files under the input directory\n",
    "\n",
    "import os\n",
    "for dirname, _, filenames in os.walk('/kaggle/input'):\n",
    "    for filename in filenames:\n",
    "        print(os.path.join(dirname, filename))\n",
    "\n",
    "# You can write up to 20GB to the current directory (/kaggle/working/) that gets preserved as output when you create a version using \"Save & Run All\" \n",
    "# You can also write temporary files to /kaggle/temp/, but they won't be saved outside of the current session"
   ]
  },
  {
   "cell_type": "markdown",
   "metadata": {},
   "source": [
    "## Importing Required Libraries"
   ]
  },
  {
   "cell_type": "code",
   "execution_count": 2,
   "metadata": {
    "execution": {
     "iopub.execute_input": "2022-12-01T17:34:54.903701Z",
     "iopub.status.busy": "2022-12-01T17:34:54.902874Z",
     "iopub.status.idle": "2022-12-01T17:34:56.117793Z",
     "shell.execute_reply": "2022-12-01T17:34:56.116415Z",
     "shell.execute_reply.started": "2022-12-01T17:34:54.903652Z"
    }
   },
   "outputs": [],
   "source": [
    "import numpy\n",
    "import pandas as pd\n",
    "\n",
    "import matplotlib.pyplot as plt\n",
    "import seaborn as sns\n",
    "\n",
    "from scipy.stats.mstats import normaltest\n",
    "import scipy.stats\n",
    "\n",
    "import warnings\n",
    "#warnings.simplefilter(action='ignore', category=FutureWarning)\n",
    "warnings.filterwarnings('ignore')"
   ]
  },
  {
   "cell_type": "code",
   "execution_count": 3,
   "metadata": {
    "execution": {
     "iopub.execute_input": "2022-12-01T17:34:56.120057Z",
     "iopub.status.busy": "2022-12-01T17:34:56.119665Z",
     "iopub.status.idle": "2022-12-01T17:34:56.215617Z",
     "shell.execute_reply": "2022-12-01T17:34:56.214438Z",
     "shell.execute_reply.started": "2022-12-01T17:34:56.120022Z"
    }
   },
   "outputs": [
    {
     "data": {
      "text/html": [
       "<div>\n",
       "<style scoped>\n",
       "    .dataframe tbody tr th:only-of-type {\n",
       "        vertical-align: middle;\n",
       "    }\n",
       "\n",
       "    .dataframe tbody tr th {\n",
       "        vertical-align: top;\n",
       "    }\n",
       "\n",
       "    .dataframe thead th {\n",
       "        text-align: right;\n",
       "    }\n",
       "</style>\n",
       "<table border=\"1\" class=\"dataframe\">\n",
       "  <thead>\n",
       "    <tr style=\"text-align: right;\">\n",
       "      <th></th>\n",
       "      <th>gender</th>\n",
       "      <th>SeniorCitizen</th>\n",
       "      <th>Partner</th>\n",
       "      <th>Dependents</th>\n",
       "      <th>tenure</th>\n",
       "      <th>PhoneService</th>\n",
       "      <th>MultipleLines</th>\n",
       "      <th>InternetService</th>\n",
       "      <th>OnlineSecurity</th>\n",
       "      <th>OnlineBackup</th>\n",
       "      <th>DeviceProtection</th>\n",
       "      <th>TechSupport</th>\n",
       "      <th>StreamingTV</th>\n",
       "      <th>StreamingMovies</th>\n",
       "      <th>Contract</th>\n",
       "      <th>PaperlessBilling</th>\n",
       "      <th>PaymentMethod</th>\n",
       "      <th>MonthlyCharges</th>\n",
       "      <th>TotalCharges</th>\n",
       "      <th>Churn</th>\n",
       "    </tr>\n",
       "  </thead>\n",
       "  <tbody>\n",
       "    <tr>\n",
       "      <th>0</th>\n",
       "      <td>Female</td>\n",
       "      <td>0</td>\n",
       "      <td>Yes</td>\n",
       "      <td>No</td>\n",
       "      <td>1</td>\n",
       "      <td>No</td>\n",
       "      <td>No phone service</td>\n",
       "      <td>DSL</td>\n",
       "      <td>No</td>\n",
       "      <td>Yes</td>\n",
       "      <td>No</td>\n",
       "      <td>No</td>\n",
       "      <td>No</td>\n",
       "      <td>No</td>\n",
       "      <td>Month-to-month</td>\n",
       "      <td>Yes</td>\n",
       "      <td>Electronic check</td>\n",
       "      <td>29.85</td>\n",
       "      <td>29.85</td>\n",
       "      <td>No</td>\n",
       "    </tr>\n",
       "    <tr>\n",
       "      <th>1</th>\n",
       "      <td>Male</td>\n",
       "      <td>0</td>\n",
       "      <td>No</td>\n",
       "      <td>No</td>\n",
       "      <td>34</td>\n",
       "      <td>Yes</td>\n",
       "      <td>No</td>\n",
       "      <td>DSL</td>\n",
       "      <td>Yes</td>\n",
       "      <td>No</td>\n",
       "      <td>Yes</td>\n",
       "      <td>No</td>\n",
       "      <td>No</td>\n",
       "      <td>No</td>\n",
       "      <td>One year</td>\n",
       "      <td>No</td>\n",
       "      <td>Mailed check</td>\n",
       "      <td>56.95</td>\n",
       "      <td>1889.50</td>\n",
       "      <td>No</td>\n",
       "    </tr>\n",
       "    <tr>\n",
       "      <th>2</th>\n",
       "      <td>Male</td>\n",
       "      <td>0</td>\n",
       "      <td>No</td>\n",
       "      <td>No</td>\n",
       "      <td>2</td>\n",
       "      <td>Yes</td>\n",
       "      <td>No</td>\n",
       "      <td>DSL</td>\n",
       "      <td>Yes</td>\n",
       "      <td>Yes</td>\n",
       "      <td>No</td>\n",
       "      <td>No</td>\n",
       "      <td>No</td>\n",
       "      <td>No</td>\n",
       "      <td>Month-to-month</td>\n",
       "      <td>Yes</td>\n",
       "      <td>Mailed check</td>\n",
       "      <td>53.85</td>\n",
       "      <td>108.15</td>\n",
       "      <td>Yes</td>\n",
       "    </tr>\n",
       "    <tr>\n",
       "      <th>3</th>\n",
       "      <td>Male</td>\n",
       "      <td>0</td>\n",
       "      <td>No</td>\n",
       "      <td>No</td>\n",
       "      <td>45</td>\n",
       "      <td>No</td>\n",
       "      <td>No phone service</td>\n",
       "      <td>DSL</td>\n",
       "      <td>Yes</td>\n",
       "      <td>No</td>\n",
       "      <td>Yes</td>\n",
       "      <td>Yes</td>\n",
       "      <td>No</td>\n",
       "      <td>No</td>\n",
       "      <td>One year</td>\n",
       "      <td>No</td>\n",
       "      <td>Bank transfer (automatic)</td>\n",
       "      <td>42.30</td>\n",
       "      <td>1840.75</td>\n",
       "      <td>No</td>\n",
       "    </tr>\n",
       "    <tr>\n",
       "      <th>4</th>\n",
       "      <td>Female</td>\n",
       "      <td>0</td>\n",
       "      <td>No</td>\n",
       "      <td>No</td>\n",
       "      <td>2</td>\n",
       "      <td>Yes</td>\n",
       "      <td>No</td>\n",
       "      <td>Fiber optic</td>\n",
       "      <td>No</td>\n",
       "      <td>No</td>\n",
       "      <td>No</td>\n",
       "      <td>No</td>\n",
       "      <td>No</td>\n",
       "      <td>No</td>\n",
       "      <td>Month-to-month</td>\n",
       "      <td>Yes</td>\n",
       "      <td>Electronic check</td>\n",
       "      <td>70.70</td>\n",
       "      <td>151.65</td>\n",
       "      <td>Yes</td>\n",
       "    </tr>\n",
       "  </tbody>\n",
       "</table>\n",
       "</div>"
      ],
      "text/plain": [
       "   gender  SeniorCitizen Partner Dependents  tenure PhoneService  \\\n",
       "0  Female              0     Yes         No       1           No   \n",
       "1    Male              0      No         No      34          Yes   \n",
       "2    Male              0      No         No       2          Yes   \n",
       "3    Male              0      No         No      45           No   \n",
       "4  Female              0      No         No       2          Yes   \n",
       "\n",
       "      MultipleLines InternetService OnlineSecurity OnlineBackup  \\\n",
       "0  No phone service             DSL             No          Yes   \n",
       "1                No             DSL            Yes           No   \n",
       "2                No             DSL            Yes          Yes   \n",
       "3  No phone service             DSL            Yes           No   \n",
       "4                No     Fiber optic             No           No   \n",
       "\n",
       "  DeviceProtection TechSupport StreamingTV StreamingMovies        Contract  \\\n",
       "0               No          No          No              No  Month-to-month   \n",
       "1              Yes          No          No              No        One year   \n",
       "2               No          No          No              No  Month-to-month   \n",
       "3              Yes         Yes          No              No        One year   \n",
       "4               No          No          No              No  Month-to-month   \n",
       "\n",
       "  PaperlessBilling              PaymentMethod  MonthlyCharges  TotalCharges  \\\n",
       "0              Yes           Electronic check           29.85         29.85   \n",
       "1               No               Mailed check           56.95       1889.50   \n",
       "2              Yes               Mailed check           53.85        108.15   \n",
       "3               No  Bank transfer (automatic)           42.30       1840.75   \n",
       "4              Yes           Electronic check           70.70        151.65   \n",
       "\n",
       "  Churn  \n",
       "0    No  \n",
       "1    No  \n",
       "2   Yes  \n",
       "3    No  \n",
       "4   Yes  "
      ]
     },
     "execution_count": 3,
     "metadata": {},
     "output_type": "execute_result"
    }
   ],
   "source": [
    "data = pd.read_csv('/kaggle/input/telcocustomerchurn/WA_Fn-UseC_-Telco-Customer-Churn.csv')\n",
    "data.head()"
   ]
  },
  {
   "cell_type": "code",
   "execution_count": 4,
   "metadata": {
    "execution": {
     "iopub.execute_input": "2022-12-01T17:34:56.218103Z",
     "iopub.status.busy": "2022-12-01T17:34:56.217301Z",
     "iopub.status.idle": "2022-12-01T17:34:56.260606Z",
     "shell.execute_reply": "2022-12-01T17:34:56.259560Z",
     "shell.execute_reply.started": "2022-12-01T17:34:56.218063Z"
    }
   },
   "outputs": [
    {
     "name": "stdout",
     "output_type": "stream",
     "text": [
      "<class 'pandas.core.frame.DataFrame'>\n",
      "RangeIndex: 7043 entries, 0 to 7042\n",
      "Data columns (total 20 columns):\n",
      " #   Column            Non-Null Count  Dtype  \n",
      "---  ------            --------------  -----  \n",
      " 0   gender            7043 non-null   object \n",
      " 1   SeniorCitizen     7043 non-null   int64  \n",
      " 2   Partner           7043 non-null   object \n",
      " 3   Dependents        7043 non-null   object \n",
      " 4   tenure            7043 non-null   int64  \n",
      " 5   PhoneService      7043 non-null   object \n",
      " 6   MultipleLines     7043 non-null   object \n",
      " 7   InternetService   7043 non-null   object \n",
      " 8   OnlineSecurity    7043 non-null   object \n",
      " 9   OnlineBackup      7043 non-null   object \n",
      " 10  DeviceProtection  7043 non-null   object \n",
      " 11  TechSupport       7043 non-null   object \n",
      " 12  StreamingTV       7043 non-null   object \n",
      " 13  StreamingMovies   7043 non-null   object \n",
      " 14  Contract          7043 non-null   object \n",
      " 15  PaperlessBilling  7043 non-null   object \n",
      " 16  PaymentMethod     7043 non-null   object \n",
      " 17  MonthlyCharges    7043 non-null   float64\n",
      " 18  TotalCharges      7032 non-null   float64\n",
      " 19  Churn             7043 non-null   object \n",
      "dtypes: float64(2), int64(2), object(16)\n",
      "memory usage: 1.1+ MB\n"
     ]
    }
   ],
   "source": [
    "data.info()"
   ]
  },
  {
   "cell_type": "code",
   "execution_count": 5,
   "metadata": {
    "execution": {
     "iopub.execute_input": "2022-12-01T17:34:56.264530Z",
     "iopub.status.busy": "2022-12-01T17:34:56.263604Z",
     "iopub.status.idle": "2022-12-01T17:34:56.273285Z",
     "shell.execute_reply": "2022-12-01T17:34:56.271893Z",
     "shell.execute_reply.started": "2022-12-01T17:34:56.264491Z"
    }
   },
   "outputs": [],
   "source": [
    "# interesting! \"TotalCharges\" features is missing a value...let me fill\n",
    "data.TotalCharges = data.TotalCharges.fillna( data.TotalCharges.median()) "
   ]
  },
  {
   "cell_type": "code",
   "execution_count": 6,
   "metadata": {
    "execution": {
     "iopub.execute_input": "2022-12-01T17:34:56.275810Z",
     "iopub.status.busy": "2022-12-01T17:34:56.275283Z",
     "iopub.status.idle": "2022-12-01T17:34:56.284792Z",
     "shell.execute_reply": "2022-12-01T17:34:56.283669Z",
     "shell.execute_reply.started": "2022-12-01T17:34:56.275764Z"
    }
   },
   "outputs": [],
   "source": [
    "# I will change the data type for Senior Cetizen to categorical for plotting purposes\n",
    "data.SeniorCitizen = data.SeniorCitizen.astype('O')"
   ]
  },
  {
   "cell_type": "code",
   "execution_count": 7,
   "metadata": {
    "execution": {
     "iopub.execute_input": "2022-12-01T17:34:56.287051Z",
     "iopub.status.busy": "2022-12-01T17:34:56.286090Z",
     "iopub.status.idle": "2022-12-01T17:34:56.299786Z",
     "shell.execute_reply": "2022-12-01T17:34:56.298232Z",
     "shell.execute_reply.started": "2022-12-01T17:34:56.287012Z"
    }
   },
   "outputs": [],
   "source": [
    "# cool!"
   ]
  },
  {
   "cell_type": "markdown",
   "metadata": {},
   "source": [
    "### EDA\n",
    "In this section, I will check the distribution of the numeric features, the frequency of the categorical features. I will also check frequency of the target to see the balance of the data"
   ]
  },
  {
   "cell_type": "code",
   "execution_count": 8,
   "metadata": {
    "execution": {
     "iopub.execute_input": "2022-12-01T17:34:56.302740Z",
     "iopub.status.busy": "2022-12-01T17:34:56.302267Z",
     "iopub.status.idle": "2022-12-01T17:34:56.319406Z",
     "shell.execute_reply": "2022-12-01T17:34:56.317704Z",
     "shell.execute_reply.started": "2022-12-01T17:34:56.302704Z"
    }
   },
   "outputs": [],
   "source": [
    "# selecting numeric features\n",
    "numeric_features = data.select_dtypes([int,float]).columns.tolist()"
   ]
  },
  {
   "cell_type": "code",
   "execution_count": 9,
   "metadata": {
    "execution": {
     "iopub.execute_input": "2022-12-01T17:34:56.323983Z",
     "iopub.status.busy": "2022-12-01T17:34:56.322709Z",
     "iopub.status.idle": "2022-12-01T17:34:56.333019Z",
     "shell.execute_reply": "2022-12-01T17:34:56.331924Z",
     "shell.execute_reply.started": "2022-12-01T17:34:56.323939Z"
    }
   },
   "outputs": [],
   "source": [
    "# selecting categorical features\n",
    "categorical_features = [col for col in data.select_dtypes('O').columns if col != 'Churn']"
   ]
  },
  {
   "cell_type": "code",
   "execution_count": 10,
   "metadata": {
    "execution": {
     "iopub.execute_input": "2022-12-01T17:34:56.334705Z",
     "iopub.status.busy": "2022-12-01T17:34:56.334120Z",
     "iopub.status.idle": "2022-12-01T17:34:57.472661Z",
     "shell.execute_reply": "2022-12-01T17:34:57.471575Z",
     "shell.execute_reply.started": "2022-12-01T17:34:56.334671Z"
    }
   },
   "outputs": [
    {
     "data": {
      "image/png": "[encoded data removed]",
      "text/plain": [
       "<Figure size 720x288 with 2 Axes>"
      ]
     },
     "metadata": {
      "needs_background": "light"
     },
     "output_type": "display_data"
    },
    {
     "data": {
      "image/png": "[encoded data removed]",
      "text/plain": [
       "<Figure size 720x288 with 2 Axes>"
      ]
     },
     "metadata": {
      "needs_background": "light"
     },
     "output_type": "display_data"
    },
    {
     "data": {
      "image/png": "[encoded data removed]",
      "text/plain": [
       "<Figure size 720x288 with 2 Axes>"
      ]
     },
     "metadata": {
      "needs_background": "light"
     },
     "output_type": "display_data"
    }
   ],
   "source": [
    "for col in numeric_features:\n",
    "    plt.figure(figsize=(10,4))\n",
    "    plt.suptitle(f'{col} Distribution')\n",
    "    \n",
    "    plt.subplot(1,2,1)\n",
    "    sns.histplot(data=data, x = col, bins=30)\n",
    "    plt.title('Histogram')\n",
    "    \n",
    "    plt.subplot(1,2,2)\n",
    "    sns.boxplot(data=data, x = col)\n",
    "    plt.title('Boxplot')\n",
    "    \n",
    "    plt.show() "
   ]
  },
  {
   "cell_type": "code",
   "execution_count": 11,
   "metadata": {
    "execution": {
     "iopub.execute_input": "2022-12-01T17:34:57.479501Z",
     "iopub.status.busy": "2022-12-01T17:34:57.478859Z",
     "iopub.status.idle": "2022-12-01T17:35:00.943819Z",
     "shell.execute_reply": "2022-12-01T17:35:00.942282Z",
     "shell.execute_reply.started": "2022-12-01T17:34:57.479453Z"
    }
   },
   "outputs": [
    {
     "data": {
      "image/png": "[encoded data removed]",
      "text/plain": [
       "<Figure size 432x288 with 1 Axes>"
      ]
     },
     "metadata": {
      "needs_background": "light"
     },
     "output_type": "display_data"
    },
    {
     "data": {
      "image/png": "[encoded data removed]",
      "text/plain": [
       "<Figure size 432x288 with 1 Axes>"
      ]
     },
     "metadata": {
      "needs_background": "light"
     },
     "output_type": "display_data"
    },
    {
     "data": {
      "image/png": "[encoded data removed]",
      "text/plain": [
       "<Figure size 432x288 with 1 Axes>"
      ]
     },
     "metadata": {
      "needs_background": "light"
     },
     "output_type": "display_data"
    },
    {
     "data": {
      "image/png": "[encoded data removed]",
      "text/plain": [
       "<Figure size 432x288 with 1 Axes>"
      ]
     },
     "metadata": {
      "needs_background": "light"
     },
     "output_type": "display_data"
    },
    {
     "data": {
      "image/png": "[encoded data removed]",
      "text/plain": [
       "<Figure size 432x288 with 1 Axes>"
      ]
     },
     "metadata": {
      "needs_background": "light"
     },
     "output_type": "display_data"
    },
    {
     "data": {
      "image/png": "[encoded data removed]",
      "text/plain": [
       "<Figure size 432x288 with 1 Axes>"
      ]
     },
     "metadata": {
      "needs_background": "light"
     },
     "output_type": "display_data"
    },
    {
     "data": {
      "image/png": "[encoded data removed]",
      "text/plain": [
       "<Figure size 432x288 with 1 Axes>"
      ]
     },
     "metadata": {
      "needs_background": "light"
     },
     "output_type": "display_data"
    },
    {
     "data": {
      "image/png": "[encoded data removed]",
      "text/plain": [
       "<Figure size 432x288 with 1 Axes>"
      ]
     },
     "metadata": {
      "needs_background": "light"
     },
     "output_type": "display_data"
    },
    {
     "data": {
      "image/png": "[encoded data removed]",
      "text/plain": [
       "<Figure size 432x288 with 1 Axes>"
      ]
     },
     "metadata": {
      "needs_background": "light"
     },
     "output_type": "display_data"
    },
    {
     "data": {
      "image/png": "[encoded data removed]",
      "text/plain": [
       "<Figure size 432x288 with 1 Axes>"
      ]
     },
     "metadata": {
      "needs_background": "light"
     },
     "output_type": "display_data"
    },
    {
     "data": {
      "image/png": "[encoded data removed]",
      "text/plain": [
       "<Figure size 432x288 with 1 Axes>"
      ]
     },
     "metadata": {
      "needs_background": "light"
     },
     "output_type": "display_data"
    },
    {
     "data": {
      "image/png": "[encoded data removed]",
      "text/plain": [
       "<Figure size 432x288 with 1 Axes>"
      ]
     },
     "metadata": {
      "needs_background": "light"
     },
     "output_type": "display_data"
    },
    {
     "data": {
      "image/png": "[encoded data removed]",
      "text/plain": [
       "<Figure size 432x288 with 1 Axes>"
      ]
     },
     "metadata": {
      "needs_background": "light"
     },
     "output_type": "display_data"
    },
    {
     "data": {
      "image/png": "[encoded data removed]",
      "text/plain": [
       "<Figure size 432x288 with 1 Axes>"
      ]
     },
     "metadata": {
      "needs_background": "light"
     },
     "output_type": "display_data"
    },
    {
     "data": {
      "image/png": "[encoded data removed]",
      "text/plain": [
       "<Figure size 432x288 with 1 Axes>"
      ]
     },
     "metadata": {
      "needs_background": "light"
     },
     "output_type": "display_data"
    },
    {
     "data": {
      "image/png": "[encoded data removed]",
      "text/plain": [
       "<Figure size 432x288 with 1 Axes>"
      ]
     },
     "metadata": {
      "needs_background": "light"
     },
     "output_type": "display_data"
    }
   ],
   "source": [
    "for col in categorical_features:\n",
    "    sns.countplot(x = data[col])\n",
    "    plt.title(f'{col} Frequency')\n",
    "    if col == \"PaymentMethod\":\n",
    "        plt.xticks(rotation=45)\n",
    "    plt.show()"
   ]
  },
  {
   "cell_type": "code",
   "execution_count": 12,
   "metadata": {
    "execution": {
     "iopub.execute_input": "2022-12-01T17:35:00.945898Z",
     "iopub.status.busy": "2022-12-01T17:35:00.945447Z",
     "iopub.status.idle": "2022-12-01T17:35:01.104552Z",
     "shell.execute_reply": "2022-12-01T17:35:01.103091Z",
     "shell.execute_reply.started": "2022-12-01T17:35:00.945855Z"
    },
    "scrolled": true
   },
   "outputs": [
    {
     "data": {
      "image/png": "[encoded data removed]",
      "text/plain": [
       "<Figure size 432x288 with 1 Axes>"
      ]
     },
     "metadata": {
      "needs_background": "light"
     },
     "output_type": "display_data"
    }
   ],
   "source": [
    "# check the distribution of the target\n",
    "sns.countplot(x = data['Churn'])\n",
    "plt.title('Churn Frequency')\n",
    "plt.show()"
   ]
  },
  {
   "cell_type": "markdown",
   "metadata": {},
   "source": [
    "This is obviously imbalanced data"
   ]
  },
  {
   "cell_type": "markdown",
   "metadata": {},
   "source": [
    "__Checking the Outliers__"
   ]
  },
  {
   "cell_type": "code",
   "execution_count": 13,
   "metadata": {
    "execution": {
     "iopub.execute_input": "2022-12-01T17:35:01.106792Z",
     "iopub.status.busy": "2022-12-01T17:35:01.106226Z",
     "iopub.status.idle": "2022-12-01T17:35:01.133085Z",
     "shell.execute_reply": "2022-12-01T17:35:01.131550Z",
     "shell.execute_reply.started": "2022-12-01T17:35:01.106751Z"
    }
   },
   "outputs": [
    {
     "name": "stdout",
     "output_type": "stream",
     "text": [
      "tenure\n",
      "outliers = 0 \n",
      "\n",
      "MonthlyCharges\n",
      "outliers = 0 \n",
      "\n",
      "TotalCharges\n",
      "outliers = 0 \n",
      "\n"
     ]
    }
   ],
   "source": [
    "for col in numeric_features:\n",
    "\n",
    "    q1 = data[col].quantile(0.25)\n",
    "    q3 = data[col].quantile(0.75)\n",
    "    iqr = q3 - q1\n",
    "    lower_lim = q1 - 1.5*iqr\n",
    "    uppler_lim = q3 + 1.5*iqr\n",
    "    \n",
    "    outliers = sum((data[col] < lower_lim) | (data[col]  > uppler_lim))\n",
    "    \n",
    "    print(f'{col}')\n",
    "    print(f'outliers = {outliers} \\n')"
   ]
  },
  {
   "cell_type": "markdown",
   "metadata": {},
   "source": [
    "## Feature Selection\n",
    "In this section, I will select the features for modeling based on Hypothesis testing. I will use Hypothesis Testing to determine whether a feature has a significant relationship with the target or no. Since the target is of a categorical data type with 2 lables, I will use independent t_test \"scipy.stats.ttest_ind\" Chi2 test \"scipy.stats.chi2_contingency\" to determine its relationship with the numeric and categorical features respectively."
   ]
  },
  {
   "cell_type": "markdown",
   "metadata": {},
   "source": [
    "__Hypothesis Testing__\n",
    "\n",
    "Examining the significance of the relationships between the target and the numeric_features"
   ]
  },
  {
   "cell_type": "markdown",
   "metadata": {},
   "source": [
    "State the hypothesis\n",
    "\n",
    "-   $H_0: µ_1 = µ_2$ (\"there is no difference in numerical columns scores between Churn and Non-churn customers\")\n",
    "-   $H_1: µ_1 ≠ µ_2$ (\"there is a difference in numerical columns scores between hurn and Non-churn customers\")"
   ]
  },
  {
   "cell_type": "code",
   "execution_count": 14,
   "metadata": {
    "execution": {
     "iopub.execute_input": "2022-12-01T17:35:01.135245Z",
     "iopub.status.busy": "2022-12-01T17:35:01.134816Z",
     "iopub.status.idle": "2022-12-01T17:35:01.790729Z",
     "shell.execute_reply": "2022-12-01T17:35:01.789490Z",
     "shell.execute_reply.started": "2022-12-01T17:35:01.135206Z"
    }
   },
   "outputs": [
    {
     "data": {
      "image/png": "[encoded data removed]",
      "text/plain": [
       "<Figure size 432x288 with 1 Axes>"
      ]
     },
     "metadata": {
      "needs_background": "light"
     },
     "output_type": "display_data"
    },
    {
     "name": "stdout",
     "output_type": "stream",
     "text": [
      "tenure\n",
      "P_value: 1.1954945472607148e-232\n",
      "Decision: tenure has a significant relationship of the target\n",
      "\n",
      "\n"
     ]
    },
    {
     "data": {
      "image/png": "[encoded data removed]",
      "text/plain": [
       "<Figure size 432x288 with 1 Axes>"
      ]
     },
     "metadata": {
      "needs_background": "light"
     },
     "output_type": "display_data"
    },
    {
     "name": "stdout",
     "output_type": "stream",
     "text": [
      "MonthlyCharges\n",
      "P_value: 8.592449331547539e-73\n",
      "Decision: MonthlyCharges has a significant relationship of the target\n",
      "\n",
      "\n"
     ]
    },
    {
     "data": {
      "image/png": "[encoded data removed]",
      "text/plain": [
       "<Figure size 432x288 with 1 Axes>"
      ]
     },
     "metadata": {
      "needs_background": "light"
     },
     "output_type": "display_data"
    },
    {
     "name": "stdout",
     "output_type": "stream",
     "text": [
      "TotalCharges\n",
      "P_value: 2.0590752866918164e-75\n",
      "Decision: TotalCharges has a significant relationship of the target\n",
      "\n",
      "\n"
     ]
    }
   ],
   "source": [
    "sig_numeric_features = []\n",
    "for col in numeric_features:\n",
    "    sns.boxplot(x = col, y = 'Churn',data = data)\n",
    "    plt.title(f'{col.capitalize()} by Churn')\n",
    "    plt.show()\n",
    "    # conduct levene test\n",
    "    _, p_value_levene = scipy.stats.levene(data[data['Churn'] == 'Yes'][col],\n",
    "                                           data[data['Churn'] == 'No'][col], \n",
    "                                           center = 'mean')\n",
    "    \n",
    "    if p_value_levene >= 0.05:\n",
    "        equal_var = True\n",
    "    else:\n",
    "        equal_var = False\n",
    "    # conduct independent t-test\n",
    "    _, p_value_ttset=  scipy.stats.ttest_ind(data[data['Churn'] == 'Yes'][col],\n",
    "                                              data[data['Churn'] == 'No'][col], \n",
    "                                              equal_var = equal_var)\n",
    "    \n",
    "    if p_value_ttset >= 0.05:\n",
    "        print(f'{col}')\n",
    "        print(f'P_value: {p_value_ttset}')\n",
    "        print(f'Decision: {col} has no significant relationship of the target')\n",
    "        print('\\n')\n",
    "    else:\n",
    "        print(f'{col}')\n",
    "        print(f'P_value: {p_value_ttset}')\n",
    "        print(f'Decision: {col} has a significant relationship of the target')\n",
    "        print('\\n')\n",
    "    sig_numeric_features.append(col)  "
   ]
  },
  {
   "cell_type": "markdown",
   "metadata": {},
   "source": [
    "__Hypothesis Testing__\n",
    "\n",
    "Examining the significance of the relationships between the target and the categorical_features"
   ]
  },
  {
   "cell_type": "markdown",
   "metadata": {},
   "source": [
    "State the hypothesis:\n",
    "\n",
    "-   $H_0:$ The proportion of customers who are Churned is independent of the categorical feature\n",
    "-   $H_1:$ The proportion of customers who are Churned is associated with the categorical feature"
   ]
  },
  {
   "cell_type": "code",
   "execution_count": 15,
   "metadata": {
    "execution": {
     "iopub.execute_input": "2022-12-01T17:35:01.793002Z",
     "iopub.status.busy": "2022-12-01T17:35:01.792496Z",
     "iopub.status.idle": "2022-12-01T17:35:05.862640Z",
     "shell.execute_reply": "2022-12-01T17:35:05.861715Z",
     "shell.execute_reply.started": "2022-12-01T17:35:01.792953Z"
    }
   },
   "outputs": [
    {
     "data": {
      "image/png": "[encoded data removed]",
      "text/plain": [
       "<Figure size 432x288 with 1 Axes>"
      ]
     },
     "metadata": {
      "needs_background": "light"
     },
     "output_type": "display_data"
    },
    {
     "name": "stdout",
     "output_type": "stream",
     "text": [
      "gender\n",
      "P_value: 0.48657873605618596\n",
      "Decision: There is no siginificant relationship between the churned customers and gender \n",
      "\n",
      "\n"
     ]
    },
    {
     "data": {
      "image/png": "[encoded data removed]",
      "text/plain": [
       "<Figure size 432x288 with 1 Axes>"
      ]
     },
     "metadata": {
      "needs_background": "light"
     },
     "output_type": "display_data"
    },
    {
     "name": "stdout",
     "output_type": "stream",
     "text": [
      "SeniorCitizen\n",
      "P_value: 1.510066805092378e-36\n",
      "Decision: There is a siginificant relationship between the churned customers and SeniorCitizen \n",
      "\n",
      "\n"
     ]
    },
    {
     "data": {
      "image/png": "[encoded data removed]",
      "text/plain": [
       "<Figure size 432x288 with 1 Axes>"
      ]
     },
     "metadata": {
      "needs_background": "light"
     },
     "output_type": "display_data"
    },
    {
     "name": "stdout",
     "output_type": "stream",
     "text": [
      "Partner\n",
      "P_value: 2.1399113440759935e-36\n",
      "Decision: There is a siginificant relationship between the churned customers and Partner \n",
      "\n",
      "\n"
     ]
    },
    {
     "data": {
      "image/png": "[encoded data removed]",
      "text/plain": [
       "<Figure size 432x288 with 1 Axes>"
      ]
     },
     "metadata": {
      "needs_background": "light"
     },
     "output_type": "display_data"
    },
    {
     "name": "stdout",
     "output_type": "stream",
     "text": [
      "Dependents\n",
      "P_value: 4.9249216612154196e-43\n",
      "Decision: There is a siginificant relationship between the churned customers and Dependents \n",
      "\n",
      "\n"
     ]
    },
    {
     "data": {
      "image/png": "[encoded data removed]",
      "text/plain": [
       "<Figure size 432x288 with 1 Axes>"
      ]
     },
     "metadata": {
      "needs_background": "light"
     },
     "output_type": "display_data"
    },
    {
     "name": "stdout",
     "output_type": "stream",
     "text": [
      "PhoneService\n",
      "P_value: 0.3387825358066928\n",
      "Decision: There is no siginificant relationship between the churned customers and PhoneService \n",
      "\n",
      "\n"
     ]
    },
    {
     "data": {
      "image/png": "[encoded data removed]",
      "text/plain": [
       "<Figure size 432x288 with 1 Axes>"
      ]
     },
     "metadata": {
      "needs_background": "light"
     },
     "output_type": "display_data"
    },
    {
     "name": "stdout",
     "output_type": "stream",
     "text": [
      "MultipleLines\n",
      "P_value: 0.0034643829548773\n",
      "Decision: There is a siginificant relationship between the churned customers and MultipleLines \n",
      "\n",
      "\n"
     ]
    },
    {
     "data": {
      "image/png": "[encoded data removed]",
      "text/plain": [
       "<Figure size 432x288 with 1 Axes>"
      ]
     },
     "metadata": {
      "needs_background": "light"
     },
     "output_type": "display_data"
    },
    {
     "name": "stdout",
     "output_type": "stream",
     "text": [
      "InternetService\n",
      "P_value: 9.571788222840544e-160\n",
      "Decision: There is a siginificant relationship between the churned customers and InternetService \n",
      "\n",
      "\n"
     ]
    },
    {
     "data": {
      "image/png": "[encoded data removed]",
      "text/plain": [
       "<Figure size 432x288 with 1 Axes>"
      ]
     },
     "metadata": {
      "needs_background": "light"
     },
     "output_type": "display_data"
    },
    {
     "name": "stdout",
     "output_type": "stream",
     "text": [
      "OnlineSecurity\n",
      "P_value: 2.6611496351768565e-185\n",
      "Decision: There is a siginificant relationship between the churned customers and OnlineSecurity \n",
      "\n",
      "\n"
     ]
    },
    {
     "data": {
      "image/png": "[encoded data removed]",
      "text/plain": [
       "<Figure size 432x288 with 1 Axes>"
      ]
     },
     "metadata": {
      "needs_background": "light"
     },
     "output_type": "display_data"
    },
    {
     "name": "stdout",
     "output_type": "stream",
     "text": [
      "OnlineBackup\n",
      "P_value: 2.0797592160865457e-131\n",
      "Decision: There is a siginificant relationship between the churned customers and OnlineBackup \n",
      "\n",
      "\n"
     ]
    },
    {
     "data": {
      "image/png": "[encoded data removed]",
      "text/plain": [
       "<Figure size 432x288 with 1 Axes>"
      ]
     },
     "metadata": {
      "needs_background": "light"
     },
     "output_type": "display_data"
    },
    {
     "name": "stdout",
     "output_type": "stream",
     "text": [
      "DeviceProtection\n",
      "P_value: 5.505219496457244e-122\n",
      "Decision: There is a siginificant relationship between the churned customers and DeviceProtection \n",
      "\n",
      "\n"
     ]
    },
    {
     "data": {
      "image/png": "[encoded data removed]",
      "text/plain": [
       "<Figure size 432x288 with 1 Axes>"
      ]
     },
     "metadata": {
      "needs_background": "light"
     },
     "output_type": "display_data"
    },
    {
     "name": "stdout",
     "output_type": "stream",
     "text": [
      "TechSupport\n",
      "P_value: 1.4430840279999813e-180\n",
      "Decision: There is a siginificant relationship between the churned customers and TechSupport \n",
      "\n",
      "\n"
     ]
    },
    {
     "data": {
      "image/png": "[encoded data removed]",
      "text/plain": [
       "<Figure size 432x288 with 1 Axes>"
      ]
     },
     "metadata": {
      "needs_background": "light"
     },
     "output_type": "display_data"
    },
    {
     "name": "stdout",
     "output_type": "stream",
     "text": [
      "StreamingTV\n",
      "P_value: 5.528994485739024e-82\n",
      "Decision: There is a siginificant relationship between the churned customers and StreamingTV \n",
      "\n",
      "\n"
     ]
    },
    {
     "data": {
      "image/png": "[encoded data removed]",
      "text/plain": [
       "<Figure size 432x288 with 1 Axes>"
      ]
     },
     "metadata": {
      "needs_background": "light"
     },
     "output_type": "display_data"
    },
    {
     "name": "stdout",
     "output_type": "stream",
     "text": [
      "StreamingMovies\n",
      "P_value: 2.667756755723681e-82\n",
      "Decision: There is a siginificant relationship between the churned customers and StreamingMovies \n",
      "\n",
      "\n"
     ]
    },
    {
     "data": {
      "image/png": "[encoded data removed]",
      "text/plain": [
       "<Figure size 432x288 with 1 Axes>"
      ]
     },
     "metadata": {
      "needs_background": "light"
     },
     "output_type": "display_data"
    },
    {
     "name": "stdout",
     "output_type": "stream",
     "text": [
      "Contract\n",
      "P_value: 5.863038300673391e-258\n",
      "Decision: There is a siginificant relationship between the churned customers and Contract \n",
      "\n",
      "\n"
     ]
    },
    {
     "data": {
      "image/png": "[encoded data removed]",
      "text/plain": [
       "<Figure size 432x288 with 1 Axes>"
      ]
     },
     "metadata": {
      "needs_background": "light"
     },
     "output_type": "display_data"
    },
    {
     "name": "stdout",
     "output_type": "stream",
     "text": [
      "PaperlessBilling\n",
      "P_value: 4.073354668665985e-58\n",
      "Decision: There is a siginificant relationship between the churned customers and PaperlessBilling \n",
      "\n",
      "\n"
     ]
    },
    {
     "data": {
      "image/png": "[encoded data removed]",
      "text/plain": [
       "<Figure size 720x288 with 1 Axes>"
      ]
     },
     "metadata": {
      "needs_background": "light"
     },
     "output_type": "display_data"
    },
    {
     "name": "stdout",
     "output_type": "stream",
     "text": [
      "PaymentMethod\n",
      "P_value: 3.6823546520097993e-140\n",
      "Decision: There is a siginificant relationship between the churned customers and PaymentMethod \n",
      "\n",
      "\n"
     ]
    }
   ],
   "source": [
    "sig_categorical_features = []\n",
    "for col in categorical_features:\n",
    "    if col == \"PaymentMethod\":\n",
    "        plt.figure(figsize=(10,4))\n",
    "    plt.title(f\"{col.capitalize()}\")\n",
    "    sns.countplot(x = data[col], hue = 'Churn',data=data)\n",
    "    plt.show()\n",
    "    cont_table = pd.crosstab(data['Churn'], data[col])\n",
    "    _, p_value, __, ___ = scipy.stats.chi2_contingency(cont_table, correction = True)\n",
    "    \n",
    "    if p_value >= 0.05:\n",
    "        print(col)\n",
    "        print(f'P_value: {p_value}')\n",
    "        print(f'Decision: There is no siginificant relationship between the churned customers and {col} ')\n",
    "        print('\\n')\n",
    "    else:\n",
    "        print(col)\n",
    "        print(f'P_value: {p_value}')\n",
    "        print(f'Decision: There is a siginificant relationship between the churned customers and {col} ')\n",
    "        print('\\n')\n",
    "        sig_categorical_features.append(col)"
   ]
  },
  {
   "cell_type": "code",
   "execution_count": 16,
   "metadata": {
    "execution": {
     "iopub.execute_input": "2022-12-01T17:35:05.864946Z",
     "iopub.status.busy": "2022-12-01T17:35:05.864289Z",
     "iopub.status.idle": "2022-12-01T17:35:05.870914Z",
     "shell.execute_reply": "2022-12-01T17:35:05.869680Z",
     "shell.execute_reply.started": "2022-12-01T17:35:05.864907Z"
    }
   },
   "outputs": [],
   "source": [
    "sig_features = sig_numeric_features + sig_categorical_features"
   ]
  },
  {
   "cell_type": "markdown",
   "metadata": {
    "execution": {
     "iopub.execute_input": "2022-11-25T08:06:53.653299Z",
     "iopub.status.busy": "2022-11-25T08:06:53.652857Z",
     "iopub.status.idle": "2022-11-25T08:06:53.657767Z",
     "shell.execute_reply": "2022-11-25T08:06:53.656536Z",
     "shell.execute_reply.started": "2022-11-25T08:06:53.653257Z"
    }
   },
   "source": [
    "## Features Engineering"
   ]
  },
  {
   "cell_type": "markdown",
   "metadata": {},
   "source": [
    "In this section, I will do 3 things:\n",
    "\n",
    "1- Split the data to features and target.\n",
    "\n",
    "2- Encode the target: \n",
    "\n",
    "I will encode the target to 1 and 0 corresponding to \"Yes\" and \"No\".\n",
    "\n",
    "3- Encode categorical features:\n",
    "\n",
    "I will different methods to encode the categorical columns. For binary columns, I will map their values to 1 and 0. For columns that contains 3 ordinal values like (yes, no, no service), I will map their values to 1, 0 and -1. For columns that cotains more than 3 values, I will use pd.get_dummies method to enoce them. I can use one-hot-encoder class from sklearn library, but I don't want to increase the number of columns siginificantly. I want simple model.\n",
    "\n",
    "Here is how the mapping goes:\n",
    "('Yes', 'No') --> (1,0)\\\n",
    "('Yes', 'No','No internet service') -- > (1,0,-1)\\\n",
    "('Month-to-month','One year','Two year') --> (0,1,2)\n",
    "\n",
    "4- Normalize numeric features:\n",
    "\n",
    "I plan to use Support Vector Classifier and KNearestneighbors models, therefore, I have to normalize the data.\n",
    "\n",
    "\n",
    "\n",
    "I will not split the data to train and test datasets because I plan to use cross_val_score class to evaluate the model\n",
    "\n",
    "\n",
    "The first thing I will do, though, is to return \"SeniorCitizen\" to int data-type, remove it from the categorical features since it is a binary features."
   ]
  },
  {
   "cell_type": "code",
   "execution_count": 17,
   "metadata": {
    "execution": {
     "iopub.execute_input": "2022-12-01T17:35:05.872809Z",
     "iopub.status.busy": "2022-12-01T17:35:05.872402Z",
     "iopub.status.idle": "2022-12-01T17:35:05.892121Z",
     "shell.execute_reply": "2022-12-01T17:35:05.890801Z",
     "shell.execute_reply.started": "2022-12-01T17:35:05.872755Z"
    }
   },
   "outputs": [],
   "source": [
    "data.SeniorCitizen = data.SeniorCitizen.astype(int)"
   ]
  },
  {
   "cell_type": "markdown",
   "metadata": {},
   "source": [
    "### Splitting the Data to X (features) and y (target)"
   ]
  },
  {
   "cell_type": "code",
   "execution_count": 18,
   "metadata": {
    "execution": {
     "iopub.execute_input": "2022-12-01T17:35:05.894146Z",
     "iopub.status.busy": "2022-12-01T17:35:05.893618Z",
     "iopub.status.idle": "2022-12-01T17:35:05.908118Z",
     "shell.execute_reply": "2022-12-01T17:35:05.906629Z",
     "shell.execute_reply.started": "2022-12-01T17:35:05.894111Z"
    }
   },
   "outputs": [],
   "source": [
    "X = data[sig_features]\n",
    "y = data['Churn']"
   ]
  },
  {
   "cell_type": "code",
   "execution_count": 19,
   "metadata": {
    "execution": {
     "iopub.execute_input": "2022-12-01T17:35:05.910401Z",
     "iopub.status.busy": "2022-12-01T17:35:05.909921Z",
     "iopub.status.idle": "2022-12-01T17:35:05.935109Z",
     "shell.execute_reply": "2022-12-01T17:35:05.933899Z",
     "shell.execute_reply.started": "2022-12-01T17:35:05.910343Z"
    }
   },
   "outputs": [
    {
     "data": {
      "text/html": [
       "<div>\n",
       "<style scoped>\n",
       "    .dataframe tbody tr th:only-of-type {\n",
       "        vertical-align: middle;\n",
       "    }\n",
       "\n",
       "    .dataframe tbody tr th {\n",
       "        vertical-align: top;\n",
       "    }\n",
       "\n",
       "    .dataframe thead th {\n",
       "        text-align: right;\n",
       "    }\n",
       "</style>\n",
       "<table border=\"1\" class=\"dataframe\">\n",
       "  <thead>\n",
       "    <tr style=\"text-align: right;\">\n",
       "      <th></th>\n",
       "      <th>tenure</th>\n",
       "      <th>MonthlyCharges</th>\n",
       "      <th>TotalCharges</th>\n",
       "      <th>SeniorCitizen</th>\n",
       "      <th>Partner</th>\n",
       "      <th>Dependents</th>\n",
       "      <th>MultipleLines</th>\n",
       "      <th>InternetService</th>\n",
       "      <th>OnlineSecurity</th>\n",
       "      <th>OnlineBackup</th>\n",
       "      <th>DeviceProtection</th>\n",
       "      <th>TechSupport</th>\n",
       "      <th>StreamingTV</th>\n",
       "      <th>StreamingMovies</th>\n",
       "      <th>Contract</th>\n",
       "      <th>PaperlessBilling</th>\n",
       "      <th>PaymentMethod</th>\n",
       "    </tr>\n",
       "  </thead>\n",
       "  <tbody>\n",
       "    <tr>\n",
       "      <th>0</th>\n",
       "      <td>1</td>\n",
       "      <td>29.85</td>\n",
       "      <td>29.85</td>\n",
       "      <td>0</td>\n",
       "      <td>Yes</td>\n",
       "      <td>No</td>\n",
       "      <td>No phone service</td>\n",
       "      <td>DSL</td>\n",
       "      <td>No</td>\n",
       "      <td>Yes</td>\n",
       "      <td>No</td>\n",
       "      <td>No</td>\n",
       "      <td>No</td>\n",
       "      <td>No</td>\n",
       "      <td>Month-to-month</td>\n",
       "      <td>Yes</td>\n",
       "      <td>Electronic check</td>\n",
       "    </tr>\n",
       "    <tr>\n",
       "      <th>1</th>\n",
       "      <td>34</td>\n",
       "      <td>56.95</td>\n",
       "      <td>1889.50</td>\n",
       "      <td>0</td>\n",
       "      <td>No</td>\n",
       "      <td>No</td>\n",
       "      <td>No</td>\n",
       "      <td>DSL</td>\n",
       "      <td>Yes</td>\n",
       "      <td>No</td>\n",
       "      <td>Yes</td>\n",
       "      <td>No</td>\n",
       "      <td>No</td>\n",
       "      <td>No</td>\n",
       "      <td>One year</td>\n",
       "      <td>No</td>\n",
       "      <td>Mailed check</td>\n",
       "    </tr>\n",
       "    <tr>\n",
       "      <th>2</th>\n",
       "      <td>2</td>\n",
       "      <td>53.85</td>\n",
       "      <td>108.15</td>\n",
       "      <td>0</td>\n",
       "      <td>No</td>\n",
       "      <td>No</td>\n",
       "      <td>No</td>\n",
       "      <td>DSL</td>\n",
       "      <td>Yes</td>\n",
       "      <td>Yes</td>\n",
       "      <td>No</td>\n",
       "      <td>No</td>\n",
       "      <td>No</td>\n",
       "      <td>No</td>\n",
       "      <td>Month-to-month</td>\n",
       "      <td>Yes</td>\n",
       "      <td>Mailed check</td>\n",
       "    </tr>\n",
       "    <tr>\n",
       "      <th>3</th>\n",
       "      <td>45</td>\n",
       "      <td>42.30</td>\n",
       "      <td>1840.75</td>\n",
       "      <td>0</td>\n",
       "      <td>No</td>\n",
       "      <td>No</td>\n",
       "      <td>No phone service</td>\n",
       "      <td>DSL</td>\n",
       "      <td>Yes</td>\n",
       "      <td>No</td>\n",
       "      <td>Yes</td>\n",
       "      <td>Yes</td>\n",
       "      <td>No</td>\n",
       "      <td>No</td>\n",
       "      <td>One year</td>\n",
       "      <td>No</td>\n",
       "      <td>Bank transfer (automatic)</td>\n",
       "    </tr>\n",
       "    <tr>\n",
       "      <th>4</th>\n",
       "      <td>2</td>\n",
       "      <td>70.70</td>\n",
       "      <td>151.65</td>\n",
       "      <td>0</td>\n",
       "      <td>No</td>\n",
       "      <td>No</td>\n",
       "      <td>No</td>\n",
       "      <td>Fiber optic</td>\n",
       "      <td>No</td>\n",
       "      <td>No</td>\n",
       "      <td>No</td>\n",
       "      <td>No</td>\n",
       "      <td>No</td>\n",
       "      <td>No</td>\n",
       "      <td>Month-to-month</td>\n",
       "      <td>Yes</td>\n",
       "      <td>Electronic check</td>\n",
       "    </tr>\n",
       "  </tbody>\n",
       "</table>\n",
       "</div>"
      ],
      "text/plain": [
       "   tenure  MonthlyCharges  TotalCharges  SeniorCitizen Partner Dependents  \\\n",
       "0       1           29.85         29.85              0     Yes         No   \n",
       "1      34           56.95       1889.50              0      No         No   \n",
       "2       2           53.85        108.15              0      No         No   \n",
       "3      45           42.30       1840.75              0      No         No   \n",
       "4       2           70.70        151.65              0      No         No   \n",
       "\n",
       "      MultipleLines InternetService OnlineSecurity OnlineBackup  \\\n",
       "0  No phone service             DSL             No          Yes   \n",
       "1                No             DSL            Yes           No   \n",
       "2                No             DSL            Yes          Yes   \n",
       "3  No phone service             DSL            Yes           No   \n",
       "4                No     Fiber optic             No           No   \n",
       "\n",
       "  DeviceProtection TechSupport StreamingTV StreamingMovies        Contract  \\\n",
       "0               No          No          No              No  Month-to-month   \n",
       "1              Yes          No          No              No        One year   \n",
       "2               No          No          No              No  Month-to-month   \n",
       "3              Yes         Yes          No              No        One year   \n",
       "4               No          No          No              No  Month-to-month   \n",
       "\n",
       "  PaperlessBilling              PaymentMethod  \n",
       "0              Yes           Electronic check  \n",
       "1               No               Mailed check  \n",
       "2              Yes               Mailed check  \n",
       "3               No  Bank transfer (automatic)  \n",
       "4              Yes           Electronic check  "
      ]
     },
     "execution_count": 19,
     "metadata": {},
     "output_type": "execute_result"
    }
   ],
   "source": [
    "X.head()"
   ]
  },
  {
   "cell_type": "code",
   "execution_count": 20,
   "metadata": {
    "execution": {
     "iopub.execute_input": "2022-12-01T17:35:05.937291Z",
     "iopub.status.busy": "2022-12-01T17:35:05.936874Z",
     "iopub.status.idle": "2022-12-01T17:35:05.951163Z",
     "shell.execute_reply": "2022-12-01T17:35:05.949823Z",
     "shell.execute_reply.started": "2022-12-01T17:35:05.937202Z"
    }
   },
   "outputs": [
    {
     "data": {
      "text/plain": [
       "0     No\n",
       "1     No\n",
       "2    Yes\n",
       "3     No\n",
       "4    Yes\n",
       "Name: Churn, dtype: object"
      ]
     },
     "execution_count": 20,
     "metadata": {},
     "output_type": "execute_result"
    }
   ],
   "source": [
    "y.head()"
   ]
  },
  {
   "cell_type": "markdown",
   "metadata": {
    "execution": {
     "iopub.execute_input": "2022-11-26T07:27:29.618723Z",
     "iopub.status.busy": "2022-11-26T07:27:29.617508Z",
     "iopub.status.idle": "2022-11-26T07:27:29.625068Z",
     "shell.execute_reply": "2022-11-26T07:27:29.623948Z",
     "shell.execute_reply.started": "2022-11-26T07:27:29.618681Z"
    }
   },
   "source": [
    "## Encoding the Target"
   ]
  },
  {
   "cell_type": "code",
   "execution_count": 21,
   "metadata": {
    "execution": {
     "iopub.execute_input": "2022-12-01T17:35:05.953213Z",
     "iopub.status.busy": "2022-12-01T17:35:05.952691Z",
     "iopub.status.idle": "2022-12-01T17:35:05.964943Z",
     "shell.execute_reply": "2022-12-01T17:35:05.963307Z",
     "shell.execute_reply.started": "2022-12-01T17:35:05.953150Z"
    }
   },
   "outputs": [],
   "source": [
    "y = y.map({'Yes':1,'No':0})"
   ]
  },
  {
   "cell_type": "markdown",
   "metadata": {
    "execution": {
     "iopub.execute_input": "2022-11-26T07:41:46.882404Z",
     "iopub.status.busy": "2022-11-26T07:41:46.882047Z",
     "iopub.status.idle": "2022-11-26T07:41:46.892558Z",
     "shell.execute_reply": "2022-11-26T07:41:46.891069Z",
     "shell.execute_reply.started": "2022-11-26T07:41:46.882380Z"
    }
   },
   "source": [
    "### Encoding the Categorical Feautres"
   ]
  },
  {
   "cell_type": "code",
   "execution_count": 22,
   "metadata": {
    "execution": {
     "iopub.execute_input": "2022-12-01T17:35:05.966875Z",
     "iopub.status.busy": "2022-12-01T17:35:05.966286Z",
     "iopub.status.idle": "2022-12-01T17:35:05.991339Z",
     "shell.execute_reply": "2022-12-01T17:35:05.989981Z",
     "shell.execute_reply.started": "2022-12-01T17:35:05.966806Z"
    }
   },
   "outputs": [
    {
     "name": "stdout",
     "output_type": "stream",
     "text": [
      "SeniorCitizen\n",
      "[0 1]\n",
      "\n",
      "\n",
      "Partner\n",
      "['Yes' 'No']\n",
      "\n",
      "\n",
      "Dependents\n",
      "['No' 'Yes']\n",
      "\n",
      "\n",
      "MultipleLines\n",
      "['No phone service' 'No' 'Yes']\n",
      "\n",
      "\n",
      "InternetService\n",
      "['DSL' 'Fiber optic' 'No']\n",
      "\n",
      "\n",
      "OnlineSecurity\n",
      "['No' 'Yes' 'No internet service']\n",
      "\n",
      "\n",
      "OnlineBackup\n",
      "['Yes' 'No' 'No internet service']\n",
      "\n",
      "\n",
      "DeviceProtection\n",
      "['No' 'Yes' 'No internet service']\n",
      "\n",
      "\n",
      "TechSupport\n",
      "['No' 'Yes' 'No internet service']\n",
      "\n",
      "\n",
      "StreamingTV\n",
      "['No' 'Yes' 'No internet service']\n",
      "\n",
      "\n",
      "StreamingMovies\n",
      "['No' 'Yes' 'No internet service']\n",
      "\n",
      "\n",
      "Contract\n",
      "['Month-to-month' 'One year' 'Two year']\n",
      "\n",
      "\n",
      "PaperlessBilling\n",
      "['Yes' 'No']\n",
      "\n",
      "\n",
      "PaymentMethod\n",
      "['Electronic check' 'Mailed check' 'Bank transfer (automatic)'\n",
      " 'Credit card (automatic)']\n",
      "\n",
      "\n"
     ]
    }
   ],
   "source": [
    "for col in sig_categorical_features:\n",
    "    print(f\"{col}\")\n",
    "    print(data[f\"{col}\"].unique())\n",
    "    print('\\n')"
   ]
  },
  {
   "cell_type": "code",
   "execution_count": 23,
   "metadata": {
    "execution": {
     "iopub.execute_input": "2022-12-01T17:35:05.993495Z",
     "iopub.status.busy": "2022-12-01T17:35:05.992978Z",
     "iopub.status.idle": "2022-12-01T17:35:06.060602Z",
     "shell.execute_reply": "2022-12-01T17:35:06.059172Z",
     "shell.execute_reply.started": "2022-12-01T17:35:05.993446Z"
    }
   },
   "outputs": [],
   "source": [
    "for col in sig_categorical_features:\n",
    "    col_df = pd.get_dummies(X[col], prefix=col)\n",
    "    X = pd.concat([X,col_df],axis=1)\n",
    "    X.drop(col,axis=1,inplace=True)"
   ]
  },
  {
   "cell_type": "markdown",
   "metadata": {
    "execution": {
     "iopub.execute_input": "2022-11-28T08:03:33.591650Z",
     "iopub.status.busy": "2022-11-28T08:03:33.591266Z",
     "iopub.status.idle": "2022-11-28T08:03:33.595296Z",
     "shell.execute_reply": "2022-11-28T08:03:33.594534Z",
     "shell.execute_reply.started": "2022-11-28T08:03:33.591619Z"
    }
   },
   "source": [
    "### Normalizing the Numeric Features"
   ]
  },
  {
   "cell_type": "code",
   "execution_count": 24,
   "metadata": {
    "execution": {
     "iopub.execute_input": "2022-12-01T17:35:06.062791Z",
     "iopub.status.busy": "2022-12-01T17:35:06.062389Z",
     "iopub.status.idle": "2022-12-01T17:35:06.138876Z",
     "shell.execute_reply": "2022-12-01T17:35:06.137516Z",
     "shell.execute_reply.started": "2022-12-01T17:35:06.062758Z"
    }
   },
   "outputs": [],
   "source": [
    "from sklearn.preprocessing import MinMaxScaler"
   ]
  },
  {
   "cell_type": "code",
   "execution_count": 25,
   "metadata": {
    "execution": {
     "iopub.execute_input": "2022-12-01T17:35:06.140526Z",
     "iopub.status.busy": "2022-12-01T17:35:06.140158Z",
     "iopub.status.idle": "2022-12-01T17:35:06.146773Z",
     "shell.execute_reply": "2022-12-01T17:35:06.145209Z",
     "shell.execute_reply.started": "2022-12-01T17:35:06.140493Z"
    }
   },
   "outputs": [],
   "source": [
    "min_max_scaler = MinMaxScaler()"
   ]
  },
  {
   "cell_type": "code",
   "execution_count": 26,
   "metadata": {
    "execution": {
     "iopub.execute_input": "2022-12-01T17:35:06.148575Z",
     "iopub.status.busy": "2022-12-01T17:35:06.148164Z",
     "iopub.status.idle": "2022-12-01T17:35:06.172380Z",
     "shell.execute_reply": "2022-12-01T17:35:06.171387Z",
     "shell.execute_reply.started": "2022-12-01T17:35:06.148543Z"
    }
   },
   "outputs": [],
   "source": [
    "for col in ['tenure','TotalCharges','MonthlyCharges']:\n",
    "    X[col] = min_max_scaler.fit_transform(X[[col]])"
   ]
  },
  {
   "cell_type": "code",
   "execution_count": 27,
   "metadata": {
    "execution": {
     "iopub.execute_input": "2022-12-01T17:35:06.174453Z",
     "iopub.status.busy": "2022-12-01T17:35:06.173733Z",
     "iopub.status.idle": "2022-12-01T17:35:06.197059Z",
     "shell.execute_reply": "2022-12-01T17:35:06.195869Z",
     "shell.execute_reply.started": "2022-12-01T17:35:06.174412Z"
    }
   },
   "outputs": [
    {
     "data": {
      "text/html": [
       "<div>\n",
       "<style scoped>\n",
       "    .dataframe tbody tr th:only-of-type {\n",
       "        vertical-align: middle;\n",
       "    }\n",
       "\n",
       "    .dataframe tbody tr th {\n",
       "        vertical-align: top;\n",
       "    }\n",
       "\n",
       "    .dataframe thead th {\n",
       "        text-align: right;\n",
       "    }\n",
       "</style>\n",
       "<table border=\"1\" class=\"dataframe\">\n",
       "  <thead>\n",
       "    <tr style=\"text-align: right;\">\n",
       "      <th></th>\n",
       "      <th>tenure</th>\n",
       "      <th>MonthlyCharges</th>\n",
       "      <th>TotalCharges</th>\n",
       "      <th>SeniorCitizen_0</th>\n",
       "      <th>SeniorCitizen_1</th>\n",
       "      <th>Partner_No</th>\n",
       "      <th>Partner_Yes</th>\n",
       "      <th>Dependents_No</th>\n",
       "      <th>Dependents_Yes</th>\n",
       "      <th>MultipleLines_No</th>\n",
       "      <th>...</th>\n",
       "      <th>StreamingMovies_Yes</th>\n",
       "      <th>Contract_Month-to-month</th>\n",
       "      <th>Contract_One year</th>\n",
       "      <th>Contract_Two year</th>\n",
       "      <th>PaperlessBilling_No</th>\n",
       "      <th>PaperlessBilling_Yes</th>\n",
       "      <th>PaymentMethod_Bank transfer (automatic)</th>\n",
       "      <th>PaymentMethod_Credit card (automatic)</th>\n",
       "      <th>PaymentMethod_Electronic check</th>\n",
       "      <th>PaymentMethod_Mailed check</th>\n",
       "    </tr>\n",
       "  </thead>\n",
       "  <tbody>\n",
       "    <tr>\n",
       "      <th>0</th>\n",
       "      <td>0.013889</td>\n",
       "      <td>0.115423</td>\n",
       "      <td>0.001275</td>\n",
       "      <td>1</td>\n",
       "      <td>0</td>\n",
       "      <td>0</td>\n",
       "      <td>1</td>\n",
       "      <td>1</td>\n",
       "      <td>0</td>\n",
       "      <td>0</td>\n",
       "      <td>...</td>\n",
       "      <td>0</td>\n",
       "      <td>1</td>\n",
       "      <td>0</td>\n",
       "      <td>0</td>\n",
       "      <td>0</td>\n",
       "      <td>1</td>\n",
       "      <td>0</td>\n",
       "      <td>0</td>\n",
       "      <td>1</td>\n",
       "      <td>0</td>\n",
       "    </tr>\n",
       "    <tr>\n",
       "      <th>1</th>\n",
       "      <td>0.472222</td>\n",
       "      <td>0.385075</td>\n",
       "      <td>0.215867</td>\n",
       "      <td>1</td>\n",
       "      <td>0</td>\n",
       "      <td>1</td>\n",
       "      <td>0</td>\n",
       "      <td>1</td>\n",
       "      <td>0</td>\n",
       "      <td>1</td>\n",
       "      <td>...</td>\n",
       "      <td>0</td>\n",
       "      <td>0</td>\n",
       "      <td>1</td>\n",
       "      <td>0</td>\n",
       "      <td>1</td>\n",
       "      <td>0</td>\n",
       "      <td>0</td>\n",
       "      <td>0</td>\n",
       "      <td>0</td>\n",
       "      <td>1</td>\n",
       "    </tr>\n",
       "    <tr>\n",
       "      <th>2</th>\n",
       "      <td>0.027778</td>\n",
       "      <td>0.354229</td>\n",
       "      <td>0.010310</td>\n",
       "      <td>1</td>\n",
       "      <td>0</td>\n",
       "      <td>1</td>\n",
       "      <td>0</td>\n",
       "      <td>1</td>\n",
       "      <td>0</td>\n",
       "      <td>1</td>\n",
       "      <td>...</td>\n",
       "      <td>0</td>\n",
       "      <td>1</td>\n",
       "      <td>0</td>\n",
       "      <td>0</td>\n",
       "      <td>0</td>\n",
       "      <td>1</td>\n",
       "      <td>0</td>\n",
       "      <td>0</td>\n",
       "      <td>0</td>\n",
       "      <td>1</td>\n",
       "    </tr>\n",
       "    <tr>\n",
       "      <th>3</th>\n",
       "      <td>0.625000</td>\n",
       "      <td>0.239303</td>\n",
       "      <td>0.210241</td>\n",
       "      <td>1</td>\n",
       "      <td>0</td>\n",
       "      <td>1</td>\n",
       "      <td>0</td>\n",
       "      <td>1</td>\n",
       "      <td>0</td>\n",
       "      <td>0</td>\n",
       "      <td>...</td>\n",
       "      <td>0</td>\n",
       "      <td>0</td>\n",
       "      <td>1</td>\n",
       "      <td>0</td>\n",
       "      <td>1</td>\n",
       "      <td>0</td>\n",
       "      <td>1</td>\n",
       "      <td>0</td>\n",
       "      <td>0</td>\n",
       "      <td>0</td>\n",
       "    </tr>\n",
       "    <tr>\n",
       "      <th>4</th>\n",
       "      <td>0.027778</td>\n",
       "      <td>0.521891</td>\n",
       "      <td>0.015330</td>\n",
       "      <td>1</td>\n",
       "      <td>0</td>\n",
       "      <td>1</td>\n",
       "      <td>0</td>\n",
       "      <td>1</td>\n",
       "      <td>0</td>\n",
       "      <td>1</td>\n",
       "      <td>...</td>\n",
       "      <td>0</td>\n",
       "      <td>1</td>\n",
       "      <td>0</td>\n",
       "      <td>0</td>\n",
       "      <td>0</td>\n",
       "      <td>1</td>\n",
       "      <td>0</td>\n",
       "      <td>0</td>\n",
       "      <td>1</td>\n",
       "      <td>0</td>\n",
       "    </tr>\n",
       "  </tbody>\n",
       "</table>\n",
       "<p>5 rows × 42 columns</p>\n",
       "</div>"
      ],
      "text/plain": [
       "     tenure  MonthlyCharges  TotalCharges  SeniorCitizen_0  SeniorCitizen_1  \\\n",
       "0  0.013889        0.115423      0.001275                1                0   \n",
       "1  0.472222        0.385075      0.215867                1                0   \n",
       "2  0.027778        0.354229      0.010310                1                0   \n",
       "3  0.625000        0.239303      0.210241                1                0   \n",
       "4  0.027778        0.521891      0.015330                1                0   \n",
       "\n",
       "   Partner_No  Partner_Yes  Dependents_No  Dependents_Yes  MultipleLines_No  \\\n",
       "0           0            1              1               0                 0   \n",
       "1           1            0              1               0                 1   \n",
       "2           1            0              1               0                 1   \n",
       "3           1            0              1               0                 0   \n",
       "4           1            0              1               0                 1   \n",
       "\n",
       "   ...  StreamingMovies_Yes  Contract_Month-to-month  Contract_One year  \\\n",
       "0  ...                    0                        1                  0   \n",
       "1  ...                    0                        0                  1   \n",
       "2  ...                    0                        1                  0   \n",
       "3  ...                    0                        0                  1   \n",
       "4  ...                    0                        1                  0   \n",
       "\n",
       "   Contract_Two year  PaperlessBilling_No  PaperlessBilling_Yes  \\\n",
       "0                  0                    0                     1   \n",
       "1                  0                    1                     0   \n",
       "2                  0                    0                     1   \n",
       "3                  0                    1                     0   \n",
       "4                  0                    0                     1   \n",
       "\n",
       "   PaymentMethod_Bank transfer (automatic)  \\\n",
       "0                                        0   \n",
       "1                                        0   \n",
       "2                                        0   \n",
       "3                                        1   \n",
       "4                                        0   \n",
       "\n",
       "   PaymentMethod_Credit card (automatic)  PaymentMethod_Electronic check  \\\n",
       "0                                      0                               1   \n",
       "1                                      0                               0   \n",
       "2                                      0                               0   \n",
       "3                                      0                               0   \n",
       "4                                      0                               1   \n",
       "\n",
       "   PaymentMethod_Mailed check  \n",
       "0                           0  \n",
       "1                           1  \n",
       "2                           1  \n",
       "3                           0  \n",
       "4                           0  \n",
       "\n",
       "[5 rows x 42 columns]"
      ]
     },
     "execution_count": 27,
     "metadata": {},
     "output_type": "execute_result"
    }
   ],
   "source": [
    "X.head()"
   ]
  },
  {
   "cell_type": "markdown",
   "metadata": {},
   "source": [
    "## Model Selection and Evaluation"
   ]
  },
  {
   "cell_type": "markdown",
   "metadata": {},
   "source": [
    "![](https://scikit-learn.org/stable/_static/ml_map.png)"
   ]
  },
  {
   "cell_type": "markdown",
   "metadata": {},
   "source": [
    "### Strategy\n",
    "__Selecting an Estimator__\n",
    "- I will take the recommendation of sklearn documentation with some modification.\n",
    "- I will test several baseline models initially. \n",
    "- Next, I will try several ensemble classifiers.\n",
    "- Next, I will compares the  different baseline models using f1 scores and select the model with largest score.\n",
    "- Finally, I will optimize and tune the selected model using GridSerachCV\n",
    "\n",
    "__Data Spliting__\\\n",
    "Since I plan to use cross-val-score, and the data is unbalanced, I will use StratifiedKFold class with n_split = 10.\n",
    "\n",
    "__Selecting Evaluation Scoring Metrics__\\\n",
    "I will select f1  and recall scores to evaluate the performance of the models.\n",
    "\n",
    "Why not accuaracy? Because accuracy is usually not the best metrics to measure the peformance of classification model on a binary dataset. Moreover, this dataset is imbalanced which emphasize avioding accuracy metric for evaluation.\n",
    "\n",
    "Why not roc_auc_score? Because this dataset is imbalanced hence not very suitable for roc_auc_score.\n"
   ]
  },
  {
   "cell_type": "code",
   "execution_count": 28,
   "metadata": {
    "execution": {
     "iopub.execute_input": "2022-12-01T17:35:06.199420Z",
     "iopub.status.busy": "2022-12-01T17:35:06.198943Z",
     "iopub.status.idle": "2022-12-01T17:35:06.631609Z",
     "shell.execute_reply": "2022-12-01T17:35:06.630414Z",
     "shell.execute_reply.started": "2022-12-01T17:35:06.199374Z"
    }
   },
   "outputs": [],
   "source": [
    "from sklearn.model_selection import StratifiedKFold, cross_val_score\n",
    "from sklearn.linear_model import LogisticRegression\n",
    "from sklearn.svm import LinearSVC\n",
    "from sklearn.neighbors import KNeighborsClassifier\n",
    "from sklearn.svm import SVC\n",
    "from sklearn.ensemble import RandomForestClassifier\n",
    "from sklearn.ensemble import BaggingClassifier\n",
    "from sklearn.ensemble import AdaBoostClassifier\n",
    "from sklearn.ensemble import GradientBoostingClassifier\n",
    "from xgboost import XGBClassifier\n",
    "from sklearn.ensemble import StackingClassifier"
   ]
  },
  {
   "cell_type": "code",
   "execution_count": 29,
   "metadata": {
    "execution": {
     "iopub.execute_input": "2022-12-01T17:35:06.639285Z",
     "iopub.status.busy": "2022-12-01T17:35:06.638861Z",
     "iopub.status.idle": "2022-12-01T17:35:06.647750Z",
     "shell.execute_reply": "2022-12-01T17:35:06.646362Z",
     "shell.execute_reply.started": "2022-12-01T17:35:06.639250Z"
    }
   },
   "outputs": [],
   "source": [
    "# estimators for StackingClassifier\n",
    "estimators = [('xgbc',XGBClassifier(learning_rate=0.01)),('svr', LinearSVC(random_state=2))]\n",
    "lr_model = LogisticRegression()\n",
    "\n",
    "\n",
    "# list of model names and models\n",
    "models = [\n",
    "    ('LogisticRegression',LogisticRegression()),\n",
    "    ('LinearSVC',LinearSVC(random_state=2)),\n",
    "    ('KNeighborsClassifier',KNeighborsClassifier()),\n",
    "    ('SVC',SVC()),\n",
    "    ('RandomForestClassifier',RandomForestClassifier(random_state=2)),\n",
    "    ('BaggingClassifier',BaggingClassifier(random_state=2)),\n",
    "    ('AdaBoostClassifier',AdaBoostClassifier(random_state=2)),\n",
    "    ('GradientBoostingClassifier',GradientBoostingClassifier()),\n",
    "    ('XGBClassifier',XGBClassifier(learning_rate=0.01)),\n",
    "    ('StackingClassifier',StackingClassifier(estimators=estimators, final_estimator=lr_model))]"
   ]
  },
  {
   "cell_type": "code",
   "execution_count": 30,
   "metadata": {
    "execution": {
     "iopub.execute_input": "2022-12-01T17:35:06.650010Z",
     "iopub.status.busy": "2022-12-01T17:35:06.649589Z",
     "iopub.status.idle": "2022-12-01T17:35:06.662640Z",
     "shell.execute_reply": "2022-12-01T17:35:06.661372Z",
     "shell.execute_reply.started": "2022-12-01T17:35:06.649966Z"
    }
   },
   "outputs": [],
   "source": [
    "models_names = [model_name for model_name,model in models]\n"
   ]
  },
  {
   "cell_type": "code",
   "execution_count": 31,
   "metadata": {
    "execution": {
     "iopub.execute_input": "2022-12-01T17:35:06.664903Z",
     "iopub.status.busy": "2022-12-01T17:35:06.664015Z",
     "iopub.status.idle": "2022-12-01T17:35:06.678079Z",
     "shell.execute_reply": "2022-12-01T17:35:06.676983Z",
     "shell.execute_reply.started": "2022-12-01T17:35:06.664862Z"
    }
   },
   "outputs": [],
   "source": [
    "# dictionary for the scoring\n",
    "results = {'models':models_names,\n",
    "           'accuracy_score':[],\n",
    "           'f1_score' : [],\n",
    "           'recall_score':[]}"
   ]
  },
  {
   "cell_type": "code",
   "execution_count": 32,
   "metadata": {
    "execution": {
     "iopub.execute_input": "2022-12-01T17:35:06.680258Z",
     "iopub.status.busy": "2022-12-01T17:35:06.679576Z",
     "iopub.status.idle": "2022-12-01T17:42:17.744021Z",
     "shell.execute_reply": "2022-12-01T17:42:17.742260Z",
     "shell.execute_reply.started": "2022-12-01T17:35:06.680223Z"
    }
   },
   "outputs": [
    {
     "name": "stdout",
     "output_type": "stream",
     "text": [
      "Model: LogisticRegression\n",
      "accuracy_score = 0.8\n",
      "f1_score = 0.59\n",
      "recall_score = 0.54\n",
      "\n",
      "\n",
      "Model: LinearSVC\n",
      "accuracy_score = 0.8\n",
      "f1_score = 0.59\n",
      "recall_score = 0.54\n",
      "\n",
      "\n",
      "Model: KNeighborsClassifier\n",
      "accuracy_score = 0.76\n",
      "f1_score = 0.53\n",
      "recall_score = 0.51\n",
      "\n",
      "\n",
      "Model: SVC\n",
      "accuracy_score = 0.8\n",
      "f1_score = 0.56\n",
      "recall_score = 0.49\n",
      "\n",
      "\n",
      "Model: RandomForestClassifier\n",
      "accuracy_score = 0.79\n",
      "f1_score = 0.56\n",
      "recall_score = 0.5\n",
      "\n",
      "\n",
      "Model: BaggingClassifier\n",
      "accuracy_score = 0.77\n",
      "f1_score = 0.51\n",
      "recall_score = 0.44\n",
      "\n",
      "\n",
      "Model: AdaBoostClassifier\n",
      "accuracy_score = 0.8\n",
      "f1_score = 0.59\n",
      "recall_score = 0.53\n",
      "\n",
      "\n",
      "Model: GradientBoostingClassifier\n",
      "accuracy_score = 0.81\n",
      "f1_score = 0.6\n",
      "recall_score = 0.54\n",
      "\n",
      "\n",
      "Model: XGBClassifier\n",
      "accuracy_score = 0.8\n",
      "f1_score = 0.57\n",
      "recall_score = 0.51\n",
      "\n",
      "\n",
      "Model: StackingClassifier\n",
      "accuracy_score = 0.8\n",
      "f1_score = 0.59\n",
      "recall_score = 0.53\n",
      "\n",
      "\n"
     ]
    }
   ],
   "source": [
    "for model_name, model in models:\n",
    "    clf = model\n",
    "    \n",
    "    skf = StratifiedKFold(n_splits=10, shuffle = True, random_state=2).split(X,y)\n",
    "    model_accuracy_score =cross_val_score(clf, X,y,cv=skf, scoring='accuracy')\n",
    "    \n",
    "    skf = StratifiedKFold(n_splits=10, shuffle = True, random_state=2).split(X,y)\n",
    "    model_f1_score = cross_val_score(clf, X,y,cv=skf, scoring='f1')\n",
    "\n",
    "\n",
    "    skf = StratifiedKFold(n_splits=10, shuffle = True, random_state=2).split(X,y)\n",
    "    model_recall_score =cross_val_score(clf, X,y,cv=skf, scoring='recall')\n",
    "\n",
    "    \n",
    "    print(f'Model: {model_name}')\n",
    "    print(f'accuracy_score = {round(model_accuracy_score.mean(),2)}')\n",
    "    print(f'f1_score = {round(model_f1_score.mean(),2)}')\n",
    "    print(f'recall_score = {round(model_recall_score.mean(),2)}')\n",
    "    print('\\n')\n",
    "    \n",
    "    results['accuracy_score'].append(model_accuracy_score.mean())\n",
    "    results['f1_score'].append(model_f1_score.mean())\n",
    "    results['recall_score'].append(model_recall_score.mean())"
   ]
  },
  {
   "cell_type": "code",
   "execution_count": 33,
   "metadata": {
    "execution": {
     "iopub.execute_input": "2022-12-01T17:42:17.746924Z",
     "iopub.status.busy": "2022-12-01T17:42:17.746493Z",
     "iopub.status.idle": "2022-12-01T17:42:17.778481Z",
     "shell.execute_reply": "2022-12-01T17:42:17.776721Z",
     "shell.execute_reply.started": "2022-12-01T17:42:17.746888Z"
    }
   },
   "outputs": [
    {
     "data": {
      "text/html": [
       "<div>\n",
       "<style scoped>\n",
       "    .dataframe tbody tr th:only-of-type {\n",
       "        vertical-align: middle;\n",
       "    }\n",
       "\n",
       "    .dataframe tbody tr th {\n",
       "        vertical-align: top;\n",
       "    }\n",
       "\n",
       "    .dataframe thead th {\n",
       "        text-align: right;\n",
       "    }\n",
       "</style>\n",
       "<table border=\"1\" class=\"dataframe\">\n",
       "  <thead>\n",
       "    <tr style=\"text-align: right;\">\n",
       "      <th></th>\n",
       "      <th>models</th>\n",
       "      <th>accuracy_score</th>\n",
       "      <th>f1_score</th>\n",
       "      <th>recall_score</th>\n",
       "    </tr>\n",
       "  </thead>\n",
       "  <tbody>\n",
       "    <tr>\n",
       "      <th>0</th>\n",
       "      <td>LogisticRegression</td>\n",
       "      <td>0.802213</td>\n",
       "      <td>0.592045</td>\n",
       "      <td>0.543045</td>\n",
       "    </tr>\n",
       "    <tr>\n",
       "      <th>1</th>\n",
       "      <td>LinearSVC</td>\n",
       "      <td>0.802638</td>\n",
       "      <td>0.588893</td>\n",
       "      <td>0.535021</td>\n",
       "    </tr>\n",
       "    <tr>\n",
       "      <th>2</th>\n",
       "      <td>GradientBoostingClassifier</td>\n",
       "      <td>0.807324</td>\n",
       "      <td>0.595225</td>\n",
       "      <td>0.535018</td>\n",
       "    </tr>\n",
       "    <tr>\n",
       "      <th>3</th>\n",
       "      <td>StackingClassifier</td>\n",
       "      <td>0.804485</td>\n",
       "      <td>0.588505</td>\n",
       "      <td>0.529139</td>\n",
       "    </tr>\n",
       "    <tr>\n",
       "      <th>4</th>\n",
       "      <td>AdaBoostClassifier</td>\n",
       "      <td>0.803488</td>\n",
       "      <td>0.586553</td>\n",
       "      <td>0.528049</td>\n",
       "    </tr>\n",
       "    <tr>\n",
       "      <th>5</th>\n",
       "      <td>XGBClassifier</td>\n",
       "      <td>0.798805</td>\n",
       "      <td>0.574317</td>\n",
       "      <td>0.513107</td>\n",
       "    </tr>\n",
       "    <tr>\n",
       "      <th>6</th>\n",
       "      <td>KNeighborsClassifier</td>\n",
       "      <td>0.759616</td>\n",
       "      <td>0.528028</td>\n",
       "      <td>0.508254</td>\n",
       "    </tr>\n",
       "    <tr>\n",
       "      <th>7</th>\n",
       "      <td>RandomForestClassifier</td>\n",
       "      <td>0.790428</td>\n",
       "      <td>0.555644</td>\n",
       "      <td>0.495432</td>\n",
       "    </tr>\n",
       "    <tr>\n",
       "      <th>8</th>\n",
       "      <td>SVC</td>\n",
       "      <td>0.797528</td>\n",
       "      <td>0.562762</td>\n",
       "      <td>0.493278</td>\n",
       "    </tr>\n",
       "    <tr>\n",
       "      <th>9</th>\n",
       "      <td>BaggingClassifier</td>\n",
       "      <td>0.772822</td>\n",
       "      <td>0.507805</td>\n",
       "      <td>0.442476</td>\n",
       "    </tr>\n",
       "  </tbody>\n",
       "</table>\n",
       "</div>"
      ],
      "text/plain": [
       "                       models  accuracy_score  f1_score  recall_score\n",
       "0          LogisticRegression        0.802213  0.592045      0.543045\n",
       "1                   LinearSVC        0.802638  0.588893      0.535021\n",
       "2  GradientBoostingClassifier        0.807324  0.595225      0.535018\n",
       "3          StackingClassifier        0.804485  0.588505      0.529139\n",
       "4          AdaBoostClassifier        0.803488  0.586553      0.528049\n",
       "5               XGBClassifier        0.798805  0.574317      0.513107\n",
       "6        KNeighborsClassifier        0.759616  0.528028      0.508254\n",
       "7      RandomForestClassifier        0.790428  0.555644      0.495432\n",
       "8                         SVC        0.797528  0.562762      0.493278\n",
       "9           BaggingClassifier        0.772822  0.507805      0.442476"
      ]
     },
     "execution_count": 33,
     "metadata": {},
     "output_type": "execute_result"
    }
   ],
   "source": [
    "# convert the results dictionary to a dataframe, sort its value based on 'recall score' and show it\n",
    "results_df = pd.DataFrame(results)\n",
    "results_df = results_df.sort_values('recall_score', ascending=False).reset_index(drop=True)\n",
    "results_df"
   ]
  },
  {
   "cell_type": "markdown",
   "metadata": {},
   "source": [
    "Since accuracy score does not provide an accurate description of the model performance, I will evaluate the models based on the f1 and recall scores.\n",
    "\n",
    "Based on the results, I will select LogisticRegression and GradientBoostingclassifier for the next stage.\n"
   ]
  },
  {
   "cell_type": "markdown",
   "metadata": {},
   "source": [
    "\n",
    "## Attempts to Improve the Model\n",
    "\n"
   ]
  },
  {
   "cell_type": "markdown",
   "metadata": {},
   "source": [
    "### Removing TotalCharges Outliers Related for Churned Customers"
   ]
  },
  {
   "cell_type": "markdown",
   "metadata": {},
   "source": [
    "I have noticed that there are some outliers in term of 'TotalCharges' for the 'Yes' values of the target. \n",
    "\n",
    "Perhaps if I remove them I can imporve the scoring of the model!"
   ]
  },
  {
   "cell_type": "code",
   "execution_count": 34,
   "metadata": {
    "execution": {
     "iopub.execute_input": "2022-12-01T17:42:17.782428Z",
     "iopub.status.busy": "2022-12-01T17:42:17.781192Z",
     "iopub.status.idle": "2022-12-01T17:42:18.020980Z",
     "shell.execute_reply": "2022-12-01T17:42:18.019634Z",
     "shell.execute_reply.started": "2022-12-01T17:42:17.782355Z"
    }
   },
   "outputs": [
    {
     "data": {
      "image/png": "[encoded data removed]",
      "text/plain": [
       "<Figure size 432x288 with 1 Axes>"
      ]
     },
     "metadata": {
      "needs_background": "light"
     },
     "output_type": "display_data"
    }
   ],
   "source": [
    "# check the distribution of TotalMonthlyCharges for the churned customers\n",
    "sns.boxplot(x = 'TotalCharges', y = 'Churn',data = data)\n",
    "plt.title(f'{col.capitalize()} by Churn')\n",
    "plt.show()"
   ]
  },
  {
   "cell_type": "code",
   "execution_count": 35,
   "metadata": {
    "execution": {
     "iopub.execute_input": "2022-12-01T17:42:18.022708Z",
     "iopub.status.busy": "2022-12-01T17:42:18.022352Z",
     "iopub.status.idle": "2022-12-01T17:42:18.034445Z",
     "shell.execute_reply": "2022-12-01T17:42:18.032893Z",
     "shell.execute_reply.started": "2022-12-01T17:42:18.022674Z"
    }
   },
   "outputs": [],
   "source": [
    "# filter the data for only churned customers\n",
    "data_ = data[data.Churn == 'Yes']\n",
    "\n",
    "q1 = data_.TotalCharges.quantile(0.25)\n",
    "q3 = data_.TotalCharges.quantile(0.75)\n",
    "iqr = q3 - q1\n",
    "lower_lim = q1 - 1.5*iqr\n",
    "upper_lim = q3 + 1.5*iqr\n"
   ]
  },
  {
   "cell_type": "code",
   "execution_count": 36,
   "metadata": {
    "execution": {
     "iopub.execute_input": "2022-12-01T17:42:18.036992Z",
     "iopub.status.busy": "2022-12-01T17:42:18.036238Z",
     "iopub.status.idle": "2022-12-01T17:42:18.049070Z",
     "shell.execute_reply": "2022-12-01T17:42:18.047759Z",
     "shell.execute_reply.started": "2022-12-01T17:42:18.036944Z"
    }
   },
   "outputs": [],
   "source": [
    "# filter the data for only churned customers without outliers of TotalCharges\n",
    "data2 = data[~((data.Churn == 'Yes') & ((data.TotalCharges < lower_lim) | (data.TotalCharges > upper_lim)))]"
   ]
  },
  {
   "cell_type": "code",
   "execution_count": 37,
   "metadata": {
    "execution": {
     "iopub.execute_input": "2022-12-01T17:42:18.051177Z",
     "iopub.status.busy": "2022-12-01T17:42:18.050667Z",
     "iopub.status.idle": "2022-12-01T17:42:18.066897Z",
     "shell.execute_reply": "2022-12-01T17:42:18.065676Z",
     "shell.execute_reply.started": "2022-12-01T17:42:18.051133Z"
    }
   },
   "outputs": [],
   "source": [
    "data2.SeniorCitizen = data2.SeniorCitizen.astype('O')"
   ]
  },
  {
   "cell_type": "markdown",
   "metadata": {},
   "source": [
    "Now, I will repeat the same process offeatures selection and features encoding I did for data dataframe"
   ]
  },
  {
   "cell_type": "code",
   "execution_count": 38,
   "metadata": {
    "execution": {
     "iopub.execute_input": "2022-12-01T17:42:18.069290Z",
     "iopub.status.busy": "2022-12-01T17:42:18.068490Z",
     "iopub.status.idle": "2022-12-01T17:42:18.734802Z",
     "shell.execute_reply": "2022-12-01T17:42:18.733223Z",
     "shell.execute_reply.started": "2022-12-01T17:42:18.069241Z"
    }
   },
   "outputs": [
    {
     "data": {
      "image/png": "[encoded data removed]",
      "text/plain": [
       "<Figure size 432x288 with 1 Axes>"
      ]
     },
     "metadata": {
      "needs_background": "light"
     },
     "output_type": "display_data"
    },
    {
     "name": "stdout",
     "output_type": "stream",
     "text": [
      "tenure\n",
      "P_value: 0.0\n",
      "Decision: tenure has a significant relationship of the target\n",
      "\n",
      "\n"
     ]
    },
    {
     "data": {
      "image/png": "[encoded data removed]",
      "text/plain": [
       "<Figure size 432x288 with 1 Axes>"
      ]
     },
     "metadata": {
      "needs_background": "light"
     },
     "output_type": "display_data"
    },
    {
     "name": "stdout",
     "output_type": "stream",
     "text": [
      "MonthlyCharges\n",
      "P_value: 4.361720184877264e-54\n",
      "Decision: MonthlyCharges has a significant relationship of the target\n",
      "\n",
      "\n"
     ]
    },
    {
     "data": {
      "image/png": "[encoded data removed]",
      "text/plain": [
       "<Figure size 432x288 with 1 Axes>"
      ]
     },
     "metadata": {
      "needs_background": "light"
     },
     "output_type": "display_data"
    },
    {
     "name": "stdout",
     "output_type": "stream",
     "text": [
      "TotalCharges\n",
      "P_value: 2.992495793925824e-166\n",
      "Decision: TotalCharges has a significant relationship of the target\n",
      "\n",
      "\n"
     ]
    }
   ],
   "source": [
    "sig_numeric_features2 = []\n",
    "for col in numeric_features:\n",
    "    sns.boxplot(x = col, y = 'Churn',data = data2)\n",
    "    plt.title(f'{col.capitalize()} by Churn')\n",
    "    plt.show()\n",
    "    # conduct levene test\n",
    "    _, p_value_levene = scipy.stats.levene(data2[data2['Churn'] == 'Yes'][col],\n",
    "                                           data2[data2['Churn'] == 'No'][col], \n",
    "                                           center = 'mean')\n",
    "    \n",
    "    if p_value_levene >= 0.05:\n",
    "        equal_var = True\n",
    "    else:\n",
    "        equal_var = False\n",
    "    # conduct independent t-test\n",
    "    _, p_value_ttset=  scipy.stats.ttest_ind(data2[data2['Churn'] == 'Yes'][col],\n",
    "                                              data2[data2['Churn'] == 'No'][col], \n",
    "                                              equal_var = equal_var)\n",
    "    \n",
    "    if p_value_ttset >= 0.05:\n",
    "        print(f'{col}')\n",
    "        print(f'P_value: {p_value_ttset}')\n",
    "        print(f'Decision: {col} has no significant relationship of the target')\n",
    "        print('\\n')\n",
    "    else:\n",
    "        print(f'{col}')\n",
    "        print(f'P_value: {p_value_ttset}')\n",
    "        print(f'Decision: {col} has a significant relationship of the target')\n",
    "        print('\\n')\n",
    "    sig_numeric_features2.append(col)  "
   ]
  },
  {
   "cell_type": "markdown",
   "metadata": {},
   "source": [
    "__The new data also has outliers!__\n",
    "\n",
    "__I shall not remove more data as previous since removing more data decreases the scoring of the model.__"
   ]
  },
  {
   "cell_type": "code",
   "execution_count": 39,
   "metadata": {
    "execution": {
     "iopub.execute_input": "2022-12-01T17:42:18.736425Z",
     "iopub.status.busy": "2022-12-01T17:42:18.736086Z",
     "iopub.status.idle": "2022-12-01T17:42:22.889670Z",
     "shell.execute_reply": "2022-12-01T17:42:22.888176Z",
     "shell.execute_reply.started": "2022-12-01T17:42:18.736396Z"
    }
   },
   "outputs": [
    {
     "data": {
      "image/png": "[encoded data removed]",
      "text/plain": [
       "<Figure size 432x288 with 1 Axes>"
      ]
     },
     "metadata": {
      "needs_background": "light"
     },
     "output_type": "display_data"
    },
    {
     "name": "stdout",
     "output_type": "stream",
     "text": [
      "gender\n",
      "P_value: 0.31783654326082533\n",
      "Decision: There is no siginificant relationship between the churned customers and gender \n",
      "\n",
      "\n"
     ]
    },
    {
     "data": {
      "image/png": "[encoded data removed]",
      "text/plain": [
       "<Figure size 432x288 with 1 Axes>"
      ]
     },
     "metadata": {
      "needs_background": "light"
     },
     "output_type": "display_data"
    },
    {
     "name": "stdout",
     "output_type": "stream",
     "text": [
      "SeniorCitizen\n",
      "P_value: 1.769564012867772e-35\n",
      "Decision: There is a siginificant relationship between the churned customers and SeniorCitizen \n",
      "\n",
      "\n"
     ]
    },
    {
     "data": {
      "image/png": "[encoded data removed]",
      "text/plain": [
       "<Figure size 432x288 with 1 Axes>"
      ]
     },
     "metadata": {
      "needs_background": "light"
     },
     "output_type": "display_data"
    },
    {
     "name": "stdout",
     "output_type": "stream",
     "text": [
      "Partner\n",
      "P_value: 1.308971426585659e-43\n",
      "Decision: There is a siginificant relationship between the churned customers and Partner \n",
      "\n",
      "\n"
     ]
    },
    {
     "data": {
      "image/png": "[encoded data removed]",
      "text/plain": [
       "<Figure size 432x288 with 1 Axes>"
      ]
     },
     "metadata": {
      "needs_background": "light"
     },
     "output_type": "display_data"
    },
    {
     "name": "stdout",
     "output_type": "stream",
     "text": [
      "Dependents\n",
      "P_value: 9.701546055443466e-43\n",
      "Decision: There is a siginificant relationship between the churned customers and Dependents \n",
      "\n",
      "\n"
     ]
    },
    {
     "data": {
      "image/png": "[encoded data removed]",
      "text/plain": [
       "<Figure size 432x288 with 1 Axes>"
      ]
     },
     "metadata": {
      "needs_background": "light"
     },
     "output_type": "display_data"
    },
    {
     "name": "stdout",
     "output_type": "stream",
     "text": [
      "PhoneService\n",
      "P_value: 0.8091530443978098\n",
      "Decision: There is no siginificant relationship between the churned customers and PhoneService \n",
      "\n",
      "\n"
     ]
    },
    {
     "data": {
      "image/png": "[encoded data removed]",
      "text/plain": [
       "<Figure size 432x288 with 1 Axes>"
      ]
     },
     "metadata": {
      "needs_background": "light"
     },
     "output_type": "display_data"
    },
    {
     "name": "stdout",
     "output_type": "stream",
     "text": [
      "MultipleLines\n",
      "P_value: 0.46638777140295073\n",
      "Decision: There is no siginificant relationship between the churned customers and MultipleLines \n",
      "\n",
      "\n"
     ]
    },
    {
     "data": {
      "image/png": "[encoded data removed]",
      "text/plain": [
       "<Figure size 432x288 with 1 Axes>"
      ]
     },
     "metadata": {
      "needs_background": "light"
     },
     "output_type": "display_data"
    },
    {
     "name": "stdout",
     "output_type": "stream",
     "text": [
      "InternetService\n",
      "P_value: 5.632030800937596e-140\n",
      "Decision: There is a siginificant relationship between the churned customers and InternetService \n",
      "\n",
      "\n"
     ]
    },
    {
     "data": {
      "image/png": "[encoded data removed]",
      "text/plain": [
       "<Figure size 432x288 with 1 Axes>"
      ]
     },
     "metadata": {
      "needs_background": "light"
     },
     "output_type": "display_data"
    },
    {
     "name": "stdout",
     "output_type": "stream",
     "text": [
      "OnlineSecurity\n",
      "P_value: 1.2715775058287827e-184\n",
      "Decision: There is a siginificant relationship between the churned customers and OnlineSecurity \n",
      "\n",
      "\n"
     ]
    },
    {
     "data": {
      "image/png": "[encoded data removed]",
      "text/plain": [
       "<Figure size 432x288 with 1 Axes>"
      ]
     },
     "metadata": {
      "needs_background": "light"
     },
     "output_type": "display_data"
    },
    {
     "name": "stdout",
     "output_type": "stream",
     "text": [
      "OnlineBackup\n",
      "P_value: 6.503624741683002e-137\n",
      "Decision: There is a siginificant relationship between the churned customers and OnlineBackup \n",
      "\n",
      "\n"
     ]
    },
    {
     "data": {
      "image/png": "[encoded data removed]",
      "text/plain": [
       "<Figure size 432x288 with 1 Axes>"
      ]
     },
     "metadata": {
      "needs_background": "light"
     },
     "output_type": "display_data"
    },
    {
     "name": "stdout",
     "output_type": "stream",
     "text": [
      "DeviceProtection\n",
      "P_value: 2.3435603123003987e-127\n",
      "Decision: There is a siginificant relationship between the churned customers and DeviceProtection \n",
      "\n",
      "\n"
     ]
    },
    {
     "data": {
      "image/png": "[encoded data removed]",
      "text/plain": [
       "<Figure size 432x288 with 1 Axes>"
      ]
     },
     "metadata": {
      "needs_background": "light"
     },
     "output_type": "display_data"
    },
    {
     "name": "stdout",
     "output_type": "stream",
     "text": [
      "TechSupport\n",
      "P_value: 1.1059337224513424e-181\n",
      "Decision: There is a siginificant relationship between the churned customers and TechSupport \n",
      "\n",
      "\n"
     ]
    },
    {
     "data": {
      "image/png": "[encoded data removed]",
      "text/plain": [
       "<Figure size 432x288 with 1 Axes>"
      ]
     },
     "metadata": {
      "needs_background": "light"
     },
     "output_type": "display_data"
    },
    {
     "name": "stdout",
     "output_type": "stream",
     "text": [
      "StreamingTV\n",
      "P_value: 9.50356683098681e-79\n",
      "Decision: There is a siginificant relationship between the churned customers and StreamingTV \n",
      "\n",
      "\n"
     ]
    },
    {
     "data": {
      "image/png": "[encoded data removed]",
      "text/plain": [
       "<Figure size 432x288 with 1 Axes>"
      ]
     },
     "metadata": {
      "needs_background": "light"
     },
     "output_type": "display_data"
    },
    {
     "name": "stdout",
     "output_type": "stream",
     "text": [
      "StreamingMovies\n",
      "P_value: 5.893729512664753e-79\n",
      "Decision: There is a siginificant relationship between the churned customers and StreamingMovies \n",
      "\n",
      "\n"
     ]
    },
    {
     "data": {
      "image/png": "[encoded data removed]",
      "text/plain": [
       "<Figure size 432x288 with 1 Axes>"
      ]
     },
     "metadata": {
      "needs_background": "light"
     },
     "output_type": "display_data"
    },
    {
     "name": "stdout",
     "output_type": "stream",
     "text": [
      "Contract\n",
      "P_value: 2.9193548702111422e-285\n",
      "Decision: There is a siginificant relationship between the churned customers and Contract \n",
      "\n",
      "\n"
     ]
    },
    {
     "data": {
      "image/png": "[encoded data removed]",
      "text/plain": [
       "<Figure size 432x288 with 1 Axes>"
      ]
     },
     "metadata": {
      "needs_background": "light"
     },
     "output_type": "display_data"
    },
    {
     "name": "stdout",
     "output_type": "stream",
     "text": [
      "PaperlessBilling\n",
      "P_value: 5.262902452321898e-54\n",
      "Decision: There is a siginificant relationship between the churned customers and PaperlessBilling \n",
      "\n",
      "\n"
     ]
    },
    {
     "data": {
      "image/png": "[encoded data removed]",
      "text/plain": [
       "<Figure size 720x288 with 1 Axes>"
      ]
     },
     "metadata": {
      "needs_background": "light"
     },
     "output_type": "display_data"
    },
    {
     "name": "stdout",
     "output_type": "stream",
     "text": [
      "PaymentMethod\n",
      "P_value: 5.038013836635278e-142\n",
      "Decision: There is a siginificant relationship between the churned customers and PaymentMethod \n",
      "\n",
      "\n"
     ]
    }
   ],
   "source": [
    "sig_categorical_features2 = []\n",
    "for col in categorical_features:\n",
    "    if col == \"PaymentMethod\":\n",
    "        plt.figure(figsize=(10,4))\n",
    "    plt.title(f\"{col.capitalize()}\")\n",
    "    sns.countplot(x = data2[col], hue = 'Churn',data=data2)\n",
    "    plt.show()\n",
    "    cont_table = pd.crosstab(data2['Churn'], data2[col])\n",
    "    _, p_value, __, ___ = scipy.stats.chi2_contingency(cont_table, correction = True)\n",
    "    \n",
    "    if p_value >= 0.05:\n",
    "        print(col)\n",
    "        print(f'P_value: {p_value}')\n",
    "        print(f'Decision: There is no siginificant relationship between the churned customers and {col} ')\n",
    "        print('\\n')\n",
    "    else:\n",
    "        print(col)\n",
    "        print(f'P_value: {p_value}')\n",
    "        print(f'Decision: There is a siginificant relationship between the churned customers and {col} ')\n",
    "        print('\\n')\n",
    "        sig_categorical_features2.append(col)"
   ]
  },
  {
   "cell_type": "code",
   "execution_count": 40,
   "metadata": {
    "execution": {
     "iopub.execute_input": "2022-12-01T17:42:22.891381Z",
     "iopub.status.busy": "2022-12-01T17:42:22.891006Z",
     "iopub.status.idle": "2022-12-01T17:42:22.897405Z",
     "shell.execute_reply": "2022-12-01T17:42:22.895904Z",
     "shell.execute_reply.started": "2022-12-01T17:42:22.891339Z"
    }
   },
   "outputs": [],
   "source": [
    "sig_features2 = sig_numeric_features2 + sig_categorical_features2"
   ]
  },
  {
   "cell_type": "code",
   "execution_count": 41,
   "metadata": {
    "execution": {
     "iopub.execute_input": "2022-12-01T17:42:22.899786Z",
     "iopub.status.busy": "2022-12-01T17:42:22.899249Z",
     "iopub.status.idle": "2022-12-01T17:42:22.912813Z",
     "shell.execute_reply": "2022-12-01T17:42:22.911792Z",
     "shell.execute_reply.started": "2022-12-01T17:42:22.899737Z"
    }
   },
   "outputs": [],
   "source": [
    "# convert  'SeniorCitizen' for int data type\n",
    "data2.SeniorCitizen = data2.SeniorCitizen.astype(int)"
   ]
  },
  {
   "cell_type": "code",
   "execution_count": 42,
   "metadata": {
    "execution": {
     "iopub.execute_input": "2022-12-01T17:42:22.914193Z",
     "iopub.status.busy": "2022-12-01T17:42:22.913836Z",
     "iopub.status.idle": "2022-12-01T17:42:22.929550Z",
     "shell.execute_reply": "2022-12-01T17:42:22.928534Z",
     "shell.execute_reply.started": "2022-12-01T17:42:22.914162Z"
    }
   },
   "outputs": [],
   "source": [
    "# select X and y\n",
    "X2 = data2[sig_features2]\n",
    "y2 = data2['Churn']"
   ]
  },
  {
   "cell_type": "code",
   "execution_count": 43,
   "metadata": {
    "execution": {
     "iopub.execute_input": "2022-12-01T17:42:22.930999Z",
     "iopub.status.busy": "2022-12-01T17:42:22.930616Z",
     "iopub.status.idle": "2022-12-01T17:42:22.942905Z",
     "shell.execute_reply": "2022-12-01T17:42:22.941603Z",
     "shell.execute_reply.started": "2022-12-01T17:42:22.930967Z"
    }
   },
   "outputs": [],
   "source": [
    "# remove 'SeniorCitizen' from the  categorical features since it is a binary already and no need for further encoding\n",
    "sig_categorical_features2.remove('SeniorCitizen')"
   ]
  },
  {
   "cell_type": "code",
   "execution_count": 44,
   "metadata": {
    "execution": {
     "iopub.execute_input": "2022-12-01T17:42:22.944664Z",
     "iopub.status.busy": "2022-12-01T17:42:22.944290Z",
     "iopub.status.idle": "2022-12-01T17:42:23.011950Z",
     "shell.execute_reply": "2022-12-01T17:42:23.010768Z",
     "shell.execute_reply.started": "2022-12-01T17:42:22.944633Z"
    }
   },
   "outputs": [],
   "source": [
    "# encode the categorical features\n",
    "for col in sig_categorical_features2:\n",
    "    col_df = pd.get_dummies(X2[col], prefix=col)\n",
    "    X2 = pd.concat([X2,col_df],axis=1)\n",
    "    X2.drop(col,axis=1,inplace=True)"
   ]
  },
  {
   "cell_type": "code",
   "execution_count": 45,
   "metadata": {
    "execution": {
     "iopub.execute_input": "2022-12-01T17:42:23.013702Z",
     "iopub.status.busy": "2022-12-01T17:42:23.013251Z",
     "iopub.status.idle": "2022-12-01T17:42:23.035797Z",
     "shell.execute_reply": "2022-12-01T17:42:23.034226Z",
     "shell.execute_reply.started": "2022-12-01T17:42:23.013667Z"
    }
   },
   "outputs": [],
   "source": [
    "# normalize the numeric features\n",
    "for col in sig_numeric_features2:\n",
    "    X2[col] = min_max_scaler.fit_transform(X2[[col]])"
   ]
  },
  {
   "cell_type": "code",
   "execution_count": 46,
   "metadata": {
    "execution": {
     "iopub.execute_input": "2022-12-01T17:42:23.037718Z",
     "iopub.status.busy": "2022-12-01T17:42:23.037311Z",
     "iopub.status.idle": "2022-12-01T17:42:23.045743Z",
     "shell.execute_reply": "2022-12-01T17:42:23.044237Z",
     "shell.execute_reply.started": "2022-12-01T17:42:23.037683Z"
    }
   },
   "outputs": [],
   "source": [
    "# convert why to int data type \n",
    "y2 = y2.map({'Yes':1, 'No':0})  "
   ]
  },
  {
   "cell_type": "markdown",
   "metadata": {},
   "source": [
    "### Reducing the Number of Features"
   ]
  },
  {
   "cell_type": "markdown",
   "metadata": {},
   "source": [
    "I will reduce the number of features by selecting only the most important ones. I will use RF model to examine the importance of each feature.\n"
   ]
  },
  {
   "cell_type": "code",
   "execution_count": 47,
   "metadata": {
    "execution": {
     "iopub.execute_input": "2022-12-01T17:42:23.048375Z",
     "iopub.status.busy": "2022-12-01T17:42:23.047938Z",
     "iopub.status.idle": "2022-12-01T17:42:23.976539Z",
     "shell.execute_reply": "2022-12-01T17:42:23.975378Z",
     "shell.execute_reply.started": "2022-12-01T17:42:23.048338Z"
    }
   },
   "outputs": [
    {
     "data": {
      "text/plain": [
       "RandomForestClassifier()"
      ]
     },
     "execution_count": 47,
     "metadata": {},
     "output_type": "execute_result"
    }
   ],
   "source": [
    "rf_model = RandomForestClassifier()\n",
    "rf_model.fit(X2,y2)"
   ]
  },
  {
   "cell_type": "code",
   "execution_count": 48,
   "metadata": {
    "execution": {
     "iopub.execute_input": "2022-12-01T17:42:23.979045Z",
     "iopub.status.busy": "2022-12-01T17:42:23.978552Z",
     "iopub.status.idle": "2022-12-01T17:42:24.013518Z",
     "shell.execute_reply": "2022-12-01T17:42:24.012111Z",
     "shell.execute_reply.started": "2022-12-01T17:42:23.978997Z"
    }
   },
   "outputs": [
    {
     "data": {
      "text/plain": [
       "TotalCharges                      0.194404\n",
       "MonthlyCharges                    0.158209\n",
       "tenure                            0.157299\n",
       "Contract_Month-to-month           0.058010\n",
       "InternetService_Fiber optic       0.028099\n",
       "OnlineSecurity_No                 0.027079\n",
       "PaymentMethod_Electronic check    0.025493\n",
       "TechSupport_No                    0.023960\n",
       "Contract_Two year                 0.023072\n",
       "OnlineBackup_No                   0.022517\n",
       "SeniorCitizen                     0.020193\n",
       "PaperlessBilling_Yes              0.014597\n",
       "Contract_One year                 0.014269\n",
       "Partner_Yes                       0.014045\n",
       "dtype: float64"
      ]
     },
     "execution_count": 48,
     "metadata": {},
     "output_type": "execute_result"
    }
   ],
   "source": [
    "important_features = pd.Series(rf_model.feature_importances_, index= X2.columns).\\\n",
    "                        sort_values(ascending=False)\n",
    "important_features = important_features[important_features > 0.014]\n",
    "important_features"
   ]
  },
  {
   "cell_type": "code",
   "execution_count": 49,
   "metadata": {
    "execution": {
     "iopub.execute_input": "2022-12-01T17:42:24.015503Z",
     "iopub.status.busy": "2022-12-01T17:42:24.015121Z",
     "iopub.status.idle": "2022-12-01T17:42:24.028243Z",
     "shell.execute_reply": "2022-12-01T17:42:24.027247Z",
     "shell.execute_reply.started": "2022-12-01T17:42:24.015471Z"
    }
   },
   "outputs": [
    {
     "data": {
      "text/plain": [
       "Index(['TotalCharges', 'MonthlyCharges', 'tenure', 'Contract_Month-to-month',\n",
       "       'InternetService_Fiber optic', 'OnlineSecurity_No',\n",
       "       'PaymentMethod_Electronic check', 'TechSupport_No', 'Contract_Two year',\n",
       "       'OnlineBackup_No', 'SeniorCitizen', 'PaperlessBilling_Yes',\n",
       "       'Contract_One year', 'Partner_Yes'],\n",
       "      dtype='object')"
      ]
     },
     "execution_count": 49,
     "metadata": {},
     "output_type": "execute_result"
    }
   ],
   "source": [
    "X2 = X2[important_features.index.tolist()]\n",
    "\n",
    "X2.columns"
   ]
  },
  {
   "cell_type": "markdown",
   "metadata": {},
   "source": [
    "__Testing with GradientBoostingClassifier and LogisticRegression__"
   ]
  },
  {
   "cell_type": "markdown",
   "metadata": {},
   "source": [
    "Now, I will test the new X (X2) with only the important features to see if the scores increase. I will only GradientBoostingClassifier and LogisticRegression models."
   ]
  },
  {
   "cell_type": "code",
   "execution_count": 50,
   "metadata": {
    "execution": {
     "iopub.execute_input": "2022-12-01T17:42:24.029648Z",
     "iopub.status.busy": "2022-12-01T17:42:24.029305Z",
     "iopub.status.idle": "2022-12-01T17:42:24.036943Z",
     "shell.execute_reply": "2022-12-01T17:42:24.035509Z",
     "shell.execute_reply.started": "2022-12-01T17:42:24.029619Z"
    }
   },
   "outputs": [],
   "source": [
    "models2 = [('GradientBoostingClassifier',GradientBoostingClassifier()), \n",
    "           ('LogisticRegression',LogisticRegression())]"
   ]
  },
  {
   "cell_type": "code",
   "execution_count": 51,
   "metadata": {
    "execution": {
     "iopub.execute_input": "2022-12-01T17:42:24.039045Z",
     "iopub.status.busy": "2022-12-01T17:42:24.038516Z",
     "iopub.status.idle": "2022-12-01T17:42:24.053257Z",
     "shell.execute_reply": "2022-12-01T17:42:24.052193Z",
     "shell.execute_reply.started": "2022-12-01T17:42:24.038996Z"
    }
   },
   "outputs": [],
   "source": [
    "models_names2 = [model_name for model_name,model in models2]\n",
    "\n",
    "results2 = {'models':models_names2,\n",
    "           'accuracy_score':[],\n",
    "           'f1_score' : [],\n",
    "           'recall_score':[]}"
   ]
  },
  {
   "cell_type": "code",
   "execution_count": 52,
   "metadata": {
    "execution": {
     "iopub.execute_input": "2022-12-01T17:42:24.055953Z",
     "iopub.status.busy": "2022-12-01T17:42:24.054656Z",
     "iopub.status.idle": "2022-12-01T17:42:51.751712Z",
     "shell.execute_reply": "2022-12-01T17:42:51.750570Z",
     "shell.execute_reply.started": "2022-12-01T17:42:24.055902Z"
    }
   },
   "outputs": [
    {
     "name": "stdout",
     "output_type": "stream",
     "text": [
      "Model: GradientBoostingClassifier\n",
      "accuracy_score = 0.81\n",
      "f1_score = 0.6\n",
      "recall_score = 0.56\n",
      "\n",
      "\n",
      "Model: LogisticRegression\n",
      "accuracy_score = 0.82\n",
      "f1_score = 0.6\n",
      "recall_score = 0.55\n",
      "\n",
      "\n"
     ]
    }
   ],
   "source": [
    "for model_name, model in models2:\n",
    "    clf = model\n",
    "    \n",
    "    skf = StratifiedKFold(n_splits=10, shuffle = True, random_state=2).split(X2,y2)\n",
    "    model_accuracy_score2 =cross_val_score(clf, X2,y2,cv=skf, scoring='accuracy')\n",
    "    \n",
    "    skf = StratifiedKFold(n_splits=10, shuffle = True, random_state=2).split(X2,y2)\n",
    "    model_f1_score2 = cross_val_score(clf, X2,y2,cv=skf, scoring='f1')\n",
    "\n",
    "\n",
    "    skf = StratifiedKFold(n_splits=10, shuffle = True, random_state=2).split(X2,y2)\n",
    "    model_recall_score2 =cross_val_score(clf, X2,y2,cv=skf, scoring='recall')\n",
    "    \n",
    "    print(f'Model: {model_name}')\n",
    "    print(f'accuracy_score = {round(model_accuracy_score2.mean(),2)}')\n",
    "    print(f'f1_score = {round(model_f1_score2.mean(),2)}')\n",
    "    print(f'recall_score = {round(model_recall_score2.mean(),2)}')\n",
    "    print('\\n')\n",
    "    \n",
    "    results2['accuracy_score'].append(model_accuracy_score2.mean())\n",
    "    results2['f1_score'].append(model_f1_score2.mean())\n",
    "    results2['recall_score'].append(model_recall_score2.mean())\n",
    "    \n"
   ]
  },
  {
   "cell_type": "code",
   "execution_count": 53,
   "metadata": {
    "execution": {
     "iopub.execute_input": "2022-12-01T17:42:51.758263Z",
     "iopub.status.busy": "2022-12-01T17:42:51.757147Z",
     "iopub.status.idle": "2022-12-01T17:42:51.782848Z",
     "shell.execute_reply": "2022-12-01T17:42:51.781627Z",
     "shell.execute_reply.started": "2022-12-01T17:42:51.758207Z"
    }
   },
   "outputs": [
    {
     "data": {
      "text/html": [
       "<div>\n",
       "<style scoped>\n",
       "    .dataframe tbody tr th:only-of-type {\n",
       "        vertical-align: middle;\n",
       "    }\n",
       "\n",
       "    .dataframe tbody tr th {\n",
       "        vertical-align: top;\n",
       "    }\n",
       "\n",
       "    .dataframe thead th {\n",
       "        text-align: right;\n",
       "    }\n",
       "</style>\n",
       "<table border=\"1\" class=\"dataframe\">\n",
       "  <thead>\n",
       "    <tr style=\"text-align: right;\">\n",
       "      <th></th>\n",
       "      <th>models</th>\n",
       "      <th>accuracy_score</th>\n",
       "      <th>f1_score</th>\n",
       "      <th>recall_score</th>\n",
       "    </tr>\n",
       "  </thead>\n",
       "  <tbody>\n",
       "    <tr>\n",
       "      <th>0</th>\n",
       "      <td>GradientBoostingClassifier</td>\n",
       "      <td>0.813239</td>\n",
       "      <td>0.603642</td>\n",
       "      <td>0.560227</td>\n",
       "    </tr>\n",
       "    <tr>\n",
       "      <th>1</th>\n",
       "      <td>LogisticRegression</td>\n",
       "      <td>0.816265</td>\n",
       "      <td>0.604199</td>\n",
       "      <td>0.553977</td>\n",
       "    </tr>\n",
       "  </tbody>\n",
       "</table>\n",
       "</div>"
      ],
      "text/plain": [
       "                       models  accuracy_score  f1_score  recall_score\n",
       "0  GradientBoostingClassifier        0.813239  0.603642      0.560227\n",
       "1          LogisticRegression        0.816265  0.604199      0.553977"
      ]
     },
     "execution_count": 53,
     "metadata": {},
     "output_type": "execute_result"
    }
   ],
   "source": [
    "results_df2 = pd.DataFrame(results2)\n",
    "results_df2 = results_df2.sort_values('recall_score', ascending=False).reset_index(drop=True)\n",
    "results_df2"
   ]
  },
  {
   "cell_type": "markdown",
   "metadata": {},
   "source": [
    "The scoring is still not very high!"
   ]
  },
  {
   "cell_type": "markdown",
   "metadata": {},
   "source": [
    "For the next stage (Model Tuning), I will both models since thier scorings are close!"
   ]
  },
  {
   "cell_type": "markdown",
   "metadata": {},
   "source": [
    "## Model Tuning and Hyperparameters Optimization"
   ]
  },
  {
   "cell_type": "code",
   "execution_count": 54,
   "metadata": {
    "execution": {
     "iopub.execute_input": "2022-12-01T17:42:51.792764Z",
     "iopub.status.busy": "2022-12-01T17:42:51.789188Z",
     "iopub.status.idle": "2022-12-01T17:42:51.801789Z",
     "shell.execute_reply": "2022-12-01T17:42:51.800391Z",
     "shell.execute_reply.started": "2022-12-01T17:42:51.792644Z"
    }
   },
   "outputs": [],
   "source": [
    "from sklearn.model_selection import GridSearchCV"
   ]
  },
  {
   "cell_type": "code",
   "execution_count": 55,
   "metadata": {
    "execution": {
     "iopub.execute_input": "2022-12-01T17:42:51.813422Z",
     "iopub.status.busy": "2022-12-01T17:42:51.809117Z",
     "iopub.status.idle": "2022-12-01T17:42:51.827425Z",
     "shell.execute_reply": "2022-12-01T17:42:51.825764Z",
     "shell.execute_reply.started": "2022-12-01T17:42:51.813357Z"
    }
   },
   "outputs": [],
   "source": [
    "gb_fc = GradientBoostingClassifier(random_state=2)\n",
    "\n",
    "params_grid = {'loss':['log_loss','deviance','exponential'],\n",
    "               'learning_rate':[0.01,0.1],\n",
    "               'n_estimators':[100,200],\n",
    "               'min_samples_split':[2,4],\n",
    "               'min_samples_leaf':[1,2],\n",
    "               'max_depth':[3,5,None],\n",
    "               'max_features':['auto', 'sqrt', 'log']\n",
    "              }\n",
    "\n",
    "skf = StratifiedKFold(n_splits = 5, shuffle=True, random_state=2).split(X2,y2)\n",
    "\n",
    "gs_gb = GridSearchCV(gb_fc, params_grid, n_jobs=-1, cv = skf, scoring='recall')"
   ]
  },
  {
   "cell_type": "code",
   "execution_count": 56,
   "metadata": {
    "execution": {
     "iopub.execute_input": "2022-12-01T17:42:51.840841Z",
     "iopub.status.busy": "2022-12-01T17:42:51.836555Z",
     "iopub.status.idle": "2022-12-01T18:12:44.543095Z",
     "shell.execute_reply": "2022-12-01T18:12:44.541490Z",
     "shell.execute_reply.started": "2022-12-01T17:42:51.840779Z"
    }
   },
   "outputs": [
    {
     "name": "stdout",
     "output_type": "stream",
     "text": [
      "0.5613636363636363\n",
      "{'learning_rate': 0.1, 'loss': 'deviance', 'max_depth': 3, 'max_features': 'auto', 'min_samples_leaf': 1, 'min_samples_split': 2, 'n_estimators': 100}\n"
     ]
    }
   ],
   "source": [
    "gs_gb.fit(X2,y2)\n",
    "\n",
    "print(gs_gb.best_score_)\n",
    "\n",
    "print(gs_gb .best_params_)"
   ]
  },
  {
   "cell_type": "code",
   "execution_count": 57,
   "metadata": {
    "execution": {
     "iopub.execute_input": "2022-12-01T18:12:44.546518Z",
     "iopub.status.busy": "2022-12-01T18:12:44.545952Z",
     "iopub.status.idle": "2022-12-01T18:12:44.916249Z",
     "shell.execute_reply": "2022-12-01T18:12:44.915223Z",
     "shell.execute_reply.started": "2022-12-01T18:12:44.546462Z"
    }
   },
   "outputs": [
    {
     "data": {
      "text/plain": [
       "GradientBoostingClassifier(loss='exponential', max_features='sqrt',\n",
       "                           random_state=2)"
      ]
     },
     "execution_count": 57,
     "metadata": {},
     "output_type": "execute_result"
    }
   ],
   "source": [
    "gb_clf = GradientBoostingClassifier(learning_rate = 0.1, loss = 'exponential', \n",
    "                                    max_depth = 3, max_features = 'sqrt',\n",
    "                                    min_samples_leaf = 1, min_samples_split = 2, \n",
    "                                    n_estimators = 100, random_state=2)\n",
    "\n",
    "gb_clf.fit(X2,y2)"
   ]
  },
  {
   "cell_type": "markdown",
   "metadata": {},
   "source": [
    "## Model Interpretation"
   ]
  },
  {
   "cell_type": "code",
   "execution_count": 61,
   "metadata": {
    "execution": {
     "iopub.execute_input": "2022-12-01T18:16:45.698470Z",
     "iopub.status.busy": "2022-12-01T18:16:45.697855Z",
     "iopub.status.idle": "2022-12-01T18:16:45.720739Z",
     "shell.execute_reply": "2022-12-01T18:16:45.719772Z",
     "shell.execute_reply.started": "2022-12-01T18:16:45.698417Z"
    }
   },
   "outputs": [
    {
     "data": {
      "text/html": [
       "<div>\n",
       "<style scoped>\n",
       "    .dataframe tbody tr th:only-of-type {\n",
       "        vertical-align: middle;\n",
       "    }\n",
       "\n",
       "    .dataframe tbody tr th {\n",
       "        vertical-align: top;\n",
       "    }\n",
       "\n",
       "    .dataframe thead th {\n",
       "        text-align: right;\n",
       "    }\n",
       "</style>\n",
       "<table border=\"1\" class=\"dataframe\">\n",
       "  <thead>\n",
       "    <tr style=\"text-align: right;\">\n",
       "      <th></th>\n",
       "      <th>Feature</th>\n",
       "      <th>Importance</th>\n",
       "    </tr>\n",
       "  </thead>\n",
       "  <tbody>\n",
       "    <tr>\n",
       "      <th>3</th>\n",
       "      <td>Contract_Month-to-month</td>\n",
       "      <td>0.243040</td>\n",
       "    </tr>\n",
       "    <tr>\n",
       "      <th>2</th>\n",
       "      <td>tenure</td>\n",
       "      <td>0.202208</td>\n",
       "    </tr>\n",
       "    <tr>\n",
       "      <th>0</th>\n",
       "      <td>TotalCharges</td>\n",
       "      <td>0.120199</td>\n",
       "    </tr>\n",
       "    <tr>\n",
       "      <th>5</th>\n",
       "      <td>OnlineSecurity_No</td>\n",
       "      <td>0.105208</td>\n",
       "    </tr>\n",
       "    <tr>\n",
       "      <th>4</th>\n",
       "      <td>InternetService_Fiber optic</td>\n",
       "      <td>0.079880</td>\n",
       "    </tr>\n",
       "    <tr>\n",
       "      <th>1</th>\n",
       "      <td>MonthlyCharges</td>\n",
       "      <td>0.069274</td>\n",
       "    </tr>\n",
       "    <tr>\n",
       "      <th>7</th>\n",
       "      <td>TechSupport_No</td>\n",
       "      <td>0.052404</td>\n",
       "    </tr>\n",
       "    <tr>\n",
       "      <th>6</th>\n",
       "      <td>PaymentMethod_Electronic check</td>\n",
       "      <td>0.047806</td>\n",
       "    </tr>\n",
       "    <tr>\n",
       "      <th>9</th>\n",
       "      <td>OnlineBackup_No</td>\n",
       "      <td>0.024481</td>\n",
       "    </tr>\n",
       "    <tr>\n",
       "      <th>8</th>\n",
       "      <td>Contract_Two year</td>\n",
       "      <td>0.017847</td>\n",
       "    </tr>\n",
       "    <tr>\n",
       "      <th>11</th>\n",
       "      <td>PaperlessBilling_Yes</td>\n",
       "      <td>0.015574</td>\n",
       "    </tr>\n",
       "    <tr>\n",
       "      <th>12</th>\n",
       "      <td>Contract_One year</td>\n",
       "      <td>0.010956</td>\n",
       "    </tr>\n",
       "    <tr>\n",
       "      <th>10</th>\n",
       "      <td>SeniorCitizen</td>\n",
       "      <td>0.010536</td>\n",
       "    </tr>\n",
       "    <tr>\n",
       "      <th>13</th>\n",
       "      <td>Partner_Yes</td>\n",
       "      <td>0.000589</td>\n",
       "    </tr>\n",
       "  </tbody>\n",
       "</table>\n",
       "</div>"
      ],
      "text/plain": [
       "                           Feature  Importance\n",
       "3          Contract_Month-to-month    0.243040\n",
       "2                           tenure    0.202208\n",
       "0                     TotalCharges    0.120199\n",
       "5                OnlineSecurity_No    0.105208\n",
       "4      InternetService_Fiber optic    0.079880\n",
       "1                   MonthlyCharges    0.069274\n",
       "7                   TechSupport_No    0.052404\n",
       "6   PaymentMethod_Electronic check    0.047806\n",
       "9                  OnlineBackup_No    0.024481\n",
       "8                Contract_Two year    0.017847\n",
       "11            PaperlessBilling_Yes    0.015574\n",
       "12               Contract_One year    0.010956\n",
       "10                   SeniorCitizen    0.010536\n",
       "13                     Partner_Yes    0.000589"
      ]
     },
     "execution_count": 61,
     "metadata": {},
     "output_type": "execute_result"
    }
   ],
   "source": [
    "feature_importance = {'Feature':gb_clf.feature_names_in_, \n",
    "                      'Importance':gb_clf.feature_importances_}\n",
    "\n",
    "pd.DataFrame(feature_importance).sort_values('Importance', ascending=False)\n"
   ]
  },
  {
   "cell_type": "markdown",
   "metadata": {},
   "source": [
    "## Saving the Model "
   ]
  },
  {
   "cell_type": "code",
   "execution_count": 58,
   "metadata": {
    "execution": {
     "iopub.execute_input": "2022-12-01T18:12:44.918448Z",
     "iopub.status.busy": "2022-12-01T18:12:44.917982Z",
     "iopub.status.idle": "2022-12-01T18:12:44.936250Z",
     "shell.execute_reply": "2022-12-01T18:12:44.934927Z",
     "shell.execute_reply.started": "2022-12-01T18:12:44.918403Z"
    }
   },
   "outputs": [
    {
     "data": {
      "text/plain": [
       "['gb_clf.pkl']"
      ]
     },
     "execution_count": 58,
     "metadata": {},
     "output_type": "execute_result"
    }
   ],
   "source": [
    "import joblib\n",
    "\n",
    "joblib.dump(gb_clf, 'gb_clf.pkl')"
   ]
  }
 ],
 "metadata": {
  "kernelspec": {
   "display_name": "data_analysis",
   "language": "python",
   "name": "data_analysis"
  },
  "language_info": {
   "codemirror_mode": {
    "name": "ipython",
    "version": 3
   },
   "file_extension": ".py",
   "mimetype": "text/x-python",
   "name": "python",
   "nbconvert_exporter": "python",
   "pygments_lexer": "ipython3",
   "version": "3.9.5"
  }
 },
 "nbformat": 4,
 "nbformat_minor": 4
}
