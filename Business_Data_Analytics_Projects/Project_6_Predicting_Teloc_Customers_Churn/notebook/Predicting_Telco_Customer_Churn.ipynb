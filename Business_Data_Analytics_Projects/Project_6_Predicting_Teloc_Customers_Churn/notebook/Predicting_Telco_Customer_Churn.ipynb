{
 "cells": [
  {
   "cell_type": "markdown",
   "metadata": {
    "execution": {
     "iopub.execute_input": "2022-12-01T16:27:31.233630Z",
     "iopub.status.busy": "2022-12-01T16:27:31.233159Z",
     "iopub.status.idle": "2022-12-01T16:27:32.344212Z",
     "shell.execute_reply": "2022-12-01T16:27:32.343086Z",
     "shell.execute_reply.started": "2022-12-01T16:27:31.233586Z"
    }
   },
   "source": [
    "\n",
    "# Predicting Telco Customers Churn\n",
    "![](https://insidetelecom.com/wp-content/uploads/2020/11/Telecom-operators-and-reducing-customer-churn.jpg)\n",
    "\n",
    "By [ Waleed on LinkedIn](https://www.linkedin.com/in/waleedabdulla/)"
   ]
  },
  {
   "cell_type": "markdown",
   "metadata": {},
   "source": [
    "A major issue facing the telecommunications (Telco) sector is customer attrition. It is described as the loss of clients who switch Telco providers. Telco operators can employ business marketing practices to such turnover clients to retain and grow the customer base if customer churn can be forecast in advance, such as \"is this customer going to leave us within the next X months?\" Particularly, considering the millions of Telco customers, even a 1% decrease in churn will result in a huge rise in earnings.\n",
    "\n",
    "### Problem Statement\n",
    "\n",
    "The objective of this project is to predict customers that are about to churn in order to catch them with a discount or attractive offers. It is desirable to develop a machine learning model that can predict customers who will leave the company. You are expected to perform the necessary data analysis and feature engineering steps before developing the model.\n",
    "\n",
    "\n",
    "***telecom_customer_churn_joined.csv*** data includes information about a fictitious telecom company that provided home phone and Internet services to 7,043 California customers with 37 variables in the third quarter. Each row represents a customer, each variable contains the customer's attributes. It shows which clients have canceled their service shows, stayed, or joined up.\n",
    "\n",
    "\n",
    "The following table shows the  37 variables with their meaning.\n",
    "\n",
    "\n",
    "| Variable         | Meaning |\n",
    "| ---------------- | ----------------------------------------------- |\n",
    "|CustomerID|ID that identifies each customer\n",
    "|Gender|The customer’s gender: Male, Female\n",
    "|Age|The customer’s current age, in years, at the time the fiscal quarter ended (Q2 2022)\n",
    "|Married|Indicates if the customer is married: Yes, No\n",
    "|Number of Dependents|Indicates the number of dependents that live with the customer (dependents could be children, parents, grandparents, etc.)\n",
    "|City|The city of the customer’s primary residence in California\n",
    "|PostalCode| The PostalCode of the customer’s primary residenc\n",
    "|Latitude| The latitude of the customer’s primary residence\n",
    "|Longitude| The longitude of the customer’s primary residence\n",
    "|Number of Referrals| Indicates the number of times the customer has referred a friend or family member to this company to date\n",
    "|Tenure in Months|Indicates the total amount of months that the customer has been with the company by the end of the quarter specified above\n",
    "|Offer|Identifies the last marketing offer that the customer accepted: None, Offer A, Offer B, Offer C, Offer D, Offer E\n",
    "|Phone Service|Indicates if the customer subscribes to home phone service with the company: Yes, No\n",
    "|Avg Monthly Long Distance Charges|Indicates the customer’s average long distance charges, calculated to the end of the quarter specified above (if the customer is not subscribed to home phone service, this will be 0)\n",
    "|Multiple Lines|Indicates if the customer subscribes to multiple telephone lines with the company: Yes, No (if the customer is not subscribed to home phone service, this will be No)\n",
    "|Internet Service|Indicates if the customer subscribes to Internet service with the company: Yes, No\n",
    "|Internet Type|Indicates the customer's type of internet connection: DSL, Fiber Optic, Cable (if the customer is not subscribed to internet service, this will be None)\n",
    "|Avg Monthly GB Download|Indicates the customer’s average download volume in gigabytes, calculated to the end of the quarter specified above (if the customer is not subscribed to internet service, this will be 0)\n",
    "|Online Security|Indicates if the customer subscribes to an additional online security service provided by the company: Yes, No (if the customer is not subscribed to internet service, this will be No)\n",
    "|Online Backup|Indicates if the customer subscribes to an additional online backup service provided by the company: Yes, No (if the customer is not subscribed to internet service, this will be No)\n",
    "|Device Protection Plan|Indicates if the customer subscribes to an additional device protection plan for their Internet equipment provided by the company: Yes, No (if the customer is not subscribed to internet service, this will be No)\n",
    "|Premium Tech Support|Indicates if the customer subscribes to an additional technical support plan from the company with reduced wait times: Yes, No (if the customer is not subscribed to internet service, this will be No)\n",
    "|Streaming TV|Indicates if the customer uses their Internet service to stream television programing from a third party provider at no additional fee: Yes, No (if the customer is not subscribed to internet service, this will be No)\n",
    "|Streaming Movies|Indicates if the customer uses their Internet service to stream movies from a third party provider at no additional fee: Yes, No (if the customer is not subscribed to internet service, this will be No)\n",
    "|Streaming Music|Indicates if the customer uses their Internet service to stream music from a third party provider at no additional fee: Yes, No (if the customer is not subscribed to internet service, this will be No)\n",
    "|Unlimited Data|Indicates if the customer has paid an additional monthly fee to have unlimited data downloads/uploads: Yes, No (if the customer is not subscribed to internet service, this will be No)\n",
    "|Contract|Indicates the customer’s current contract type: Month-to-Month, One Year, Two Year\n",
    "|Paperless Billing|Indicates if the customer has chosen paperless billing: Yes, No\n",
    "|Payment Method|Indicates how the customer pays their bill: Bank Withdrawal, Credit Card, Mailed Check\n",
    "|Monthly Charge|Indicates the customer’s current total monthly charge for all their services from the company\n",
    "|Total Charges|Indicates the customer’s total charges, calculated to the end of the quarter specified above\n",
    "|Total Refunds|Indicates the customer’s total refunds, calculated to the end of the quarter specified above\n",
    "|Total Extra Data Charges|Indicates the customer’s total charges for extra data downloads above those specified in their plan, by the end of the quarter specified above\n",
    "|Total Long Distance Charges|Indicates the customer’s total charges for long distance above those specified in their plan, by the end of the quarter specified above\n",
    "|Total Revenue|Indicates the company's total revenue from this customer, calculated to the end of the quarter specified above (Total Charges - Total Refurnds + Total Extra Data Charges + Total Lond Distance Charges)\n",
    "|Customer Status|Indicates the status of the customer at the end of the quarter: Churned, Stayed, or Joined\n",
    "|Churn Category|A high-level category for the customer’s reason for churning, which is asked when they leave the company: Attitude, Competitor, Dissatisfaction, Other, Price (directly related to Churn Reason)\n",
    "|Churn Reason|A customer’s specific reason for leaving the company, which is asked when they leave the company (directly related to Churn Category)\n",
    "|Population|A current population estimate for the entire PostalCode area\n"
   ]
  },
  {
   "cell_type": "markdown",
   "metadata": {},
   "source": [
    "## Importing Required Libraries"
   ]
  },
  {
   "cell_type": "code",
   "execution_count": 1,
   "metadata": {
    "execution": {
     "iopub.execute_input": "2022-12-01T19:16:54.418565Z",
     "iopub.status.busy": "2022-12-01T19:16:54.417816Z",
     "iopub.status.idle": "2022-12-01T19:16:55.590122Z",
     "shell.execute_reply": "2022-12-01T19:16:55.588534Z",
     "shell.execute_reply.started": "2022-12-01T19:16:54.418519Z"
    }
   },
   "outputs": [],
   "source": [
    "import numpy\n",
    "import pandas as pd\n",
    "\n",
    "import matplotlib.pyplot as plt\n",
    "import seaborn as sns\n",
    "\n",
    "from scipy.stats.mstats import normaltest\n",
    "import scipy.stats\n",
    "\n",
    "import warnings\n",
    "#warnings.simplefilter(action='ignore', category=FutureWarning)\n",
    "warnings.filterwarnings('ignore')"
   ]
  },
  {
   "cell_type": "markdown",
   "metadata": {},
   "source": [
    "## Data Extraction and Preparation"
   ]
  },
  {
   "cell_type": "code",
   "execution_count": 2,
   "metadata": {
    "execution": {
     "iopub.execute_input": "2022-12-01T19:16:55.592471Z",
     "iopub.status.busy": "2022-12-01T19:16:55.591950Z",
     "iopub.status.idle": "2022-12-01T19:16:55.682097Z",
     "shell.execute_reply": "2022-12-01T19:16:55.680985Z",
     "shell.execute_reply.started": "2022-12-01T19:16:55.592416Z"
    }
   },
   "outputs": [
    {
     "data": {
      "text/html": [
       "<div>\n",
       "<style scoped>\n",
       "    .dataframe tbody tr th:only-of-type {\n",
       "        vertical-align: middle;\n",
       "    }\n",
       "\n",
       "    .dataframe tbody tr th {\n",
       "        vertical-align: top;\n",
       "    }\n",
       "\n",
       "    .dataframe thead th {\n",
       "        text-align: right;\n",
       "    }\n",
       "</style>\n",
       "<table border=\"1\" class=\"dataframe\">\n",
       "  <thead>\n",
       "    <tr style=\"text-align: right;\">\n",
       "      <th></th>\n",
       "      <th>Customer ID</th>\n",
       "      <th>Gender</th>\n",
       "      <th>Age</th>\n",
       "      <th>Married</th>\n",
       "      <th>Number of Dependents</th>\n",
       "      <th>City</th>\n",
       "      <th>Latitude</th>\n",
       "      <th>Longitude</th>\n",
       "      <th>Number of Referrals</th>\n",
       "      <th>Tenure in Months</th>\n",
       "      <th>...</th>\n",
       "      <th>Monthly Charge</th>\n",
       "      <th>Total Charges</th>\n",
       "      <th>Total Refunds</th>\n",
       "      <th>Total Extra Data Charges</th>\n",
       "      <th>Total Long Distance Charges</th>\n",
       "      <th>Total Revenue</th>\n",
       "      <th>Customer Status</th>\n",
       "      <th>Churn Category</th>\n",
       "      <th>Churn Reason</th>\n",
       "      <th>Population</th>\n",
       "    </tr>\n",
       "  </thead>\n",
       "  <tbody>\n",
       "    <tr>\n",
       "      <th>0</th>\n",
       "      <td>0002-ORFBO</td>\n",
       "      <td>Female</td>\n",
       "      <td>37</td>\n",
       "      <td>Yes</td>\n",
       "      <td>0</td>\n",
       "      <td>Frazier Park</td>\n",
       "      <td>34.827662</td>\n",
       "      <td>-118.999073</td>\n",
       "      <td>2</td>\n",
       "      <td>9</td>\n",
       "      <td>...</td>\n",
       "      <td>65.6</td>\n",
       "      <td>593.30</td>\n",
       "      <td>0.00</td>\n",
       "      <td>0</td>\n",
       "      <td>381.51</td>\n",
       "      <td>974.81</td>\n",
       "      <td>Stayed</td>\n",
       "      <td>NaN</td>\n",
       "      <td>NaN</td>\n",
       "      <td>4498</td>\n",
       "    </tr>\n",
       "    <tr>\n",
       "      <th>1</th>\n",
       "      <td>0003-MKNFE</td>\n",
       "      <td>Male</td>\n",
       "      <td>46</td>\n",
       "      <td>No</td>\n",
       "      <td>0</td>\n",
       "      <td>Glendale</td>\n",
       "      <td>34.162515</td>\n",
       "      <td>-118.203869</td>\n",
       "      <td>0</td>\n",
       "      <td>9</td>\n",
       "      <td>...</td>\n",
       "      <td>-4.0</td>\n",
       "      <td>542.40</td>\n",
       "      <td>38.33</td>\n",
       "      <td>10</td>\n",
       "      <td>96.21</td>\n",
       "      <td>610.28</td>\n",
       "      <td>Stayed</td>\n",
       "      <td>NaN</td>\n",
       "      <td>NaN</td>\n",
       "      <td>31297</td>\n",
       "    </tr>\n",
       "    <tr>\n",
       "      <th>2</th>\n",
       "      <td>0004-TLHLJ</td>\n",
       "      <td>Male</td>\n",
       "      <td>50</td>\n",
       "      <td>No</td>\n",
       "      <td>0</td>\n",
       "      <td>Costa Mesa</td>\n",
       "      <td>33.645672</td>\n",
       "      <td>-117.922613</td>\n",
       "      <td>0</td>\n",
       "      <td>4</td>\n",
       "      <td>...</td>\n",
       "      <td>73.9</td>\n",
       "      <td>280.85</td>\n",
       "      <td>0.00</td>\n",
       "      <td>0</td>\n",
       "      <td>134.60</td>\n",
       "      <td>415.45</td>\n",
       "      <td>Churned</td>\n",
       "      <td>Competitor</td>\n",
       "      <td>Competitor had better devices</td>\n",
       "      <td>62069</td>\n",
       "    </tr>\n",
       "    <tr>\n",
       "      <th>3</th>\n",
       "      <td>0011-IGKFF</td>\n",
       "      <td>Male</td>\n",
       "      <td>78</td>\n",
       "      <td>Yes</td>\n",
       "      <td>0</td>\n",
       "      <td>Martinez</td>\n",
       "      <td>38.014457</td>\n",
       "      <td>-122.115432</td>\n",
       "      <td>1</td>\n",
       "      <td>13</td>\n",
       "      <td>...</td>\n",
       "      <td>98.0</td>\n",
       "      <td>1237.85</td>\n",
       "      <td>0.00</td>\n",
       "      <td>0</td>\n",
       "      <td>361.66</td>\n",
       "      <td>1599.51</td>\n",
       "      <td>Churned</td>\n",
       "      <td>Dissatisfaction</td>\n",
       "      <td>Product dissatisfaction</td>\n",
       "      <td>46677</td>\n",
       "    </tr>\n",
       "    <tr>\n",
       "      <th>4</th>\n",
       "      <td>0013-EXCHZ</td>\n",
       "      <td>Female</td>\n",
       "      <td>75</td>\n",
       "      <td>Yes</td>\n",
       "      <td>0</td>\n",
       "      <td>Camarillo</td>\n",
       "      <td>34.227846</td>\n",
       "      <td>-119.079903</td>\n",
       "      <td>3</td>\n",
       "      <td>3</td>\n",
       "      <td>...</td>\n",
       "      <td>83.9</td>\n",
       "      <td>267.40</td>\n",
       "      <td>0.00</td>\n",
       "      <td>0</td>\n",
       "      <td>22.14</td>\n",
       "      <td>289.54</td>\n",
       "      <td>Churned</td>\n",
       "      <td>Dissatisfaction</td>\n",
       "      <td>Network reliability</td>\n",
       "      <td>42853</td>\n",
       "    </tr>\n",
       "  </tbody>\n",
       "</table>\n",
       "<p>5 rows × 38 columns</p>\n",
       "</div>"
      ],
      "text/plain": [
       "  Customer ID  Gender  Age Married  Number of Dependents          City  \\\n",
       "0  0002-ORFBO  Female   37     Yes                     0  Frazier Park   \n",
       "1  0003-MKNFE    Male   46      No                     0      Glendale   \n",
       "2  0004-TLHLJ    Male   50      No                     0    Costa Mesa   \n",
       "3  0011-IGKFF    Male   78     Yes                     0      Martinez   \n",
       "4  0013-EXCHZ  Female   75     Yes                     0     Camarillo   \n",
       "\n",
       "    Latitude   Longitude  Number of Referrals  Tenure in Months  ...  \\\n",
       "0  34.827662 -118.999073                    2                 9  ...   \n",
       "1  34.162515 -118.203869                    0                 9  ...   \n",
       "2  33.645672 -117.922613                    0                 4  ...   \n",
       "3  38.014457 -122.115432                    1                13  ...   \n",
       "4  34.227846 -119.079903                    3                 3  ...   \n",
       "\n",
       "  Monthly Charge Total Charges  Total Refunds Total Extra Data Charges  \\\n",
       "0           65.6        593.30           0.00                        0   \n",
       "1           -4.0        542.40          38.33                       10   \n",
       "2           73.9        280.85           0.00                        0   \n",
       "3           98.0       1237.85           0.00                        0   \n",
       "4           83.9        267.40           0.00                        0   \n",
       "\n",
       "  Total Long Distance Charges Total Revenue  Customer Status   Churn Category  \\\n",
       "0                      381.51        974.81           Stayed              NaN   \n",
       "1                       96.21        610.28           Stayed              NaN   \n",
       "2                      134.60        415.45          Churned       Competitor   \n",
       "3                      361.66       1599.51          Churned  Dissatisfaction   \n",
       "4                       22.14        289.54          Churned  Dissatisfaction   \n",
       "\n",
       "                    Churn Reason Population  \n",
       "0                            NaN       4498  \n",
       "1                            NaN      31297  \n",
       "2  Competitor had better devices      62069  \n",
       "3        Product dissatisfaction      46677  \n",
       "4            Network reliability      42853  \n",
       "\n",
       "[5 rows x 38 columns]"
      ]
     },
     "execution_count": 2,
     "metadata": {},
     "output_type": "execute_result"
    }
   ],
   "source": [
    "df = pd.read_csv('../data/telecom_customer_churn_joined.csv')\n",
    "df.head()"
   ]
  },
  {
   "cell_type": "code",
   "execution_count": 3,
   "metadata": {},
   "outputs": [],
   "source": [
    "data = df.drop(['Customer ID','Churn Category','Churn Reason'], axis = 1)"
   ]
  },
  {
   "cell_type": "code",
   "execution_count": 4,
   "metadata": {
    "execution": {
     "iopub.execute_input": "2022-12-01T19:16:55.685756Z",
     "iopub.status.busy": "2022-12-01T19:16:55.685104Z",
     "iopub.status.idle": "2022-12-01T19:16:55.721120Z",
     "shell.execute_reply": "2022-12-01T19:16:55.719875Z",
     "shell.execute_reply.started": "2022-12-01T19:16:55.685698Z"
    }
   },
   "outputs": [
    {
     "name": "stdout",
     "output_type": "stream",
     "text": [
      "<class 'pandas.core.frame.DataFrame'>\n",
      "RangeIndex: 7043 entries, 0 to 7042\n",
      "Data columns (total 35 columns):\n",
      " #   Column                             Non-Null Count  Dtype  \n",
      "---  ------                             --------------  -----  \n",
      " 0   Gender                             7043 non-null   object \n",
      " 1   Age                                7043 non-null   int64  \n",
      " 2   Married                            7043 non-null   object \n",
      " 3   Number of Dependents               7043 non-null   int64  \n",
      " 4   City                               7043 non-null   object \n",
      " 5   Latitude                           7043 non-null   float64\n",
      " 6   Longitude                          7043 non-null   float64\n",
      " 7   Number of Referrals                7043 non-null   int64  \n",
      " 8   Tenure in Months                   7043 non-null   int64  \n",
      " 9   Offer                              7043 non-null   object \n",
      " 10  Phone Service                      7043 non-null   object \n",
      " 11  Avg Monthly Long Distance Charges  6361 non-null   float64\n",
      " 12  Multiple Lines                     6361 non-null   object \n",
      " 13  Internet Service                   7043 non-null   object \n",
      " 14  Internet Type                      5517 non-null   object \n",
      " 15  Avg Monthly GB Download            5517 non-null   float64\n",
      " 16  Online Security                    5517 non-null   object \n",
      " 17  Online Backup                      5517 non-null   object \n",
      " 18  Device Protection Plan             5517 non-null   object \n",
      " 19  Premium Tech Support               5517 non-null   object \n",
      " 20  Streaming TV                       5517 non-null   object \n",
      " 21  Streaming Movies                   5517 non-null   object \n",
      " 22  Streaming Music                    5517 non-null   object \n",
      " 23  Unlimited Data                     5517 non-null   object \n",
      " 24  Contract                           7043 non-null   object \n",
      " 25  Paperless Billing                  7043 non-null   object \n",
      " 26  Payment Method                     7043 non-null   object \n",
      " 27  Monthly Charge                     7043 non-null   float64\n",
      " 28  Total Charges                      7043 non-null   float64\n",
      " 29  Total Refunds                      7043 non-null   float64\n",
      " 30  Total Extra Data Charges           7043 non-null   int64  \n",
      " 31  Total Long Distance Charges        7043 non-null   float64\n",
      " 32  Total Revenue                      7043 non-null   float64\n",
      " 33  Customer Status                    7043 non-null   object \n",
      " 34  Population                         7043 non-null   int64  \n",
      "dtypes: float64(9), int64(6), object(20)\n",
      "memory usage: 1.9+ MB\n"
     ]
    }
   ],
   "source": [
    "data.info()"
   ]
  },
  {
   "cell_type": "code",
   "execution_count": 5,
   "metadata": {
    "scrolled": false
   },
   "outputs": [
    {
     "data": {
      "text/plain": [
       "Gender                                  0\n",
       "Age                                     0\n",
       "Married                                 0\n",
       "Number of Dependents                    0\n",
       "City                                    0\n",
       "Latitude                                0\n",
       "Longitude                               0\n",
       "Number of Referrals                     0\n",
       "Tenure in Months                        0\n",
       "Offer                                   0\n",
       "Phone Service                           0\n",
       "Avg Monthly Long Distance Charges     682\n",
       "Multiple Lines                        682\n",
       "Internet Service                        0\n",
       "Internet Type                        1526\n",
       "Avg Monthly GB Download              1526\n",
       "Online Security                      1526\n",
       "Online Backup                        1526\n",
       "Device Protection Plan               1526\n",
       "Premium Tech Support                 1526\n",
       "Streaming TV                         1526\n",
       "Streaming Movies                     1526\n",
       "Streaming Music                      1526\n",
       "Unlimited Data                       1526\n",
       "Contract                                0\n",
       "Paperless Billing                       0\n",
       "Payment Method                          0\n",
       "Monthly Charge                          0\n",
       "Total Charges                           0\n",
       "Total Refunds                           0\n",
       "Total Extra Data Charges                0\n",
       "Total Long Distance Charges             0\n",
       "Total Revenue                           0\n",
       "Customer Status                         0\n",
       "Population                              0\n",
       "dtype: int64"
      ]
     },
     "execution_count": 5,
     "metadata": {},
     "output_type": "execute_result"
    }
   ],
   "source": [
    "data.isna().sum()"
   ]
  },
  {
   "cell_type": "code",
   "execution_count": 6,
   "metadata": {},
   "outputs": [
    {
     "data": {
      "text/html": [
       "<div>\n",
       "<style scoped>\n",
       "    .dataframe tbody tr th:only-of-type {\n",
       "        vertical-align: middle;\n",
       "    }\n",
       "\n",
       "    .dataframe tbody tr th {\n",
       "        vertical-align: top;\n",
       "    }\n",
       "\n",
       "    .dataframe thead th {\n",
       "        text-align: right;\n",
       "    }\n",
       "</style>\n",
       "<table border=\"1\" class=\"dataframe\">\n",
       "  <thead>\n",
       "    <tr style=\"text-align: right;\">\n",
       "      <th></th>\n",
       "      <th>Internet Type</th>\n",
       "      <th>Avg Monthly GB Download</th>\n",
       "      <th>Online Security</th>\n",
       "      <th>Online Backup</th>\n",
       "      <th>Device Protection Plan</th>\n",
       "      <th>Premium Tech Support</th>\n",
       "      <th>Streaming TV</th>\n",
       "      <th>Streaming Movies</th>\n",
       "      <th>Streaming Music</th>\n",
       "      <th>Unlimited Data</th>\n",
       "    </tr>\n",
       "  </thead>\n",
       "  <tbody>\n",
       "    <tr>\n",
       "      <th>20</th>\n",
       "      <td>NaN</td>\n",
       "      <td>NaN</td>\n",
       "      <td>NaN</td>\n",
       "      <td>NaN</td>\n",
       "      <td>NaN</td>\n",
       "      <td>NaN</td>\n",
       "      <td>NaN</td>\n",
       "      <td>NaN</td>\n",
       "      <td>NaN</td>\n",
       "      <td>NaN</td>\n",
       "    </tr>\n",
       "    <tr>\n",
       "      <th>23</th>\n",
       "      <td>NaN</td>\n",
       "      <td>NaN</td>\n",
       "      <td>NaN</td>\n",
       "      <td>NaN</td>\n",
       "      <td>NaN</td>\n",
       "      <td>NaN</td>\n",
       "      <td>NaN</td>\n",
       "      <td>NaN</td>\n",
       "      <td>NaN</td>\n",
       "      <td>NaN</td>\n",
       "    </tr>\n",
       "    <tr>\n",
       "      <th>24</th>\n",
       "      <td>NaN</td>\n",
       "      <td>NaN</td>\n",
       "      <td>NaN</td>\n",
       "      <td>NaN</td>\n",
       "      <td>NaN</td>\n",
       "      <td>NaN</td>\n",
       "      <td>NaN</td>\n",
       "      <td>NaN</td>\n",
       "      <td>NaN</td>\n",
       "      <td>NaN</td>\n",
       "    </tr>\n",
       "    <tr>\n",
       "      <th>27</th>\n",
       "      <td>NaN</td>\n",
       "      <td>NaN</td>\n",
       "      <td>NaN</td>\n",
       "      <td>NaN</td>\n",
       "      <td>NaN</td>\n",
       "      <td>NaN</td>\n",
       "      <td>NaN</td>\n",
       "      <td>NaN</td>\n",
       "      <td>NaN</td>\n",
       "      <td>NaN</td>\n",
       "    </tr>\n",
       "    <tr>\n",
       "      <th>28</th>\n",
       "      <td>NaN</td>\n",
       "      <td>NaN</td>\n",
       "      <td>NaN</td>\n",
       "      <td>NaN</td>\n",
       "      <td>NaN</td>\n",
       "      <td>NaN</td>\n",
       "      <td>NaN</td>\n",
       "      <td>NaN</td>\n",
       "      <td>NaN</td>\n",
       "      <td>NaN</td>\n",
       "    </tr>\n",
       "    <tr>\n",
       "      <th>...</th>\n",
       "      <td>...</td>\n",
       "      <td>...</td>\n",
       "      <td>...</td>\n",
       "      <td>...</td>\n",
       "      <td>...</td>\n",
       "      <td>...</td>\n",
       "      <td>...</td>\n",
       "      <td>...</td>\n",
       "      <td>...</td>\n",
       "      <td>...</td>\n",
       "    </tr>\n",
       "    <tr>\n",
       "      <th>7026</th>\n",
       "      <td>NaN</td>\n",
       "      <td>NaN</td>\n",
       "      <td>NaN</td>\n",
       "      <td>NaN</td>\n",
       "      <td>NaN</td>\n",
       "      <td>NaN</td>\n",
       "      <td>NaN</td>\n",
       "      <td>NaN</td>\n",
       "      <td>NaN</td>\n",
       "      <td>NaN</td>\n",
       "    </tr>\n",
       "    <tr>\n",
       "      <th>7028</th>\n",
       "      <td>NaN</td>\n",
       "      <td>NaN</td>\n",
       "      <td>NaN</td>\n",
       "      <td>NaN</td>\n",
       "      <td>NaN</td>\n",
       "      <td>NaN</td>\n",
       "      <td>NaN</td>\n",
       "      <td>NaN</td>\n",
       "      <td>NaN</td>\n",
       "      <td>NaN</td>\n",
       "    </tr>\n",
       "    <tr>\n",
       "      <th>7032</th>\n",
       "      <td>NaN</td>\n",
       "      <td>NaN</td>\n",
       "      <td>NaN</td>\n",
       "      <td>NaN</td>\n",
       "      <td>NaN</td>\n",
       "      <td>NaN</td>\n",
       "      <td>NaN</td>\n",
       "      <td>NaN</td>\n",
       "      <td>NaN</td>\n",
       "      <td>NaN</td>\n",
       "    </tr>\n",
       "    <tr>\n",
       "      <th>7033</th>\n",
       "      <td>NaN</td>\n",
       "      <td>NaN</td>\n",
       "      <td>NaN</td>\n",
       "      <td>NaN</td>\n",
       "      <td>NaN</td>\n",
       "      <td>NaN</td>\n",
       "      <td>NaN</td>\n",
       "      <td>NaN</td>\n",
       "      <td>NaN</td>\n",
       "      <td>NaN</td>\n",
       "    </tr>\n",
       "    <tr>\n",
       "      <th>7037</th>\n",
       "      <td>NaN</td>\n",
       "      <td>NaN</td>\n",
       "      <td>NaN</td>\n",
       "      <td>NaN</td>\n",
       "      <td>NaN</td>\n",
       "      <td>NaN</td>\n",
       "      <td>NaN</td>\n",
       "      <td>NaN</td>\n",
       "      <td>NaN</td>\n",
       "      <td>NaN</td>\n",
       "    </tr>\n",
       "  </tbody>\n",
       "</table>\n",
       "<p>1526 rows × 10 columns</p>\n",
       "</div>"
      ],
      "text/plain": [
       "     Internet Type  Avg Monthly GB Download Online Security Online Backup  \\\n",
       "20             NaN                      NaN             NaN           NaN   \n",
       "23             NaN                      NaN             NaN           NaN   \n",
       "24             NaN                      NaN             NaN           NaN   \n",
       "27             NaN                      NaN             NaN           NaN   \n",
       "28             NaN                      NaN             NaN           NaN   \n",
       "...            ...                      ...             ...           ...   \n",
       "7026           NaN                      NaN             NaN           NaN   \n",
       "7028           NaN                      NaN             NaN           NaN   \n",
       "7032           NaN                      NaN             NaN           NaN   \n",
       "7033           NaN                      NaN             NaN           NaN   \n",
       "7037           NaN                      NaN             NaN           NaN   \n",
       "\n",
       "     Device Protection Plan Premium Tech Support Streaming TV  \\\n",
       "20                      NaN                  NaN          NaN   \n",
       "23                      NaN                  NaN          NaN   \n",
       "24                      NaN                  NaN          NaN   \n",
       "27                      NaN                  NaN          NaN   \n",
       "28                      NaN                  NaN          NaN   \n",
       "...                     ...                  ...          ...   \n",
       "7026                    NaN                  NaN          NaN   \n",
       "7028                    NaN                  NaN          NaN   \n",
       "7032                    NaN                  NaN          NaN   \n",
       "7033                    NaN                  NaN          NaN   \n",
       "7037                    NaN                  NaN          NaN   \n",
       "\n",
       "     Streaming Movies Streaming Music Unlimited Data  \n",
       "20                NaN             NaN            NaN  \n",
       "23                NaN             NaN            NaN  \n",
       "24                NaN             NaN            NaN  \n",
       "27                NaN             NaN            NaN  \n",
       "28                NaN             NaN            NaN  \n",
       "...               ...             ...            ...  \n",
       "7026              NaN             NaN            NaN  \n",
       "7028              NaN             NaN            NaN  \n",
       "7032              NaN             NaN            NaN  \n",
       "7033              NaN             NaN            NaN  \n",
       "7037              NaN             NaN            NaN  \n",
       "\n",
       "[1526 rows x 10 columns]"
      ]
     },
     "execution_count": 6,
     "metadata": {},
     "output_type": "execute_result"
    }
   ],
   "source": [
    "data[data['Internet Type'].isna()][['Internet Type','Avg Monthly GB Download','Online Security',\n",
    "                                    'Online Backup','Device Protection Plan','Premium Tech Support',\n",
    "                                    'Streaming TV','Streaming Movies','Streaming Music','Unlimited Data']]"
   ]
  },
  {
   "cell_type": "code",
   "execution_count": 7,
   "metadata": {},
   "outputs": [
    {
     "data": {
      "text/html": [
       "<div>\n",
       "<style scoped>\n",
       "    .dataframe tbody tr th:only-of-type {\n",
       "        vertical-align: middle;\n",
       "    }\n",
       "\n",
       "    .dataframe tbody tr th {\n",
       "        vertical-align: top;\n",
       "    }\n",
       "\n",
       "    .dataframe thead th {\n",
       "        text-align: right;\n",
       "    }\n",
       "</style>\n",
       "<table border=\"1\" class=\"dataframe\">\n",
       "  <thead>\n",
       "    <tr style=\"text-align: right;\">\n",
       "      <th></th>\n",
       "      <th>Avg Monthly Long Distance Charges</th>\n",
       "      <th>Multiple Lines</th>\n",
       "    </tr>\n",
       "  </thead>\n",
       "  <tbody>\n",
       "    <tr>\n",
       "      <th>10</th>\n",
       "      <td>NaN</td>\n",
       "      <td>NaN</td>\n",
       "    </tr>\n",
       "    <tr>\n",
       "      <th>14</th>\n",
       "      <td>NaN</td>\n",
       "      <td>NaN</td>\n",
       "    </tr>\n",
       "    <tr>\n",
       "      <th>16</th>\n",
       "      <td>NaN</td>\n",
       "      <td>NaN</td>\n",
       "    </tr>\n",
       "    <tr>\n",
       "      <th>19</th>\n",
       "      <td>NaN</td>\n",
       "      <td>NaN</td>\n",
       "    </tr>\n",
       "    <tr>\n",
       "      <th>25</th>\n",
       "      <td>NaN</td>\n",
       "      <td>NaN</td>\n",
       "    </tr>\n",
       "    <tr>\n",
       "      <th>...</th>\n",
       "      <td>...</td>\n",
       "      <td>...</td>\n",
       "    </tr>\n",
       "    <tr>\n",
       "      <th>6979</th>\n",
       "      <td>NaN</td>\n",
       "      <td>NaN</td>\n",
       "    </tr>\n",
       "    <tr>\n",
       "      <th>6980</th>\n",
       "      <td>NaN</td>\n",
       "      <td>NaN</td>\n",
       "    </tr>\n",
       "    <tr>\n",
       "      <th>6996</th>\n",
       "      <td>NaN</td>\n",
       "      <td>NaN</td>\n",
       "    </tr>\n",
       "    <tr>\n",
       "      <th>7016</th>\n",
       "      <td>NaN</td>\n",
       "      <td>NaN</td>\n",
       "    </tr>\n",
       "    <tr>\n",
       "      <th>7042</th>\n",
       "      <td>NaN</td>\n",
       "      <td>NaN</td>\n",
       "    </tr>\n",
       "  </tbody>\n",
       "</table>\n",
       "<p>682 rows × 2 columns</p>\n",
       "</div>"
      ],
      "text/plain": [
       "      Avg Monthly Long Distance Charges Multiple Lines\n",
       "10                                  NaN            NaN\n",
       "14                                  NaN            NaN\n",
       "16                                  NaN            NaN\n",
       "19                                  NaN            NaN\n",
       "25                                  NaN            NaN\n",
       "...                                 ...            ...\n",
       "6979                                NaN            NaN\n",
       "6980                                NaN            NaN\n",
       "6996                                NaN            NaN\n",
       "7016                                NaN            NaN\n",
       "7042                                NaN            NaN\n",
       "\n",
       "[682 rows x 2 columns]"
      ]
     },
     "execution_count": 7,
     "metadata": {},
     "output_type": "execute_result"
    }
   ],
   "source": [
    "data[data['Avg Monthly Long Distance Charges'].isna()][['Avg Monthly Long Distance Charges','Multiple Lines']]"
   ]
  },
  {
   "cell_type": "code",
   "execution_count": 8,
   "metadata": {
    "scrolled": false
   },
   "outputs": [
    {
     "data": {
      "text/plain": [
       "2208"
      ]
     },
     "execution_count": 8,
     "metadata": {},
     "output_type": "execute_result"
    }
   ],
   "source": [
    "len(data[data['Internet Type'].isna() | data['Multiple Lines'].isna()])"
   ]
  },
  {
   "cell_type": "code",
   "execution_count": 9,
   "metadata": {},
   "outputs": [
    {
     "data": {
      "text/plain": [
       "0.686497231293483"
      ]
     },
     "execution_count": 9,
     "metadata": {},
     "output_type": "execute_result"
    }
   ],
   "source": [
    "(len(data) - len(data[data['Internet Type'].isna() | data['Multiple Lines'].isna()]))/len(data)"
   ]
  },
  {
   "cell_type": "code",
   "execution_count": 10,
   "metadata": {},
   "outputs": [
    {
     "name": "stdout",
     "output_type": "stream",
     "text": [
      "<class 'pandas.core.frame.DataFrame'>\n",
      "Int64Index: 4835 entries, 0 to 7041\n",
      "Data columns (total 35 columns):\n",
      " #   Column                             Non-Null Count  Dtype  \n",
      "---  ------                             --------------  -----  \n",
      " 0   Gender                             4835 non-null   object \n",
      " 1   Age                                4835 non-null   int64  \n",
      " 2   Married                            4835 non-null   object \n",
      " 3   Number of Dependents               4835 non-null   int64  \n",
      " 4   City                               4835 non-null   object \n",
      " 5   Latitude                           4835 non-null   float64\n",
      " 6   Longitude                          4835 non-null   float64\n",
      " 7   Number of Referrals                4835 non-null   int64  \n",
      " 8   Tenure in Months                   4835 non-null   int64  \n",
      " 9   Offer                              4835 non-null   object \n",
      " 10  Phone Service                      4835 non-null   object \n",
      " 11  Avg Monthly Long Distance Charges  4835 non-null   float64\n",
      " 12  Multiple Lines                     4835 non-null   object \n",
      " 13  Internet Service                   4835 non-null   object \n",
      " 14  Internet Type                      4835 non-null   object \n",
      " 15  Avg Monthly GB Download            4835 non-null   float64\n",
      " 16  Online Security                    4835 non-null   object \n",
      " 17  Online Backup                      4835 non-null   object \n",
      " 18  Device Protection Plan             4835 non-null   object \n",
      " 19  Premium Tech Support               4835 non-null   object \n",
      " 20  Streaming TV                       4835 non-null   object \n",
      " 21  Streaming Movies                   4835 non-null   object \n",
      " 22  Streaming Music                    4835 non-null   object \n",
      " 23  Unlimited Data                     4835 non-null   object \n",
      " 24  Contract                           4835 non-null   object \n",
      " 25  Paperless Billing                  4835 non-null   object \n",
      " 26  Payment Method                     4835 non-null   object \n",
      " 27  Monthly Charge                     4835 non-null   float64\n",
      " 28  Total Charges                      4835 non-null   float64\n",
      " 29  Total Refunds                      4835 non-null   float64\n",
      " 30  Total Extra Data Charges           4835 non-null   int64  \n",
      " 31  Total Long Distance Charges        4835 non-null   float64\n",
      " 32  Total Revenue                      4835 non-null   float64\n",
      " 33  Customer Status                    4835 non-null   object \n",
      " 34  Population                         4835 non-null   int64  \n",
      "dtypes: float64(9), int64(6), object(20)\n",
      "memory usage: 1.3+ MB\n"
     ]
    }
   ],
   "source": [
    "data = data.dropna()\n",
    "\n",
    "data.info()"
   ]
  },
  {
   "cell_type": "markdown",
   "metadata": {
    "execution": {
     "iopub.execute_input": "2022-12-01T19:16:55.745083Z",
     "iopub.status.busy": "2022-12-01T19:16:55.744305Z",
     "iopub.status.idle": "2022-12-01T19:16:55.757054Z",
     "shell.execute_reply": "2022-12-01T19:16:55.755430Z",
     "shell.execute_reply.started": "2022-12-01T19:16:55.745038Z"
    }
   },
   "source": [
    "No missing values in the data. \n",
    "\n",
    "Cool!"
   ]
  },
  {
   "cell_type": "markdown",
   "metadata": {},
   "source": [
    "### EDA\n",
    "In this section, I will check frequency of the target, the distribution of the numeric features, the frequencies  of the categorical features. I will also check frequency of the target to see the balance of the data"
   ]
  },
  {
   "cell_type": "markdown",
   "metadata": {},
   "source": [
    "### Examining the Frequency of the Target"
   ]
  },
  {
   "cell_type": "code",
   "execution_count": 11,
   "metadata": {
    "execution": {
     "iopub.execute_input": "2022-12-01T19:17:00.159516Z",
     "iopub.status.busy": "2022-12-01T19:17:00.159013Z",
     "iopub.status.idle": "2022-12-01T19:17:00.337576Z",
     "shell.execute_reply": "2022-12-01T19:17:00.336182Z",
     "shell.execute_reply.started": "2022-12-01T19:17:00.159471Z"
    },
    "scrolled": true
   },
   "outputs": [
    {
     "data": {
      "image/png": "[encoded data removed]",
      "text/plain": [
       "<Figure size 432x288 with 1 Axes>"
      ]
     },
     "metadata": {
      "needs_background": "light"
     },
     "output_type": "display_data"
    }
   ],
   "source": [
    "# check the distribution of the target\n",
    "sns.countplot(x = data['Customer Status'])\n",
    "plt.title('Churn Frequency')\n",
    "plt.show()"
   ]
  },
  {
   "cell_type": "markdown",
   "metadata": {},
   "source": [
    "This is obviously imbalanced data.\n",
    "\n",
    "Since the objective of this project is to predict which customer is about to churn or not, then no need for the \"joined\" value.\n",
    "Therefore, I will remove the records associated with \"joined\" value."
   ]
  },
  {
   "cell_type": "code",
   "execution_count": 12,
   "metadata": {},
   "outputs": [],
   "source": [
    "data = data[data['Customer Status'] != 'Joined']"
   ]
  },
  {
   "cell_type": "markdown",
   "metadata": {},
   "source": [
    "### Examining the Distribution of Numeric Features"
   ]
  },
  {
   "cell_type": "code",
   "execution_count": 13,
   "metadata": {
    "execution": {
     "iopub.execute_input": "2022-12-01T19:16:55.759092Z",
     "iopub.status.busy": "2022-12-01T19:16:55.758724Z",
     "iopub.status.idle": "2022-12-01T19:16:55.774394Z",
     "shell.execute_reply": "2022-12-01T19:16:55.773246Z",
     "shell.execute_reply.started": "2022-12-01T19:16:55.759057Z"
    }
   },
   "outputs": [],
   "source": [
    "# selecting numeric features\n",
    "numeric_features = data.select_dtypes([int,float]).columns.tolist()"
   ]
  },
  {
   "cell_type": "code",
   "execution_count": 14,
   "metadata": {
    "execution": {
     "iopub.execute_input": "2022-12-01T19:16:55.789208Z",
     "iopub.status.busy": "2022-12-01T19:16:55.788568Z",
     "iopub.status.idle": "2022-12-01T19:16:56.970955Z",
     "shell.execute_reply": "2022-12-01T19:16:56.969207Z",
     "shell.execute_reply.started": "2022-12-01T19:16:55.789149Z"
    },
    "scrolled": false
   },
   "outputs": [
    {
     "name": "stdout",
     "output_type": "stream",
     "text": [
      "Age Statistics\n",
      "count    4601.000000\n",
      "mean       47.893067\n",
      "std        17.361999\n",
      "min        19.000000\n",
      "25%        33.000000\n",
      "50%        47.000000\n",
      "75%        62.000000\n",
      "max        80.000000\n",
      "Name: Age, dtype: float64\n"
     ]
    },
    {
     "data": {
      "image/png": "[encoded data removed]",
      "text/plain": [
       "<Figure size 720x288 with 2 Axes>"
      ]
     },
     "metadata": {
      "needs_background": "light"
     },
     "output_type": "display_data"
    },
    {
     "name": "stdout",
     "output_type": "stream",
     "text": [
      "Number of Dependents Statistics\n",
      "count    4601.000000\n",
      "mean        0.380569\n",
      "std         0.880541\n",
      "min         0.000000\n",
      "25%         0.000000\n",
      "50%         0.000000\n",
      "75%         0.000000\n",
      "max         8.000000\n",
      "Name: Number of Dependents, dtype: float64\n"
     ]
    },
    {
     "data": {
      "image/png": "[encoded data removed]",
      "text/plain": [
       "<Figure size 720x288 with 2 Axes>"
      ]
     },
     "metadata": {
      "needs_background": "light"
     },
     "output_type": "display_data"
    },
    {
     "name": "stdout",
     "output_type": "stream",
     "text": [
      "Latitude Statistics\n",
      "count    4601.000000\n",
      "mean       36.140623\n",
      "std         2.482582\n",
      "min        32.555828\n",
      "25%        33.956228\n",
      "50%        35.930782\n",
      "75%        38.135897\n",
      "max        41.962127\n",
      "Name: Latitude, dtype: float64\n"
     ]
    },
    {
     "data": {
      "image/png": "[encoded data removed]",
      "text/plain": [
       "<Figure size 720x288 with 2 Axes>"
      ]
     },
     "metadata": {
      "needs_background": "light"
     },
     "output_type": "display_data"
    },
    {
     "name": "stdout",
     "output_type": "stream",
     "text": [
      "Longitude Statistics\n",
      "count    4601.000000\n",
      "mean     -119.704401\n",
      "std         2.152570\n",
      "min      -124.301372\n",
      "25%      -121.749494\n",
      "50%      -119.446400\n",
      "75%      -117.897367\n",
      "max      -114.192901\n",
      "Name: Longitude, dtype: float64\n"
     ]
    },
    {
     "data": {
      "image/png": "[encoded data removed]",
      "text/plain": [
       "<Figure size 720x288 with 2 Axes>"
      ]
     },
     "metadata": {
      "needs_background": "light"
     },
     "output_type": "display_data"
    },
    {
     "name": "stdout",
     "output_type": "stream",
     "text": [
      "Number of Referrals Statistics\n",
      "count    4601.000000\n",
      "mean        1.947403\n",
      "std         2.957352\n",
      "min         0.000000\n",
      "25%         0.000000\n",
      "50%         0.000000\n",
      "75%         3.000000\n",
      "max        11.000000\n",
      "Name: Number of Referrals, dtype: float64\n"
     ]
    },
    {
     "data": {
      "image/png": "[encoded data removed]",
      "text/plain": [
       "<Figure size 720x288 with 2 Axes>"
      ]
     },
     "metadata": {
      "needs_background": "light"
     },
     "output_type": "display_data"
    },
    {
     "name": "stdout",
     "output_type": "stream",
     "text": [
      "Tenure in Months Statistics\n",
      "count    4601.000000\n",
      "mean       34.631167\n",
      "std        24.198487\n",
      "min         1.000000\n",
      "25%        12.000000\n",
      "50%        32.000000\n",
      "75%        58.000000\n",
      "max        72.000000\n",
      "Name: Tenure in Months, dtype: float64\n"
     ]
    },
    {
     "data": {
      "image/png": "[encoded data removed]",
      "text/plain": [
       "<Figure size 720x288 with 2 Axes>"
      ]
     },
     "metadata": {
      "needs_background": "light"
     },
     "output_type": "display_data"
    },
    {
     "name": "stdout",
     "output_type": "stream",
     "text": [
      "Avg Monthly Long Distance Charges Statistics\n",
      "count    4601.00000\n",
      "mean       25.58110\n",
      "std        14.26574\n",
      "min         1.01000\n",
      "25%        13.02000\n",
      "50%        25.84000\n",
      "75%        37.97000\n",
      "max        49.99000\n",
      "Name: Avg Monthly Long Distance Charges, dtype: float64\n"
     ]
    },
    {
     "data": {
      "image/png": "[encoded data removed]",
      "text/plain": [
       "<Figure size 720x288 with 2 Axes>"
      ]
     },
     "metadata": {
      "needs_background": "light"
     },
     "output_type": "display_data"
    },
    {
     "name": "stdout",
     "output_type": "stream",
     "text": [
      "Avg Monthly GB Download Statistics\n",
      "count    4601.000000\n",
      "mean       26.128885\n",
      "std        19.537158\n",
      "min         2.000000\n",
      "25%        13.000000\n",
      "50%        21.000000\n",
      "75%        30.000000\n",
      "max        85.000000\n",
      "Name: Avg Monthly GB Download, dtype: float64\n"
     ]
    },
    {
     "data": {
      "image/png": "[encoded data removed]",
      "text/plain": [
       "<Figure size 720x288 with 2 Axes>"
      ]
     },
     "metadata": {
      "needs_background": "light"
     },
     "output_type": "display_data"
    },
    {
     "name": "stdout",
     "output_type": "stream",
     "text": [
      "Monthly Charge Statistics\n",
      "count    4601.000000\n",
      "mean       81.202717\n",
      "std        21.149670\n",
      "min       -10.000000\n",
      "25%        69.900000\n",
      "50%        83.750000\n",
      "75%        96.200000\n",
      "max       118.750000\n",
      "Name: Monthly Charge, dtype: float64\n"
     ]
    },
    {
     "data": {
      "image/png": "[encoded data removed]",
      "text/plain": [
       "<Figure size 720x288 with 2 Axes>"
      ]
     },
     "metadata": {
      "needs_background": "light"
     },
     "output_type": "display_data"
    },
    {
     "name": "stdout",
     "output_type": "stream",
     "text": [
      "Total Charges Statistics\n",
      "count    4601.000000\n",
      "mean     3042.594740\n",
      "std      2391.056719\n",
      "min        42.900000\n",
      "25%       847.300000\n",
      "50%      2564.300000\n",
      "75%      4968.000000\n",
      "max      8684.800000\n",
      "Name: Total Charges, dtype: float64\n"
     ]
    },
    {
     "data": {
      "image/png": "[encoded data removed]",
      "text/plain": [
       "<Figure size 720x288 with 2 Axes>"
      ]
     },
     "metadata": {
      "needs_background": "light"
     },
     "output_type": "display_data"
    },
    {
     "name": "stdout",
     "output_type": "stream",
     "text": [
      "Total Refunds Statistics\n",
      "count    4601.000000\n",
      "mean        2.163306\n",
      "std         8.286778\n",
      "min         0.000000\n",
      "25%         0.000000\n",
      "50%         0.000000\n",
      "75%         0.000000\n",
      "max        49.570000\n",
      "Name: Total Refunds, dtype: float64\n"
     ]
    },
    {
     "data": {
      "image/png": "[encoded data removed]",
      "text/plain": [
       "<Figure size 720x288 with 2 Axes>"
      ]
     },
     "metadata": {
      "needs_background": "light"
     },
     "output_type": "display_data"
    },
    {
     "name": "stdout",
     "output_type": "stream",
     "text": [
      "Total Extra Data Charges Statistics\n",
      "count    4601.000000\n",
      "mean        8.943708\n",
      "std        28.620707\n",
      "min         0.000000\n",
      "25%         0.000000\n",
      "50%         0.000000\n",
      "75%         0.000000\n",
      "max       150.000000\n",
      "Name: Total Extra Data Charges, dtype: float64\n"
     ]
    },
    {
     "data": {
      "image/png": "[encoded data removed]",
      "text/plain": [
       "<Figure size 720x288 with 2 Axes>"
      ]
     },
     "metadata": {
      "needs_background": "light"
     },
     "output_type": "display_data"
    },
    {
     "name": "stdout",
     "output_type": "stream",
     "text": [
      "Total Long Distance Charges Statistics\n",
      "count    4601.000000\n",
      "mean      888.916292\n",
      "std       866.506931\n",
      "min         1.130000\n",
      "25%       178.890000\n",
      "50%       582.000000\n",
      "75%      1417.920000\n",
      "max      3536.640000\n",
      "Name: Total Long Distance Charges, dtype: float64\n"
     ]
    },
    {
     "data": {
      "image/png": "[encoded data removed]",
      "text/plain": [
       "<Figure size 720x288 with 2 Axes>"
      ]
     },
     "metadata": {
      "needs_background": "light"
     },
     "output_type": "display_data"
    },
    {
     "name": "stdout",
     "output_type": "stream",
     "text": [
      "Total Revenue Statistics\n",
      "count     4601.000000\n",
      "mean      3938.291434\n",
      "std       3054.189347\n",
      "min         46.920000\n",
      "25%       1119.400000\n",
      "50%       3378.790000\n",
      "75%       6412.050000\n",
      "max      11979.340000\n",
      "Name: Total Revenue, dtype: float64\n"
     ]
    },
    {
     "data": {
      "image/png": "[encoded data removed]",
      "text/plain": [
       "<Figure size 720x288 with 2 Axes>"
      ]
     },
     "metadata": {
      "needs_background": "light"
     },
     "output_type": "display_data"
    },
    {
     "name": "stdout",
     "output_type": "stream",
     "text": [
      "Population Statistics\n",
      "count      4601.000000\n",
      "mean      22402.013693\n",
      "std       21292.531192\n",
      "min          11.000000\n",
      "25%        2344.000000\n",
      "50%       17944.000000\n",
      "75%       36625.000000\n",
      "max      105285.000000\n",
      "Name: Population, dtype: float64\n"
     ]
    },
    {
     "data": {
      "image/png": "[encoded data removed]",
      "text/plain": [
       "<Figure size 720x288 with 2 Axes>"
      ]
     },
     "metadata": {
      "needs_background": "light"
     },
     "output_type": "display_data"
    }
   ],
   "source": [
    "for col in numeric_features:\n",
    "    print(f'{col} Statistics')\n",
    "    print(data[col].describe())\n",
    "    \n",
    "    \n",
    "    plt.figure(figsize=(10,4))\n",
    "    plt.suptitle(f'{col} Distribution')\n",
    "    \n",
    "    plt.subplot(1,2,1)\n",
    "    sns.histplot(data=data, x = col, bins=30)\n",
    "    plt.title('Histogram')\n",
    "    \n",
    "    plt.subplot(1,2,2)\n",
    "    sns.boxplot(data=data, x = col)\n",
    "    plt.title('Boxplot')\n",
    "    \n",
    "    plt.show() "
   ]
  },
  {
   "cell_type": "markdown",
   "metadata": {},
   "source": [
    "### Examining the Frequency of the Categorical Features"
   ]
  },
  {
   "cell_type": "code",
   "execution_count": 15,
   "metadata": {
    "execution": {
     "iopub.execute_input": "2022-12-01T19:16:55.776156Z",
     "iopub.status.busy": "2022-12-01T19:16:55.775780Z",
     "iopub.status.idle": "2022-12-01T19:16:55.784715Z",
     "shell.execute_reply": "2022-12-01T19:16:55.783648Z",
     "shell.execute_reply.started": "2022-12-01T19:16:55.776116Z"
    }
   },
   "outputs": [],
   "source": [
    "# selecting categorical features\n",
    "categorical_features = [col for col in data.select_dtypes('O').columns if col != 'Customer Status']"
   ]
  },
  {
   "cell_type": "code",
   "execution_count": 16,
   "metadata": {
    "execution": {
     "iopub.execute_input": "2022-12-01T19:16:56.973911Z",
     "iopub.status.busy": "2022-12-01T19:16:56.972873Z",
     "iopub.status.idle": "2022-12-01T19:17:00.157324Z",
     "shell.execute_reply": "2022-12-01T19:17:00.156018Z",
     "shell.execute_reply.started": "2022-12-01T19:16:56.973832Z"
    },
    "scrolled": false
   },
   "outputs": [
    {
     "name": "stdout",
     "output_type": "stream",
     "text": [
      "Female    2302\n",
      "Male      2299\n",
      "Name: Gender, dtype: int64\n"
     ]
    },
    {
     "data": {
      "image/png": "[encoded data removed]",
      "text/plain": [
       "<Figure size 432x288 with 1 Axes>"
      ]
     },
     "metadata": {
      "needs_background": "light"
     },
     "output_type": "display_data"
    },
    {
     "name": "stdout",
     "output_type": "stream",
     "text": [
      "Yes    2312\n",
      "No     2289\n",
      "Name: Married, dtype: int64\n"
     ]
    },
    {
     "data": {
      "image/png": "[encoded data removed]",
      "text/plain": [
       "<Figure size 432x288 with 1 Axes>"
      ]
     },
     "metadata": {
      "needs_background": "light"
     },
     "output_type": "display_data"
    },
    {
     "name": "stdout",
     "output_type": "stream",
     "text": [
      "None       2506\n",
      "Offer B     585\n",
      "Offer E     445\n",
      "Offer D     392\n",
      "Offer A     382\n",
      "Offer C     291\n",
      "Name: Offer, dtype: int64\n"
     ]
    },
    {
     "data": {
      "image/png": "[encoded data removed]",
      "text/plain": [
       "<Figure size 432x288 with 1 Axes>"
      ]
     },
     "metadata": {
      "needs_background": "light"
     },
     "output_type": "display_data"
    },
    {
     "name": "stdout",
     "output_type": "stream",
     "text": [
      "Yes    4601\n",
      "Name: Phone Service, dtype: int64\n"
     ]
    },
    {
     "data": {
      "image/png": "[encoded data removed]",
      "text/plain": [
       "<Figure size 432x288 with 1 Axes>"
      ]
     },
     "metadata": {
      "needs_background": "light"
     },
     "output_type": "display_data"
    },
    {
     "name": "stdout",
     "output_type": "stream",
     "text": [
      "Yes    2593\n",
      "No     2008\n",
      "Name: Multiple Lines, dtype: int64\n"
     ]
    },
    {
     "data": {
      "image/png": "[encoded data removed]",
      "text/plain": [
       "<Figure size 432x288 with 1 Axes>"
      ]
     },
     "metadata": {
      "needs_background": "light"
     },
     "output_type": "display_data"
    },
    {
     "name": "stdout",
     "output_type": "stream",
     "text": [
      "Yes    4601\n",
      "Name: Internet Service, dtype: int64\n"
     ]
    },
    {
     "data": {
      "image/png": "[encoded data removed]",
      "text/plain": [
       "<Figure size 432x288 with 1 Axes>"
      ]
     },
     "metadata": {
      "needs_background": "light"
     },
     "output_type": "display_data"
    },
    {
     "name": "stdout",
     "output_type": "stream",
     "text": [
      "Fiber Optic    2934\n",
      "DSL            1110\n",
      "Cable           557\n",
      "Name: Internet Type, dtype: int64\n"
     ]
    },
    {
     "data": {
      "image/png": "[encoded data removed]",
      "text/plain": [
       "<Figure size 432x288 with 1 Axes>"
      ]
     },
     "metadata": {
      "needs_background": "light"
     },
     "output_type": "display_data"
    },
    {
     "name": "stdout",
     "output_type": "stream",
     "text": [
      "No     2908\n",
      "Yes    1693\n",
      "Name: Online Security, dtype: int64\n"
     ]
    },
    {
     "data": {
      "image/png": "[encoded data removed]",
      "text/plain": [
       "<Figure size 432x288 with 1 Axes>"
      ]
     },
     "metadata": {
      "needs_background": "light"
     },
     "output_type": "display_data"
    },
    {
     "name": "stdout",
     "output_type": "stream",
     "text": [
      "No     2504\n",
      "Yes    2097\n",
      "Name: Online Backup, dtype: int64\n"
     ]
    },
    {
     "data": {
      "image/png": "[encoded data removed]",
      "text/plain": [
       "<Figure size 432x288 with 1 Axes>"
      ]
     },
     "metadata": {
      "needs_background": "light"
     },
     "output_type": "display_data"
    },
    {
     "name": "stdout",
     "output_type": "stream",
     "text": [
      "No     2514\n",
      "Yes    2087\n",
      "Name: Device Protection Plan, dtype: int64\n"
     ]
    },
    {
     "data": {
      "image/png": "[encoded data removed]",
      "text/plain": [
       "<Figure size 432x288 with 1 Axes>"
      ]
     },
     "metadata": {
      "needs_background": "light"
     },
     "output_type": "display_data"
    },
    {
     "name": "stdout",
     "output_type": "stream",
     "text": [
      "No     2883\n",
      "Yes    1718\n",
      "Name: Premium Tech Support, dtype: int64\n"
     ]
    },
    {
     "data": {
      "image/png": "[encoded data removed]",
      "text/plain": [
       "<Figure size 432x288 with 1 Axes>"
      ]
     },
     "metadata": {
      "needs_background": "light"
     },
     "output_type": "display_data"
    },
    {
     "name": "stdout",
     "output_type": "stream",
     "text": [
      "Yes    2375\n",
      "No     2226\n",
      "Name: Streaming TV, dtype: int64\n"
     ]
    },
    {
     "data": {
      "image/png": "[encoded data removed]",
      "text/plain": [
       "<Figure size 432x288 with 1 Axes>"
      ]
     },
     "metadata": {
      "needs_background": "light"
     },
     "output_type": "display_data"
    },
    {
     "name": "stdout",
     "output_type": "stream",
     "text": [
      "Yes    2388\n",
      "No     2213\n",
      "Name: Streaming Movies, dtype: int64\n"
     ]
    },
    {
     "data": {
      "image/png": "[encoded data removed]",
      "text/plain": [
       "<Figure size 432x288 with 1 Axes>"
      ]
     },
     "metadata": {
      "needs_background": "light"
     },
     "output_type": "display_data"
    },
    {
     "name": "stdout",
     "output_type": "stream",
     "text": [
      "No     2441\n",
      "Yes    2160\n",
      "Name: Streaming Music, dtype: int64\n"
     ]
    },
    {
     "data": {
      "image/png": "[encoded data removed]",
      "text/plain": [
       "<Figure size 432x288 with 1 Axes>"
      ]
     },
     "metadata": {
      "needs_background": "light"
     },
     "output_type": "display_data"
    },
    {
     "name": "stdout",
     "output_type": "stream",
     "text": [
      "Yes    3973\n",
      "No      628\n",
      "Name: Unlimited Data, dtype: int64\n"
     ]
    },
    {
     "data": {
      "image/png": "[encoded data removed]",
      "text/plain": [
       "<Figure size 432x288 with 1 Axes>"
      ]
     },
     "metadata": {
      "needs_background": "light"
     },
     "output_type": "display_data"
    },
    {
     "name": "stdout",
     "output_type": "stream",
     "text": [
      "Month-to-Month    2531\n",
      "Two Year          1044\n",
      "One Year          1026\n",
      "Name: Contract, dtype: int64\n"
     ]
    },
    {
     "data": {
      "image/png": "[encoded data removed]",
      "text/plain": [
       "<Figure size 432x288 with 1 Axes>"
      ]
     },
     "metadata": {
      "needs_background": "light"
     },
     "output_type": "display_data"
    },
    {
     "name": "stdout",
     "output_type": "stream",
     "text": [
      "Yes    3201\n",
      "No     1400\n",
      "Name: Paperless Billing, dtype: int64\n"
     ]
    },
    {
     "data": {
      "image/png": "[encoded data removed]",
      "text/plain": [
       "<Figure size 432x288 with 1 Axes>"
      ]
     },
     "metadata": {
      "needs_background": "light"
     },
     "output_type": "display_data"
    },
    {
     "name": "stdout",
     "output_type": "stream",
     "text": [
      "Bank Withdrawal    2954\n",
      "Credit Card        1472\n",
      "Mailed Check        175\n",
      "Name: Payment Method, dtype: int64\n"
     ]
    },
    {
     "data": {
      "image/png": "[encoded data removed]",
      "text/plain": [
       "<Figure size 432x288 with 1 Axes>"
      ]
     },
     "metadata": {
      "needs_background": "light"
     },
     "output_type": "display_data"
    }
   ],
   "source": [
    "for col in categorical_features:\n",
    "    if col == 'City':\n",
    "        continue\n",
    "    else:\n",
    "        print(data[col].value_counts())\n",
    "        sns.countplot(x = data[col])\n",
    "        plt.title(f'{col} Frequency')\n",
    "        if col == \"PaymentMethod\":\n",
    "            plt.xticks(rotation=45)\n",
    "        plt.show()"
   ]
  },
  {
   "cell_type": "markdown",
   "metadata": {},
   "source": [
    "It can be seen from the plots that \"Phone Service\" and \"Internet Service\" have only 1 distinct value for each. So, it won't add much for the analysis. Therefore, those features can be droped."
   ]
  },
  {
   "cell_type": "code",
   "execution_count": 17,
   "metadata": {
    "scrolled": true
   },
   "outputs": [],
   "source": [
    "categorical_features.remove('Phone Service')\n",
    "categorical_features.remove('Internet Service')\n"
   ]
  },
  {
   "cell_type": "markdown",
   "metadata": {},
   "source": [
    "## Model Reliability"
   ]
  },
  {
   "cell_type": "markdown",
   "metadata": {},
   "source": [
    "In this project, I dropped the data of the \"Joined\" value in the targte variable. This may affect the peformance of the model if the data related to \"Joined\" is used. My suggestion is to implement the solution in the architecture level."
   ]
  },
  {
   "cell_type": "code",
   "execution_count": 18,
   "metadata": {
    "scrolled": true
   },
   "outputs": [
    {
     "data": {
      "text/html": [
       "<div>\n",
       "<style scoped>\n",
       "    .dataframe tbody tr th:only-of-type {\n",
       "        vertical-align: middle;\n",
       "    }\n",
       "\n",
       "    .dataframe tbody tr th {\n",
       "        vertical-align: top;\n",
       "    }\n",
       "\n",
       "    .dataframe thead th {\n",
       "        text-align: right;\n",
       "    }\n",
       "</style>\n",
       "<table border=\"1\" class=\"dataframe\">\n",
       "  <thead>\n",
       "    <tr style=\"text-align: right;\">\n",
       "      <th></th>\n",
       "      <th>Avg.Tenure in Months</th>\n",
       "      <th>Maximum Tenure in Months</th>\n",
       "    </tr>\n",
       "    <tr>\n",
       "      <th>Customer Status</th>\n",
       "      <th></th>\n",
       "      <th></th>\n",
       "    </tr>\n",
       "  </thead>\n",
       "  <tbody>\n",
       "    <tr>\n",
       "      <th>Churned</th>\n",
       "      <td>17.979133</td>\n",
       "      <td>72</td>\n",
       "    </tr>\n",
       "    <tr>\n",
       "      <th>Joined</th>\n",
       "      <td>1.720264</td>\n",
       "      <td>3</td>\n",
       "    </tr>\n",
       "    <tr>\n",
       "      <th>Stayed</th>\n",
       "      <td>41.041525</td>\n",
       "      <td>72</td>\n",
       "    </tr>\n",
       "  </tbody>\n",
       "</table>\n",
       "</div>"
      ],
      "text/plain": [
       "                 Avg.Tenure in Months  Maximum Tenure in Months\n",
       "Customer Status                                                \n",
       "Churned                     17.979133                        72\n",
       "Joined                       1.720264                         3\n",
       "Stayed                      41.041525                        72"
      ]
     },
     "execution_count": 18,
     "metadata": {},
     "output_type": "execute_result"
    }
   ],
   "source": [
    "model_reliability = df.groupby(['Customer Status']).agg({'Tenure in Months':['mean','max']}) \n",
    "\n",
    "model_reliability = model_reliability['Tenure in Months']\n",
    "\n",
    "model_reliability.rename({'mean':'Avg.Tenure in Months','max':'Maximum Tenure in Months'},\n",
    "                         axis=1,\n",
    "                         inplace=True)\n",
    "\n",
    "model_reliability"
   ]
  },
  {
   "cell_type": "markdown",
   "metadata": {},
   "source": [
    "### Examining the Distribution of the Numeric Features by Target"
   ]
  },
  {
   "cell_type": "code",
   "execution_count": 21,
   "metadata": {
    "scrolled": false
   },
   "outputs": [
    {
     "data": {
      "image/png": "[encoded data removed]",
      "text/plain": [
       "<Figure size 432x288 with 1 Axes>"
      ]
     },
     "metadata": {
      "needs_background": "light"
     },
     "output_type": "display_data"
    },
    {
     "data": {
      "image/png": "[encoded data removed]",
      "text/plain": [
       "<Figure size 432x288 with 1 Axes>"
      ]
     },
     "metadata": {
      "needs_background": "light"
     },
     "output_type": "display_data"
    },
    {
     "data": {
      "image/png": "[encoded data removed]",
      "text/plain": [
       "<Figure size 432x288 with 1 Axes>"
      ]
     },
     "metadata": {
      "needs_background": "light"
     },
     "output_type": "display_data"
    },
    {
     "data": {
      "image/png": "[encoded data removed]",
      "text/plain": [
       "<Figure size 432x288 with 1 Axes>"
      ]
     },
     "metadata": {
      "needs_background": "light"
     },
     "output_type": "display_data"
    },
    {
     "data": {
      "image/png": "[encoded data removed]",
      "text/plain": [
       "<Figure size 432x288 with 1 Axes>"
      ]
     },
     "metadata": {
      "needs_background": "light"
     },
     "output_type": "display_data"
    },
    {
     "data": {
      "image/png": "[encoded data removed]",
      "text/plain": [
       "<Figure size 432x288 with 1 Axes>"
      ]
     },
     "metadata": {
      "needs_background": "light"
     },
     "output_type": "display_data"
    },
    {
     "data": {
      "image/png": "[encoded data removed]",
      "text/plain": [
       "<Figure size 432x288 with 1 Axes>"
      ]
     },
     "metadata": {
      "needs_background": "light"
     },
     "output_type": "display_data"
    },
    {
     "data": {
      "image/png": "[encoded data removed]",
      "text/plain": [
       "<Figure size 432x288 with 1 Axes>"
      ]
     },
     "metadata": {
      "needs_background": "light"
     },
     "output_type": "display_data"
    },
    {
     "data": {
      "image/png": "[encoded data removed]",
      "text/plain": [
       "<Figure size 432x288 with 1 Axes>"
      ]
     },
     "metadata": {
      "needs_background": "light"
     },
     "output_type": "display_data"
    },
    {
     "data": {
      "image/png": "[encoded data removed]",
      "text/plain": [
       "<Figure size 432x288 with 1 Axes>"
      ]
     },
     "metadata": {
      "needs_background": "light"
     },
     "output_type": "display_data"
    },
    {
     "data": {
      "image/png": "[encoded data removed]",
      "text/plain": [
       "<Figure size 432x288 with 1 Axes>"
      ]
     },
     "metadata": {
      "needs_background": "light"
     },
     "output_type": "display_data"
    },
    {
     "data": {
      "image/png": "[encoded data removed]",
      "text/plain": [
       "<Figure size 432x288 with 1 Axes>"
      ]
     },
     "metadata": {
      "needs_background": "light"
     },
     "output_type": "display_data"
    },
    {
     "data": {
      "image/png": "[encoded data removed]",
      "text/plain": [
       "<Figure size 432x288 with 1 Axes>"
      ]
     },
     "metadata": {
      "needs_background": "light"
     },
     "output_type": "display_data"
    },
    {
     "data": {
      "image/png": "[encoded data removed]",
      "text/plain": [
       "<Figure size 432x288 with 1 Axes>"
      ]
     },
     "metadata": {
      "needs_background": "light"
     },
     "output_type": "display_data"
    },
    {
     "data": {
      "image/png": "[encoded data removed]",
      "text/plain": [
       "<Figure size 432x288 with 1 Axes>"
      ]
     },
     "metadata": {
      "needs_background": "light"
     },
     "output_type": "display_data"
    }
   ],
   "source": [
    "for col in numeric_features:\n",
    "    sns.boxplot(x = col, y = 'Customer Status',data = data)\n",
    "    plt.title(f'{col} by Customer Status')\n",
    "    plt.show()"
   ]
  },
  {
   "cell_type": "markdown",
   "metadata": {},
   "source": [
    "### Examining the Frequency of the Categorical Features by Target"
   ]
  },
  {
   "cell_type": "code",
   "execution_count": 22,
   "metadata": {
    "scrolled": false
   },
   "outputs": [
    {
     "data": {
      "image/png": "[encoded data removed]",
      "text/plain": [
       "<Figure size 432x288 with 1 Axes>"
      ]
     },
     "metadata": {
      "needs_background": "light"
     },
     "output_type": "display_data"
    },
    {
     "data": {
      "image/png": "[encoded data removed]",
      "text/plain": [
       "<Figure size 432x288 with 1 Axes>"
      ]
     },
     "metadata": {
      "needs_background": "light"
     },
     "output_type": "display_data"
    },
    {
     "data": {
      "image/png": "[encoded data removed]",
      "text/plain": [
       "<Figure size 432x288 with 1 Axes>"
      ]
     },
     "metadata": {
      "needs_background": "light"
     },
     "output_type": "display_data"
    },
    {
     "data": {
      "image/png": "[encoded data removed]",
      "text/plain": [
       "<Figure size 432x288 with 1 Axes>"
      ]
     },
     "metadata": {
      "needs_background": "light"
     },
     "output_type": "display_data"
    },
    {
     "data": {
      "image/png": "[encoded data removed]",
      "text/plain": [
       "<Figure size 432x288 with 1 Axes>"
      ]
     },
     "metadata": {
      "needs_background": "light"
     },
     "output_type": "display_data"
    },
    {
     "data": {
      "image/png": "[encoded data removed]",
      "text/plain": [
       "<Figure size 432x288 with 1 Axes>"
      ]
     },
     "metadata": {
      "needs_background": "light"
     },
     "output_type": "display_data"
    },
    {
     "data": {
      "image/png": "[encoded data removed]",
      "text/plain": [
       "<Figure size 432x288 with 1 Axes>"
      ]
     },
     "metadata": {
      "needs_background": "light"
     },
     "output_type": "display_data"
    },
    {
     "data": {
      "image/png": "[encoded data removed]",
      "text/plain": [
       "<Figure size 432x288 with 1 Axes>"
      ]
     },
     "metadata": {
      "needs_background": "light"
     },
     "output_type": "display_data"
    },
    {
     "data": {
      "image/png": "[encoded data removed]",
      "text/plain": [
       "<Figure size 432x288 with 1 Axes>"
      ]
     },
     "metadata": {
      "needs_background": "light"
     },
     "output_type": "display_data"
    },
    {
     "data": {
      "image/png": "[encoded data removed]",
      "text/plain": [
       "<Figure size 432x288 with 1 Axes>"
      ]
     },
     "metadata": {
      "needs_background": "light"
     },
     "output_type": "display_data"
    },
    {
     "data": {
      "image/png": "[encoded data removed]",
      "text/plain": [
       "<Figure size 432x288 with 1 Axes>"
      ]
     },
     "metadata": {
      "needs_background": "light"
     },
     "output_type": "display_data"
    },
    {
     "data": {
      "image/png": "[encoded data removed]",
      "text/plain": [
       "<Figure size 432x288 with 1 Axes>"
      ]
     },
     "metadata": {
      "needs_background": "light"
     },
     "output_type": "display_data"
    },
    {
     "data": {
      "image/png": "[encoded data removed]",
      "text/plain": [
       "<Figure size 432x288 with 1 Axes>"
      ]
     },
     "metadata": {
      "needs_background": "light"
     },
     "output_type": "display_data"
    },
    {
     "data": {
      "image/png": "[encoded data removed]",
      "text/plain": [
       "<Figure size 432x288 with 1 Axes>"
      ]
     },
     "metadata": {
      "needs_background": "light"
     },
     "output_type": "display_data"
    },
    {
     "data": {
      "image/png": "[encoded data removed]",
      "text/plain": [
       "<Figure size 432x288 with 1 Axes>"
      ]
     },
     "metadata": {
      "needs_background": "light"
     },
     "output_type": "display_data"
    },
    {
     "data": {
      "image/png": "[encoded data removed]",
      "text/plain": [
       "<Figure size 432x288 with 1 Axes>"
      ]
     },
     "metadata": {
      "needs_background": "light"
     },
     "output_type": "display_data"
    }
   ],
   "source": [
    "for col in categorical_features:\n",
    "    if col == 'City':\n",
    "        continue\n",
    "    if col == \"PaymentMethod\":\n",
    "        plt.figure(figsize=(10,4))\n",
    "    plt.title(f\"{col} by Customer Status\")\n",
    "    sns.countplot(x = data[col], hue = 'Customer Status',data=data)\n",
    "    plt.show()"
   ]
  },
  {
   "cell_type": "markdown",
   "metadata": {},
   "source": [
    "__Checking the Outliers__"
   ]
  },
  {
   "cell_type": "code",
   "execution_count": 23,
   "metadata": {
    "execution": {
     "iopub.execute_input": "2022-12-01T19:17:00.339948Z",
     "iopub.status.busy": "2022-12-01T19:17:00.339247Z",
     "iopub.status.idle": "2022-12-01T19:17:00.361871Z",
     "shell.execute_reply": "2022-12-01T19:17:00.360259Z",
     "shell.execute_reply.started": "2022-12-01T19:17:00.339910Z"
    }
   },
   "outputs": [
    {
     "name": "stdout",
     "output_type": "stream",
     "text": [
      "Age\n",
      "outliers = 0 \n",
      "\n",
      "Number of Dependents\n",
      "outliers = 872 \n",
      "\n",
      "Latitude\n",
      "outliers = 0 \n",
      "\n",
      "Longitude\n",
      "outliers = 0 \n",
      "\n",
      "Number of Referrals\n",
      "outliers = 415 \n",
      "\n",
      "Tenure in Months\n",
      "outliers = 0 \n",
      "\n",
      "Avg Monthly Long Distance Charges\n",
      "outliers = 0 \n",
      "\n",
      "Avg Monthly GB Download\n",
      "outliers = 540 \n",
      "\n",
      "Monthly Charge\n",
      "outliers = 79 \n",
      "\n",
      "Total Charges\n",
      "outliers = 0 \n",
      "\n",
      "Total Refunds\n",
      "outliers = 376 \n",
      "\n",
      "Total Extra Data Charges\n",
      "outliers = 591 \n",
      "\n",
      "Total Long Distance Charges\n",
      "outliers = 46 \n",
      "\n",
      "Total Revenue\n",
      "outliers = 0 \n",
      "\n",
      "Population\n",
      "outliers = 36 \n",
      "\n"
     ]
    }
   ],
   "source": [
    "for col in numeric_features:\n",
    "\n",
    "    q1 = data[col].quantile(0.25)\n",
    "    q3 = data[col].quantile(0.75)\n",
    "    iqr = q3 - q1\n",
    "    lower_lim = q1 - 1.5*iqr\n",
    "    uppler_lim = q3 + 1.5*iqr\n",
    "    \n",
    "    outliers = sum((data[col] < lower_lim) | (data[col]  > uppler_lim))\n",
    "    \n",
    "    print(f'{col}')\n",
    "    print(f'outliers = {outliers} \\n')"
   ]
  },
  {
   "cell_type": "markdown",
   "metadata": {},
   "source": [
    "## Feature Selection\n",
    "In this section, I will select the features for modeling based on Hypothesis testing. I will use Hypothesis Testing to determine whether a feature has a significant relationship with the target or no. Since the target is of a categorical data type with 2 lables, I will use independent t_test \"scipy.stats.ttest_ind\" Chi2 test \"scipy.stats.chi2_contingency\" to determine its relationship with the numeric and categorical features respectively."
   ]
  },
  {
   "cell_type": "markdown",
   "metadata": {},
   "source": [
    "__Hypothesis Testing__\n",
    "\n",
    "Examining the significance of the relationships between the target and the numeric_features"
   ]
  },
  {
   "cell_type": "markdown",
   "metadata": {},
   "source": [
    "State the hypothesis\n",
    "\n",
    "-   $H_0: µ_1 = µ_2$ (\"there is no difference in numerical columns scores between Churn and Non-churn customers\")\n",
    "-   $H_1: µ_1 ≠ µ_2$ (\"there is a difference in numerical columns scores between hurn and Non-churn customers\")"
   ]
  },
  {
   "cell_type": "code",
   "execution_count": 24,
   "metadata": {
    "execution": {
     "iopub.execute_input": "2022-12-01T19:17:00.365315Z",
     "iopub.status.busy": "2022-12-01T19:17:00.364137Z",
     "iopub.status.idle": "2022-12-01T19:17:00.937206Z",
     "shell.execute_reply": "2022-12-01T19:17:00.936260Z",
     "shell.execute_reply.started": "2022-12-01T19:17:00.365261Z"
    }
   },
   "outputs": [
    {
     "name": "stdout",
     "output_type": "stream",
     "text": [
      "Age\n",
      "P_value: 1.8086338964929505e-10\n",
      "Decision: Age has a significant relationship of the target\n",
      "\n",
      "\n",
      "Number of Dependents\n",
      "P_value: 2.617976796858298e-88\n",
      "Decision: Number of Dependents has a significant relationship of the target\n",
      "\n",
      "\n",
      "Latitude\n",
      "P_value: 0.010031998171008397\n",
      "Decision: Latitude has a significant relationship of the target\n",
      "\n",
      "\n",
      "Longitude\n",
      "P_value: 0.287344980382144\n",
      "Decision: Longitude has no significant relationship of the target\n",
      "\n",
      "\n",
      "Number of Referrals\n",
      "P_value: 2.7255140318443905e-203\n",
      "Decision: Number of Referrals has a significant relationship of the target\n",
      "\n",
      "\n",
      "Tenure in Months\n",
      "P_value: 3.59122126278058e-260\n",
      "Decision: Tenure in Months has a significant relationship of the target\n",
      "\n",
      "\n",
      "Avg Monthly Long Distance Charges\n",
      "P_value: 0.8164699187474204\n",
      "Decision: Avg Monthly Long Distance Charges has no significant relationship of the target\n",
      "\n",
      "\n",
      "Avg Monthly GB Download\n",
      "P_value: 1.8450257166869413e-12\n",
      "Decision: Avg Monthly GB Download has a significant relationship of the target\n",
      "\n",
      "\n",
      "Monthly Charge\n",
      "P_value: 0.8216980684134588\n",
      "Decision: Monthly Charge has no significant relationship of the target\n",
      "\n",
      "\n",
      "Total Charges\n",
      "P_value: 1.2241394203699246e-189\n",
      "Decision: Total Charges has a significant relationship of the target\n",
      "\n",
      "\n",
      "Total Refunds\n",
      "P_value: 0.0021855831470867235\n",
      "Decision: Total Refunds has a significant relationship of the target\n",
      "\n",
      "\n",
      "Total Extra Data Charges\n",
      "P_value: 0.003910087145042184\n",
      "Decision: Total Extra Data Charges has a significant relationship of the target\n",
      "\n",
      "\n",
      "Total Long Distance Charges\n",
      "P_value: 9.213706990615619e-134\n",
      "Decision: Total Long Distance Charges has a significant relationship of the target\n",
      "\n",
      "\n",
      "Total Revenue\n",
      "P_value: 1.7618093486862093e-193\n",
      "Decision: Total Revenue has a significant relationship of the target\n",
      "\n",
      "\n",
      "Population\n",
      "P_value: 0.0006859960899455306\n",
      "Decision: Population has a significant relationship of the target\n",
      "\n",
      "\n"
     ]
    }
   ],
   "source": [
    "sig_numeric_features = []\n",
    "for col in numeric_features:\n",
    "    # conduct levene test\n",
    "    _, p_value_levene = scipy.stats.levene(data[data['Customer Status'] == 'Churned'][col],\n",
    "                                           data[data['Customer Status'] == 'Stayed'][col], \n",
    "                                           center = 'mean')\n",
    "    \n",
    "    if p_value_levene >= 0.05:\n",
    "        equal_var = True\n",
    "    else:\n",
    "        equal_var = False\n",
    "    # conduct independent t-test\n",
    "    _, p_value_ttset=  scipy.stats.ttest_ind(data[data['Customer Status'] == 'Churned'][col],\n",
    "                                              data[data['Customer Status'] == 'Stayed'][col], \n",
    "                                              equal_var = equal_var)\n",
    "    \n",
    "    if p_value_ttset >= 0.05:\n",
    "        print(f'{col}')\n",
    "        print(f'P_value: {p_value_ttset}')\n",
    "        print(f'Decision: {col} has no significant relationship of the target')\n",
    "        print('\\n')\n",
    "    else:\n",
    "        print(f'{col}')\n",
    "        print(f'P_value: {p_value_ttset}')\n",
    "        print(f'Decision: {col} has a significant relationship of the target')\n",
    "        print('\\n')\n",
    "        sig_numeric_features.append(col)  "
   ]
  },
  {
   "cell_type": "markdown",
   "metadata": {},
   "source": [
    "__Hypothesis Testing__\n",
    "\n",
    "Examining the significance of the relationships between the target and the categorical_features"
   ]
  },
  {
   "cell_type": "markdown",
   "metadata": {},
   "source": [
    "State the hypothesis:\n",
    "\n",
    "-   $H_0:$ The proportion of customers who are Churned is independent of the categorical feature\n",
    "-   $H_1:$ The proportion of customers who are Churned is associated with the categorical feature"
   ]
  },
  {
   "cell_type": "code",
   "execution_count": 25,
   "metadata": {
    "execution": {
     "iopub.execute_input": "2022-12-01T19:17:00.940039Z",
     "iopub.status.busy": "2022-12-01T19:17:00.938796Z",
     "iopub.status.idle": "2022-12-01T19:17:04.840109Z",
     "shell.execute_reply": "2022-12-01T19:17:04.838877Z",
     "shell.execute_reply.started": "2022-12-01T19:17:00.939991Z"
    },
    "scrolled": false
   },
   "outputs": [
    {
     "name": "stdout",
     "output_type": "stream",
     "text": [
      "Gender\n",
      "P_value: 0.5773309455418278\n",
      "Decision: There is no siginificant relationship between the churned customers and Gender \n",
      "\n",
      "\n",
      "Married\n",
      "P_value: 1.7595992359975243e-41\n",
      "Decision: There is a siginificant relationship between the churned customers and Married \n",
      "\n",
      "\n",
      "Offer\n",
      "P_value: 3.4800784155464226e-111\n",
      "Decision: There is a siginificant relationship between the churned customers and Offer \n",
      "\n",
      "\n",
      "Multiple Lines\n",
      "P_value: 0.0008517874055710874\n",
      "Decision: There is a siginificant relationship between the churned customers and Multiple Lines \n",
      "\n",
      "\n",
      "Internet Type\n",
      "P_value: 6.110571148067685e-51\n",
      "Decision: There is a siginificant relationship between the churned customers and Internet Type \n",
      "\n",
      "\n",
      "Online Security\n",
      "P_value: 1.8232491769755517e-92\n",
      "Decision: There is a siginificant relationship between the churned customers and Online Security \n",
      "\n",
      "\n",
      "Online Backup\n",
      "P_value: 8.177332687134967e-55\n",
      "Decision: There is a siginificant relationship between the churned customers and Online Backup \n",
      "\n",
      "\n",
      "Device Protection Plan\n",
      "P_value: 7.425936117273936e-44\n",
      "Decision: There is a siginificant relationship between the churned customers and Device Protection Plan \n",
      "\n",
      "\n",
      "Premium Tech Support\n",
      "P_value: 8.851377265418427e-88\n",
      "Decision: There is a siginificant relationship between the churned customers and Premium Tech Support \n",
      "\n",
      "\n",
      "Streaming TV\n",
      "P_value: 2.3157576427694485e-05\n",
      "Decision: There is a siginificant relationship between the churned customers and Streaming TV \n",
      "\n",
      "\n",
      "Streaming Movies\n",
      "P_value: 1.941405698278701e-06\n",
      "Decision: There is a siginificant relationship between the churned customers and Streaming Movies \n",
      "\n",
      "\n",
      "Streaming Music\n",
      "P_value: 6.470440808134534e-07\n",
      "Decision: There is a siginificant relationship between the churned customers and Streaming Music \n",
      "\n",
      "\n",
      "Unlimited Data\n",
      "P_value: 0.6499028392419388\n",
      "Decision: There is no siginificant relationship between the churned customers and Unlimited Data \n",
      "\n",
      "\n",
      "Contract\n",
      "P_value: 1.9443002309889068e-243\n",
      "Decision: There is a siginificant relationship between the churned customers and Contract \n",
      "\n",
      "\n",
      "Paperless Billing\n",
      "P_value: 4.5168502094377684e-20\n",
      "Decision: There is a siginificant relationship between the churned customers and Paperless Billing \n",
      "\n",
      "\n",
      "Payment Method\n",
      "P_value: 4.421755954847453e-37\n",
      "Decision: There is a siginificant relationship between the churned customers and Payment Method \n",
      "\n",
      "\n"
     ]
    }
   ],
   "source": [
    "sig_categorical_features = []\n",
    "for col in categorical_features:\n",
    "    if col == 'City':\n",
    "        continue\n",
    "    else:\n",
    "        cont_table = pd.crosstab(data['Customer Status'], data[col])\n",
    "        _, p_value, __, ___ = scipy.stats.chi2_contingency(cont_table, correction = True)\n",
    "\n",
    "        if p_value >= 0.05:\n",
    "            print(col)\n",
    "            print(f'P_value: {p_value}')\n",
    "            print(f'Decision: There is no siginificant relationship between the churned customers and {col} ')\n",
    "            print('\\n')\n",
    "        else:\n",
    "            print(col)\n",
    "            print(f'P_value: {p_value}')\n",
    "            print(f'Decision: There is a siginificant relationship between the churned customers and {col} ')\n",
    "            print('\\n')\n",
    "            sig_categorical_features.append(col)"
   ]
  },
  {
   "cell_type": "code",
   "execution_count": 26,
   "metadata": {
    "execution": {
     "iopub.execute_input": "2022-12-01T19:17:04.842838Z",
     "iopub.status.busy": "2022-12-01T19:17:04.841643Z",
     "iopub.status.idle": "2022-12-01T19:17:04.848600Z",
     "shell.execute_reply": "2022-12-01T19:17:04.847360Z",
     "shell.execute_reply.started": "2022-12-01T19:17:04.842790Z"
    }
   },
   "outputs": [],
   "source": [
    "sig_features = sig_numeric_features + sig_categorical_features"
   ]
  },
  {
   "cell_type": "markdown",
   "metadata": {
    "execution": {
     "iopub.execute_input": "2022-11-25T08:06:53.653299Z",
     "iopub.status.busy": "2022-11-25T08:06:53.652857Z",
     "iopub.status.idle": "2022-11-25T08:06:53.657767Z",
     "shell.execute_reply": "2022-11-25T08:06:53.656536Z",
     "shell.execute_reply.started": "2022-11-25T08:06:53.653257Z"
    }
   },
   "source": [
    "## Features Engineering"
   ]
  },
  {
   "cell_type": "markdown",
   "metadata": {},
   "source": [
    "In this section, I will do 3 things:\n",
    "\n",
    "1- Split the data to features and target.\n",
    "\n",
    "2- Encode the target: I will encode the target to 1 and 0 corresponding to \"Yes\" and \"No\".\n",
    "\n",
    "3- Encode categorical features: I will one-hot-encode the categorical features\n",
    "\n",
    "4- Normalize numeric features: I plan to use Support Vector Classifier and KNearestneighbors models, therefore, I have to normalize the data.\n",
    "\n",
    "\n",
    "\n",
    "I will not split the data to train and test datasets because I plan to use cross_val_score class to evaluate the model\n",
    "\n",
    "\n",
    "The first thing I will do, though, is to return \"SeniorCitizen\" to int data-type, remove it from the categorical features since it is a binary features."
   ]
  },
  {
   "cell_type": "markdown",
   "metadata": {},
   "source": [
    "### Splitting the Data to X (features) and y (target)"
   ]
  },
  {
   "cell_type": "code",
   "execution_count": 27,
   "metadata": {
    "execution": {
     "iopub.execute_input": "2022-12-01T19:17:04.870029Z",
     "iopub.status.busy": "2022-12-01T19:17:04.869673Z",
     "iopub.status.idle": "2022-12-01T19:17:04.884243Z",
     "shell.execute_reply": "2022-12-01T19:17:04.883100Z",
     "shell.execute_reply.started": "2022-12-01T19:17:04.869998Z"
    }
   },
   "outputs": [],
   "source": [
    "X = data[sig_features]\n",
    "y = data['Customer Status'].map({'Churned':1,'Stayed':0})"
   ]
  },
  {
   "cell_type": "code",
   "execution_count": 28,
   "metadata": {
    "execution": {
     "iopub.execute_input": "2022-12-01T19:17:04.886411Z",
     "iopub.status.busy": "2022-12-01T19:17:04.885582Z",
     "iopub.status.idle": "2022-12-01T19:17:04.908336Z",
     "shell.execute_reply": "2022-12-01T19:17:04.907465Z",
     "shell.execute_reply.started": "2022-12-01T19:17:04.886359Z"
    }
   },
   "outputs": [
    {
     "data": {
      "text/html": [
       "<div>\n",
       "<style scoped>\n",
       "    .dataframe tbody tr th:only-of-type {\n",
       "        vertical-align: middle;\n",
       "    }\n",
       "\n",
       "    .dataframe tbody tr th {\n",
       "        vertical-align: top;\n",
       "    }\n",
       "\n",
       "    .dataframe thead th {\n",
       "        text-align: right;\n",
       "    }\n",
       "</style>\n",
       "<table border=\"1\" class=\"dataframe\">\n",
       "  <thead>\n",
       "    <tr style=\"text-align: right;\">\n",
       "      <th></th>\n",
       "      <th>Age</th>\n",
       "      <th>Number of Dependents</th>\n",
       "      <th>Latitude</th>\n",
       "      <th>Number of Referrals</th>\n",
       "      <th>Tenure in Months</th>\n",
       "      <th>Avg Monthly GB Download</th>\n",
       "      <th>Total Charges</th>\n",
       "      <th>Total Refunds</th>\n",
       "      <th>Total Extra Data Charges</th>\n",
       "      <th>Total Long Distance Charges</th>\n",
       "      <th>...</th>\n",
       "      <th>Online Security</th>\n",
       "      <th>Online Backup</th>\n",
       "      <th>Device Protection Plan</th>\n",
       "      <th>Premium Tech Support</th>\n",
       "      <th>Streaming TV</th>\n",
       "      <th>Streaming Movies</th>\n",
       "      <th>Streaming Music</th>\n",
       "      <th>Contract</th>\n",
       "      <th>Paperless Billing</th>\n",
       "      <th>Payment Method</th>\n",
       "    </tr>\n",
       "  </thead>\n",
       "  <tbody>\n",
       "    <tr>\n",
       "      <th>0</th>\n",
       "      <td>37</td>\n",
       "      <td>0</td>\n",
       "      <td>34.827662</td>\n",
       "      <td>2</td>\n",
       "      <td>9</td>\n",
       "      <td>16.0</td>\n",
       "      <td>593.30</td>\n",
       "      <td>0.00</td>\n",
       "      <td>0</td>\n",
       "      <td>381.51</td>\n",
       "      <td>...</td>\n",
       "      <td>No</td>\n",
       "      <td>Yes</td>\n",
       "      <td>No</td>\n",
       "      <td>Yes</td>\n",
       "      <td>Yes</td>\n",
       "      <td>No</td>\n",
       "      <td>No</td>\n",
       "      <td>One Year</td>\n",
       "      <td>Yes</td>\n",
       "      <td>Credit Card</td>\n",
       "    </tr>\n",
       "    <tr>\n",
       "      <th>1</th>\n",
       "      <td>46</td>\n",
       "      <td>0</td>\n",
       "      <td>34.162515</td>\n",
       "      <td>0</td>\n",
       "      <td>9</td>\n",
       "      <td>10.0</td>\n",
       "      <td>542.40</td>\n",
       "      <td>38.33</td>\n",
       "      <td>10</td>\n",
       "      <td>96.21</td>\n",
       "      <td>...</td>\n",
       "      <td>No</td>\n",
       "      <td>No</td>\n",
       "      <td>No</td>\n",
       "      <td>No</td>\n",
       "      <td>No</td>\n",
       "      <td>Yes</td>\n",
       "      <td>Yes</td>\n",
       "      <td>Month-to-Month</td>\n",
       "      <td>No</td>\n",
       "      <td>Credit Card</td>\n",
       "    </tr>\n",
       "    <tr>\n",
       "      <th>2</th>\n",
       "      <td>50</td>\n",
       "      <td>0</td>\n",
       "      <td>33.645672</td>\n",
       "      <td>0</td>\n",
       "      <td>4</td>\n",
       "      <td>30.0</td>\n",
       "      <td>280.85</td>\n",
       "      <td>0.00</td>\n",
       "      <td>0</td>\n",
       "      <td>134.60</td>\n",
       "      <td>...</td>\n",
       "      <td>No</td>\n",
       "      <td>No</td>\n",
       "      <td>Yes</td>\n",
       "      <td>No</td>\n",
       "      <td>No</td>\n",
       "      <td>No</td>\n",
       "      <td>No</td>\n",
       "      <td>Month-to-Month</td>\n",
       "      <td>Yes</td>\n",
       "      <td>Bank Withdrawal</td>\n",
       "    </tr>\n",
       "    <tr>\n",
       "      <th>3</th>\n",
       "      <td>78</td>\n",
       "      <td>0</td>\n",
       "      <td>38.014457</td>\n",
       "      <td>1</td>\n",
       "      <td>13</td>\n",
       "      <td>4.0</td>\n",
       "      <td>1237.85</td>\n",
       "      <td>0.00</td>\n",
       "      <td>0</td>\n",
       "      <td>361.66</td>\n",
       "      <td>...</td>\n",
       "      <td>No</td>\n",
       "      <td>Yes</td>\n",
       "      <td>Yes</td>\n",
       "      <td>No</td>\n",
       "      <td>Yes</td>\n",
       "      <td>Yes</td>\n",
       "      <td>No</td>\n",
       "      <td>Month-to-Month</td>\n",
       "      <td>Yes</td>\n",
       "      <td>Bank Withdrawal</td>\n",
       "    </tr>\n",
       "    <tr>\n",
       "      <th>4</th>\n",
       "      <td>75</td>\n",
       "      <td>0</td>\n",
       "      <td>34.227846</td>\n",
       "      <td>3</td>\n",
       "      <td>3</td>\n",
       "      <td>11.0</td>\n",
       "      <td>267.40</td>\n",
       "      <td>0.00</td>\n",
       "      <td>0</td>\n",
       "      <td>22.14</td>\n",
       "      <td>...</td>\n",
       "      <td>No</td>\n",
       "      <td>No</td>\n",
       "      <td>No</td>\n",
       "      <td>Yes</td>\n",
       "      <td>Yes</td>\n",
       "      <td>No</td>\n",
       "      <td>No</td>\n",
       "      <td>Month-to-Month</td>\n",
       "      <td>Yes</td>\n",
       "      <td>Credit Card</td>\n",
       "    </tr>\n",
       "  </tbody>\n",
       "</table>\n",
       "<p>5 rows × 26 columns</p>\n",
       "</div>"
      ],
      "text/plain": [
       "   Age  Number of Dependents   Latitude  Number of Referrals  \\\n",
       "0   37                     0  34.827662                    2   \n",
       "1   46                     0  34.162515                    0   \n",
       "2   50                     0  33.645672                    0   \n",
       "3   78                     0  38.014457                    1   \n",
       "4   75                     0  34.227846                    3   \n",
       "\n",
       "   Tenure in Months  Avg Monthly GB Download  Total Charges  Total Refunds  \\\n",
       "0                 9                     16.0         593.30           0.00   \n",
       "1                 9                     10.0         542.40          38.33   \n",
       "2                 4                     30.0         280.85           0.00   \n",
       "3                13                      4.0        1237.85           0.00   \n",
       "4                 3                     11.0         267.40           0.00   \n",
       "\n",
       "   Total Extra Data Charges  Total Long Distance Charges  ...  \\\n",
       "0                         0                       381.51  ...   \n",
       "1                        10                        96.21  ...   \n",
       "2                         0                       134.60  ...   \n",
       "3                         0                       361.66  ...   \n",
       "4                         0                        22.14  ...   \n",
       "\n",
       "   Online Security  Online Backup Device Protection Plan Premium Tech Support  \\\n",
       "0               No            Yes                     No                  Yes   \n",
       "1               No             No                     No                   No   \n",
       "2               No             No                    Yes                   No   \n",
       "3               No            Yes                    Yes                   No   \n",
       "4               No             No                     No                  Yes   \n",
       "\n",
       "  Streaming TV Streaming Movies Streaming Music        Contract  \\\n",
       "0          Yes               No              No        One Year   \n",
       "1           No              Yes             Yes  Month-to-Month   \n",
       "2           No               No              No  Month-to-Month   \n",
       "3          Yes              Yes              No  Month-to-Month   \n",
       "4          Yes               No              No  Month-to-Month   \n",
       "\n",
       "  Paperless Billing   Payment Method  \n",
       "0               Yes      Credit Card  \n",
       "1                No      Credit Card  \n",
       "2               Yes  Bank Withdrawal  \n",
       "3               Yes  Bank Withdrawal  \n",
       "4               Yes      Credit Card  \n",
       "\n",
       "[5 rows x 26 columns]"
      ]
     },
     "execution_count": 28,
     "metadata": {},
     "output_type": "execute_result"
    }
   ],
   "source": [
    "X.head()"
   ]
  },
  {
   "cell_type": "code",
   "execution_count": 29,
   "metadata": {
    "execution": {
     "iopub.execute_input": "2022-12-01T19:17:04.910050Z",
     "iopub.status.busy": "2022-12-01T19:17:04.909554Z",
     "iopub.status.idle": "2022-12-01T19:17:04.918091Z",
     "shell.execute_reply": "2022-12-01T19:17:04.916827Z",
     "shell.execute_reply.started": "2022-12-01T19:17:04.910018Z"
    }
   },
   "outputs": [
    {
     "data": {
      "text/plain": [
       "0    0\n",
       "1    0\n",
       "2    1\n",
       "3    1\n",
       "4    1\n",
       "Name: Customer Status, dtype: int64"
      ]
     },
     "execution_count": 29,
     "metadata": {},
     "output_type": "execute_result"
    }
   ],
   "source": [
    "y.head()"
   ]
  },
  {
   "cell_type": "markdown",
   "metadata": {
    "execution": {
     "iopub.execute_input": "2022-11-26T07:41:46.882404Z",
     "iopub.status.busy": "2022-11-26T07:41:46.882047Z",
     "iopub.status.idle": "2022-11-26T07:41:46.892558Z",
     "shell.execute_reply": "2022-11-26T07:41:46.891069Z",
     "shell.execute_reply.started": "2022-11-26T07:41:46.882380Z"
    }
   },
   "source": [
    "### Encoding the Categorical Feautres"
   ]
  },
  {
   "cell_type": "code",
   "execution_count": 30,
   "metadata": {
    "execution": {
     "iopub.execute_input": "2022-12-01T19:17:04.935626Z",
     "iopub.status.busy": "2022-12-01T19:17:04.934445Z",
     "iopub.status.idle": "2022-12-01T19:17:04.958013Z",
     "shell.execute_reply": "2022-12-01T19:17:04.957082Z",
     "shell.execute_reply.started": "2022-12-01T19:17:04.935581Z"
    }
   },
   "outputs": [
    {
     "name": "stdout",
     "output_type": "stream",
     "text": [
      "Married\n",
      "['Yes' 'No']\n",
      "\n",
      "\n",
      "Offer\n",
      "['None' 'Offer E' 'Offer D' 'Offer A' 'Offer B' 'Offer C']\n",
      "\n",
      "\n",
      "Multiple Lines\n",
      "['No' 'Yes']\n",
      "\n",
      "\n",
      "Internet Type\n",
      "['Cable' 'Fiber Optic' 'DSL']\n",
      "\n",
      "\n",
      "Online Security\n",
      "['No' 'Yes']\n",
      "\n",
      "\n",
      "Online Backup\n",
      "['Yes' 'No']\n",
      "\n",
      "\n",
      "Device Protection Plan\n",
      "['No' 'Yes']\n",
      "\n",
      "\n",
      "Premium Tech Support\n",
      "['Yes' 'No']\n",
      "\n",
      "\n",
      "Streaming TV\n",
      "['Yes' 'No']\n",
      "\n",
      "\n",
      "Streaming Movies\n",
      "['No' 'Yes']\n",
      "\n",
      "\n",
      "Streaming Music\n",
      "['No' 'Yes']\n",
      "\n",
      "\n",
      "Contract\n",
      "['One Year' 'Month-to-Month' 'Two Year']\n",
      "\n",
      "\n",
      "Paperless Billing\n",
      "['Yes' 'No']\n",
      "\n",
      "\n",
      "Payment Method\n",
      "['Credit Card' 'Bank Withdrawal' 'Mailed Check']\n",
      "\n",
      "\n"
     ]
    }
   ],
   "source": [
    "for col in sig_categorical_features:\n",
    "    print(f\"{col}\")\n",
    "    print(data[f\"{col}\"].unique())\n",
    "    print('\\n')"
   ]
  },
  {
   "cell_type": "code",
   "execution_count": 31,
   "metadata": {
    "execution": {
     "iopub.execute_input": "2022-12-01T19:17:04.960296Z",
     "iopub.status.busy": "2022-12-01T19:17:04.959396Z",
     "iopub.status.idle": "2022-12-01T19:17:05.020622Z",
     "shell.execute_reply": "2022-12-01T19:17:05.019468Z",
     "shell.execute_reply.started": "2022-12-01T19:17:04.960257Z"
    }
   },
   "outputs": [],
   "source": [
    "for col in sig_categorical_features:\n",
    "    col_df = pd.get_dummies(X[col], prefix=col, drop_first= True)\n",
    "    X = pd.concat([X,col_df],axis=1)\n",
    "    X.drop(col,axis=1,inplace=True)"
   ]
  },
  {
   "cell_type": "markdown",
   "metadata": {
    "execution": {
     "iopub.execute_input": "2022-11-28T08:03:33.591650Z",
     "iopub.status.busy": "2022-11-28T08:03:33.591266Z",
     "iopub.status.idle": "2022-11-28T08:03:33.595296Z",
     "shell.execute_reply": "2022-11-28T08:03:33.594534Z",
     "shell.execute_reply.started": "2022-11-28T08:03:33.591619Z"
    }
   },
   "source": [
    "### Normalizing the Numeric Features"
   ]
  },
  {
   "cell_type": "code",
   "execution_count": 32,
   "metadata": {
    "execution": {
     "iopub.execute_input": "2022-12-01T19:17:05.022985Z",
     "iopub.status.busy": "2022-12-01T19:17:05.022267Z",
     "iopub.status.idle": "2022-12-01T19:17:05.089122Z",
     "shell.execute_reply": "2022-12-01T19:17:05.088144Z",
     "shell.execute_reply.started": "2022-12-01T19:17:05.022949Z"
    }
   },
   "outputs": [],
   "source": [
    "from sklearn.preprocessing import MinMaxScaler"
   ]
  },
  {
   "cell_type": "code",
   "execution_count": 33,
   "metadata": {
    "execution": {
     "iopub.execute_input": "2022-12-01T19:17:05.091198Z",
     "iopub.status.busy": "2022-12-01T19:17:05.090744Z",
     "iopub.status.idle": "2022-12-01T19:17:05.101096Z",
     "shell.execute_reply": "2022-12-01T19:17:05.099511Z",
     "shell.execute_reply.started": "2022-12-01T19:17:05.091135Z"
    }
   },
   "outputs": [],
   "source": [
    "min_max_scaler = MinMaxScaler()"
   ]
  },
  {
   "cell_type": "code",
   "execution_count": 34,
   "metadata": {
    "execution": {
     "iopub.execute_input": "2022-12-01T19:17:05.103558Z",
     "iopub.status.busy": "2022-12-01T19:17:05.103200Z",
     "iopub.status.idle": "2022-12-01T19:17:05.121007Z",
     "shell.execute_reply": "2022-12-01T19:17:05.119833Z",
     "shell.execute_reply.started": "2022-12-01T19:17:05.103527Z"
    }
   },
   "outputs": [],
   "source": [
    "for col in sig_numeric_features:\n",
    "    X[col] = min_max_scaler.fit_transform(X[[col]])"
   ]
  },
  {
   "cell_type": "code",
   "execution_count": 35,
   "metadata": {
    "execution": {
     "iopub.execute_input": "2022-12-01T19:17:05.124005Z",
     "iopub.status.busy": "2022-12-01T19:17:05.123063Z",
     "iopub.status.idle": "2022-12-01T19:17:05.147634Z",
     "shell.execute_reply": "2022-12-01T19:17:05.146339Z",
     "shell.execute_reply.started": "2022-12-01T19:17:05.123947Z"
    }
   },
   "outputs": [
    {
     "data": {
      "text/html": [
       "<div>\n",
       "<style scoped>\n",
       "    .dataframe tbody tr th:only-of-type {\n",
       "        vertical-align: middle;\n",
       "    }\n",
       "\n",
       "    .dataframe tbody tr th {\n",
       "        vertical-align: top;\n",
       "    }\n",
       "\n",
       "    .dataframe thead th {\n",
       "        text-align: right;\n",
       "    }\n",
       "</style>\n",
       "<table border=\"1\" class=\"dataframe\">\n",
       "  <thead>\n",
       "    <tr style=\"text-align: right;\">\n",
       "      <th></th>\n",
       "      <th>Age</th>\n",
       "      <th>Number of Dependents</th>\n",
       "      <th>Latitude</th>\n",
       "      <th>Number of Referrals</th>\n",
       "      <th>Tenure in Months</th>\n",
       "      <th>Avg Monthly GB Download</th>\n",
       "      <th>Total Charges</th>\n",
       "      <th>Total Refunds</th>\n",
       "      <th>Total Extra Data Charges</th>\n",
       "      <th>Total Long Distance Charges</th>\n",
       "      <th>...</th>\n",
       "      <th>Device Protection Plan_Yes</th>\n",
       "      <th>Premium Tech Support_Yes</th>\n",
       "      <th>Streaming TV_Yes</th>\n",
       "      <th>Streaming Movies_Yes</th>\n",
       "      <th>Streaming Music_Yes</th>\n",
       "      <th>Contract_One Year</th>\n",
       "      <th>Contract_Two Year</th>\n",
       "      <th>Paperless Billing_Yes</th>\n",
       "      <th>Payment Method_Credit Card</th>\n",
       "      <th>Payment Method_Mailed Check</th>\n",
       "    </tr>\n",
       "  </thead>\n",
       "  <tbody>\n",
       "    <tr>\n",
       "      <th>0</th>\n",
       "      <td>0.295082</td>\n",
       "      <td>0.0</td>\n",
       "      <td>0.241523</td>\n",
       "      <td>0.181818</td>\n",
       "      <td>0.112676</td>\n",
       "      <td>0.168675</td>\n",
       "      <td>0.063690</td>\n",
       "      <td>0.00000</td>\n",
       "      <td>0.000000</td>\n",
       "      <td>0.107588</td>\n",
       "      <td>...</td>\n",
       "      <td>0</td>\n",
       "      <td>1</td>\n",
       "      <td>1</td>\n",
       "      <td>0</td>\n",
       "      <td>0</td>\n",
       "      <td>1</td>\n",
       "      <td>0</td>\n",
       "      <td>1</td>\n",
       "      <td>1</td>\n",
       "      <td>0</td>\n",
       "    </tr>\n",
       "    <tr>\n",
       "      <th>1</th>\n",
       "      <td>0.442623</td>\n",
       "      <td>0.0</td>\n",
       "      <td>0.170810</td>\n",
       "      <td>0.000000</td>\n",
       "      <td>0.112676</td>\n",
       "      <td>0.096386</td>\n",
       "      <td>0.057800</td>\n",
       "      <td>0.77325</td>\n",
       "      <td>0.066667</td>\n",
       "      <td>0.026893</td>\n",
       "      <td>...</td>\n",
       "      <td>0</td>\n",
       "      <td>0</td>\n",
       "      <td>0</td>\n",
       "      <td>1</td>\n",
       "      <td>1</td>\n",
       "      <td>0</td>\n",
       "      <td>0</td>\n",
       "      <td>0</td>\n",
       "      <td>1</td>\n",
       "      <td>0</td>\n",
       "    </tr>\n",
       "    <tr>\n",
       "      <th>2</th>\n",
       "      <td>0.508197</td>\n",
       "      <td>0.0</td>\n",
       "      <td>0.115863</td>\n",
       "      <td>0.000000</td>\n",
       "      <td>0.042254</td>\n",
       "      <td>0.337349</td>\n",
       "      <td>0.027534</td>\n",
       "      <td>0.00000</td>\n",
       "      <td>0.000000</td>\n",
       "      <td>0.037751</td>\n",
       "      <td>...</td>\n",
       "      <td>1</td>\n",
       "      <td>0</td>\n",
       "      <td>0</td>\n",
       "      <td>0</td>\n",
       "      <td>0</td>\n",
       "      <td>0</td>\n",
       "      <td>0</td>\n",
       "      <td>1</td>\n",
       "      <td>0</td>\n",
       "      <td>0</td>\n",
       "    </tr>\n",
       "    <tr>\n",
       "      <th>3</th>\n",
       "      <td>0.967213</td>\n",
       "      <td>0.0</td>\n",
       "      <td>0.580316</td>\n",
       "      <td>0.090909</td>\n",
       "      <td>0.169014</td>\n",
       "      <td>0.024096</td>\n",
       "      <td>0.138274</td>\n",
       "      <td>0.00000</td>\n",
       "      <td>0.000000</td>\n",
       "      <td>0.101974</td>\n",
       "      <td>...</td>\n",
       "      <td>1</td>\n",
       "      <td>0</td>\n",
       "      <td>1</td>\n",
       "      <td>1</td>\n",
       "      <td>0</td>\n",
       "      <td>0</td>\n",
       "      <td>0</td>\n",
       "      <td>1</td>\n",
       "      <td>0</td>\n",
       "      <td>0</td>\n",
       "    </tr>\n",
       "    <tr>\n",
       "      <th>4</th>\n",
       "      <td>0.918033</td>\n",
       "      <td>0.0</td>\n",
       "      <td>0.177755</td>\n",
       "      <td>0.272727</td>\n",
       "      <td>0.028169</td>\n",
       "      <td>0.108434</td>\n",
       "      <td>0.025978</td>\n",
       "      <td>0.00000</td>\n",
       "      <td>0.000000</td>\n",
       "      <td>0.005943</td>\n",
       "      <td>...</td>\n",
       "      <td>0</td>\n",
       "      <td>1</td>\n",
       "      <td>1</td>\n",
       "      <td>0</td>\n",
       "      <td>0</td>\n",
       "      <td>0</td>\n",
       "      <td>0</td>\n",
       "      <td>1</td>\n",
       "      <td>1</td>\n",
       "      <td>0</td>\n",
       "    </tr>\n",
       "  </tbody>\n",
       "</table>\n",
       "<p>5 rows × 33 columns</p>\n",
       "</div>"
      ],
      "text/plain": [
       "        Age  Number of Dependents  Latitude  Number of Referrals  \\\n",
       "0  0.295082                   0.0  0.241523             0.181818   \n",
       "1  0.442623                   0.0  0.170810             0.000000   \n",
       "2  0.508197                   0.0  0.115863             0.000000   \n",
       "3  0.967213                   0.0  0.580316             0.090909   \n",
       "4  0.918033                   0.0  0.177755             0.272727   \n",
       "\n",
       "   Tenure in Months  Avg Monthly GB Download  Total Charges  Total Refunds  \\\n",
       "0          0.112676                 0.168675       0.063690        0.00000   \n",
       "1          0.112676                 0.096386       0.057800        0.77325   \n",
       "2          0.042254                 0.337349       0.027534        0.00000   \n",
       "3          0.169014                 0.024096       0.138274        0.00000   \n",
       "4          0.028169                 0.108434       0.025978        0.00000   \n",
       "\n",
       "   Total Extra Data Charges  Total Long Distance Charges  ...  \\\n",
       "0                  0.000000                     0.107588  ...   \n",
       "1                  0.066667                     0.026893  ...   \n",
       "2                  0.000000                     0.037751  ...   \n",
       "3                  0.000000                     0.101974  ...   \n",
       "4                  0.000000                     0.005943  ...   \n",
       "\n",
       "   Device Protection Plan_Yes  Premium Tech Support_Yes  Streaming TV_Yes  \\\n",
       "0                           0                         1                 1   \n",
       "1                           0                         0                 0   \n",
       "2                           1                         0                 0   \n",
       "3                           1                         0                 1   \n",
       "4                           0                         1                 1   \n",
       "\n",
       "   Streaming Movies_Yes  Streaming Music_Yes  Contract_One Year  \\\n",
       "0                     0                    0                  1   \n",
       "1                     1                    1                  0   \n",
       "2                     0                    0                  0   \n",
       "3                     1                    0                  0   \n",
       "4                     0                    0                  0   \n",
       "\n",
       "   Contract_Two Year  Paperless Billing_Yes  Payment Method_Credit Card  \\\n",
       "0                  0                      1                           1   \n",
       "1                  0                      0                           1   \n",
       "2                  0                      1                           0   \n",
       "3                  0                      1                           0   \n",
       "4                  0                      1                           1   \n",
       "\n",
       "   Payment Method_Mailed Check  \n",
       "0                            0  \n",
       "1                            0  \n",
       "2                            0  \n",
       "3                            0  \n",
       "4                            0  \n",
       "\n",
       "[5 rows x 33 columns]"
      ]
     },
     "execution_count": 35,
     "metadata": {},
     "output_type": "execute_result"
    }
   ],
   "source": [
    "X.head()"
   ]
  },
  {
   "cell_type": "markdown",
   "metadata": {},
   "source": [
    "## Model Selection and Evaluation"
   ]
  },
  {
   "cell_type": "markdown",
   "metadata": {},
   "source": [
    "![](https://scikit-learn.org/stable/_static/ml_map.png)"
   ]
  },
  {
   "cell_type": "markdown",
   "metadata": {},
   "source": [
    "### Strategy\n",
    "__Selecting an Estimator__\n",
    "- I will take the recommendation of sklearn documentation with some modification.\n",
    "- I will test several baseline models initially. \n",
    "- Next, I will try several ensemble classifiers.\n",
    "- Next, I will compares the  different baseline models using f1 scores and select the model with largest score.\n",
    "- Finally, I will optimize and tune the selected model using GridSerachCV\n",
    "\n",
    "__Data Spliting__\\\n",
    "Since I plan to use cross-val-score, and the data is unbalanced, I will use StratifiedKFold class with n_split = 10.\n",
    "\n",
    "__Selecting Evaluation Scoring Metrics__\\\n",
    "I will select f1  and recall scores to evaluate the performance of the models.\n",
    "\n",
    "Why not accuaracy? Because accuracy is usually not the best metrics to measure the peformance of classification model on a binary dataset. Moreover, this dataset is imbalanced which emphasize avioding accuracy metric for evaluation.\n",
    "\n",
    "Why not roc_auc_score? Because this dataset is imbalanced hence not very suitable for roc_auc_score.\n"
   ]
  },
  {
   "cell_type": "code",
   "execution_count": 36,
   "metadata": {
    "execution": {
     "iopub.execute_input": "2022-12-01T19:17:05.156119Z",
     "iopub.status.busy": "2022-12-01T19:17:05.155719Z",
     "iopub.status.idle": "2022-12-01T19:17:05.531768Z",
     "shell.execute_reply": "2022-12-01T19:17:05.530729Z",
     "shell.execute_reply.started": "2022-12-01T19:17:05.156083Z"
    }
   },
   "outputs": [],
   "source": [
    "from sklearn.model_selection import StratifiedKFold, cross_val_score\n",
    "from sklearn.linear_model import LogisticRegression\n",
    "from sklearn.svm import LinearSVC\n",
    "from sklearn.neighbors import KNeighborsClassifier\n",
    "from sklearn.svm import SVC\n",
    "from sklearn.ensemble import RandomForestClassifier\n",
    "from sklearn.ensemble import BaggingClassifier\n",
    "from sklearn.ensemble import AdaBoostClassifier\n",
    "from sklearn.ensemble import GradientBoostingClassifier\n",
    "from xgboost import XGBClassifier\n",
    "from sklearn.ensemble import StackingClassifier"
   ]
  },
  {
   "cell_type": "code",
   "execution_count": 37,
   "metadata": {
    "execution": {
     "iopub.execute_input": "2022-12-01T19:17:05.534352Z",
     "iopub.status.busy": "2022-12-01T19:17:05.533550Z",
     "iopub.status.idle": "2022-12-01T19:17:05.544736Z",
     "shell.execute_reply": "2022-12-01T19:17:05.543465Z",
     "shell.execute_reply.started": "2022-12-01T19:17:05.534305Z"
    }
   },
   "outputs": [],
   "source": [
    "# estimators for StackingClassifier\n",
    "# estimators = [('xgbc',XGBClassifier(learning_rate=0.01, random_state=2)),('svr', AdaBoostClassifier(random_state=2))]\n",
    "# final_estimator = LogisticRegression()\n",
    "# ,('StackingClassifier',StackingClassifier(estimators=estimators, final_estimator=final_estimator))\n",
    "\n",
    "\n",
    "# list of model names and models\n",
    "models = [\n",
    "    ('LogisticRegression',LogisticRegression(random_state = 2)),\n",
    "    ('LinearSVC',LinearSVC(random_state=2)),\n",
    "    ('KNeighborsClassifier',KNeighborsClassifier()),\n",
    "    ('SVC',SVC(random_state = 2)),\n",
    "    ('RandomForestClassifier',RandomForestClassifier(random_state=2)),\n",
    "    ('BaggingClassifier',BaggingClassifier(random_state=2)),\n",
    "    ('AdaBoostClassifier',AdaBoostClassifier(random_state=2)),\n",
    "    ('GradientBoostingClassifier',GradientBoostingClassifier(random_state = 2)),\n",
    "    ('XGBClassifier',XGBClassifier(learning_rate=0.01))]"
   ]
  },
  {
   "cell_type": "code",
   "execution_count": 38,
   "metadata": {
    "execution": {
     "iopub.execute_input": "2022-12-01T19:17:05.547761Z",
     "iopub.status.busy": "2022-12-01T19:17:05.546972Z",
     "iopub.status.idle": "2022-12-01T19:17:05.558038Z",
     "shell.execute_reply": "2022-12-01T19:17:05.556708Z",
     "shell.execute_reply.started": "2022-12-01T19:17:05.547721Z"
    }
   },
   "outputs": [],
   "source": [
    "models_names = [model_name for model_name,model in models]\n"
   ]
  },
  {
   "cell_type": "code",
   "execution_count": 39,
   "metadata": {
    "execution": {
     "iopub.execute_input": "2022-12-01T19:17:05.559966Z",
     "iopub.status.busy": "2022-12-01T19:17:05.559647Z",
     "iopub.status.idle": "2022-12-01T19:17:05.574394Z",
     "shell.execute_reply": "2022-12-01T19:17:05.572885Z",
     "shell.execute_reply.started": "2022-12-01T19:17:05.559939Z"
    }
   },
   "outputs": [],
   "source": [
    "# dictionary for the scoring\n",
    "results = {'models':models_names,\n",
    "           'accuracy_score':[],\n",
    "           'f1_score' : [],\n",
    "           'recall_score':[]}"
   ]
  },
  {
   "cell_type": "code",
   "execution_count": 40,
   "metadata": {
    "execution": {
     "iopub.execute_input": "2022-12-01T19:17:05.577265Z",
     "iopub.status.busy": "2022-12-01T19:17:05.576357Z",
     "iopub.status.idle": "2022-12-01T19:24:01.385986Z",
     "shell.execute_reply": "2022-12-01T19:24:01.384469Z",
     "shell.execute_reply.started": "2022-12-01T19:17:05.577205Z"
    }
   },
   "outputs": [
    {
     "name": "stdout",
     "output_type": "stream",
     "text": [
      "Model: LogisticRegression\n",
      "accuracy_score = 0.83\n",
      "f1_score = 0.75\n",
      "recall_score = 0.75\n",
      "\n",
      "\n",
      "Model: LinearSVC\n",
      "accuracy_score = 0.82\n",
      "f1_score = 0.75\n",
      "recall_score = 0.76\n",
      "\n",
      "\n",
      "Model: KNeighborsClassifier\n",
      "accuracy_score = 0.77\n",
      "f1_score = 0.68\n",
      "recall_score = 0.7\n",
      "\n",
      "\n",
      "Model: SVC\n",
      "accuracy_score = 0.83\n",
      "f1_score = 0.75\n",
      "recall_score = 0.74\n",
      "\n",
      "\n",
      "Model: RandomForestClassifier\n",
      "accuracy_score = 0.84\n",
      "f1_score = 0.75\n",
      "recall_score = 0.68\n",
      "\n",
      "\n",
      "Model: BaggingClassifier\n",
      "accuracy_score = 0.83\n",
      "f1_score = 0.73\n",
      "recall_score = 0.67\n",
      "\n",
      "\n",
      "Model: AdaBoostClassifier\n",
      "accuracy_score = 0.83\n",
      "f1_score = 0.75\n",
      "recall_score = 0.73\n",
      "\n",
      "\n",
      "Model: GradientBoostingClassifier\n",
      "accuracy_score = 0.85\n",
      "f1_score = 0.78\n",
      "recall_score = 0.74\n",
      "\n",
      "\n",
      "Model: XGBClassifier\n",
      "accuracy_score = 0.84\n",
      "f1_score = 0.74\n",
      "recall_score = 0.68\n",
      "\n",
      "\n"
     ]
    }
   ],
   "source": [
    "for model_name, model in models:\n",
    "    clf = model\n",
    "    \n",
    "    skf = StratifiedKFold(n_splits=10, shuffle = True, random_state=2).split(X,y)\n",
    "    model_accuracy_score =cross_val_score(clf, X,y,cv=skf, scoring='accuracy')\n",
    "    \n",
    "    skf = StratifiedKFold(n_splits=10, shuffle = True, random_state=2).split(X,y)\n",
    "    model_f1_score = cross_val_score(clf, X,y,cv=skf, scoring='f1')\n",
    "\n",
    "\n",
    "    skf = StratifiedKFold(n_splits=10, shuffle = True, random_state=2).split(X,y)\n",
    "    model_recall_score =cross_val_score(clf, X,y,cv=skf, scoring='recall')\n",
    "\n",
    "    \n",
    "    print(f'Model: {model_name}')\n",
    "    print(f'accuracy_score = {round(model_accuracy_score.mean(),2)}')\n",
    "    print(f'f1_score = {round(model_f1_score.mean(),2)}')\n",
    "    print(f'recall_score = {round(model_recall_score.mean(),2)}')\n",
    "    print('\\n')\n",
    "    \n",
    "    results['accuracy_score'].append(model_accuracy_score.mean())\n",
    "    results['f1_score'].append(model_f1_score.mean())\n",
    "    results['recall_score'].append(model_recall_score.mean())"
   ]
  },
  {
   "cell_type": "markdown",
   "metadata": {},
   "source": [
    "Since accuracy score does not provide an accurate measure of a binary model performance, and that the objective of this project is to predict which customers are about to churn, I will evaluate the models based on the recall and f1 scores."
   ]
  },
  {
   "cell_type": "code",
   "execution_count": 41,
   "metadata": {
    "execution": {
     "iopub.execute_input": "2022-12-01T19:24:01.392306Z",
     "iopub.status.busy": "2022-12-01T19:24:01.387724Z",
     "iopub.status.idle": "2022-12-01T19:24:01.435704Z",
     "shell.execute_reply": "2022-12-01T19:24:01.434108Z",
     "shell.execute_reply.started": "2022-12-01T19:24:01.392211Z"
    }
   },
   "outputs": [
    {
     "data": {
      "text/html": [
       "<div>\n",
       "<style scoped>\n",
       "    .dataframe tbody tr th:only-of-type {\n",
       "        vertical-align: middle;\n",
       "    }\n",
       "\n",
       "    .dataframe tbody tr th {\n",
       "        vertical-align: top;\n",
       "    }\n",
       "\n",
       "    .dataframe thead th {\n",
       "        text-align: right;\n",
       "    }\n",
       "</style>\n",
       "<table border=\"1\" class=\"dataframe\">\n",
       "  <thead>\n",
       "    <tr style=\"text-align: right;\">\n",
       "      <th></th>\n",
       "      <th>models</th>\n",
       "      <th>accuracy_score</th>\n",
       "      <th>f1_score</th>\n",
       "      <th>recall_score</th>\n",
       "    </tr>\n",
       "  </thead>\n",
       "  <tbody>\n",
       "    <tr>\n",
       "      <th>0</th>\n",
       "      <td>LinearSVC</td>\n",
       "      <td>0.823947</td>\n",
       "      <td>0.749601</td>\n",
       "      <td>0.762893</td>\n",
       "    </tr>\n",
       "    <tr>\n",
       "      <th>1</th>\n",
       "      <td>LogisticRegression</td>\n",
       "      <td>0.826773</td>\n",
       "      <td>0.750438</td>\n",
       "      <td>0.754080</td>\n",
       "    </tr>\n",
       "    <tr>\n",
       "      <th>2</th>\n",
       "      <td>GradientBoostingClassifier</td>\n",
       "      <td>0.853075</td>\n",
       "      <td>0.776521</td>\n",
       "      <td>0.740841</td>\n",
       "    </tr>\n",
       "    <tr>\n",
       "      <th>3</th>\n",
       "      <td>SVC</td>\n",
       "      <td>0.828516</td>\n",
       "      <td>0.747477</td>\n",
       "      <td>0.735144</td>\n",
       "    </tr>\n",
       "    <tr>\n",
       "      <th>4</th>\n",
       "      <td>AdaBoostClassifier</td>\n",
       "      <td>0.833512</td>\n",
       "      <td>0.751219</td>\n",
       "      <td>0.728895</td>\n",
       "    </tr>\n",
       "    <tr>\n",
       "      <th>5</th>\n",
       "      <td>KNeighborsClassifier</td>\n",
       "      <td>0.768530</td>\n",
       "      <td>0.675928</td>\n",
       "      <td>0.700482</td>\n",
       "    </tr>\n",
       "    <tr>\n",
       "      <th>6</th>\n",
       "      <td>XGBClassifier</td>\n",
       "      <td>0.838517</td>\n",
       "      <td>0.744226</td>\n",
       "      <td>0.682275</td>\n",
       "    </tr>\n",
       "    <tr>\n",
       "      <th>7</th>\n",
       "      <td>RandomForestClassifier</td>\n",
       "      <td>0.840470</td>\n",
       "      <td>0.745409</td>\n",
       "      <td>0.677195</td>\n",
       "    </tr>\n",
       "    <tr>\n",
       "      <th>8</th>\n",
       "      <td>BaggingClassifier</td>\n",
       "      <td>0.831776</td>\n",
       "      <td>0.734003</td>\n",
       "      <td>0.674051</td>\n",
       "    </tr>\n",
       "  </tbody>\n",
       "</table>\n",
       "</div>"
      ],
      "text/plain": [
       "                       models  accuracy_score  f1_score  recall_score\n",
       "0                   LinearSVC        0.823947  0.749601      0.762893\n",
       "1          LogisticRegression        0.826773  0.750438      0.754080\n",
       "2  GradientBoostingClassifier        0.853075  0.776521      0.740841\n",
       "3                         SVC        0.828516  0.747477      0.735144\n",
       "4          AdaBoostClassifier        0.833512  0.751219      0.728895\n",
       "5        KNeighborsClassifier        0.768530  0.675928      0.700482\n",
       "6               XGBClassifier        0.838517  0.744226      0.682275\n",
       "7      RandomForestClassifier        0.840470  0.745409      0.677195\n",
       "8           BaggingClassifier        0.831776  0.734003      0.674051"
      ]
     },
     "execution_count": 41,
     "metadata": {},
     "output_type": "execute_result"
    }
   ],
   "source": [
    "# convert the results dictionary to a dataframe, sort its value based on 'recall score' and show it\n",
    "results_df = pd.DataFrame(results)\n",
    "results_df = results_df.sort_values('recall_score', ascending=False).reset_index(drop=True)\n",
    "results_df"
   ]
  },
  {
   "cell_type": "markdown",
   "metadata": {},
   "source": [
    "Based on the results, I will select LinearSVC and LogisticRegression . However, I will attempt to improve the scoring first.\n"
   ]
  },
  {
   "cell_type": "markdown",
   "metadata": {},
   "source": [
    "\n",
    "## Attempts to Improve the  Model Scores\n",
    "\n"
   ]
  },
  {
   "cell_type": "markdown",
   "metadata": {},
   "source": [
    "### Reducing the Number of Features"
   ]
  },
  {
   "cell_type": "markdown",
   "metadata": {},
   "source": [
    "I will reduce the number of features by selecting only the most important ones. I will use RF model to examine the importance of each feature.\n"
   ]
  },
  {
   "cell_type": "code",
   "execution_count": 42,
   "metadata": {
    "execution": {
     "iopub.execute_input": "2022-12-01T19:24:06.468476Z",
     "iopub.status.busy": "2022-12-01T19:24:06.468011Z",
     "iopub.status.idle": "2022-12-01T19:24:07.409620Z",
     "shell.execute_reply": "2022-12-01T19:24:07.408040Z",
     "shell.execute_reply.started": "2022-12-01T19:24:06.468435Z"
    }
   },
   "outputs": [
    {
     "data": {
      "text/plain": [
       "RandomForestClassifier()"
      ]
     },
     "execution_count": 42,
     "metadata": {},
     "output_type": "execute_result"
    }
   ],
   "source": [
    "rf_model = RandomForestClassifier()\n",
    "rf_model.fit(X,y)"
   ]
  },
  {
   "cell_type": "code",
   "execution_count": 43,
   "metadata": {
    "execution": {
     "iopub.execute_input": "2022-12-01T19:24:07.412306Z",
     "iopub.status.busy": "2022-12-01T19:24:07.411516Z",
     "iopub.status.idle": "2022-12-01T19:24:07.447400Z",
     "shell.execute_reply": "2022-12-01T19:24:07.445891Z",
     "shell.execute_reply.started": "2022-12-01T19:24:07.412254Z"
    }
   },
   "outputs": [
    {
     "data": {
      "text/plain": [
       "Index(['Tenure in Months', 'Total Charges', 'Total Revenue',\n",
       "       'Number of Referrals', 'Total Long Distance Charges', 'Age', 'Latitude',\n",
       "       'Contract_Two Year', 'Population', 'Avg Monthly GB Download',\n",
       "       'Contract_One Year', 'Number of Dependents', 'Premium Tech Support_Yes',\n",
       "       'Online Security_Yes', 'Internet Type_Fiber Optic',\n",
       "       'Internet Type_DSL'],\n",
       "      dtype='object')"
      ]
     },
     "execution_count": 43,
     "metadata": {},
     "output_type": "execute_result"
    }
   ],
   "source": [
    "important_features = pd.Series(rf_model.feature_importances_, index= X.columns).\\\n",
    "                        sort_values(ascending=False)\n",
    "important_features = important_features[important_features > 0.014]\n",
    "\n",
    "\n",
    "X2 = X[important_features.index.tolist()]\n",
    "\n",
    "X2.columns"
   ]
  },
  {
   "cell_type": "markdown",
   "metadata": {},
   "source": [
    "__Testing with Different Models__"
   ]
  },
  {
   "cell_type": "code",
   "execution_count": 44,
   "metadata": {
    "execution": {
     "iopub.execute_input": "2022-12-01T19:24:07.474115Z",
     "iopub.status.busy": "2022-12-01T19:24:07.473666Z",
     "iopub.status.idle": "2022-12-01T19:24:07.488212Z",
     "shell.execute_reply": "2022-12-01T19:24:07.486939Z",
     "shell.execute_reply.started": "2022-12-01T19:24:07.474073Z"
    }
   },
   "outputs": [],
   "source": [
    "#models_names2 = [model_name for model_name,model in models2]\n",
    "\n",
    "results2 = {'models':models_names,\n",
    "           'accuracy_score':[],\n",
    "           'f1_score' : [],\n",
    "           'recall_score':[]}"
   ]
  },
  {
   "cell_type": "code",
   "execution_count": 45,
   "metadata": {
    "execution": {
     "iopub.execute_input": "2022-12-01T19:24:07.490967Z",
     "iopub.status.busy": "2022-12-01T19:24:07.489790Z",
     "iopub.status.idle": "2022-12-01T19:24:33.598565Z",
     "shell.execute_reply": "2022-12-01T19:24:33.597387Z",
     "shell.execute_reply.started": "2022-12-01T19:24:07.490923Z"
    }
   },
   "outputs": [
    {
     "name": "stdout",
     "output_type": "stream",
     "text": [
      "Model: LogisticRegression\n",
      "accuracy_score = 0.82\n",
      "f1_score = 0.74\n",
      "recall_score = 0.77\n",
      "\n",
      "\n",
      "Model: LinearSVC\n",
      "accuracy_score = 0.81\n",
      "f1_score = 0.74\n",
      "recall_score = 0.78\n",
      "\n",
      "\n",
      "Model: KNeighborsClassifier\n",
      "accuracy_score = 0.79\n",
      "f1_score = 0.7\n",
      "recall_score = 0.69\n",
      "\n",
      "\n",
      "Model: SVC\n",
      "accuracy_score = 0.82\n",
      "f1_score = 0.74\n",
      "recall_score = 0.74\n",
      "\n",
      "\n",
      "Model: RandomForestClassifier\n",
      "accuracy_score = 0.83\n",
      "f1_score = 0.74\n",
      "recall_score = 0.68\n",
      "\n",
      "\n",
      "Model: BaggingClassifier\n",
      "accuracy_score = 0.83\n",
      "f1_score = 0.73\n",
      "recall_score = 0.67\n",
      "\n",
      "\n",
      "Model: AdaBoostClassifier\n",
      "accuracy_score = 0.83\n",
      "f1_score = 0.75\n",
      "recall_score = 0.72\n",
      "\n",
      "\n",
      "Model: GradientBoostingClassifier\n",
      "accuracy_score = 0.85\n",
      "f1_score = 0.77\n",
      "recall_score = 0.73\n",
      "\n",
      "\n",
      "Model: XGBClassifier\n",
      "accuracy_score = 0.84\n",
      "f1_score = 0.75\n",
      "recall_score = 0.69\n",
      "\n",
      "\n"
     ]
    }
   ],
   "source": [
    "for model_name, model in models:\n",
    "    clf = model\n",
    "    \n",
    "    skf = StratifiedKFold(n_splits=10, shuffle = True, random_state=2).split(X2,y)\n",
    "    model_accuracy_score2 =cross_val_score(clf, X2,y,cv=skf, scoring='accuracy')\n",
    "    \n",
    "    skf = StratifiedKFold(n_splits=10, shuffle = True, random_state=2).split(X2,y)\n",
    "    model_f1_score2 = cross_val_score(clf, X2,y,cv=skf, scoring='f1')\n",
    "\n",
    "\n",
    "    skf = StratifiedKFold(n_splits=10, shuffle = True, random_state=2).split(X2,y)\n",
    "    model_recall_score2 =cross_val_score(clf, X2,y,cv=skf, scoring='recall')\n",
    "    \n",
    "    print(f'Model: {model_name}')\n",
    "    print(f'accuracy_score = {round(model_accuracy_score2.mean(),2)}')\n",
    "    print(f'f1_score = {round(model_f1_score2.mean(),2)}')\n",
    "    print(f'recall_score = {round(model_recall_score2.mean(),2)}')\n",
    "    print('\\n')\n",
    "    \n",
    "    results2['accuracy_score'].append(model_accuracy_score2.mean())\n",
    "    results2['f1_score'].append(model_f1_score2.mean())\n",
    "    results2['recall_score'].append(model_recall_score2.mean())\n",
    "    \n"
   ]
  },
  {
   "cell_type": "code",
   "execution_count": 46,
   "metadata": {
    "execution": {
     "iopub.execute_input": "2022-12-01T19:24:33.601389Z",
     "iopub.status.busy": "2022-12-01T19:24:33.600061Z",
     "iopub.status.idle": "2022-12-01T19:24:33.622843Z",
     "shell.execute_reply": "2022-12-01T19:24:33.621563Z",
     "shell.execute_reply.started": "2022-12-01T19:24:33.601319Z"
    }
   },
   "outputs": [
    {
     "data": {
      "text/html": [
       "<div>\n",
       "<style scoped>\n",
       "    .dataframe tbody tr th:only-of-type {\n",
       "        vertical-align: middle;\n",
       "    }\n",
       "\n",
       "    .dataframe tbody tr th {\n",
       "        vertical-align: top;\n",
       "    }\n",
       "\n",
       "    .dataframe thead th {\n",
       "        text-align: right;\n",
       "    }\n",
       "</style>\n",
       "<table border=\"1\" class=\"dataframe\">\n",
       "  <thead>\n",
       "    <tr style=\"text-align: right;\">\n",
       "      <th></th>\n",
       "      <th>models</th>\n",
       "      <th>accuracy_score</th>\n",
       "      <th>f1_score</th>\n",
       "      <th>recall_score</th>\n",
       "    </tr>\n",
       "  </thead>\n",
       "  <tbody>\n",
       "    <tr>\n",
       "      <th>0</th>\n",
       "      <td>LinearSVC</td>\n",
       "      <td>0.813296</td>\n",
       "      <td>0.742440</td>\n",
       "      <td>0.778668</td>\n",
       "    </tr>\n",
       "    <tr>\n",
       "      <th>1</th>\n",
       "      <td>LogisticRegression</td>\n",
       "      <td>0.815904</td>\n",
       "      <td>0.742049</td>\n",
       "      <td>0.766699</td>\n",
       "    </tr>\n",
       "    <tr>\n",
       "      <th>2</th>\n",
       "      <td>SVC</td>\n",
       "      <td>0.818295</td>\n",
       "      <td>0.738555</td>\n",
       "      <td>0.743388</td>\n",
       "    </tr>\n",
       "    <tr>\n",
       "      <th>3</th>\n",
       "      <td>GradientBoostingClassifier</td>\n",
       "      <td>0.846773</td>\n",
       "      <td>0.766453</td>\n",
       "      <td>0.728250</td>\n",
       "    </tr>\n",
       "    <tr>\n",
       "      <th>4</th>\n",
       "      <td>AdaBoostClassifier</td>\n",
       "      <td>0.830471</td>\n",
       "      <td>0.746089</td>\n",
       "      <td>0.720679</td>\n",
       "    </tr>\n",
       "    <tr>\n",
       "      <th>5</th>\n",
       "      <td>XGBClassifier</td>\n",
       "      <td>0.838516</td>\n",
       "      <td>0.745789</td>\n",
       "      <td>0.687306</td>\n",
       "    </tr>\n",
       "    <tr>\n",
       "      <th>6</th>\n",
       "      <td>KNeighborsClassifier</td>\n",
       "      <td>0.792654</td>\n",
       "      <td>0.695095</td>\n",
       "      <td>0.686036</td>\n",
       "    </tr>\n",
       "    <tr>\n",
       "      <th>7</th>\n",
       "      <td>RandomForestClassifier</td>\n",
       "      <td>0.831993</td>\n",
       "      <td>0.735020</td>\n",
       "      <td>0.675301</td>\n",
       "    </tr>\n",
       "    <tr>\n",
       "      <th>8</th>\n",
       "      <td>BaggingClassifier</td>\n",
       "      <td>0.827431</td>\n",
       "      <td>0.726619</td>\n",
       "      <td>0.665198</td>\n",
       "    </tr>\n",
       "  </tbody>\n",
       "</table>\n",
       "</div>"
      ],
      "text/plain": [
       "                       models  accuracy_score  f1_score  recall_score\n",
       "0                   LinearSVC        0.813296  0.742440      0.778668\n",
       "1          LogisticRegression        0.815904  0.742049      0.766699\n",
       "2                         SVC        0.818295  0.738555      0.743388\n",
       "3  GradientBoostingClassifier        0.846773  0.766453      0.728250\n",
       "4          AdaBoostClassifier        0.830471  0.746089      0.720679\n",
       "5               XGBClassifier        0.838516  0.745789      0.687306\n",
       "6        KNeighborsClassifier        0.792654  0.695095      0.686036\n",
       "7      RandomForestClassifier        0.831993  0.735020      0.675301\n",
       "8           BaggingClassifier        0.827431  0.726619      0.665198"
      ]
     },
     "execution_count": 46,
     "metadata": {},
     "output_type": "execute_result"
    }
   ],
   "source": [
    "results_df2 = pd.DataFrame(results2)\n",
    "results_df2 = results_df2.sort_values('recall_score', ascending=False).reset_index(drop=True)\n",
    "results_df2"
   ]
  },
  {
   "cell_type": "markdown",
   "metadata": {},
   "source": [
    "I will select both LinearSVC and LogisticRegression for the next stage.\n",
    "\n",
    "Next, I will tune the models."
   ]
  },
  {
   "cell_type": "markdown",
   "metadata": {},
   "source": [
    "## Model Tuning and Hyperparameters Optimization"
   ]
  },
  {
   "cell_type": "code",
   "execution_count": 47,
   "metadata": {
    "execution": {
     "iopub.execute_input": "2022-12-01T19:24:33.626130Z",
     "iopub.status.busy": "2022-12-01T19:24:33.624628Z",
     "iopub.status.idle": "2022-12-01T19:24:33.635013Z",
     "shell.execute_reply": "2022-12-01T19:24:33.633323Z",
     "shell.execute_reply.started": "2022-12-01T19:24:33.626084Z"
    }
   },
   "outputs": [],
   "source": [
    "from sklearn.model_selection import GridSearchCV"
   ]
  },
  {
   "cell_type": "markdown",
   "metadata": {},
   "source": [
    "### Tuning LinearSVC Model"
   ]
  },
  {
   "cell_type": "code",
   "execution_count": 48,
   "metadata": {
    "execution": {
     "iopub.execute_input": "2022-12-01T19:24:33.638337Z",
     "iopub.status.busy": "2022-12-01T19:24:33.636911Z",
     "iopub.status.idle": "2022-12-01T19:24:33.652099Z",
     "shell.execute_reply": "2022-12-01T19:24:33.649709Z",
     "shell.execute_reply.started": "2022-12-01T19:24:33.638291Z"
    }
   },
   "outputs": [],
   "source": [
    "lin_svc_clf = LinearSVC(random_state=2)\n",
    "\n",
    "params_grid = {'loss':['hinge','squared_hinge'],\n",
    "               'C':[0.01,0.1,1],\n",
    "               'multi_class':['ovr','crammer_singer'],\n",
    "               'fit_intercept':[True, False],\n",
    "               'class_weight':['balanced',None]\n",
    "              }\n",
    "\n",
    "skf = StratifiedKFold(n_splits = 10, shuffle=True, random_state=2).split(X2,y)\n",
    "\n",
    "gs_lin_svc = GridSearchCV(lin_svc_clf, params_grid, n_jobs=-1, cv = skf, scoring='recall')"
   ]
  },
  {
   "cell_type": "code",
   "execution_count": 49,
   "metadata": {
    "execution": {
     "iopub.execute_input": "2022-12-01T19:24:33.655190Z",
     "iopub.status.busy": "2022-12-01T19:24:33.654502Z",
     "iopub.status.idle": "2022-12-01T19:53:10.426829Z",
     "shell.execute_reply": "2022-12-01T19:53:10.425371Z",
     "shell.execute_reply.started": "2022-12-01T19:24:33.655117Z"
    }
   },
   "outputs": [
    {
     "name": "stdout",
     "output_type": "stream",
     "text": [
      "0.8770599474564127\n",
      "{'C': 0.01, 'class_weight': 'balanced', 'fit_intercept': True, 'loss': 'hinge', 'multi_class': 'crammer_singer'}\n"
     ]
    }
   ],
   "source": [
    "gs_lin_svc.fit(X2,y)\n",
    "\n",
    "print(gs_lin_svc.best_score_)\n",
    "\n",
    "print(gs_lin_svc .best_params_)"
   ]
  },
  {
   "cell_type": "markdown",
   "metadata": {},
   "source": [
    "### Tuning the LogisticRegression Model"
   ]
  },
  {
   "cell_type": "code",
   "execution_count": 50,
   "metadata": {},
   "outputs": [],
   "source": [
    "lr_clf = LogisticRegression(random_state=2)\n",
    "\n",
    "params_grid = {'penalty':['l1','l2','elasticnet','none'],\n",
    "               'C':[0.1,1],\n",
    "               'multi_class':['auto','ovr','multinomial'],\n",
    "               'fit_intercept':[True, False],\n",
    "               'class_weight':['balanced',None],\n",
    "               'solver' : ['lbfgs','liblinear','sag'],\n",
    "               'n_jobs': [-1]\n",
    "              }\n",
    "\n",
    "skf = StratifiedKFold(n_splits = 10, shuffle=True, random_state=2).split(X2,y)\n",
    "\n",
    "gs_lr = GridSearchCV(lr_clf, params_grid, n_jobs=-1, cv = skf, scoring='recall')"
   ]
  },
  {
   "cell_type": "code",
   "execution_count": 51,
   "metadata": {},
   "outputs": [
    {
     "name": "stdout",
     "output_type": "stream",
     "text": [
      "0.8543507682509354\n",
      "{'C': 0.1, 'class_weight': 'balanced', 'fit_intercept': True, 'multi_class': 'auto', 'n_jobs': -1, 'penalty': 'none', 'solver': 'sag'}\n"
     ]
    }
   ],
   "source": [
    "gs_lr.fit(X2,y)\n",
    "\n",
    "print(gs_lr.best_score_)\n",
    "\n",
    "print(gs_lr .best_params_)"
   ]
  },
  {
   "cell_type": "markdown",
   "metadata": {},
   "source": [
    "### Building StackingClassifier from LinearSVC and LogisticRegression"
   ]
  },
  {
   "cell_type": "code",
   "execution_count": 52,
   "metadata": {},
   "outputs": [],
   "source": [
    "lin_svc_clf = LinearSVC(C= 0.01, \n",
    "                    class_weight = 'balanced', \n",
    "                    fit_intercept = True, \n",
    "                    loss = 'hinge', \n",
    "                    multi_class = 'crammer_singer',\n",
    "                    random_state=2)\n",
    "\n",
    "lr_clf = LogisticRegression(C = 0.1, \n",
    "                            class_weight = 'balanced', \n",
    "                            fit_intercept = True, \n",
    "                            multi_class ='auto', \n",
    "                            n_jobs = -1, \n",
    "                            penalty = 'none', \n",
    "                            solver ='sag',\n",
    "                            random_state=2)\n",
    "\n",
    "estimators = [('lin_svc',lin_svc_clf)]\n",
    "\n",
    "tsc_clf = StackingClassifier(estimators = estimators, final_estimator=lr_clf)\n"
   ]
  },
  {
   "cell_type": "code",
   "execution_count": 53,
   "metadata": {},
   "outputs": [
    {
     "name": "stdout",
     "output_type": "stream",
     "text": [
      "accuracy_score = 0.78\n",
      "f1_score = 0.73\n",
      "recall_score = 0.87\n",
      "\n",
      "\n"
     ]
    }
   ],
   "source": [
    "skf = StratifiedKFold(n_splits=10, shuffle = True, random_state=2).split(X2,y)\n",
    "model_accuracy_score3 =cross_val_score(tsc_clf, X2,y,cv=skf, scoring='accuracy')\n",
    "\n",
    "skf = StratifiedKFold(n_splits=10, shuffle = True, random_state=2).split(X2,y)\n",
    "model_f1_score3 = cross_val_score(tsc_clf, X2,y,cv=skf, scoring='f1')\n",
    "\n",
    "\n",
    "skf = StratifiedKFold(n_splits=10, shuffle = True, random_state=2).split(X2,y)\n",
    "model_recall_score3 =cross_val_score(tsc_clf, X2,y,cv=skf, scoring='recall')\n",
    "\n",
    "\n",
    "print(f'accuracy_score = {round(model_accuracy_score3.mean(),2)}')\n",
    "print(f'f1_score = {round(model_f1_score3.mean(),2)}')\n",
    "print(f'recall_score = {round(model_recall_score3.mean(),2)}')\n",
    "print('\\n')\n"
   ]
  },
  {
   "cell_type": "markdown",
   "metadata": {},
   "source": [
    "The scoring did not improve from the LinearSVC. \n",
    "\n",
    "Hence, I will select the LinearSCV for the model and X for the features"
   ]
  },
  {
   "cell_type": "code",
   "execution_count": 54,
   "metadata": {},
   "outputs": [
    {
     "data": {
      "text/plain": [
       "LinearSVC(C=0.01, class_weight='balanced', loss='hinge',\n",
       "          multi_class='crammer_singer', random_state=2)"
      ]
     },
     "execution_count": 54,
     "metadata": {},
     "output_type": "execute_result"
    }
   ],
   "source": [
    "final_model_lin_svc = LinearSVC(C= 0.01, \n",
    "                    class_weight = 'balanced', \n",
    "                    fit_intercept = True, \n",
    "                    loss = 'hinge', \n",
    "                    multi_class = 'crammer_singer',\n",
    "                    random_state=2)\n",
    "\n",
    "final_model_lin_svc.fit(X2,y)"
   ]
  },
  {
   "cell_type": "markdown",
   "metadata": {},
   "source": [
    "## Model Interpretation"
   ]
  },
  {
   "cell_type": "code",
   "execution_count": 55,
   "metadata": {
    "scrolled": false
   },
   "outputs": [
    {
     "data": {
      "text/html": [
       "<div>\n",
       "<style scoped>\n",
       "    .dataframe tbody tr th:only-of-type {\n",
       "        vertical-align: middle;\n",
       "    }\n",
       "\n",
       "    .dataframe tbody tr th {\n",
       "        vertical-align: top;\n",
       "    }\n",
       "\n",
       "    .dataframe thead th {\n",
       "        text-align: right;\n",
       "    }\n",
       "</style>\n",
       "<table border=\"1\" class=\"dataframe\">\n",
       "  <thead>\n",
       "    <tr style=\"text-align: right;\">\n",
       "      <th></th>\n",
       "      <th>features</th>\n",
       "      <th>coefficient</th>\n",
       "      <th>abs_coefficient</th>\n",
       "    </tr>\n",
       "  </thead>\n",
       "  <tbody>\n",
       "    <tr>\n",
       "      <th>7</th>\n",
       "      <td>Contract_Two Year</td>\n",
       "      <td>-1.442035</td>\n",
       "      <td>1.442035</td>\n",
       "    </tr>\n",
       "    <tr>\n",
       "      <th>3</th>\n",
       "      <td>Number of Referrals</td>\n",
       "      <td>-1.405368</td>\n",
       "      <td>1.405368</td>\n",
       "    </tr>\n",
       "    <tr>\n",
       "      <th>10</th>\n",
       "      <td>Contract_One Year</td>\n",
       "      <td>-1.310002</td>\n",
       "      <td>1.310002</td>\n",
       "    </tr>\n",
       "    <tr>\n",
       "      <th>11</th>\n",
       "      <td>Number of Dependents</td>\n",
       "      <td>-0.777435</td>\n",
       "      <td>0.777435</td>\n",
       "    </tr>\n",
       "    <tr>\n",
       "      <th>0</th>\n",
       "      <td>Tenure in Months</td>\n",
       "      <td>-0.666689</td>\n",
       "      <td>0.666689</td>\n",
       "    </tr>\n",
       "    <tr>\n",
       "      <th>8</th>\n",
       "      <td>Population</td>\n",
       "      <td>0.276171</td>\n",
       "      <td>0.276171</td>\n",
       "    </tr>\n",
       "    <tr>\n",
       "      <th>5</th>\n",
       "      <td>Age</td>\n",
       "      <td>0.248844</td>\n",
       "      <td>0.248844</td>\n",
       "    </tr>\n",
       "    <tr>\n",
       "      <th>15</th>\n",
       "      <td>Internet Type_DSL</td>\n",
       "      <td>-0.221077</td>\n",
       "      <td>0.221077</td>\n",
       "    </tr>\n",
       "    <tr>\n",
       "      <th>13</th>\n",
       "      <td>Online Security_Yes</td>\n",
       "      <td>-0.186666</td>\n",
       "      <td>0.186666</td>\n",
       "    </tr>\n",
       "    <tr>\n",
       "      <th>14</th>\n",
       "      <td>Internet Type_Fiber Optic</td>\n",
       "      <td>0.184177</td>\n",
       "      <td>0.184177</td>\n",
       "    </tr>\n",
       "    <tr>\n",
       "      <th>12</th>\n",
       "      <td>Premium Tech Support_Yes</td>\n",
       "      <td>-0.152360</td>\n",
       "      <td>0.152360</td>\n",
       "    </tr>\n",
       "    <tr>\n",
       "      <th>4</th>\n",
       "      <td>Total Long Distance Charges</td>\n",
       "      <td>-0.093204</td>\n",
       "      <td>0.093204</td>\n",
       "    </tr>\n",
       "    <tr>\n",
       "      <th>1</th>\n",
       "      <td>Total Charges</td>\n",
       "      <td>0.050200</td>\n",
       "      <td>0.050200</td>\n",
       "    </tr>\n",
       "    <tr>\n",
       "      <th>9</th>\n",
       "      <td>Avg Monthly GB Download</td>\n",
       "      <td>-0.013811</td>\n",
       "      <td>0.013811</td>\n",
       "    </tr>\n",
       "    <tr>\n",
       "      <th>6</th>\n",
       "      <td>Latitude</td>\n",
       "      <td>0.009275</td>\n",
       "      <td>0.009275</td>\n",
       "    </tr>\n",
       "    <tr>\n",
       "      <th>2</th>\n",
       "      <td>Total Revenue</td>\n",
       "      <td>0.008668</td>\n",
       "      <td>0.008668</td>\n",
       "    </tr>\n",
       "  </tbody>\n",
       "</table>\n",
       "</div>"
      ],
      "text/plain": [
       "                       features  coefficient  abs_coefficient\n",
       "7             Contract_Two Year    -1.442035         1.442035\n",
       "3           Number of Referrals    -1.405368         1.405368\n",
       "10            Contract_One Year    -1.310002         1.310002\n",
       "11         Number of Dependents    -0.777435         0.777435\n",
       "0              Tenure in Months    -0.666689         0.666689\n",
       "8                    Population     0.276171         0.276171\n",
       "5                           Age     0.248844         0.248844\n",
       "15            Internet Type_DSL    -0.221077         0.221077\n",
       "13          Online Security_Yes    -0.186666         0.186666\n",
       "14    Internet Type_Fiber Optic     0.184177         0.184177\n",
       "12     Premium Tech Support_Yes    -0.152360         0.152360\n",
       "4   Total Long Distance Charges    -0.093204         0.093204\n",
       "1                 Total Charges     0.050200         0.050200\n",
       "9       Avg Monthly GB Download    -0.013811         0.013811\n",
       "6                      Latitude     0.009275         0.009275\n",
       "2                 Total Revenue     0.008668         0.008668"
      ]
     },
     "execution_count": 55,
     "metadata": {},
     "output_type": "execute_result"
    }
   ],
   "source": [
    "interpretation = pd.DataFrame({'features':X2.columns.tolist(),'coefficient': final_model_lin_svc.coef_[0]})\n",
    "interpretation['abs_coefficient'] = interpretation['coefficient'].abs()\n",
    "interpretation.sort_values('abs_coefficient',ascending=False)"
   ]
  },
  {
   "cell_type": "markdown",
   "metadata": {},
   "source": [
    "## Saving the Model "
   ]
  },
  {
   "cell_type": "code",
   "execution_count": 56,
   "metadata": {
    "execution": {
     "iopub.execute_input": "2022-12-01T19:53:10.810345Z",
     "iopub.status.busy": "2022-12-01T19:53:10.809982Z",
     "iopub.status.idle": "2022-12-01T19:53:10.829896Z",
     "shell.execute_reply": "2022-12-01T19:53:10.828528Z",
     "shell.execute_reply.started": "2022-12-01T19:53:10.810312Z"
    },
    "scrolled": true
   },
   "outputs": [
    {
     "data": {
      "text/plain": [
       "['../model/final_model_lin_svc.pkl']"
      ]
     },
     "execution_count": 56,
     "metadata": {},
     "output_type": "execute_result"
    }
   ],
   "source": [
    "import joblib\n",
    "\n",
    "joblib.dump(final_model_lin_svc, '../model/final_model_lin_svc.pkl')"
   ]
  }
 ],
 "metadata": {
  "kernelspec": {
   "display_name": "data_analysis",
   "language": "python",
   "name": "data_analysis"
  },
  "language_info": {
   "codemirror_mode": {
    "name": "ipython",
    "version": 3
   },
   "file_extension": ".py",
   "mimetype": "text/x-python",
   "name": "python",
   "nbconvert_exporter": "python",
   "pygments_lexer": "ipython3",
   "version": "3.9.5"
  }
 },
 "nbformat": 4,
 "nbformat_minor": 4
}
