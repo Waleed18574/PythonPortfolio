{
 "cells": [
  {
   "cell_type": "markdown",
   "id": "e6bd69f2",
   "metadata": {},
   "source": [
    "# Grocery Stroe Sales Analysis\n",
    "## Objectives\n",
    "\n",
    "Hi There, and thanks for your help. If you're reading this you've been selected to help on a secret initiative.\n",
    "\n",
    "You will be helping us analyze a portion of data from a company we want to acquire, which could greatly improve the fortunes of Maven Mega Mart.\n",
    "\n",
    "We'll be working with `project_transactions.csv` and briefly take a look at `product.csv`.\n",
    "\n",
    "First, read in the transactions data and explore it.\n",
    "\n",
    "* Take a look at the raw data, the datatypes, and cast `day`, `quantity`, `store_id`, and `week_no` columns to the smallest appropriate datatype. Check the memory reduction by doing so.\n",
    "* Is there any missing data?\n",
    "* How many unique households and products are there in the data? The fields household_key and product_id will help here."
   ]
  },
  {
   "cell_type": "code",
   "execution_count": 1,
   "id": "048c011c",
   "metadata": {},
   "outputs": [],
   "source": [
    "import pandas as pd\n",
    "import numpy as np"
   ]
  },
  {
   "cell_type": "code",
   "execution_count": 6,
   "id": "ae35b1d2-d14f-4201-b48e-f1b60d22a09a",
   "metadata": {},
   "outputs": [],
   "source": [
    "transactions =  pd.read_parquet('../project-data/grocery-data.parquet')"
   ]
  },
  {
   "cell_type": "code",
   "execution_count": 7,
   "id": "20749686",
   "metadata": {},
   "outputs": [
    {
     "data": {
      "text/html": [
       "<div>\n",
       "<style scoped>\n",
       "    .dataframe tbody tr th:only-of-type {\n",
       "        vertical-align: middle;\n",
       "    }\n",
       "\n",
       "    .dataframe tbody tr th {\n",
       "        vertical-align: top;\n",
       "    }\n",
       "\n",
       "    .dataframe thead th {\n",
       "        text-align: right;\n",
       "    }\n",
       "</style>\n",
       "<table border=\"1\" class=\"dataframe\">\n",
       "  <thead>\n",
       "    <tr style=\"text-align: right;\">\n",
       "      <th></th>\n",
       "      <th>household_key</th>\n",
       "      <th>BASKET_ID</th>\n",
       "      <th>DAY</th>\n",
       "      <th>PRODUCT_ID</th>\n",
       "      <th>QUANTITY</th>\n",
       "      <th>SALES_VALUE</th>\n",
       "      <th>STORE_ID</th>\n",
       "      <th>RETAIL_DISC</th>\n",
       "      <th>WEEK_NO</th>\n",
       "      <th>COUPON_DISC</th>\n",
       "      <th>COUPON_MATCH_DISC</th>\n",
       "    </tr>\n",
       "  </thead>\n",
       "  <tbody>\n",
       "    <tr>\n",
       "      <th>0</th>\n",
       "      <td>1364</td>\n",
       "      <td>26984896261</td>\n",
       "      <td>1</td>\n",
       "      <td>842930</td>\n",
       "      <td>1</td>\n",
       "      <td>2.19</td>\n",
       "      <td>31742</td>\n",
       "      <td>0.00</td>\n",
       "      <td>1</td>\n",
       "      <td>0.0</td>\n",
       "      <td>0.0</td>\n",
       "    </tr>\n",
       "    <tr>\n",
       "      <th>1</th>\n",
       "      <td>1364</td>\n",
       "      <td>26984896261</td>\n",
       "      <td>1</td>\n",
       "      <td>897044</td>\n",
       "      <td>1</td>\n",
       "      <td>2.99</td>\n",
       "      <td>31742</td>\n",
       "      <td>-0.40</td>\n",
       "      <td>1</td>\n",
       "      <td>0.0</td>\n",
       "      <td>0.0</td>\n",
       "    </tr>\n",
       "    <tr>\n",
       "      <th>2</th>\n",
       "      <td>1364</td>\n",
       "      <td>26984896261</td>\n",
       "      <td>1</td>\n",
       "      <td>920955</td>\n",
       "      <td>1</td>\n",
       "      <td>3.09</td>\n",
       "      <td>31742</td>\n",
       "      <td>0.00</td>\n",
       "      <td>1</td>\n",
       "      <td>0.0</td>\n",
       "      <td>0.0</td>\n",
       "    </tr>\n",
       "    <tr>\n",
       "      <th>3</th>\n",
       "      <td>1364</td>\n",
       "      <td>26984896261</td>\n",
       "      <td>1</td>\n",
       "      <td>937406</td>\n",
       "      <td>1</td>\n",
       "      <td>2.50</td>\n",
       "      <td>31742</td>\n",
       "      <td>-0.99</td>\n",
       "      <td>1</td>\n",
       "      <td>0.0</td>\n",
       "      <td>0.0</td>\n",
       "    </tr>\n",
       "    <tr>\n",
       "      <th>4</th>\n",
       "      <td>1364</td>\n",
       "      <td>26984896261</td>\n",
       "      <td>1</td>\n",
       "      <td>981760</td>\n",
       "      <td>1</td>\n",
       "      <td>0.60</td>\n",
       "      <td>31742</td>\n",
       "      <td>-0.79</td>\n",
       "      <td>1</td>\n",
       "      <td>0.0</td>\n",
       "      <td>0.0</td>\n",
       "    </tr>\n",
       "  </tbody>\n",
       "</table>\n",
       "</div>"
      ],
      "text/plain": [
       "   household_key    BASKET_ID  DAY  PRODUCT_ID  QUANTITY  SALES_VALUE  \\\n",
       "0           1364  26984896261    1      842930         1         2.19   \n",
       "1           1364  26984896261    1      897044         1         2.99   \n",
       "2           1364  26984896261    1      920955         1         3.09   \n",
       "3           1364  26984896261    1      937406         1         2.50   \n",
       "4           1364  26984896261    1      981760         1         0.60   \n",
       "\n",
       "   STORE_ID  RETAIL_DISC  WEEK_NO  COUPON_DISC  COUPON_MATCH_DISC  \n",
       "0     31742         0.00        1          0.0                0.0  \n",
       "1     31742        -0.40        1          0.0                0.0  \n",
       "2     31742         0.00        1          0.0                0.0  \n",
       "3     31742        -0.99        1          0.0                0.0  \n",
       "4     31742        -0.79        1          0.0                0.0  "
      ]
     },
     "execution_count": 7,
     "metadata": {},
     "output_type": "execute_result"
    }
   ],
   "source": [
    "transactions.head()"
   ]
  },
  {
   "cell_type": "code",
   "execution_count": 8,
   "id": "ba40ff9c-71b5-46e0-8b8f-614b5a42a675",
   "metadata": {},
   "outputs": [],
   "source": [
    "transactions.columns = [col.lower() for col in transactions.columns]"
   ]
  },
  {
   "cell_type": "code",
   "execution_count": 9,
   "id": "4c10e5f5",
   "metadata": {},
   "outputs": [
    {
     "name": "stdout",
     "output_type": "stream",
     "text": [
      "<class 'pandas.core.frame.DataFrame'>\n",
      "RangeIndex: 2146311 entries, 0 to 2146310\n",
      "Data columns (total 11 columns):\n",
      " #   Column             Dtype  \n",
      "---  ------             -----  \n",
      " 0   household_key      int64  \n",
      " 1   basket_id          int64  \n",
      " 2   day                int64  \n",
      " 3   product_id         int64  \n",
      " 4   quantity           int64  \n",
      " 5   sales_value        float64\n",
      " 6   store_id           int64  \n",
      " 7   retail_disc        float64\n",
      " 8   week_no            int64  \n",
      " 9   coupon_disc        float64\n",
      " 10  coupon_match_disc  float64\n",
      "dtypes: float64(4), int64(7)\n",
      "memory usage: 180.1 MB\n"
     ]
    }
   ],
   "source": [
    "transactions.info(memory_usage=\"deep\")"
   ]
  },
  {
   "cell_type": "code",
   "execution_count": 111,
   "id": "9f8dd23a-3a66-4d3d-b81c-a2b3bafd0c1a",
   "metadata": {},
   "outputs": [
    {
     "data": {
      "text/html": [
       "<div>\n",
       "<style scoped>\n",
       "    .dataframe tbody tr th:only-of-type {\n",
       "        vertical-align: middle;\n",
       "    }\n",
       "\n",
       "    .dataframe tbody tr th {\n",
       "        vertical-align: top;\n",
       "    }\n",
       "\n",
       "    .dataframe thead th {\n",
       "        text-align: right;\n",
       "    }\n",
       "</style>\n",
       "<table border=\"1\" class=\"dataframe\">\n",
       "  <thead>\n",
       "    <tr style=\"text-align: right;\">\n",
       "      <th></th>\n",
       "      <th>household_key</th>\n",
       "      <th>basket_id</th>\n",
       "      <th>day</th>\n",
       "      <th>product_id</th>\n",
       "      <th>quantity</th>\n",
       "      <th>sales_value</th>\n",
       "      <th>store_id</th>\n",
       "      <th>retail_disc</th>\n",
       "      <th>week_no</th>\n",
       "      <th>coupon_disc</th>\n",
       "      <th>coupon_match_disc</th>\n",
       "    </tr>\n",
       "  </thead>\n",
       "  <tbody>\n",
       "    <tr>\n",
       "      <th>count</th>\n",
       "      <td>2146311.0</td>\n",
       "      <td>2.146311e+06</td>\n",
       "      <td>2146311.0</td>\n",
       "      <td>2146311.0</td>\n",
       "      <td>2146311.0</td>\n",
       "      <td>2146311.0</td>\n",
       "      <td>2146311.0</td>\n",
       "      <td>2146311.0</td>\n",
       "      <td>2146311.0</td>\n",
       "      <td>2146311.0</td>\n",
       "      <td>2146311.0</td>\n",
       "    </tr>\n",
       "    <tr>\n",
       "      <th>mean</th>\n",
       "      <td>1056.0</td>\n",
       "      <td>3.404897e+10</td>\n",
       "      <td>390.0</td>\n",
       "      <td>2884715.0</td>\n",
       "      <td>101.0</td>\n",
       "      <td>3.0</td>\n",
       "      <td>3268.0</td>\n",
       "      <td>-1.0</td>\n",
       "      <td>56.0</td>\n",
       "      <td>-0.0</td>\n",
       "      <td>-0.0</td>\n",
       "    </tr>\n",
       "    <tr>\n",
       "      <th>std</th>\n",
       "      <td>605.0</td>\n",
       "      <td>4.723748e+09</td>\n",
       "      <td>190.0</td>\n",
       "      <td>3831949.0</td>\n",
       "      <td>1152.0</td>\n",
       "      <td>4.0</td>\n",
       "      <td>9122.0</td>\n",
       "      <td>1.0</td>\n",
       "      <td>27.0</td>\n",
       "      <td>0.0</td>\n",
       "      <td>0.0</td>\n",
       "    </tr>\n",
       "    <tr>\n",
       "      <th>min</th>\n",
       "      <td>1.0</td>\n",
       "      <td>2.698490e+10</td>\n",
       "      <td>1.0</td>\n",
       "      <td>25671.0</td>\n",
       "      <td>0.0</td>\n",
       "      <td>0.0</td>\n",
       "      <td>1.0</td>\n",
       "      <td>-130.0</td>\n",
       "      <td>1.0</td>\n",
       "      <td>-56.0</td>\n",
       "      <td>-8.0</td>\n",
       "    </tr>\n",
       "    <tr>\n",
       "      <th>25%</th>\n",
       "      <td>548.0</td>\n",
       "      <td>3.040798e+10</td>\n",
       "      <td>229.0</td>\n",
       "      <td>917231.0</td>\n",
       "      <td>1.0</td>\n",
       "      <td>1.0</td>\n",
       "      <td>330.0</td>\n",
       "      <td>-1.0</td>\n",
       "      <td>33.0</td>\n",
       "      <td>0.0</td>\n",
       "      <td>0.0</td>\n",
       "    </tr>\n",
       "    <tr>\n",
       "      <th>50%</th>\n",
       "      <td>1042.0</td>\n",
       "      <td>3.281176e+10</td>\n",
       "      <td>392.0</td>\n",
       "      <td>1027960.0</td>\n",
       "      <td>1.0</td>\n",
       "      <td>2.0</td>\n",
       "      <td>372.0</td>\n",
       "      <td>0.0</td>\n",
       "      <td>57.0</td>\n",
       "      <td>0.0</td>\n",
       "      <td>0.0</td>\n",
       "    </tr>\n",
       "    <tr>\n",
       "      <th>75%</th>\n",
       "      <td>1581.0</td>\n",
       "      <td>4.012804e+10</td>\n",
       "      <td>555.0</td>\n",
       "      <td>1132771.0</td>\n",
       "      <td>1.0</td>\n",
       "      <td>3.0</td>\n",
       "      <td>422.0</td>\n",
       "      <td>0.0</td>\n",
       "      <td>80.0</td>\n",
       "      <td>0.0</td>\n",
       "      <td>0.0</td>\n",
       "    </tr>\n",
       "    <tr>\n",
       "      <th>max</th>\n",
       "      <td>2099.0</td>\n",
       "      <td>4.230536e+10</td>\n",
       "      <td>711.0</td>\n",
       "      <td>18316298.0</td>\n",
       "      <td>89638.0</td>\n",
       "      <td>840.0</td>\n",
       "      <td>34280.0</td>\n",
       "      <td>4.0</td>\n",
       "      <td>102.0</td>\n",
       "      <td>0.0</td>\n",
       "      <td>0.0</td>\n",
       "    </tr>\n",
       "  </tbody>\n",
       "</table>\n",
       "</div>"
      ],
      "text/plain": [
       "       household_key     basket_id        day  product_id   quantity  \\\n",
       "count      2146311.0  2.146311e+06  2146311.0   2146311.0  2146311.0   \n",
       "mean          1056.0  3.404897e+10      390.0   2884715.0      101.0   \n",
       "std            605.0  4.723748e+09      190.0   3831949.0     1152.0   \n",
       "min              1.0  2.698490e+10        1.0     25671.0        0.0   \n",
       "25%            548.0  3.040798e+10      229.0    917231.0        1.0   \n",
       "50%           1042.0  3.281176e+10      392.0   1027960.0        1.0   \n",
       "75%           1581.0  4.012804e+10      555.0   1132771.0        1.0   \n",
       "max           2099.0  4.230536e+10      711.0  18316298.0    89638.0   \n",
       "\n",
       "       sales_value   store_id  retail_disc    week_no  coupon_disc  \\\n",
       "count    2146311.0  2146311.0    2146311.0  2146311.0    2146311.0   \n",
       "mean           3.0     3268.0         -1.0       56.0         -0.0   \n",
       "std            4.0     9122.0          1.0       27.0          0.0   \n",
       "min            0.0        1.0       -130.0        1.0        -56.0   \n",
       "25%            1.0      330.0         -1.0       33.0          0.0   \n",
       "50%            2.0      372.0          0.0       57.0          0.0   \n",
       "75%            3.0      422.0          0.0       80.0          0.0   \n",
       "max          840.0    34280.0          4.0      102.0          0.0   \n",
       "\n",
       "       coupon_match_disc  \n",
       "count          2146311.0  \n",
       "mean                -0.0  \n",
       "std                  0.0  \n",
       "min                 -8.0  \n",
       "25%                  0.0  \n",
       "50%                  0.0  \n",
       "75%                  0.0  \n",
       "max                  0.0  "
      ]
     },
     "execution_count": 111,
     "metadata": {},
     "output_type": "execute_result"
    }
   ],
   "source": [
    "transactions.describe().round()"
   ]
  },
  {
   "cell_type": "markdown",
   "id": "15663d1d-4ea4-4091-aedc-97170a795110",
   "metadata": {},
   "source": [
    "Decrease the size of the dataset"
   ]
  },
  {
   "cell_type": "code",
   "execution_count": 112,
   "id": "22fb8381",
   "metadata": {},
   "outputs": [
    {
     "name": "stdout",
     "output_type": "stream",
     "text": [
      "<class 'pandas.core.frame.DataFrame'>\n",
      "RangeIndex: 2146311 entries, 0 to 2146310\n",
      "Data columns (total 11 columns):\n",
      " #   Column             Dtype  \n",
      "---  ------             -----  \n",
      " 0   household_key      int16  \n",
      " 1   basket_id          int64  \n",
      " 2   day                int8   \n",
      " 3   product_id         int64  \n",
      " 4   quantity           int32  \n",
      " 5   sales_value        float32\n",
      " 6   store_id           int32  \n",
      " 7   retail_disc        float64\n",
      " 8   week_no            int8   \n",
      " 9   coupon_disc        float64\n",
      " 10  coupon_match_disc  float64\n",
      "dtypes: float32(1), float64(3), int16(1), int32(2), int64(2), int8(2)\n",
      "memory usage: 114.6 MB\n"
     ]
    }
   ],
   "source": [
    "transactions = transactions.astype({\"household_key\":\"int16\",\n",
    "                                    \"day\": \"int8\",\n",
    "                                    \"quantity\": \"int32\",\n",
    "                                    \"store_id\": \"int32\",\n",
    "                                    \"week_no\": \"int8\",\n",
    "                                    \"sales_value\":\"float32\",\n",
    "                                    \"retail_disc\":\"float\",\n",
    "                                    \"coupon_disc\":\"float\"})\n",
    "transactions.info()\n",
    "                          "
   ]
  },
  {
   "cell_type": "code",
   "execution_count": 113,
   "id": "c6fdf78f",
   "metadata": {},
   "outputs": [
    {
     "data": {
      "text/plain": [
       "household_key        0\n",
       "basket_id            0\n",
       "day                  0\n",
       "product_id           0\n",
       "quantity             0\n",
       "sales_value          0\n",
       "store_id             0\n",
       "retail_disc          0\n",
       "week_no              0\n",
       "coupon_disc          0\n",
       "coupon_match_disc    0\n",
       "dtype: int64"
      ]
     },
     "execution_count": 113,
     "metadata": {},
     "output_type": "execute_result"
    }
   ],
   "source": [
    "transactions.isna().sum()"
   ]
  },
  {
   "cell_type": "code",
   "execution_count": 114,
   "id": "3995fbe5",
   "metadata": {},
   "outputs": [
    {
     "data": {
      "text/plain": [
       "2099"
      ]
     },
     "execution_count": 114,
     "metadata": {},
     "output_type": "execute_result"
    }
   ],
   "source": [
    "# Calculate unique households in dataset with nunique (describe could also be used)\n",
    "\n",
    "transactions[\"household_key\"].nunique()"
   ]
  },
  {
   "cell_type": "code",
   "execution_count": 115,
   "id": "e363ef5d",
   "metadata": {},
   "outputs": [
    {
     "data": {
      "text/plain": [
       "84138"
      ]
     },
     "execution_count": 115,
     "metadata": {},
     "output_type": "execute_result"
    }
   ],
   "source": [
    "# Calculate unique product_ids in dataset with nunique\n",
    "\n",
    "transactions[\"product_id\"].nunique()"
   ]
  },
  {
   "cell_type": "markdown",
   "id": "da1b6d8b-b530-4b45-835d-a7ae6ae578e6",
   "metadata": {},
   "source": [
    "## Data Cleaning and Preparation"
   ]
  },
  {
   "cell_type": "markdown",
   "id": "42983a48",
   "metadata": {},
   "source": [
    "\n",
    "\n",
    "I will add two columns:\n",
    "\n",
    "* A column that captures the `total_discount` by row (sum of `retail_disc`, `coupon_disc`)\n",
    "* The percentage disount (`total_discount` / `sales_value`). Make sure this is positive (try `.abs()`).\n",
    "* If the percentage discount is greater than 1, set it equal to 1. If it is less than 0, set it to 0.\n",
    "\n",
    "I will drop:\n",
    "\n",
    "*  The individual discount columns (`retail_disc`, `coupon_disc`, `coupon_match_disc`).\n"
   ]
  },
  {
   "cell_type": "code",
   "execution_count": 116,
   "id": "35278ff8-2e5d-4276-91bb-76d7844ee2d9",
   "metadata": {},
   "outputs": [
    {
     "name": "stdout",
     "output_type": "stream",
     "text": [
      "<class 'pandas.core.frame.DataFrame'>\n",
      "RangeIndex: 2146311 entries, 0 to 2146310\n",
      "Data columns (total 11 columns):\n",
      " #   Column             Dtype  \n",
      "---  ------             -----  \n",
      " 0   household_key      int16  \n",
      " 1   basket_id          int64  \n",
      " 2   day                int8   \n",
      " 3   product_id         int64  \n",
      " 4   quantity           int32  \n",
      " 5   sales_value        float32\n",
      " 6   store_id           int32  \n",
      " 7   retail_disc        float64\n",
      " 8   week_no            int8   \n",
      " 9   coupon_disc        float64\n",
      " 10  coupon_match_disc  float64\n",
      "dtypes: float32(1), float64(3), int16(1), int32(2), int64(2), int8(2)\n",
      "memory usage: 114.6 MB\n"
     ]
    }
   ],
   "source": [
    "transactions.info()"
   ]
  },
  {
   "cell_type": "code",
   "execution_count": 117,
   "id": "18e7b3b4-743f-4786-95c1-7fb82658f680",
   "metadata": {},
   "outputs": [
    {
     "data": {
      "text/html": [
       "<div>\n",
       "<style scoped>\n",
       "    .dataframe tbody tr th:only-of-type {\n",
       "        vertical-align: middle;\n",
       "    }\n",
       "\n",
       "    .dataframe tbody tr th {\n",
       "        vertical-align: top;\n",
       "    }\n",
       "\n",
       "    .dataframe thead th {\n",
       "        text-align: right;\n",
       "    }\n",
       "</style>\n",
       "<table border=\"1\" class=\"dataframe\">\n",
       "  <thead>\n",
       "    <tr style=\"text-align: right;\">\n",
       "      <th></th>\n",
       "      <th>household_key</th>\n",
       "      <th>basket_id</th>\n",
       "      <th>day</th>\n",
       "      <th>product_id</th>\n",
       "      <th>quantity</th>\n",
       "      <th>sales_value</th>\n",
       "      <th>store_id</th>\n",
       "      <th>retail_disc</th>\n",
       "      <th>week_no</th>\n",
       "      <th>coupon_disc</th>\n",
       "      <th>coupon_match_disc</th>\n",
       "    </tr>\n",
       "  </thead>\n",
       "  <tbody>\n",
       "    <tr>\n",
       "      <th>count</th>\n",
       "      <td>2.146311e+06</td>\n",
       "      <td>2.146311e+06</td>\n",
       "      <td>2.146311e+06</td>\n",
       "      <td>2.146311e+06</td>\n",
       "      <td>2.146311e+06</td>\n",
       "      <td>2.146311e+06</td>\n",
       "      <td>2.146311e+06</td>\n",
       "      <td>2.146311e+06</td>\n",
       "      <td>2.146311e+06</td>\n",
       "      <td>2.146311e+06</td>\n",
       "      <td>2.146311e+06</td>\n",
       "    </tr>\n",
       "    <tr>\n",
       "      <th>mean</th>\n",
       "      <td>1.056232e+03</td>\n",
       "      <td>3.404897e+10</td>\n",
       "      <td>-1.978396e+00</td>\n",
       "      <td>2.884715e+06</td>\n",
       "      <td>1.009703e+02</td>\n",
       "      <td>3.105908e+00</td>\n",
       "      <td>3.267939e+03</td>\n",
       "      <td>-5.333568e-01</td>\n",
       "      <td>5.632742e+01</td>\n",
       "      <td>-1.579855e-02</td>\n",
       "      <td>-2.805633e-03</td>\n",
       "    </tr>\n",
       "    <tr>\n",
       "      <th>std</th>\n",
       "      <td>6.050059e+02</td>\n",
       "      <td>4.723748e+09</td>\n",
       "      <td>7.853211e+01</td>\n",
       "      <td>3.831949e+06</td>\n",
       "      <td>1.152364e+03</td>\n",
       "      <td>4.180008e+00</td>\n",
       "      <td>9.122392e+03</td>\n",
       "      <td>1.229413e+00</td>\n",
       "      <td>2.715024e+01</td>\n",
       "      <td>2.121266e-01</td>\n",
       "      <td>3.924693e-02</td>\n",
       "    </tr>\n",
       "    <tr>\n",
       "      <th>min</th>\n",
       "      <td>1.000000e+00</td>\n",
       "      <td>2.698490e+10</td>\n",
       "      <td>-1.280000e+02</td>\n",
       "      <td>2.567100e+04</td>\n",
       "      <td>0.000000e+00</td>\n",
       "      <td>0.000000e+00</td>\n",
       "      <td>1.000000e+00</td>\n",
       "      <td>-1.300200e+02</td>\n",
       "      <td>1.000000e+00</td>\n",
       "      <td>-5.593000e+01</td>\n",
       "      <td>-7.700000e+00</td>\n",
       "    </tr>\n",
       "    <tr>\n",
       "      <th>25%</th>\n",
       "      <td>5.480000e+02</td>\n",
       "      <td>3.040798e+10</td>\n",
       "      <td>-7.500000e+01</td>\n",
       "      <td>9.172310e+05</td>\n",
       "      <td>1.000000e+00</td>\n",
       "      <td>1.290000e+00</td>\n",
       "      <td>3.300000e+02</td>\n",
       "      <td>-6.800000e-01</td>\n",
       "      <td>3.300000e+01</td>\n",
       "      <td>0.000000e+00</td>\n",
       "      <td>0.000000e+00</td>\n",
       "    </tr>\n",
       "    <tr>\n",
       "      <th>50%</th>\n",
       "      <td>1.042000e+03</td>\n",
       "      <td>3.281176e+10</td>\n",
       "      <td>-2.000000e+00</td>\n",
       "      <td>1.027960e+06</td>\n",
       "      <td>1.000000e+00</td>\n",
       "      <td>2.000000e+00</td>\n",
       "      <td>3.720000e+02</td>\n",
       "      <td>0.000000e+00</td>\n",
       "      <td>5.700000e+01</td>\n",
       "      <td>0.000000e+00</td>\n",
       "      <td>0.000000e+00</td>\n",
       "    </tr>\n",
       "    <tr>\n",
       "      <th>75%</th>\n",
       "      <td>1.581000e+03</td>\n",
       "      <td>4.012804e+10</td>\n",
       "      <td>7.000000e+01</td>\n",
       "      <td>1.132771e+06</td>\n",
       "      <td>1.000000e+00</td>\n",
       "      <td>3.490000e+00</td>\n",
       "      <td>4.220000e+02</td>\n",
       "      <td>0.000000e+00</td>\n",
       "      <td>8.000000e+01</td>\n",
       "      <td>0.000000e+00</td>\n",
       "      <td>0.000000e+00</td>\n",
       "    </tr>\n",
       "    <tr>\n",
       "      <th>max</th>\n",
       "      <td>2.099000e+03</td>\n",
       "      <td>4.230536e+10</td>\n",
       "      <td>1.270000e+02</td>\n",
       "      <td>1.831630e+07</td>\n",
       "      <td>8.963800e+04</td>\n",
       "      <td>8.400000e+02</td>\n",
       "      <td>3.428000e+04</td>\n",
       "      <td>3.990000e+00</td>\n",
       "      <td>1.020000e+02</td>\n",
       "      <td>0.000000e+00</td>\n",
       "      <td>0.000000e+00</td>\n",
       "    </tr>\n",
       "  </tbody>\n",
       "</table>\n",
       "</div>"
      ],
      "text/plain": [
       "       household_key     basket_id           day    product_id      quantity  \\\n",
       "count   2.146311e+06  2.146311e+06  2.146311e+06  2.146311e+06  2.146311e+06   \n",
       "mean    1.056232e+03  3.404897e+10 -1.978396e+00  2.884715e+06  1.009703e+02   \n",
       "std     6.050059e+02  4.723748e+09  7.853211e+01  3.831949e+06  1.152364e+03   \n",
       "min     1.000000e+00  2.698490e+10 -1.280000e+02  2.567100e+04  0.000000e+00   \n",
       "25%     5.480000e+02  3.040798e+10 -7.500000e+01  9.172310e+05  1.000000e+00   \n",
       "50%     1.042000e+03  3.281176e+10 -2.000000e+00  1.027960e+06  1.000000e+00   \n",
       "75%     1.581000e+03  4.012804e+10  7.000000e+01  1.132771e+06  1.000000e+00   \n",
       "max     2.099000e+03  4.230536e+10  1.270000e+02  1.831630e+07  8.963800e+04   \n",
       "\n",
       "        sales_value      store_id   retail_disc       week_no   coupon_disc  \\\n",
       "count  2.146311e+06  2.146311e+06  2.146311e+06  2.146311e+06  2.146311e+06   \n",
       "mean   3.105908e+00  3.267939e+03 -5.333568e-01  5.632742e+01 -1.579855e-02   \n",
       "std    4.180008e+00  9.122392e+03  1.229413e+00  2.715024e+01  2.121266e-01   \n",
       "min    0.000000e+00  1.000000e+00 -1.300200e+02  1.000000e+00 -5.593000e+01   \n",
       "25%    1.290000e+00  3.300000e+02 -6.800000e-01  3.300000e+01  0.000000e+00   \n",
       "50%    2.000000e+00  3.720000e+02  0.000000e+00  5.700000e+01  0.000000e+00   \n",
       "75%    3.490000e+00  4.220000e+02  0.000000e+00  8.000000e+01  0.000000e+00   \n",
       "max    8.400000e+02  3.428000e+04  3.990000e+00  1.020000e+02  0.000000e+00   \n",
       "\n",
       "       coupon_match_disc  \n",
       "count       2.146311e+06  \n",
       "mean       -2.805633e-03  \n",
       "std         3.924693e-02  \n",
       "min        -7.700000e+00  \n",
       "25%         0.000000e+00  \n",
       "50%         0.000000e+00  \n",
       "75%         0.000000e+00  \n",
       "max         0.000000e+00  "
      ]
     },
     "execution_count": 117,
     "metadata": {},
     "output_type": "execute_result"
    }
   ],
   "source": [
    "transactions.describe()"
   ]
  },
  {
   "cell_type": "code",
   "execution_count": 118,
   "id": "e0af83c4",
   "metadata": {},
   "outputs": [],
   "source": [
    "# create a discount sum column and a percentage discount column and drop [\"retail_disc\", \"coupon_disc\", \"coupon_match_disc\"] columns\n",
    "transactions = (\n",
    "    transactions\n",
    "    .assign(total_discount = transactions[\"retail_disc\"] + transactions[\"coupon_disc\"],\n",
    "            percentage_discount = (lambda x: (x[\"total_discount\"] / x[\"sales_value\"]).abs()))\n",
    ").drop([\"retail_disc\", \"coupon_disc\", \"coupon_match_disc\"], axis=1)\n"
   ]
  },
  {
   "cell_type": "code",
   "execution_count": 119,
   "id": "432ad89f-aba5-469a-ba00-ac9bbb9080b4",
   "metadata": {},
   "outputs": [
    {
     "data": {
      "text/html": [
       "<div>\n",
       "<style scoped>\n",
       "    .dataframe tbody tr th:only-of-type {\n",
       "        vertical-align: middle;\n",
       "    }\n",
       "\n",
       "    .dataframe tbody tr th {\n",
       "        vertical-align: top;\n",
       "    }\n",
       "\n",
       "    .dataframe thead th {\n",
       "        text-align: right;\n",
       "    }\n",
       "</style>\n",
       "<table border=\"1\" class=\"dataframe\">\n",
       "  <thead>\n",
       "    <tr style=\"text-align: right;\">\n",
       "      <th></th>\n",
       "      <th>household_key</th>\n",
       "      <th>basket_id</th>\n",
       "      <th>day</th>\n",
       "      <th>product_id</th>\n",
       "      <th>quantity</th>\n",
       "      <th>sales_value</th>\n",
       "      <th>store_id</th>\n",
       "      <th>week_no</th>\n",
       "      <th>total_discount</th>\n",
       "      <th>percentage_discount</th>\n",
       "    </tr>\n",
       "  </thead>\n",
       "  <tbody>\n",
       "    <tr>\n",
       "      <th>0</th>\n",
       "      <td>1364</td>\n",
       "      <td>26984896261</td>\n",
       "      <td>1</td>\n",
       "      <td>842930</td>\n",
       "      <td>1</td>\n",
       "      <td>2.19</td>\n",
       "      <td>31742</td>\n",
       "      <td>1</td>\n",
       "      <td>0.00</td>\n",
       "      <td>0.0000</td>\n",
       "    </tr>\n",
       "    <tr>\n",
       "      <th>1</th>\n",
       "      <td>1364</td>\n",
       "      <td>26984896261</td>\n",
       "      <td>1</td>\n",
       "      <td>897044</td>\n",
       "      <td>1</td>\n",
       "      <td>2.99</td>\n",
       "      <td>31742</td>\n",
       "      <td>1</td>\n",
       "      <td>-0.40</td>\n",
       "      <td>0.1338</td>\n",
       "    </tr>\n",
       "    <tr>\n",
       "      <th>2</th>\n",
       "      <td>1364</td>\n",
       "      <td>26984896261</td>\n",
       "      <td>1</td>\n",
       "      <td>920955</td>\n",
       "      <td>1</td>\n",
       "      <td>3.09</td>\n",
       "      <td>31742</td>\n",
       "      <td>1</td>\n",
       "      <td>0.00</td>\n",
       "      <td>0.0000</td>\n",
       "    </tr>\n",
       "    <tr>\n",
       "      <th>3</th>\n",
       "      <td>1364</td>\n",
       "      <td>26984896261</td>\n",
       "      <td>1</td>\n",
       "      <td>937406</td>\n",
       "      <td>1</td>\n",
       "      <td>2.50</td>\n",
       "      <td>31742</td>\n",
       "      <td>1</td>\n",
       "      <td>-0.99</td>\n",
       "      <td>0.3960</td>\n",
       "    </tr>\n",
       "    <tr>\n",
       "      <th>4</th>\n",
       "      <td>1364</td>\n",
       "      <td>26984896261</td>\n",
       "      <td>1</td>\n",
       "      <td>981760</td>\n",
       "      <td>1</td>\n",
       "      <td>0.60</td>\n",
       "      <td>31742</td>\n",
       "      <td>1</td>\n",
       "      <td>-0.79</td>\n",
       "      <td>1.0000</td>\n",
       "    </tr>\n",
       "  </tbody>\n",
       "</table>\n",
       "</div>"
      ],
      "text/plain": [
       "   household_key    basket_id  day  product_id  quantity  sales_value  \\\n",
       "0           1364  26984896261    1      842930         1         2.19   \n",
       "1           1364  26984896261    1      897044         1         2.99   \n",
       "2           1364  26984896261    1      920955         1         3.09   \n",
       "3           1364  26984896261    1      937406         1         2.50   \n",
       "4           1364  26984896261    1      981760         1         0.60   \n",
       "\n",
       "   store_id  week_no  total_discount  percentage_discount  \n",
       "0     31742        1            0.00               0.0000  \n",
       "1     31742        1           -0.40               0.1338  \n",
       "2     31742        1            0.00               0.0000  \n",
       "3     31742        1           -0.99               0.3960  \n",
       "4     31742        1           -0.79               1.0000  "
      ]
     },
     "execution_count": 119,
     "metadata": {},
     "output_type": "execute_result"
    }
   ],
   "source": [
    "# Use where to cap values above 1 at 1 and below 0 at 0. Other methods could be used here as well.\n",
    "transactions[\"percentage_discount\"] = (transactions[\"percentage_discount\"]\n",
    "                                       .where(transactions[\"percentage_discount\"] < 1, 1.0)\n",
    "                                       .where(transactions[\"percentage_discount\"] > 0, 0)\n",
    "                                      )\n",
    "transactions[\"percentage_discount\"] = transactions[\"percentage_discount\"].round(4)\n",
    "transactions.head()"
   ]
  },
  {
   "cell_type": "markdown",
   "id": "7194e351",
   "metadata": {},
   "source": [
    "## Overall Statistics\n",
    "\n",
    "I am calculating:\n",
    "\n",
    "* The total sales (sum of `sales_value`), \n",
    "* Total discount (sum of `total_discount`)\n",
    "* Overall percentage discount (sum of total_discount / sum of sales value)\n",
    "* Total quantity sold (sum of `quantity`).\n",
    "* Max quantity sold in a single row. Inspect the row as well. Does this have a high discount percentage?\n",
    "* Total sales value per basket (sum of sales value / nunique basket_id).\n",
    "* Total sales value per household (sum of sales value / nunique household_key). "
   ]
  },
  {
   "cell_type": "markdown",
   "id": "4ab38004-6e9e-4044-9e3f-d0072b96a288",
   "metadata": {},
   "source": [
    "#### Total Sales"
   ]
  },
  {
   "cell_type": "code",
   "execution_count": 121,
   "id": "8b828816",
   "metadata": {},
   "outputs": [
    {
     "data": {
      "text/plain": [
       "6666244.5"
      ]
     },
     "execution_count": 121,
     "metadata": {},
     "output_type": "execute_result"
    }
   ],
   "source": [
    "# Total Sales Value\n",
    "transactions['sales_value'].sum()"
   ]
  },
  {
   "cell_type": "markdown",
   "id": "d400a195-fa85-4755-ad1b-ca0cf713f0ff",
   "metadata": {},
   "source": [
    "#### Sales Distribtuion & Distribution"
   ]
  },
  {
   "cell_type": "code",
   "execution_count": 231,
   "id": "b339daf6-a9b4-4bf4-b7cc-53b224848c0b",
   "metadata": {},
   "outputs": [
    {
     "name": "stdout",
     "output_type": "stream",
     "text": [
      "count    2.146311e+06\n",
      "mean     3.105908e+00\n",
      "std      4.180008e+00\n",
      "min      0.000000e+00\n",
      "25%      1.290000e+00\n",
      "50%      2.000000e+00\n",
      "75%      3.490000e+00\n",
      "max      8.400000e+02\n",
      "Name: sales_value, dtype: float64\n"
     ]
    },
    {
     "data": {
      "image/png": "[encoded data removed]",
      "text/plain": [
       "<Figure size 600x200 with 1 Axes>"
      ]
     },
     "metadata": {},
     "output_type": "display_data"
    }
   ],
   "source": [
    "# sales statistics\n",
    "print(transactions['sales_value'].describe())\n",
    "\n",
    "# plot the sales_value distribution in box-plot\n",
    "transactions['sales_value'].plot.box(vert=False, title = \"Sales Distribution\",figsize=(6,2));"
   ]
  },
  {
   "cell_type": "markdown",
   "id": "9d752ffd-8ac3-4b63-9931-dfb9c8abd9d5",
   "metadata": {},
   "source": [
    "#### Total Quantity"
   ]
  },
  {
   "cell_type": "code",
   "execution_count": 212,
   "id": "c2920e4c-2cc9-4cae-85bc-db16eb4348d0",
   "metadata": {},
   "outputs": [
    {
     "data": {
      "text/plain": [
       "216713611"
      ]
     },
     "execution_count": 212,
     "metadata": {},
     "output_type": "execute_result"
    }
   ],
   "source": [
    "# Total quantity Sold\n",
    "transactions['quantity'].sum()"
   ]
  },
  {
   "cell_type": "markdown",
   "id": "6de52308-0f4c-4433-bb11-774c9f616e82",
   "metadata": {},
   "source": [
    "#### Quantity Statistics & Distribution"
   ]
  },
  {
   "cell_type": "code",
   "execution_count": 230,
   "id": "f54883fe-28b6-4444-b43d-8df2ea80adfb",
   "metadata": {},
   "outputs": [
    {
     "name": "stdout",
     "output_type": "stream",
     "text": [
      "count    2.146311e+06\n",
      "mean     1.009703e+02\n",
      "std      1.152364e+03\n",
      "min      0.000000e+00\n",
      "25%      1.000000e+00\n",
      "50%      1.000000e+00\n",
      "75%      1.000000e+00\n",
      "max      8.963800e+04\n",
      "Name: quantity, dtype: float64\n"
     ]
    },
    {
     "data": {
      "image/png": "[encoded data removed]",
      "text/plain": [
       "<Figure size 600x200 with 1 Axes>"
      ]
     },
     "metadata": {},
     "output_type": "display_data"
    }
   ],
   "source": [
    "print(transactions['quantity'].describe())\n",
    "transactions['quantity'].plot.box(vert=False, title = \"Quantity Distribution\",figsize=(6,2));"
   ]
  },
  {
   "cell_type": "markdown",
   "id": "d7f94617-d7fb-4f7a-b60d-83b99420b3c9",
   "metadata": {},
   "source": [
    "#### Total Discount"
   ]
  },
  {
   "cell_type": "code",
   "execution_count": 221,
   "id": "4e041e76",
   "metadata": {
    "scrolled": true
   },
   "outputs": [
    {
     "data": {
      "text/plain": [
       "-1178658.0799999998"
      ]
     },
     "execution_count": 221,
     "metadata": {},
     "output_type": "execute_result"
    }
   ],
   "source": [
    "# Total Discount\n",
    "\n",
    "transactions['total_discount'].sum()"
   ]
  },
  {
   "cell_type": "markdown",
   "id": "fd086296-b63f-4574-8fe5-d3db0ed71494",
   "metadata": {},
   "source": [
    "#### Total Discount Statistics & Distribution"
   ]
  },
  {
   "cell_type": "code",
   "execution_count": 229,
   "id": "640eb679-28f0-4d5d-9660-01cc16706c59",
   "metadata": {},
   "outputs": [
    {
     "name": "stdout",
     "output_type": "stream",
     "text": [
      "count    2.146311e+06\n",
      "mean    -5.491553e-01\n",
      "std      1.257714e+00\n",
      "min     -1.300200e+02\n",
      "25%     -6.900000e-01\n",
      "50%     -5.000000e-02\n",
      "75%      0.000000e+00\n",
      "max      3.990000e+00\n",
      "Name: total_discount, dtype: float64\n"
     ]
    },
    {
     "data": {
      "image/png": "[encoded data removed]",
      "text/plain": [
       "<Figure size 600x200 with 1 Axes>"
      ]
     },
     "metadata": {},
     "output_type": "display_data"
    }
   ],
   "source": [
    "print(transactions['total_discount'].describe())\n",
    "transactions['total_discount'].plot.box(vert=False, title = \"Total Discount Distribution\",figsize=(6,2));"
   ]
  },
  {
   "cell_type": "markdown",
   "id": "e972cb54-12aa-4b32-9cbb-9a43f86c6330",
   "metadata": {},
   "source": [
    "#### Overall Percent Discount"
   ]
  },
  {
   "cell_type": "code",
   "execution_count": 206,
   "id": "2250c8a8",
   "metadata": {},
   "outputs": [
    {
     "data": {
      "text/plain": [
       "-0.17680990848745495"
      ]
     },
     "execution_count": 206,
     "metadata": {},
     "output_type": "execute_result"
    }
   ],
   "source": [
    "# Overall Percent Discount\n",
    "\n",
    "transactions['total_discount'].sum() / transactions['sales_value'].sum()"
   ]
  },
  {
   "cell_type": "markdown",
   "id": "26474ab7-3ee2-4d67-b358-a6e7cc83ac8d",
   "metadata": {},
   "source": [
    "The value shows steep discount, however, since this is a discount retailer, it is not too suprising!"
   ]
  },
  {
   "cell_type": "markdown",
   "id": "54b72d43-8435-483e-8a3a-4b2fb403f9a3",
   "metadata": {},
   "source": [
    "#### Discount Percentage Statistics & Distribution"
   ]
  },
  {
   "cell_type": "code",
   "execution_count": 228,
   "id": "bbe5a97f-10f8-4dfe-b29d-4f67eea16c9f",
   "metadata": {},
   "outputs": [
    {
     "name": "stdout",
     "output_type": "stream",
     "text": [
      "count    2.146311e+06\n",
      "mean     2.073245e-01\n",
      "std      2.910501e-01\n",
      "min      0.000000e+00\n",
      "25%      0.000000e+00\n",
      "50%      3.200000e-02\n",
      "75%      3.317000e-01\n",
      "max      1.000000e+00\n",
      "Name: percentage_discount, dtype: float64\n"
     ]
    },
    {
     "data": {
      "text/plain": [
       "<Axes: ylabel='Frequency'>"
      ]
     },
     "execution_count": 228,
     "metadata": {},
     "output_type": "execute_result"
    },
    {
     "data": {
      "image/png": "[encoded data removed]",
      "text/plain": [
       "<Figure size 600x200 with 1 Axes>"
      ]
     },
     "metadata": {},
     "output_type": "display_data"
    }
   ],
   "source": [
    "print(transactions['percentage_discount'].describe())\n",
    "transactions['percentage_discount'].plot.hist( figsize=(6,2))"
   ]
  },
  {
   "cell_type": "markdown",
   "id": "612b4861-f7fc-4b49-b7d8-498ecb244cf6",
   "metadata": {},
   "source": [
    "Findings:\n",
    "\n",
    "The majority of the item comes with less than 20% discount\n"
   ]
  },
  {
   "cell_type": "markdown",
   "id": "bff56466-7f63-4898-b561-321fbe8b8202",
   "metadata": {},
   "source": [
    "Checking to see which prodduct is associated the largest quantity"
   ]
  },
  {
   "cell_type": "code",
   "execution_count": 232,
   "id": "b9d2c817-5730-479e-a9a3-cd1552b0178d",
   "metadata": {},
   "outputs": [
    {
     "data": {
      "text/plain": [
       "household_key          6.300000e+02\n",
       "basket_id              3.474915e+10\n",
       "day                   -9.000000e+00\n",
       "product_id             6.534178e+06\n",
       "quantity               8.963800e+04\n",
       "sales_value            2.500000e+02\n",
       "store_id               3.840000e+02\n",
       "week_no                7.300000e+01\n",
       "total_discount        -1.345000e+01\n",
       "percentage_discount    5.380000e-02\n",
       "Name: 1442095, dtype: float64"
      ]
     },
     "execution_count": 232,
     "metadata": {},
     "output_type": "execute_result"
    }
   ],
   "source": [
    "# Use to grab row with max value - discount rate is lower than average\n",
    "\n",
    "transactions.loc[transactions[\"quantity\"].argmax()]"
   ]
  },
  {
   "cell_type": "markdown",
   "id": "dd468a6d-6fef-414d-897f-70950efcea3f",
   "metadata": {},
   "source": [
    "Findings:\n",
    "\n",
    "The product id is 6534178, and it comes with 5% discount rate, which is nice as the retailer does not lose much for this high vlume product"
   ]
  },
  {
   "cell_type": "markdown",
   "id": "a5083fae-bd18-42b7-aeee-fc84e71f3b77",
   "metadata": {},
   "source": [
    "#### Average Sales Value per Basket"
   ]
  },
  {
   "cell_type": "code",
   "execution_count": 77,
   "id": "f5ba78b3-00a8-4673-a359-526b48d8f5e3",
   "metadata": {},
   "outputs": [
    {
     "data": {
      "text/plain": [
       "28.61797938516092"
      ]
     },
     "execution_count": 77,
     "metadata": {},
     "output_type": "execute_result"
    }
   ],
   "source": [
    "# Sales value per transaction/basket\n",
    "\n",
    "transactions['sales_value'].sum() / transactions['basket_id'].nunique()"
   ]
  },
  {
   "cell_type": "markdown",
   "id": "8dec7670-7280-4f78-b5fc-515d2fa69528",
   "metadata": {},
   "source": [
    "#### Average Sales Value per Household"
   ]
  },
  {
   "cell_type": "code",
   "execution_count": 31,
   "id": "a0f49480-7167-4cbb-a2fd-d5bdc0e3674d",
   "metadata": {},
   "outputs": [
    {
     "data": {
      "text/plain": [
       "3175.9140066698424"
      ]
     },
     "execution_count": 31,
     "metadata": {},
     "output_type": "execute_result"
    }
   ],
   "source": [
    "# Sales value per household\n",
    "\n",
    "transactions['sales_value'].sum() / transactions['household_key'].nunique()"
   ]
  },
  {
   "cell_type": "code",
   "execution_count": 149,
   "id": "fcf208a6-eb89-45b2-b7e5-8586e829f14a",
   "metadata": {},
   "outputs": [],
   "source": []
  },
  {
   "cell_type": "markdown",
   "id": "958bb36e-c25a-4b0d-9f4c-69859b83f0ab",
   "metadata": {},
   "source": [
    "## Household Analysis\n",
    "\n",
    "I will:\n",
    "\n",
    "* Plot the distribution of total sales value purchased at the household level.\n",
    "* Plot the purchasing frequency at the household level.\n",
    "\n",
    "and find:\n",
    "\n",
    "* What were the top 10 households by quantity purchased?\n",
    "* What were the top 10 households by sales value?\n",
    "* Plot the total sales value for our top 10 households by value, ordered from highest to lowest."
   ]
  },
  {
   "cell_type": "markdown",
   "id": "9dd8f142-43d7-4856-98b6-552c7f4f82f3",
   "metadata": {},
   "source": [
    "##### Sales Distribution"
   ]
  },
  {
   "cell_type": "code",
   "execution_count": 169,
   "id": "69545dc4-32c6-4a61-8e2b-c7fb999d57bc",
   "metadata": {
    "scrolled": true
   },
   "outputs": [
    {
     "data": {
      "image/png": "[encoded data removed]",
      "text/plain": [
       "<Figure size 600x200 with 1 Axes>"
      ]
     },
     "metadata": {},
     "output_type": "display_data"
    }
   ],
   "source": [
    "(transactions\n",
    " .groupby(\"household_key\")\n",
    " .agg({'sales_value': 'sum'})\n",
    " .plot.hist(title=\"Sales Value Distribtion (aggregated by household)\",legend=False,figsize=(6,2)));"
   ]
  },
  {
   "cell_type": "markdown",
   "id": "7544806d-6b22-4725-b0a6-123767e6b84b",
   "metadata": {},
   "source": [
    "#### Household Frequency"
   ]
  },
  {
   "cell_type": "code",
   "execution_count": 170,
   "id": "0ec3fbf8-c8d9-4fa2-b520-edf3c3c1e31c",
   "metadata": {},
   "outputs": [],
   "source": [
    "customer_frequency = transactions.groupby('household_key', as_index=False).agg(frequency=('basket_id', 'nunique'))#.reset_index()"
   ]
  },
  {
   "cell_type": "code",
   "execution_count": 171,
   "id": "92e0224e-882a-42d3-a60c-b182569af961",
   "metadata": {},
   "outputs": [
    {
     "name": "stdout",
     "output_type": "stream",
     "text": [
      "Axes(0.125,0.11;0.775x0.77)\n"
     ]
    },
    {
     "data": {
      "image/png": "[encoded data removed]",
      "text/plain": [
       "<Figure size 600x200 with 1 Axes>"
      ]
     },
     "metadata": {},
     "output_type": "display_data"
    }
   ],
   "source": [
    "print(customer_frequency[\"frequency\"].plot.hist(title=\"Household Frequency Distribution\",figsize=(6,2)));"
   ]
  },
  {
   "cell_type": "code",
   "execution_count": 172,
   "id": "3dc49dcd-69e1-472a-b488-184c88a8deba",
   "metadata": {},
   "outputs": [
    {
     "name": "stdout",
     "output_type": "stream",
     "text": [
      "Axes(0.125,0.11;0.775x0.77)\n"
     ]
    },
    {
     "data": {
      "image/png": "[encoded data removed]",
      "text/plain": [
       "<Figure size 600x200 with 1 Axes>"
      ]
     },
     "metadata": {},
     "output_type": "display_data"
    }
   ],
   "source": [
    "print(customer_frequency[\"frequency\"].plot.box(title=\"Household Frequency Distribution\",vert=False,figsize=(6,2)));"
   ]
  },
  {
   "cell_type": "markdown",
   "id": "15a19084-9a36-4f00-9870-d2082bb84e1b",
   "metadata": {},
   "source": [
    "#### Top 20 Households by Value"
   ]
  },
  {
   "cell_type": "code",
   "execution_count": 192,
   "id": "ff1979d6-df6e-4cba-9719-14b5cec67fa8",
   "metadata": {},
   "outputs": [
    {
     "data": {
      "text/html": [
       "<div>\n",
       "<style scoped>\n",
       "    .dataframe tbody tr th:only-of-type {\n",
       "        vertical-align: middle;\n",
       "    }\n",
       "\n",
       "    .dataframe tbody tr th {\n",
       "        vertical-align: top;\n",
       "    }\n",
       "\n",
       "    .dataframe thead th {\n",
       "        text-align: right;\n",
       "    }\n",
       "</style>\n",
       "<table border=\"1\" class=\"dataframe\">\n",
       "  <thead>\n",
       "    <tr style=\"text-align: right;\">\n",
       "      <th></th>\n",
       "      <th>sales_value</th>\n",
       "    </tr>\n",
       "    <tr>\n",
       "      <th>household_key</th>\n",
       "      <th></th>\n",
       "    </tr>\n",
       "  </thead>\n",
       "  <tbody>\n",
       "    <tr>\n",
       "      <th>1023</th>\n",
       "      <td>38319.789062</td>\n",
       "    </tr>\n",
       "    <tr>\n",
       "      <th>1609</th>\n",
       "      <td>27859.679688</td>\n",
       "    </tr>\n",
       "    <tr>\n",
       "      <th>1453</th>\n",
       "      <td>21661.289062</td>\n",
       "    </tr>\n",
       "    <tr>\n",
       "      <th>1430</th>\n",
       "      <td>20352.990234</td>\n",
       "    </tr>\n",
       "    <tr>\n",
       "      <th>718</th>\n",
       "      <td>19299.859375</td>\n",
       "    </tr>\n",
       "    <tr>\n",
       "      <th>707</th>\n",
       "      <td>19194.419922</td>\n",
       "    </tr>\n",
       "    <tr>\n",
       "      <th>1653</th>\n",
       "      <td>19153.750000</td>\n",
       "    </tr>\n",
       "    <tr>\n",
       "      <th>1111</th>\n",
       "      <td>18894.720703</td>\n",
       "    </tr>\n",
       "    <tr>\n",
       "      <th>982</th>\n",
       "      <td>18790.339844</td>\n",
       "    </tr>\n",
       "    <tr>\n",
       "      <th>400</th>\n",
       "      <td>18494.140625</td>\n",
       "    </tr>\n",
       "    <tr>\n",
       "      <th>1229</th>\n",
       "      <td>18304.310547</td>\n",
       "    </tr>\n",
       "    <tr>\n",
       "      <th>1975</th>\n",
       "      <td>17548.269531</td>\n",
       "    </tr>\n",
       "    <tr>\n",
       "      <th>328</th>\n",
       "      <td>17332.130859</td>\n",
       "    </tr>\n",
       "    <tr>\n",
       "      <th>1527</th>\n",
       "      <td>17295.179688</td>\n",
       "    </tr>\n",
       "    <tr>\n",
       "      <th>1489</th>\n",
       "      <td>17251.529297</td>\n",
       "    </tr>\n",
       "    <tr>\n",
       "      <th>1864</th>\n",
       "      <td>16941.580078</td>\n",
       "    </tr>\n",
       "    <tr>\n",
       "      <th>900</th>\n",
       "      <td>16450.529297</td>\n",
       "    </tr>\n",
       "    <tr>\n",
       "      <th>371</th>\n",
       "      <td>15716.540039</td>\n",
       "    </tr>\n",
       "    <tr>\n",
       "      <th>1762</th>\n",
       "      <td>15360.139648</td>\n",
       "    </tr>\n",
       "    <tr>\n",
       "      <th>1995</th>\n",
       "      <td>15332.429688</td>\n",
       "    </tr>\n",
       "  </tbody>\n",
       "</table>\n",
       "</div>"
      ],
      "text/plain": [
       "                sales_value\n",
       "household_key              \n",
       "1023           38319.789062\n",
       "1609           27859.679688\n",
       "1453           21661.289062\n",
       "1430           20352.990234\n",
       "718            19299.859375\n",
       "707            19194.419922\n",
       "1653           19153.750000\n",
       "1111           18894.720703\n",
       "982            18790.339844\n",
       "400            18494.140625\n",
       "1229           18304.310547\n",
       "1975           17548.269531\n",
       "328            17332.130859\n",
       "1527           17295.179688\n",
       "1489           17251.529297\n",
       "1864           16941.580078\n",
       "900            16450.529297\n",
       "371            15716.540039\n",
       "1762           15360.139648\n",
       "1995           15332.429688"
      ]
     },
     "execution_count": 192,
     "metadata": {},
     "output_type": "execute_result"
    }
   ],
   "source": [
    "\n",
    "top20_household_by_value = (transactions\n",
    "                             .groupby(\"household_key\")\n",
    "                             .agg({'sales_value': 'sum'})\n",
    "                             .sort_values(\"sales_value\", ascending=False)\n",
    "                             .iloc[:20])\n",
    "top20_household_by_value"
   ]
  },
  {
   "cell_type": "code",
   "execution_count": 193,
   "id": "149e6be5-facb-4730-b344-47c457fd577d",
   "metadata": {},
   "outputs": [
    {
     "data": {
      "image/png": "[encoded data removed]",
      "text/plain": [
       "<Figure size 800x200 with 1 Axes>"
      ]
     },
     "metadata": {},
     "output_type": "display_data"
    }
   ],
   "source": [
    "top20_household_by_value.plot.bar(title=\"Top 20 Household by Sales\",legend=False,figsize=(8,2));"
   ]
  },
  {
   "cell_type": "markdown",
   "id": "6f8e9813-f8cc-4297-a3e2-40b02585db75",
   "metadata": {},
   "source": [
    "#### Top 20 Households by Quantity"
   ]
  },
  {
   "cell_type": "code",
   "execution_count": 194,
   "id": "cde9d806-1028-46d9-a310-cd840da6e227",
   "metadata": {},
   "outputs": [
    {
     "data": {
      "text/html": [
       "<div>\n",
       "<style scoped>\n",
       "    .dataframe tbody tr th:only-of-type {\n",
       "        vertical-align: middle;\n",
       "    }\n",
       "\n",
       "    .dataframe tbody tr th {\n",
       "        vertical-align: top;\n",
       "    }\n",
       "\n",
       "    .dataframe thead th {\n",
       "        text-align: right;\n",
       "    }\n",
       "</style>\n",
       "<table border=\"1\" class=\"dataframe\">\n",
       "  <thead>\n",
       "    <tr style=\"text-align: right;\">\n",
       "      <th></th>\n",
       "      <th>quantity</th>\n",
       "    </tr>\n",
       "    <tr>\n",
       "      <th>household_key</th>\n",
       "      <th></th>\n",
       "    </tr>\n",
       "  </thead>\n",
       "  <tbody>\n",
       "    <tr>\n",
       "      <th>1023</th>\n",
       "      <td>4479917</td>\n",
       "    </tr>\n",
       "    <tr>\n",
       "      <th>755</th>\n",
       "      <td>3141769</td>\n",
       "    </tr>\n",
       "    <tr>\n",
       "      <th>1609</th>\n",
       "      <td>2146715</td>\n",
       "    </tr>\n",
       "    <tr>\n",
       "      <th>13</th>\n",
       "      <td>1863829</td>\n",
       "    </tr>\n",
       "    <tr>\n",
       "      <th>1430</th>\n",
       "      <td>1741892</td>\n",
       "    </tr>\n",
       "    <tr>\n",
       "      <th>1527</th>\n",
       "      <td>1734632</td>\n",
       "    </tr>\n",
       "    <tr>\n",
       "      <th>1762</th>\n",
       "      <td>1669880</td>\n",
       "    </tr>\n",
       "    <tr>\n",
       "      <th>707</th>\n",
       "      <td>1640193</td>\n",
       "    </tr>\n",
       "    <tr>\n",
       "      <th>1029</th>\n",
       "      <td>1496204</td>\n",
       "    </tr>\n",
       "    <tr>\n",
       "      <th>1314</th>\n",
       "      <td>1492863</td>\n",
       "    </tr>\n",
       "    <tr>\n",
       "      <th>1778</th>\n",
       "      <td>1360804</td>\n",
       "    </tr>\n",
       "    <tr>\n",
       "      <th>982</th>\n",
       "      <td>1329976</td>\n",
       "    </tr>\n",
       "    <tr>\n",
       "      <th>1376</th>\n",
       "      <td>1314704</td>\n",
       "    </tr>\n",
       "    <tr>\n",
       "      <th>1166</th>\n",
       "      <td>1301917</td>\n",
       "    </tr>\n",
       "    <tr>\n",
       "      <th>1229</th>\n",
       "      <td>1295539</td>\n",
       "    </tr>\n",
       "    <tr>\n",
       "      <th>1730</th>\n",
       "      <td>1266005</td>\n",
       "    </tr>\n",
       "    <tr>\n",
       "      <th>900</th>\n",
       "      <td>1264243</td>\n",
       "    </tr>\n",
       "    <tr>\n",
       "      <th>1476</th>\n",
       "      <td>1250547</td>\n",
       "    </tr>\n",
       "    <tr>\n",
       "      <th>149</th>\n",
       "      <td>1241140</td>\n",
       "    </tr>\n",
       "    <tr>\n",
       "      <th>40</th>\n",
       "      <td>1240414</td>\n",
       "    </tr>\n",
       "  </tbody>\n",
       "</table>\n",
       "</div>"
      ],
      "text/plain": [
       "               quantity\n",
       "household_key          \n",
       "1023            4479917\n",
       "755             3141769\n",
       "1609            2146715\n",
       "13              1863829\n",
       "1430            1741892\n",
       "1527            1734632\n",
       "1762            1669880\n",
       "707             1640193\n",
       "1029            1496204\n",
       "1314            1492863\n",
       "1778            1360804\n",
       "982             1329976\n",
       "1376            1314704\n",
       "1166            1301917\n",
       "1229            1295539\n",
       "1730            1266005\n",
       "900             1264243\n",
       "1476            1250547\n",
       "149             1241140\n",
       "40              1240414"
      ]
     },
     "execution_count": 194,
     "metadata": {},
     "output_type": "execute_result"
    }
   ],
   "source": [
    "top20_household_by_quantity = (transactions\n",
    "                .groupby(\"household_key\")\n",
    "                 .agg({\"quantity\": \"sum\"})\n",
    "                 .sort_values(\"quantity\", ascending=False)\n",
    "                 .iloc[:20])\n",
    "\n",
    "top20_household_by_quantity"
   ]
  },
  {
   "cell_type": "code",
   "execution_count": 195,
   "id": "07b19b36-1bde-4acb-a127-eacfd85f0571",
   "metadata": {},
   "outputs": [
    {
     "data": {
      "image/png": "[encoded data removed]",
      "text/plain": [
       "<Figure size 800x200 with 1 Axes>"
      ]
     },
     "metadata": {},
     "output_type": "display_data"
    }
   ],
   "source": [
    "top20_household_by_quantity.plot.bar(title=\"Top 20 Household by Quantity\",legend=False,figsize=(8,2));"
   ]
  },
  {
   "cell_type": "markdown",
   "id": "b5ebcfc8-b30e-4f69-8ae7-5fc93373f7e9",
   "metadata": {},
   "source": [
    "#### Identifying super-households (are in both top 20 by Sales and top 20 by quantity)."
   ]
  },
  {
   "cell_type": "code",
   "execution_count": 196,
   "id": "41be6060-0002-4d1e-8d3b-5773647dd912",
   "metadata": {},
   "outputs": [
    {
     "data": {
      "text/html": [
       "<div>\n",
       "<style scoped>\n",
       "    .dataframe tbody tr th:only-of-type {\n",
       "        vertical-align: middle;\n",
       "    }\n",
       "\n",
       "    .dataframe tbody tr th {\n",
       "        vertical-align: top;\n",
       "    }\n",
       "\n",
       "    .dataframe thead th {\n",
       "        text-align: right;\n",
       "    }\n",
       "</style>\n",
       "<table border=\"1\" class=\"dataframe\">\n",
       "  <thead>\n",
       "    <tr style=\"text-align: right;\">\n",
       "      <th></th>\n",
       "      <th>household_key</th>\n",
       "      <th>sales_value</th>\n",
       "      <th>quantity</th>\n",
       "    </tr>\n",
       "  </thead>\n",
       "  <tbody>\n",
       "    <tr>\n",
       "      <th>0</th>\n",
       "      <td>1023</td>\n",
       "      <td>38319.789062</td>\n",
       "      <td>4479917</td>\n",
       "    </tr>\n",
       "    <tr>\n",
       "      <th>1</th>\n",
       "      <td>1609</td>\n",
       "      <td>27859.679688</td>\n",
       "      <td>2146715</td>\n",
       "    </tr>\n",
       "    <tr>\n",
       "      <th>2</th>\n",
       "      <td>1430</td>\n",
       "      <td>20352.990234</td>\n",
       "      <td>1741892</td>\n",
       "    </tr>\n",
       "    <tr>\n",
       "      <th>3</th>\n",
       "      <td>707</td>\n",
       "      <td>19194.419922</td>\n",
       "      <td>1640193</td>\n",
       "    </tr>\n",
       "    <tr>\n",
       "      <th>4</th>\n",
       "      <td>982</td>\n",
       "      <td>18790.339844</td>\n",
       "      <td>1329976</td>\n",
       "    </tr>\n",
       "    <tr>\n",
       "      <th>5</th>\n",
       "      <td>1229</td>\n",
       "      <td>18304.310547</td>\n",
       "      <td>1295539</td>\n",
       "    </tr>\n",
       "    <tr>\n",
       "      <th>6</th>\n",
       "      <td>1527</td>\n",
       "      <td>17295.179688</td>\n",
       "      <td>1734632</td>\n",
       "    </tr>\n",
       "    <tr>\n",
       "      <th>7</th>\n",
       "      <td>900</td>\n",
       "      <td>16450.529297</td>\n",
       "      <td>1264243</td>\n",
       "    </tr>\n",
       "    <tr>\n",
       "      <th>8</th>\n",
       "      <td>1762</td>\n",
       "      <td>15360.139648</td>\n",
       "      <td>1669880</td>\n",
       "    </tr>\n",
       "  </tbody>\n",
       "</table>\n",
       "</div>"
      ],
      "text/plain": [
       "   household_key   sales_value  quantity\n",
       "0           1023  38319.789062   4479917\n",
       "1           1609  27859.679688   2146715\n",
       "2           1430  20352.990234   1741892\n",
       "3            707  19194.419922   1640193\n",
       "4            982  18790.339844   1329976\n",
       "5           1229  18304.310547   1295539\n",
       "6           1527  17295.179688   1734632\n",
       "7            900  16450.529297   1264243\n",
       "8           1762  15360.139648   1669880"
      ]
     },
     "execution_count": 196,
     "metadata": {},
     "output_type": "execute_result"
    }
   ],
   "source": [
    "# merge the two DataFrames on household_key to find common customers\n",
    "super_customers = pd.merge(top20_household_by_value.reset_index(), \n",
    "                           top20_household_by_quantity.reset_index(), \n",
    "                           on=\"household_key\")\n",
    "\n",
    "super_customers"
   ]
  },
  {
   "cell_type": "markdown",
   "id": "24204c05",
   "metadata": {},
   "source": [
    "## Product Analysis\n",
    "\n",
    "* Which products had the most sales by sales_value? Plot  a horizontal bar chart.\n",
    "* Did the top 10 selling items have a higher than average discount rate?\n",
    "* What was the most common `product_id` among rows with the households in our top 10 households by sales value?\n",
    "* Look up the names of the  top 10 products by sales in the `products.csv` dataset.\n",
    "* Look up the product name of the item that had the highest quantity sold in a single row."
   ]
  },
  {
   "cell_type": "code",
   "execution_count": 32,
   "id": "b78a084a",
   "metadata": {},
   "outputs": [
    {
     "data": {
      "text/plain": [
       "<Axes: ylabel='Frequency'>"
      ]
     },
     "execution_count": 32,
     "metadata": {},
     "output_type": "execute_result"
    },
    {
     "data": {
      "image/png": "[encoded data removed]",
      "text/plain": [
       "<Figure size 640x480 with 1 Axes>"
      ]
     },
     "metadata": {},
     "output_type": "display_data"
    }
   ],
   "source": [
    "# plot distribution of households by total sales value\n",
    "# First groupby household and calculate sum of sales\n",
    "# then plot with a histogram\n",
    "\n",
    "(transactions\n",
    " .groupby(\"household_key\")\n",
    " .agg({'sales_value': 'sum'})\n",
    " .plot.hist())"
   ]
  },
  {
   "cell_type": "code",
   "execution_count": null,
   "id": "d09ad840",
   "metadata": {},
   "outputs": [],
   "source": []
  },
  {
   "cell_type": "markdown",
   "id": "a279c454",
   "metadata": {},
   "source": [
    "# Final Project\n",
    "\n",
    "Ok, so today we'll be working with the transactions, product, and hh_demographic tables in the project_data folder.\n",
    "\n",
    "* First, read in the transactions data.\n",
    "\n",
    "* Read in the only columns `household_key`, `basket_id`, `store_id`, `day`, `quantity`, and `sales_value`.\n",
    "\n",
    "* Convert `day`, `quantity`, and `store_id` to the smallest appropriate integer types.\n"
   ]
  },
  {
   "cell_type": "code",
   "execution_count": null,
   "id": "e57f5a81",
   "metadata": {},
   "outputs": [],
   "source": [
    "import pandas as pd\n",
    "import numpy as np"
   ]
  },
  {
   "cell_type": "code",
   "execution_count": null,
   "id": "c6fa5da7",
   "metadata": {},
   "outputs": [],
   "source": []
  },
  {
   "cell_type": "code",
   "execution_count": null,
   "id": "20d7e7ad",
   "metadata": {},
   "outputs": [],
   "source": []
  },
  {
   "cell_type": "code",
   "execution_count": null,
   "id": "6f0f87d1",
   "metadata": {},
   "outputs": [],
   "source": []
  },
  {
   "cell_type": "code",
   "execution_count": null,
   "id": "8c90a284",
   "metadata": {},
   "outputs": [],
   "source": [
    "# Use the following snippet to create a Date Column.\n",
    "\n",
    "transactions = (\n",
    "    transactions\n",
    "    .assign(date = (pd.to_datetime(\"2016\", format='%Y') \n",
    "            + pd.to_timedelta(transactions[\"day\"].sub(1).astype(str) + \" days\"))\n",
    "           )\n",
    "    .drop([\"day\"], axis=1)\n",
    ")"
   ]
  },
  {
   "cell_type": "markdown",
   "id": "64d2e67d",
   "metadata": {},
   "source": [
    "## TIME BASED ANALYSIS\n",
    "\n",
    "* Plot the sum of sales by month. Are sales growing over time?\n",
    "* Next, plot the same series after filtering down to dates April 2016 and October 2017.\n",
    "* Then, plot the sum of monthly sales in 2016 vs the monthly sales 2017.\n",
    "* Finally, plot total sales by day of week."
   ]
  },
  {
   "cell_type": "code",
   "execution_count": null,
   "id": "8a68946a",
   "metadata": {},
   "outputs": [],
   "source": []
  },
  {
   "cell_type": "code",
   "execution_count": null,
   "id": "d4253d37",
   "metadata": {},
   "outputs": [],
   "source": []
  },
  {
   "cell_type": "code",
   "execution_count": null,
   "id": "5ddf6a6a",
   "metadata": {
    "scrolled": true
   },
   "outputs": [],
   "source": []
  },
  {
   "cell_type": "code",
   "execution_count": null,
   "id": "cdfe4610",
   "metadata": {},
   "outputs": [],
   "source": []
  },
  {
   "cell_type": "markdown",
   "id": "59494494",
   "metadata": {},
   "source": [
    "# DEMOGRAPHICS\n",
    "\n",
    "* Read in the `hh_demographic.csv` file, but only the columns `AGE_DESC`, `INCOME_DESC`, `household_key`, and `HH_COMP_DESC`. Convert the appropriate columns to the category dtype.\n",
    "\n",
    "\n",
    "* Then group the transactions table by household_id, and calculate the sum of SALES VALUE by household.\n",
    "\n",
    "\n",
    "* Once you've done that, join the demographics DataFrame to the aggregated transactions table. Since we're interested in analyzing the demographic data we have, make sure not to include rows from transactions that don't match.\n",
    "\n",
    "\n",
    "* Plot the sum of sales by age_desc and income_desc (in separate charts).\n",
    "\n",
    "\n",
    "* Then, create a pivot table of the mean household sales by `AGE_DESC` and `HH_COMP_DESC`. Which of our demographics have the highest average sales?\n"
   ]
  },
  {
   "cell_type": "code",
   "execution_count": null,
   "id": "b03da735",
   "metadata": {},
   "outputs": [],
   "source": []
  },
  {
   "cell_type": "code",
   "execution_count": null,
   "id": "7635afb0",
   "metadata": {
    "scrolled": true
   },
   "outputs": [],
   "source": []
  },
  {
   "cell_type": "code",
   "execution_count": null,
   "id": "9f1a2ee8",
   "metadata": {},
   "outputs": [],
   "source": []
  },
  {
   "cell_type": "code",
   "execution_count": null,
   "id": "ef63184f",
   "metadata": {},
   "outputs": [],
   "source": []
  },
  {
   "cell_type": "code",
   "execution_count": null,
   "id": "5a5d42c1",
   "metadata": {},
   "outputs": [],
   "source": []
  },
  {
   "cell_type": "code",
   "execution_count": null,
   "id": "ccd5bfe5",
   "metadata": {},
   "outputs": [],
   "source": []
  },
  {
   "cell_type": "code",
   "execution_count": null,
   "id": "ec18a861",
   "metadata": {},
   "outputs": [],
   "source": []
  },
  {
   "cell_type": "code",
   "execution_count": null,
   "id": "a847e93e",
   "metadata": {},
   "outputs": [],
   "source": []
  },
  {
   "cell_type": "code",
   "execution_count": null,
   "id": "196e806b",
   "metadata": {},
   "outputs": [],
   "source": []
  },
  {
   "cell_type": "code",
   "execution_count": null,
   "id": "8b3545c2",
   "metadata": {},
   "outputs": [],
   "source": []
  },
  {
   "cell_type": "code",
   "execution_count": null,
   "id": "2edc7c14",
   "metadata": {},
   "outputs": [],
   "source": []
  },
  {
   "cell_type": "markdown",
   "id": "5081f94d",
   "metadata": {},
   "source": [
    "# PRODUCT DEMOGRAPHICS\n",
    "\n",
    "* Read in the product csv file.\n",
    "\n",
    "* Only read in product_id and department from product (consider converting columns).\n",
    "\n",
    "* Join the product DataFrame to transactions and demographics tables, performing an inner join when joining both tables.\n",
    "\n",
    "* Finally, pivot the fully joined dataframe by AGE_DESC and DEPARTMENT, calculating the sum of sales. Which category does our youngest demographic perform well in?\n",
    "\n"
   ]
  },
  {
   "cell_type": "code",
   "execution_count": null,
   "id": "def3a4b1",
   "metadata": {},
   "outputs": [],
   "source": []
  },
  {
   "cell_type": "code",
   "execution_count": null,
   "id": "a498c9ab",
   "metadata": {},
   "outputs": [],
   "source": []
  },
  {
   "cell_type": "code",
   "execution_count": null,
   "id": "a314ac71",
   "metadata": {},
   "outputs": [],
   "source": []
  },
  {
   "cell_type": "code",
   "execution_count": null,
   "id": "65e3618f",
   "metadata": {},
   "outputs": [],
   "source": []
  },
  {
   "cell_type": "code",
   "execution_count": null,
   "id": "ed86759d",
   "metadata": {},
   "outputs": [],
   "source": []
  },
  {
   "cell_type": "markdown",
   "id": "c761f6ed",
   "metadata": {},
   "source": [
    "# EXPORT\n",
    "\n",
    "Finally, export your pivot table to an excel file. Make sure to provide a sheet name."
   ]
  },
  {
   "cell_type": "code",
   "execution_count": null,
   "id": "abfe3a77",
   "metadata": {},
   "outputs": [],
   "source": []
  }
 ],
 "metadata": {
  "kernelspec": {
   "display_name": "data_analysis",
   "language": "python",
   "name": "data_analysis"
  },
  "language_info": {
   "codemirror_mode": {
    "name": "ipython",
    "version": 3
   },
   "file_extension": ".py",
   "mimetype": "text/x-python",
   "name": "python",
   "nbconvert_exporter": "python",
   "pygments_lexer": "ipython3",
   "version": "3.12.3"
  }
 },
 "nbformat": 4,
 "nbformat_minor": 5
}
