{
 "cells": [
  {
   "cell_type": "markdown",
   "id": "0f6ea1e0",
   "metadata": {},
   "source": [
    "\n",
    "# AdventureWorks KPIs Analysis\n",
    "Authored by: [Waleed](https://www.linkedin.com/in/waleedabdulla/)"
   ]
  },
  {
   "cell_type": "markdown",
   "id": "07c54b83",
   "metadata": {},
   "source": [
    "## 1. Objectives\n",
    "- Provide a __Managerial Overview__ of the KPIs and Business Metrics."
   ]
  },
  {
   "cell_type": "markdown",
   "id": "50f4f673",
   "metadata": {},
   "source": [
    "## 2. Data Collection"
   ]
  },
  {
   "cell_type": "code",
   "execution_count": 23,
   "id": "5ea149bc",
   "metadata": {},
   "outputs": [],
   "source": [
    "import pandas as pd\n",
    "import glob\n",
    "import matplotlib.pyplot as plt\n",
    "import seaborn as sns\n",
    "from scipy import stats"
   ]
  },
  {
   "cell_type": "code",
   "execution_count": 30,
   "id": "5d2c60c8",
   "metadata": {},
   "outputs": [
    {
     "name": "stdout",
     "output_type": "stream",
     "text": [
      "========Sales==========\n",
      "<class 'pandas.core.frame.DataFrame'>\n",
      "RangeIndex: 50466 entries, 0 to 50465\n",
      "Data columns (total 8 columns):\n",
      " #   Column         Non-Null Count  Dtype \n",
      "---  ------         --------------  ----- \n",
      " 0   OrderDate      50466 non-null  object\n",
      " 1   StockDate      50466 non-null  object\n",
      " 2   OrderNumber    50466 non-null  object\n",
      " 3   ProductKey     50466 non-null  int64 \n",
      " 4   CustomerKey    50466 non-null  int64 \n",
      " 5   TerritoryKey   50466 non-null  int64 \n",
      " 6   OrderLineItem  50466 non-null  int64 \n",
      " 7   OrderQuantity  50466 non-null  int64 \n",
      "dtypes: int64(5), object(3)\n",
      "memory usage: 3.1+ MB\n",
      "None \n",
      "\n",
      "========Customers==========\n",
      "<class 'pandas.core.frame.DataFrame'>\n",
      "RangeIndex: 18018 entries, 0 to 18017\n",
      "Data columns (total 13 columns):\n",
      " #   Column          Non-Null Count  Dtype \n",
      "---  ------          --------------  ----- \n",
      " 0   CustomerKey     18018 non-null  int64 \n",
      " 1   Prefix          18018 non-null  object\n",
      " 2   FirstName       18018 non-null  object\n",
      " 3   LastName        18018 non-null  object\n",
      " 4   BirthDate       18018 non-null  object\n",
      " 5   MaritalStatus   18018 non-null  object\n",
      " 6   Gender          18018 non-null  object\n",
      " 7   EmailAddress    18018 non-null  object\n",
      " 8   AnnualIncome    18018 non-null  object\n",
      " 9   TotalChildren   18018 non-null  int64 \n",
      " 10  EducationLevel  18018 non-null  object\n",
      " 11  Occupation      18018 non-null  object\n",
      " 12  HomeOwner       18018 non-null  object\n",
      "dtypes: int64(2), object(11)\n",
      "memory usage: 1.8+ MB\n",
      "None \n",
      "\n",
      "========Products==========\n",
      "<class 'pandas.core.frame.DataFrame'>\n",
      "RangeIndex: 293 entries, 0 to 292\n",
      "Data columns (total 11 columns):\n",
      " #   Column                 Non-Null Count  Dtype  \n",
      "---  ------                 --------------  -----  \n",
      " 0   ProductKey             293 non-null    int64  \n",
      " 1   ProductSubcategoryKey  293 non-null    int64  \n",
      " 2   ProductSKU             293 non-null    object \n",
      " 3   ProductName            293 non-null    object \n",
      " 4   ModelName              293 non-null    object \n",
      " 5   ProductDescription     293 non-null    object \n",
      " 6   ProductColor           243 non-null    object \n",
      " 7   ProductSize            293 non-null    object \n",
      " 8   ProductStyle           293 non-null    object \n",
      " 9   ProductCost            293 non-null    float64\n",
      " 10  ProductPrice           293 non-null    float64\n",
      "dtypes: float64(2), int64(2), object(7)\n",
      "memory usage: 25.3+ KB\n",
      "None \n",
      "\n",
      "========Territories==========\n",
      "<class 'pandas.core.frame.DataFrame'>\n",
      "RangeIndex: 9 entries, 0 to 8\n",
      "Data columns (total 4 columns):\n",
      " #   Column             Non-Null Count  Dtype \n",
      "---  ------             --------------  ----- \n",
      " 0   SalesTerritoryKey  9 non-null      int64 \n",
      " 1   Region             9 non-null      object\n",
      " 2   Country            9 non-null      object\n",
      " 3   Continent          9 non-null      object\n",
      "dtypes: int64(1), object(3)\n",
      "memory usage: 416.0+ bytes\n",
      "None \n",
      "\n",
      "========Categories==========\n",
      "<class 'pandas.core.frame.DataFrame'>\n",
      "RangeIndex: 4 entries, 0 to 3\n",
      "Data columns (total 2 columns):\n",
      " #   Column              Non-Null Count  Dtype \n",
      "---  ------              --------------  ----- \n",
      " 0   ProductCategoryKey  4 non-null      int64 \n",
      " 1   CategoryName        4 non-null      object\n",
      "dtypes: int64(1), object(1)\n",
      "memory usage: 192.0+ bytes\n",
      "None \n",
      "\n",
      "========Subcategories==========\n",
      "<class 'pandas.core.frame.DataFrame'>\n",
      "RangeIndex: 37 entries, 0 to 36\n",
      "Data columns (total 3 columns):\n",
      " #   Column                 Non-Null Count  Dtype \n",
      "---  ------                 --------------  ----- \n",
      " 0   ProductSubcategoryKey  37 non-null     int64 \n",
      " 1   SubcategoryName        37 non-null     object\n",
      " 2   ProductCategoryKey     37 non-null     int64 \n",
      "dtypes: int64(2), object(1)\n",
      "memory usage: 1016.0+ bytes\n",
      "None \n",
      "\n"
     ]
    }
   ],
   "source": [
    "# import the sales dataframes from folder\n",
    "path = r'../data/Sales'\n",
    "sales_files = glob.glob(path+'/*.csv')\n",
    "sales_list = []\n",
    "for file in sales_files:\n",
    "    df = pd.read_csv(file, index_col = None, header= 0)\n",
    "    sales_list.append(df)\n",
    "sales = pd.concat(sales_list, axis = 0, ignore_index = True)\n",
    "\n",
    "# import products dataframe from csv file\n",
    "products = pd.read_csv('../data/AdventureWorks_Products.csv')\n",
    "\n",
    "#import territories table from csv file\n",
    "territories = pd.read_csv('../data/AdventureWorks_Territories.csv')\n",
    "\n",
    "# import categories dataframe from csv file\n",
    "categories = pd.read_csv('../data/AdventureWorks_Product_Categories.csv')\n",
    "\n",
    "# import subcategories dataframe from csv file\n",
    "subcategories = pd.read_csv('../data/AdventureWorks_Product_Subcategories.csv')\n",
    "\n",
    "# import customers dataframe from csv file\n",
    "customers = pd.read_csv('../data/AdventureWorks_Customers.csv')\n",
    "\n",
    "\n",
    "# make a list for tables\n",
    "dataframes_list = [(sales,'Sales'),(customers,'Customers'),(products,'Products'),(territories,'Territories'),\n",
    "               (categories,'Categories'),(subcategories,'Subcategories')]\n",
    "\n",
    "# iterate over the tables-list and print info for each\n",
    "for dataframe,dataframe_name in dataframes_list:\n",
    "    print(f\"========{dataframe_name.capitalize()}==========\")\n",
    "    print(dataframe.info(),'\\n')"
   ]
  },
  {
   "cell_type": "markdown",
   "id": "a2a3bdce",
   "metadata": {},
   "source": [
    "## 3. Data Preparation"
   ]
  },
  {
   "cell_type": "code",
   "execution_count": 33,
   "id": "f6b38705",
   "metadata": {},
   "outputs": [
    {
     "data": {
      "text/plain": [
       "50466"
      ]
     },
     "execution_count": 33,
     "metadata": {},
     "output_type": "execute_result"
    }
   ],
   "source": [
    "\n",
    "\n",
    "# merge the sales dataframe with the products data frame and assign that to sales_product\n",
    "data = sales.merge(products,left_on = 'ProductKey', right_on = 'ProductKey')\n",
    "\n",
    "data = data.merge(customers, left_on = 'CustomerKey', right_on = 'CustomerKey')\n",
    "\n",
    "data = data.merge(territories, left_on = 'TerritoryKey', right_on = 'SalesTerritoryKey')\n",
    "\n",
    "\n",
    "\n",
    "data['Revenue'] = round(data['ProductPrice']*data['OrderQuantity'],2)\n",
    "\n",
    "data['Cost'] = round( data['ProductCost']*data['OrderQuantity'],2)\n",
    "\n",
    "data['GrossProfit'] = (data['Revenue'] - data['Cost'])\n",
    "\n",
    "data['GrossMargin'] = round(data['GrossProfit']/data['Revenue'],2)\n",
    "\n",
    "\n",
    "\n",
    "data['OrderDate'] = pd.to_datetime(data['OrderDate'])\n",
    "\n",
    "data['StockDate'] = pd.to_datetime(data['StockDate'])\n",
    "\n",
    "data['ProductShelfTime'] = (data['OrderDate'] - data['StockDate']).astype(str).\\\n",
    "                            str.split(' ').\\\n",
    "                            str.get(0).\\\n",
    "                            astype(int)\n",
    "req_cols =  ['OrderDate','OrderNumber','ProductKey','Country','Region','OrderLineItem','Cost','OrderQuantity',\n",
    "             'Revenue','GrossProfit','GrossMargin','ProductShelfTime']\n",
    "data = data[req_cols]\n",
    "# data.drop(\n",
    "#     ['TerritoryKey','ProductSubcategoryKey',\n",
    "#      'SalesTerritoryKey','ProductSubcategoryKey',\n",
    "#      'CustomerKey','Country','Continent'],\n",
    "#     axis=1,inplace=True)\n",
    "\n",
    "len(data)"
   ]
  },
  {
   "cell_type": "code",
   "execution_count": 26,
   "id": "bbccf5c6",
   "metadata": {},
   "outputs": [],
   "source": [
    "# optimazing the storage\n",
    "categorical_cols_names = [col for col in data.select_dtypes(include= 'O').columns if col != 'OrderNumber']\n",
    "for col in categorical_cols_names:\n",
    "    data[col] = data[col].astype('category')"
   ]
  },
  {
   "cell_type": "code",
   "execution_count": 27,
   "id": "3631aaee",
   "metadata": {},
   "outputs": [
    {
     "name": "stdout",
     "output_type": "stream",
     "text": [
      "<class 'pandas.core.frame.DataFrame'>\n",
      "Int64Index: 50466 entries, 0 to 50465\n",
      "Data columns (total 12 columns):\n",
      " #   Column            Non-Null Count  Dtype         \n",
      "---  ------            --------------  -----         \n",
      " 0   OrderDate         50466 non-null  datetime64[ns]\n",
      " 1   OrderNumber       50466 non-null  object        \n",
      " 2   ProductKey        50466 non-null  int64         \n",
      " 3   Country           50466 non-null  category      \n",
      " 4   Region            50466 non-null  category      \n",
      " 5   OrderLineItem     50466 non-null  int64         \n",
      " 6   Cost              50466 non-null  float64       \n",
      " 7   OrderQuantity     50466 non-null  int64         \n",
      " 8   Revenue           50466 non-null  float64       \n",
      " 9   GrossProfit       50466 non-null  float64       \n",
      " 10  GrossMargin       50466 non-null  float64       \n",
      " 11  ProductShelfTime  50466 non-null  int32         \n",
      "dtypes: category(2), datetime64[ns](1), float64(4), int32(1), int64(3), object(1)\n",
      "memory usage: 4.1+ MB\n"
     ]
    }
   ],
   "source": [
    "data.info()"
   ]
  },
  {
   "cell_type": "markdown",
   "id": "758917ba",
   "metadata": {},
   "source": [
    "## 4. KPIs Analysis"
   ]
  },
  {
   "cell_type": "markdown",
   "id": "d4055e20",
   "metadata": {},
   "source": [
    "### Totals"
   ]
  },
  {
   "cell_type": "markdown",
   "id": "9d001bc9",
   "metadata": {},
   "source": [
    "__Total Orders__"
   ]
  },
  {
   "cell_type": "code",
   "execution_count": 28,
   "id": "30776f17",
   "metadata": {},
   "outputs": [
    {
     "name": "stdout",
     "output_type": "stream",
     "text": [
      "Total Orders = 22,693 orders\n"
     ]
    }
   ],
   "source": [
    "tot_orders = len(data['OrderNumber'].value_counts().index)\n",
    "print(f'Total Orders = {tot_orders:,} orders')"
   ]
  },
  {
   "cell_type": "markdown",
   "id": "70dc611f",
   "metadata": {},
   "source": [
    "__Total Quantity Sold__"
   ]
  },
  {
   "cell_type": "code",
   "execution_count": 29,
   "id": "fe68d2ac",
   "metadata": {},
   "outputs": [
    {
     "name": "stdout",
     "output_type": "stream",
     "text": [
      "Total Quantity Sold = 75,786 items\n"
     ]
    }
   ],
   "source": [
    "tot_qty = data['OrderQuantity'].sum()\n",
    "print(f'Total Quantity Sold = {tot_qty:,} items')"
   ]
  },
  {
   "cell_type": "markdown",
   "id": "c66bded3",
   "metadata": {},
   "source": [
    "__Total Revenue__"
   ]
  },
  {
   "cell_type": "code",
   "execution_count": 35,
   "id": "d42f1a83",
   "metadata": {},
   "outputs": [
    {
     "name": "stdout",
     "output_type": "stream",
     "text": [
      "Total Revenue = $22,409,162.0\n"
     ]
    }
   ],
   "source": [
    "tot_rev = data['Revenue'].sum().round(0)\n",
    "print(f'Total Revenue = ${tot_rev:,}')"
   ]
  },
  {
   "cell_type": "markdown",
   "id": "02ac72f7",
   "metadata": {},
   "source": [
    "__Total Products Cost__"
   ]
  },
  {
   "cell_type": "code",
   "execution_count": 36,
   "id": "d1e99110",
   "metadata": {},
   "outputs": [
    {
     "name": "stdout",
     "output_type": "stream",
     "text": [
      "Total Cost = $13,000,953.0\n"
     ]
    }
   ],
   "source": [
    "tot_cost = data['Cost'].sum().round(0)\n",
    "print(f'Total Cost = ${tot_cost:,}')"
   ]
  },
  {
   "cell_type": "markdown",
   "id": "5b949479",
   "metadata": {},
   "source": [
    "__Total Gross Profit__"
   ]
  },
  {
   "cell_type": "code",
   "execution_count": 37,
   "id": "4741e62d",
   "metadata": {},
   "outputs": [
    {
     "name": "stdout",
     "output_type": "stream",
     "text": [
      "Total Gross Profit = $9,408,209.0\n"
     ]
    }
   ],
   "source": [
    "tot_gross_pro = data['GrossProfit'].sum().round(0)\n",
    "print(f'Total Gross Profit = ${tot_gross_pro:,}')"
   ]
  },
  {
   "cell_type": "markdown",
   "id": "7ebe28b3",
   "metadata": {},
   "source": [
    "### Averages"
   ]
  },
  {
   "cell_type": "markdown",
   "id": "d9147791",
   "metadata": {},
   "source": [
    "__Average Order Size__"
   ]
  },
  {
   "cell_type": "code",
   "execution_count": 39,
   "id": "eb871fbf",
   "metadata": {},
   "outputs": [
    {
     "name": "stdout",
     "output_type": "stream",
     "text": [
      "Average Order Size = 3.34 items\n"
     ]
    }
   ],
   "source": [
    "avg_order_size = round(tot_qty/tot_orders,2)\n",
    "print(f'Average Order Size = {avg_order_size} items')"
   ]
  },
  {
   "cell_type": "markdown",
   "id": "8ecfbf6c",
   "metadata": {},
   "source": [
    "__Average Revenue per Order__"
   ]
  },
  {
   "cell_type": "code",
   "execution_count": 40,
   "id": "9096b7a3",
   "metadata": {},
   "outputs": [
    {
     "name": "stdout",
     "output_type": "stream",
     "text": [
      "Average Revenue per Order = $987.49\n"
     ]
    }
   ],
   "source": [
    "avg_rev_per_order = round(tot_rev/tot_orders,2)\n",
    "print(f'Average Revenue per Order = ${avg_rev_per_order}')"
   ]
  },
  {
   "cell_type": "markdown",
   "id": "39427137",
   "metadata": {},
   "source": [
    "__Average Revenue per Item__"
   ]
  },
  {
   "cell_type": "code",
   "execution_count": 41,
   "id": "c9bc2deb",
   "metadata": {},
   "outputs": [
    {
     "name": "stdout",
     "output_type": "stream",
     "text": [
      "Average Revenue per Itme = $295.69\n"
     ]
    }
   ],
   "source": [
    "avg_rev_per_item = round(tot_rev/tot_qty,2)\n",
    "print(f'Average Revenue per Itme = ${avg_rev_per_item}')"
   ]
  },
  {
   "cell_type": "markdown",
   "id": "3bc07384",
   "metadata": {},
   "source": [
    "__Average Cost per Item__"
   ]
  },
  {
   "cell_type": "code",
   "execution_count": 42,
   "id": "6d605415",
   "metadata": {},
   "outputs": [
    {
     "name": "stdout",
     "output_type": "stream",
     "text": [
      "Average Cost per Item = $171.55\n"
     ]
    }
   ],
   "source": [
    "avg_cost_per_item = round(tot_cost/tot_qty,2)\n",
    "print(f'Average Cost per Item = ${avg_cost_per_item}')"
   ]
  },
  {
   "cell_type": "markdown",
   "id": "544af74d",
   "metadata": {},
   "source": [
    "__Average Gross Profit per Order__"
   ]
  },
  {
   "cell_type": "code",
   "execution_count": 43,
   "id": "44595950",
   "metadata": {},
   "outputs": [
    {
     "name": "stdout",
     "output_type": "stream",
     "text": [
      "Average Gross Profit per Order = $414.59\n"
     ]
    }
   ],
   "source": [
    "avg_gross_pro_per_order = (tot_gross_pro/tot_orders).round(2)\n",
    "print(f'Average Gross Profit per Order = ${avg_gross_pro_per_order}')"
   ]
  },
  {
   "cell_type": "markdown",
   "id": "daf6acc8",
   "metadata": {},
   "source": [
    "__Average Gross Profit per Item__"
   ]
  },
  {
   "cell_type": "code",
   "execution_count": 44,
   "id": "43e0873e",
   "metadata": {},
   "outputs": [
    {
     "name": "stdout",
     "output_type": "stream",
     "text": [
      "Average Gross Profit per Item = $124.14\n"
     ]
    }
   ],
   "source": [
    "avg_gross_pro_per_item = (tot_gross_pro/tot_qty).round(2)\n",
    "print(f'Average Gross Profit per Item = ${avg_gross_pro_per_item}')"
   ]
  },
  {
   "cell_type": "markdown",
   "id": "01614f07",
   "metadata": {},
   "source": [
    "__Average Self Time__"
   ]
  },
  {
   "cell_type": "code",
   "execution_count": 46,
   "id": "4b39be4e",
   "metadata": {},
   "outputs": [
    {
     "name": "stdout",
     "output_type": "stream",
     "text": [
      "Average Shelf-Time = 4816 days\n"
     ]
    }
   ],
   "source": [
    "avg_shelf_time = data['ProductShelfTime'].mean()\n",
    "print(f'Average Shelf-Time = {avg_shelf_time:.0f} days')"
   ]
  },
  {
   "cell_type": "markdown",
   "id": "de58d47a",
   "metadata": {},
   "source": [
    "### Margins"
   ]
  },
  {
   "cell_type": "markdown",
   "id": "c6ca6622",
   "metadata": {},
   "source": [
    "__Gross Margin__"
   ]
  },
  {
   "cell_type": "code",
   "execution_count": 47,
   "id": "55159c2c",
   "metadata": {},
   "outputs": [
    {
     "name": "stdout",
     "output_type": "stream",
     "text": [
      "Total Gross Margin = %41.98\n"
     ]
    }
   ],
   "source": [
    "tot_gross_mar = tot_gross_pro/tot_rev\n",
    "print(f'Total Gross Margin = %{tot_gross_mar*100:.2f}')"
   ]
  }
 ],
 "metadata": {
  "kernelspec": {
   "display_name": "data_analysis",
   "language": "python",
   "name": "data_analysis"
  },
  "language_info": {
   "codemirror_mode": {
    "name": "ipython",
    "version": 3
   },
   "file_extension": ".py",
   "mimetype": "text/x-python",
   "name": "python",
   "nbconvert_exporter": "python",
   "pygments_lexer": "ipython3",
   "version": "3.9.5"
  }
 },
 "nbformat": 4,
 "nbformat_minor": 5
}
